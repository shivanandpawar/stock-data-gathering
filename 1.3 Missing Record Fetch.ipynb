{
 "cells": [
  {
   "cell_type": "code",
   "execution_count": 1,
   "id": "90ea7c78-f22e-4590-8033-6ce5f4ed4922",
   "metadata": {},
   "outputs": [],
   "source": [
    "import pandas as pd\n",
    "import numpy as np\n",
    "import yfinance as yf\n",
    "from datetime import timedelta\n",
    "import json"
   ]
  },
  {
   "cell_type": "code",
   "execution_count": 45,
   "id": "c09871c0-7860-4149-8c2f-87f8c3fb2580",
   "metadata": {},
   "outputs": [],
   "source": [
    "def fetch_data(company_name):\n",
    "    try:        \n",
    "        msft = yf.Ticker(company_name)\n",
    "        from datetime import datetime\n",
    "\n",
    "        hist = msft.history(period=\"10mo\")\n",
    "        hist[\"Symbol_name\"]=company_name\n",
    "        hist[\"FinancialDate\"]=pd.to_datetime(hist.index, format='%y-%m-%d').date\n",
    "        return hist.loc[hist[\"FinancialDate\"] == datetime.strptime(\"2022-12-26\", '%Y-%m-%d').date() ]\n",
    "    except Exception as e:\n",
    "        print(e)\n",
    "        return None"
   ]
  },
  {
   "cell_type": "code",
   "execution_count": null,
   "id": "a6f31885-399c-4eb9-9890-190bab1dcb0c",
   "metadata": {},
   "outputs": [
    {
     "name": "stdout",
     "output_type": "stream",
     "text": [
      "0\n",
      "20MICRONS.NS\n",
      "1\n",
      "21STCENMGM.NS\n",
      "2\n",
      "3IINFOTECH.NS\n"
     ]
    },
    {
     "name": "stderr",
     "output_type": "stream",
     "text": [
      "3IINFOTECH.NS: No data found, symbol may be delisted\n"
     ]
    },
    {
     "name": "stdout",
     "output_type": "stream",
     "text": [
      "3\n",
      "3MINDIA.NS\n",
      "4\n",
      "3PLAND.NS\n",
      "5\n",
      "3RDROCK.NS\n",
      "6\n",
      "5PAISA.NS\n",
      "7\n",
      "63MOONS.NS\n",
      "8\n",
      "AMJUMBO.NS\n"
     ]
    },
    {
     "name": "stderr",
     "output_type": "stream",
     "text": [
      "AMJUMBO.NS: No data found, symbol may be delisted\n"
     ]
    },
    {
     "name": "stdout",
     "output_type": "stream",
     "text": [
      "9\n",
      "ABINFRA.NS\n"
     ]
    },
    {
     "name": "stderr",
     "output_type": "stream",
     "text": [
      "ABINFRA.NS: No data found, symbol may be delisted\n"
     ]
    },
    {
     "name": "stdout",
     "output_type": "stream",
     "text": [
      "10\n",
      "ABNINT.NS\n"
     ]
    },
    {
     "name": "stderr",
     "output_type": "stream",
     "text": [
      "ABNINT.NS: No data found, symbol may be delisted\n"
     ]
    },
    {
     "name": "stdout",
     "output_type": "stream",
     "text": [
      "11\n",
      "A2ZINFRA.NS\n",
      "12\n",
      "AAKASH.NS\n",
      "13\n",
      "AARON.NS\n",
      "14\n",
      "AARTIDRUGS.NS\n",
      "15\n",
      "AARTIIND.NS\n",
      "16\n",
      "AARVEEDEN.NS\n",
      "17\n",
      "AARVI.NS\n",
      "18\n",
      "AAVAS.NS\n",
      "19\n",
      "ABAN.NS\n",
      "20\n",
      "ABB.NS\n",
      "21\n",
      "POWERINDIA.NS\n",
      "22\n",
      "ABMINTLTD.NS\n"
     ]
    },
    {
     "name": "stderr",
     "output_type": "stream",
     "text": [
      "ABMINTLTD.NS: No data found, symbol may be delisted\n"
     ]
    },
    {
     "name": "stdout",
     "output_type": "stream",
     "text": [
      "23\n",
      "ACC.NS\n",
      "24\n",
      "ACCELYA.NS\n",
      "25\n",
      "ACCORD.NS\n"
     ]
    },
    {
     "name": "stderr",
     "output_type": "stream",
     "text": [
      "ACCORD.NS: No data found, symbol may be delisted\n"
     ]
    },
    {
     "name": "stdout",
     "output_type": "stream",
     "text": [
      "26\n",
      "ACCURACY.NS\n",
      "27\n",
      "ACEINTEG.NS\n",
      "28\n",
      "ACE.NS\n",
      "29\n",
      "ADANIENT.NS\n",
      "30\n",
      "ADANIGAS.NS\n"
     ]
    },
    {
     "name": "stderr",
     "output_type": "stream",
     "text": [
      "ADANIGAS.NS: No data found, symbol may be delisted\n"
     ]
    },
    {
     "name": "stdout",
     "output_type": "stream",
     "text": [
      "31\n",
      "ADANIGREEN.NS\n",
      "32\n",
      "ADANIPORTS.NS\n",
      "33\n",
      "ADANIPOWER.NS\n",
      "34\n",
      "ADANITRANS.NS\n",
      "35\n",
      "ADFFOODS.NS\n",
      "36\n",
      "ADHUNIKIND.NS\n"
     ]
    },
    {
     "name": "stderr",
     "output_type": "stream",
     "text": [
      "ADHUNIKIND.NS: No data found, symbol may be delisted\n"
     ]
    },
    {
     "name": "stdout",
     "output_type": "stream",
     "text": [
      "37\n",
      "ABCAPITAL.NS\n",
      "38\n",
      "ABFRL.NS\n",
      "39\n",
      "BIRLAMONEY.NS\n",
      "40\n",
      "ADLABS.NS\n"
     ]
    },
    {
     "name": "stderr",
     "output_type": "stream",
     "text": [
      "ADLABS.NS: No data found, symbol may be delisted\n"
     ]
    },
    {
     "name": "stdout",
     "output_type": "stream",
     "text": [
      "41\n",
      "ADORWELD.NS\n",
      "42\n",
      "ADROITINFO.NS\n",
      "43\n",
      "ADVENZYMES.NS\n",
      "44\n",
      "ADVANIHOTR.NS\n",
      "45\n",
      "AEGISCHEM.NS\n",
      "46\n",
      "AFFLE.NS\n",
      "47\n",
      "AGARIND.NS\n",
      "48\n",
      "AGCNET.NS\n"
     ]
    },
    {
     "name": "stderr",
     "output_type": "stream",
     "text": [
      "AGCNET.NS: No data found, symbol may be delisted\n"
     ]
    },
    {
     "name": "stdout",
     "output_type": "stream",
     "text": [
      "49\n",
      "AGRITECH.NS\n",
      "50\n",
      "AGROPHOS.NS\n",
      "51\n",
      "ATFL.NS\n",
      "52\n",
      "AHIMSA.NS\n"
     ]
    },
    {
     "name": "stderr",
     "output_type": "stream",
     "text": [
      "AHIMSA.NS: No data found, symbol may be delisted\n"
     ]
    },
    {
     "name": "stdout",
     "output_type": "stream",
     "text": [
      "53\n",
      "AHLADA.NS\n",
      "54\n",
      "AHLUCONT.NS\n",
      "55\n",
      "AIAENG.NS\n",
      "56\n",
      "AIRAN.NS\n",
      "57\n",
      "AIROLAM.NS\n",
      "58\n",
      "AJANTPHARM.NS\n",
      "59\n",
      "AJMERA.NS\n",
      "60\n",
      "AJOONI.NS\n",
      "61\n",
      "AKASH.NS\n",
      "62\n",
      "AKG.NS\n",
      "63\n",
      "AKSHOPTFBR.NS\n",
      "64\n",
      "AKSHARCHEM.NS\n",
      "65\n",
      "AKZOINDIA.NS\n",
      "66\n",
      "ALANKIT.NS\n",
      "67\n",
      "ALBERTDAVD.NS\n",
      "68\n",
      "ALCHEM.NS\n",
      "69\n",
      "ALEMBICLTD.NS\n",
      "70\n",
      "APLLTD.NS\n",
      "71\n",
      "ALICON.NS\n",
      "72\n",
      "ALKALI.NS\n",
      "73\n",
      "ALKEM.NS\n",
      "74\n",
      "ALKYLAMINE.NS\n",
      "75\n",
      "ALLCARGO.NS\n",
      "76\n",
      "ADSL.NS\n",
      "77\n",
      "ALLSEC.NS\n",
      "78\n",
      "ALMONDZ.NS\n",
      "79\n",
      "ALOKINDS.NS\n",
      "80\n",
      "ALPA.NS\n",
      "81\n",
      "ALPHAGEO.NS\n",
      "82\n",
      "ALPSINDUS.NS\n",
      "83\n",
      "AMARAJABAT.NS\n",
      "84\n",
      "AMBANIORG.NS\n"
     ]
    },
    {
     "name": "stderr",
     "output_type": "stream",
     "text": [
      "AMBANIORG.NS: No data found, symbol may be delisted\n"
     ]
    },
    {
     "name": "stdout",
     "output_type": "stream",
     "text": [
      "85\n",
      "AMBER.NS\n",
      "86\n",
      "AMBIKCO.NS\n",
      "87\n",
      "AMBUJACEM.NS\n",
      "88\n",
      "AMDIND.NS\n",
      "89\n",
      "ASIL.NS\n",
      "90\n",
      "AMJLAND.NS\n",
      "91\n",
      "AMRUTANJAN.NS\n",
      "92\n",
      "ANANTRAJ.NS\n",
      "93\n",
      "ANDHRACEMT.NS\n",
      "94\n",
      "ANDHRAPAP.NS\n",
      "95\n",
      "ANGELBRKG.NS\n"
     ]
    },
    {
     "name": "stderr",
     "output_type": "stream",
     "text": [
      "ANGELBRKG.NS: No data found, symbol may be delisted\n"
     ]
    },
    {
     "name": "stdout",
     "output_type": "stream",
     "text": [
      "96\n",
      "AISL.NS\n"
     ]
    },
    {
     "name": "stderr",
     "output_type": "stream",
     "text": [
      "AISL.NS: No data found, symbol may be delisted\n"
     ]
    },
    {
     "name": "stdout",
     "output_type": "stream",
     "text": [
      "97\n",
      "ANIKINDS.NS\n",
      "98\n",
      "APCL.NS\n",
      "99\n",
      "ANKITMETAL.NS\n",
      "100\n",
      "ANSALHSG.NS\n"
     ]
    },
    {
     "name": "stderr",
     "output_type": "stream",
     "text": [
      "ANSALHSG.NS: Period '10mo' is invalid, must be one of ['1d', '5d', '1mo', '3mo', '6mo', '1y', '2y', '5y', '10y', 'ytd', 'max']\n"
     ]
    },
    {
     "name": "stdout",
     "output_type": "stream",
     "text": [
      "101\n",
      "ANSALAPI.NS\n",
      "102\n",
      "APARINDS.NS\n",
      "103\n",
      "APCOTEXIND.NS\n",
      "104\n",
      "APEX.NS\n",
      "105\n",
      "APLAPOLLO.NS\n",
      "106\n",
      "APOLLOHOSP.NS\n",
      "107\n",
      "APOLLO.NS\n",
      "108\n",
      "APOLLOPIPE.NS\n",
      "109\n",
      "APOLSINHOT.NS\n",
      "110\n",
      "APOLLOTYRE.NS\n",
      "111\n",
      "APTECHT.NS\n",
      "112\n",
      "ARCHIDPLY.NS\n",
      "113\n",
      "ARCHIES.NS\n",
      "114\n",
      "ARCOTECH.NS\n",
      "115\n",
      "ARIES.NS\n",
      "116\n",
      "ARIHANT.NS\n",
      "117\n",
      "ARIHANTSUP.NS\n",
      "118\n",
      "ARMANFIN.NS\n",
      "119\n",
      "AROGRANITE.NS\n",
      "120\n",
      "ARROWGREEN.NS\n",
      "121\n",
      "ARSHIYA.NS\n",
      "122\n",
      "ARSSINFRA.NS\n",
      "123\n",
      "ARTNIRMAN.NS\n",
      "124\n",
      "ARTEDZ.NS\n"
     ]
    },
    {
     "name": "stderr",
     "output_type": "stream",
     "text": [
      "ARTEDZ.NS: No data found, symbol may be delisted\n"
     ]
    },
    {
     "name": "stdout",
     "output_type": "stream",
     "text": [
      "125\n",
      "ARTEMISMED.NS\n",
      "126\n",
      "ARVEE.NS\n",
      "127\n",
      "ARVINDFASN.NS\n",
      "128\n",
      "ARVIND.NS\n",
      "129\n",
      "ARVSMART.NS\n",
      "130\n",
      "ASAHIINDIA.NS\n",
      "131\n",
      "ASAHISONG.NS\n",
      "132\n",
      "ASCOM.NS\n"
     ]
    },
    {
     "name": "stderr",
     "output_type": "stream",
     "text": [
      "ASCOM.NS: No data found, symbol may be delisted\n"
     ]
    },
    {
     "name": "stdout",
     "output_type": "stream",
     "text": [
      "133\n",
      "ASHAPURMIN.NS\n",
      "134\n",
      "ASHIANA.NS\n",
      "135\n",
      "ASHIMASYN.NS\n",
      "136\n",
      "ASHOKLEY.NS\n",
      "137\n",
      "ASHOKA.NS\n",
      "138\n",
      "ASIANTILES.NS\n",
      "139\n",
      "AHLEAST.NS\n",
      "140\n",
      "ASIANHOTNR.NS\n",
      "141\n",
      "AHLWEST.NS\n",
      "142\n",
      "ASIANPAINT.NS\n",
      "143\n",
      "ASLIND.NS\n"
     ]
    },
    {
     "name": "stderr",
     "output_type": "stream",
     "text": [
      "ASLIND.NS: No data found, symbol may be delisted\n"
     ]
    },
    {
     "name": "stdout",
     "output_type": "stream",
     "text": [
      "144\n",
      "ASPINWALL.NS\n",
      "145\n",
      "ASALCBR.NS\n",
      "146\n",
      "ASTEC.NS\n",
      "147\n",
      "ASTERDM.NS\n",
      "148\n",
      "ASTRAMICRO.NS\n",
      "149\n",
      "ASTRAL.NS\n",
      "150\n",
      "ASTRAZEN.NS\n",
      "151\n",
      "ASTRON.NS\n",
      "152\n",
      "ATLANTA.NS\n",
      "153\n",
      "ATLASCYCLE.NS\n",
      "154\n",
      "ATNINTER.NS\n",
      "155\n",
      "ATULAUTO.NS\n",
      "156\n",
      "ATUL.NS\n",
      "157\n",
      "AUBANK.NS\n",
      "158\n",
      "AURDIS.NS\n"
     ]
    },
    {
     "name": "stderr",
     "output_type": "stream",
     "text": [
      "AURDIS.NS: No data found, symbol may be delisted\n"
     ]
    },
    {
     "name": "stdout",
     "output_type": "stream",
     "text": [
      "159\n",
      "Aurionpro.NS\n",
      "160\n",
      "AUROPHARMA.NS\n",
      "161\n",
      "AUSOMENT.NS\n",
      "162\n",
      "AUTOIND.NS\n",
      "163\n",
      "AUTOLITIND.NS\n",
      "164\n",
      "AUTOAXLES.NS\n",
      "165\n",
      "ASAL.NS\n",
      "166\n",
      "AVADHSUGAR.NS\n",
      "167\n",
      "AVANTIFEED.NS\n",
      "168\n",
      "AVENTUS.NS\n"
     ]
    },
    {
     "name": "stderr",
     "output_type": "stream",
     "text": [
      "AVENTUS.NS: No data found, symbol may be delisted\n"
     ]
    },
    {
     "name": "stdout",
     "output_type": "stream",
     "text": [
      "169\n",
      "DMART.NS\n",
      "170\n",
      "AVG.NS\n",
      "171\n",
      "AVROIND.NS\n",
      "172\n",
      "AVSL.NS\n"
     ]
    },
    {
     "name": "stderr",
     "output_type": "stream",
     "text": [
      "AVSL.NS: No data found, symbol may be delisted\n"
     ]
    },
    {
     "name": "stdout",
     "output_type": "stream",
     "text": [
      "173\n",
      "AVTNPL.NS\n",
      "174\n",
      "AXISBANK.NS\n",
      "175\n",
      "AXISCADES.NS\n",
      "176\n",
      "AYMSYNTEX.NS\n",
      "177\n",
      "BBTCL.NS\n",
      "178\n",
      "BLKASHYAP.NS\n",
      "179\n",
      "BAGFILMS.NS\n",
      "180\n",
      "BABAFOOD.NS\n"
     ]
    },
    {
     "name": "stderr",
     "output_type": "stream",
     "text": [
      "BABAFOOD.NS: No data found, symbol may be delisted\n"
     ]
    },
    {
     "name": "stdout",
     "output_type": "stream",
     "text": [
      "181\n",
      "BAFNAPH.NS\n",
      "182\n",
      "BAJAJ-AUTO.NS\n",
      "183\n",
      "BAJAJCON.NS\n",
      "184\n",
      "BAJAJELEC.NS\n",
      "185\n",
      "BAJFINANCE.NS\n",
      "186\n",
      "BAJAJFINSV.NS\n",
      "187\n",
      "BAJAJHIND.NS\n",
      "188\n",
      "BAJAJHLDNG.NS\n",
      "189\n",
      "BALPHARMA.NS\n",
      "190\n",
      "BALAMINES.NS\n",
      "191\n",
      "BALAJITELE.NS\n",
      "192\n",
      "BALAXI.NS\n",
      "193\n",
      "BALKRISIND.NS\n",
      "194\n",
      "BALKRISHNA.NS\n",
      "195\n",
      "BALLARPUR.NS\n",
      "196\n",
      "BALMLAWRIE.NS\n",
      "197\n",
      "BALRAMCHIN.NS\n",
      "198\n",
      "BANARBEADS.NS\n",
      "199\n",
      "BANCOINDIA.NS\n",
      "200\n",
      "BANDHANBNK.NS\n",
      "201\n",
      "BANG.NS\n",
      "202\n",
      "BANKBARODA.NS\n",
      "203\n",
      "BANKINDIA.NS\n",
      "204\n",
      "MAHABANK.NS\n",
      "205\n",
      "BANKA.NS\n",
      "206\n",
      "BASML.NS\n",
      "207\n",
      "BANARISUG.NS\n",
      "208\n",
      "BANSWRAS.NS\n",
      "209\n",
      "BVCL.NS\n",
      "210\n",
      "BARTRONICS.NS\n"
     ]
    },
    {
     "name": "stderr",
     "output_type": "stream",
     "text": [
      "BARTRONICS.NS: No data found, symbol may be delisted\n"
     ]
    },
    {
     "name": "stdout",
     "output_type": "stream",
     "text": [
      "211\n",
      "BASF.NS\n",
      "212\n",
      "BATAINDIA.NS\n",
      "213\n",
      "BDR.NS\n"
     ]
    },
    {
     "name": "stderr",
     "output_type": "stream",
     "text": [
      "BDR.NS: Period '10mo' is invalid, must be one of ['1mo', '3mo', '6mo', 'ytd', '1y', '2y', '5y', '10y', 'max']\n"
     ]
    },
    {
     "name": "stdout",
     "output_type": "stream",
     "text": [
      "214\n",
      "BEARDSELL.NS\n",
      "215\n",
      "BEDMUTHA.NS\n",
      "216\n",
      "BEML.NS\n",
      "217\n",
      "BERGEPAINT.NS\n",
      "218\n",
      "BETA.NS\n"
     ]
    },
    {
     "name": "stderr",
     "output_type": "stream",
     "text": [
      "BETA.NS: No data found, symbol may be delisted\n"
     ]
    },
    {
     "name": "stdout",
     "output_type": "stream",
     "text": [
      "219\n",
      "BFINVEST.NS\n",
      "220\n",
      "BFUTILITIE.NS\n",
      "221\n",
      "BGRENERGY.NS\n",
      "222\n",
      "BHAGERIA.NS\n",
      "223\n",
      "BHAGYANGR.NS\n",
      "224\n",
      "BHAGYAPROP.NS\n"
     ]
    },
    {
     "name": "stderr",
     "output_type": "stream",
     "text": [
      "BHAGYAPROP.NS: No data found, symbol may be delisted\n"
     ]
    },
    {
     "name": "stdout",
     "output_type": "stream",
     "text": [
      "225\n",
      "BHALCHANDR.NS\n"
     ]
    },
    {
     "name": "stderr",
     "output_type": "stream",
     "text": [
      "BHALCHANDR.NS: No data found, symbol may be delisted\n"
     ]
    },
    {
     "name": "stdout",
     "output_type": "stream",
     "text": [
      "226\n",
      "BHANDARI.NS\n",
      "227\n",
      "BEPL.NS\n",
      "228\n",
      "BBL.NS\n",
      "229\n",
      "BDL.NS\n",
      "230\n",
      "BEL.NS\n",
      "231\n",
      "BHARATFORG.NS\n",
      "232\n",
      "BHARATGEAR.NS\n",
      "233\n",
      "BHEL.NS\n",
      "234\n",
      "BPCL.NS\n",
      "235\n",
      "BHARATRAS.NS\n",
      "236\n",
      "BRNL.NS\n",
      "237\n",
      "BHARATWIRE.NS\n",
      "238\n",
      "BHARTIARTL.NS\n",
      "239\n",
      "INFRATEL.NS\n"
     ]
    },
    {
     "name": "stderr",
     "output_type": "stream",
     "text": [
      "INFRATEL.NS: No data found, symbol may be delisted\n"
     ]
    },
    {
     "name": "stdout",
     "output_type": "stream",
     "text": [
      "240\n",
      "BIL.NS\n",
      "241\n",
      "BIGBLOC.NS\n",
      "242\n",
      "BILENERGY.NS\n",
      "243\n",
      "BIOCON.NS\n",
      "244\n",
      "BIOFILCHEM.NS\n",
      "245\n",
      "BIRLACABLE.NS\n",
      "246\n",
      "BIRLACORPN.NS\n",
      "247\n",
      "BIRLATYRE.NS\n",
      "248\n",
      "BSOFT.NS\n",
      "249\n",
      "BKMINDST.NS\n",
      "250\n",
      "BLBLIMITED.NS\n",
      "251\n",
      "BLISSGVS.NS\n",
      "252\n",
      "BLS.NS\n",
      "253\n",
      "BLUECHIP.NS\n",
      "254\n",
      "BLUECOAST.NS\n",
      "255\n",
      "BLUEDART.NS\n",
      "256\n",
      "BLUESTARCO.NS\n",
      "257\n",
      "BODALCHEM.NS\n",
      "258\n",
      "BOHRA.NS\n"
     ]
    },
    {
     "name": "stderr",
     "output_type": "stream",
     "text": [
      "BOHRA.NS: No data found, symbol may be delisted\n"
     ]
    },
    {
     "name": "stdout",
     "output_type": "stream",
     "text": [
      "259\n",
      "BBTC.NS\n",
      "260\n",
      "BOMDYEING.NS\n",
      "261\n",
      "BRFL.NS\n",
      "262\n",
      "BSHSL.NS\n",
      "263\n",
      "BORORENEW.NS\n",
      "264\n",
      "BOSCHLTD.NS\n",
      "265\n",
      "BPL.NS\n",
      "266\n",
      "BCONCEPTS.NS\n",
      "267\n",
      "BRIGADE.NS\n",
      "268\n",
      "BRIGHT.NS\n"
     ]
    },
    {
     "name": "stderr",
     "output_type": "stream",
     "text": [
      "BRIGHT.NS: No data found, symbol may be delisted\n"
     ]
    },
    {
     "name": "stdout",
     "output_type": "stream",
     "text": [
      "269\n",
      "BCG.NS\n",
      "270\n",
      "BRITANNIA.NS\n",
      "271\n",
      "BROOKS.NS\n",
      "272\n",
      "BSE.NS\n",
      "273\n",
      "BSELINFRA.NS\n"
     ]
    },
    {
     "name": "stderr",
     "output_type": "stream",
     "text": [
      "BSELINFRA.NS: No data found, symbol may be delisted\n"
     ]
    },
    {
     "name": "stdout",
     "output_type": "stream",
     "text": [
      "274\n",
      "BSL.NS\n",
      "275\n",
      "BURNPUR.NS\n",
      "276\n",
      "BUTTERFLY.NS\n",
      "277\n",
      "BSD.NS\n"
     ]
    },
    {
     "name": "stderr",
     "output_type": "stream",
     "text": [
      "BSD.NS: No data found, symbol may be delisted\n"
     ]
    },
    {
     "name": "stdout",
     "output_type": "stream",
     "text": [
      "278\n",
      "CANDC.NS\n",
      "279\n",
      "CADILAHC.NS\n"
     ]
    },
    {
     "name": "stderr",
     "output_type": "stream",
     "text": [
      "CADILAHC.NS: No data found, symbol may be delisted\n"
     ]
    },
    {
     "name": "stdout",
     "output_type": "stream",
     "text": [
      "280\n",
      "CADSYS.NS\n"
     ]
    },
    {
     "name": "stderr",
     "output_type": "stream",
     "text": [
      "CADSYS.NS: No data found, symbol may be delisted\n"
     ]
    },
    {
     "name": "stdout",
     "output_type": "stream",
     "text": [
      "281\n",
      "CALSOFT.NS\n",
      "282\n",
      "CTE.NS\n",
      "283\n",
      "CAMLINFINE.NS\n",
      "284\n",
      "CANFINHOME.NS\n",
      "285\n",
      "CANBK.NS\n",
      "286\n",
      "CANTABIL.NS\n",
      "287\n",
      "CAPACITE.NS\n",
      "288\n",
      "CAPTRUST.NS\n",
      "289\n",
      "CAPLIPOINT.NS\n",
      "290\n",
      "CGCL.NS\n",
      "291\n",
      "CARBORUNIV.NS\n",
      "292\n",
      "CARERATING.NS\n",
      "293\n",
      "CAREERP.NS\n",
      "294\n",
      "CASTEXTECH.NS\n"
     ]
    },
    {
     "name": "stderr",
     "output_type": "stream",
     "text": [
      "CASTEXTECH.NS: No data found, symbol may be delisted\n"
     ]
    },
    {
     "name": "stdout",
     "output_type": "stream",
     "text": [
      "295\n",
      "CASTROLIND.NS\n",
      "296\n",
      "CCL.NS\n",
      "297\n",
      "CEATLTD.NS\n",
      "298\n",
      "CELEBRITY.NS\n",
      "299\n",
      "CENTRALBK.NS\n",
      "300\n",
      "CDSL.NS\n",
      "301\n",
      "CENTRUM.NS\n",
      "302\n",
      "CENTUM.NS\n",
      "303\n",
      "CENTENKA.NS\n",
      "304\n",
      "CENTEXT.NS\n",
      "305\n",
      "CENTURYPLY.NS\n",
      "306\n",
      "CENTURYTEX.NS\n",
      "307\n",
      "CERA.NS\n",
      "308\n",
      "CEREBRAINT.NS\n",
      "309\n",
      "CESC.NS\n",
      "310\n",
      "CESCVENT.NS\n"
     ]
    },
    {
     "name": "stderr",
     "output_type": "stream",
     "text": [
      "CESCVENT.NS: No data found, symbol may be delisted\n"
     ]
    },
    {
     "name": "stdout",
     "output_type": "stream",
     "text": [
      "311\n",
      "CGPOWER.NS\n",
      "312\n",
      "CHALET.NS\n",
      "313\n",
      "CHAMBLFERT.NS\n",
      "314\n",
      "CHEMBOND.NS\n",
      "315\n",
      "CHEMCON.NS\n",
      "316\n",
      "CHEMFAB.NS\n",
      "317\n",
      "CHENNPETRO.NS\n",
      "318\n",
      "CHOLAHLDNG.NS\n",
      "319\n",
      "CHOLAFIN.NS\n",
      "320\n",
      "CHROMATIC.NS\n"
     ]
    },
    {
     "name": "stderr",
     "output_type": "stream",
     "text": [
      "CHROMATIC.NS: Period '10mo' is invalid, must be one of ['1d', '5d', '1mo', '3mo', '6mo', '1y', '2y', '5y', '10y', 'ytd', 'max']\n"
     ]
    },
    {
     "name": "stdout",
     "output_type": "stream",
     "text": [
      "321\n",
      "CIGNITITEC.NS\n",
      "322\n",
      "CNOVAPETRO.NS\n"
     ]
    },
    {
     "name": "stderr",
     "output_type": "stream",
     "text": [
      "CNOVAPETRO.NS: Period '10mo' is invalid, must be one of ['1d', '5d', '1mo', '3mo', '6mo', '1y', '2y', '5y', '10y', 'ytd', 'max']\n"
     ]
    },
    {
     "name": "stdout",
     "output_type": "stream",
     "text": [
      "323\n",
      "CIMMCO.NS\n"
     ]
    },
    {
     "name": "stderr",
     "output_type": "stream",
     "text": [
      "CIMMCO.NS: No data found, symbol may be delisted\n"
     ]
    },
    {
     "name": "stdout",
     "output_type": "stream",
     "text": [
      "324\n",
      "CINELINE.NS\n",
      "325\n",
      "CINEVISTA.NS\n",
      "326\n",
      "CIPLA.NS\n",
      "327\n",
      "CUB.NS\n",
      "328\n",
      "CKPLEISURE.NS\n"
     ]
    },
    {
     "name": "stderr",
     "output_type": "stream",
     "text": [
      "CKPLEISURE.NS: No data found, symbol may be delisted\n"
     ]
    },
    {
     "name": "stdout",
     "output_type": "stream",
     "text": [
      "329\n",
      "CKPPRODUCT.NS\n"
     ]
    },
    {
     "name": "stderr",
     "output_type": "stream",
     "text": [
      "CKPPRODUCT.NS: No data found, symbol may be delisted\n"
     ]
    },
    {
     "name": "stdout",
     "output_type": "stream",
     "text": [
      "330\n",
      "CLEDUCATE.NS\n",
      "331\n",
      "CLNINDIA.NS\n"
     ]
    },
    {
     "name": "stderr",
     "output_type": "stream",
     "text": [
      "CLNINDIA.NS: No data found, symbol may be delisted\n"
     ]
    },
    {
     "name": "stdout",
     "output_type": "stream",
     "text": [
      "332\n",
      "CMICABLES.NS\n",
      "333\n",
      "CMMIPL.NS\n",
      "334\n",
      "COALINDIA.NS\n",
      "335\n",
      "COCHINSHIP.NS\n",
      "336\n",
      "COFORGE.NS\n",
      "337\n",
      "COLPAL.NS\n",
      "338\n",
      "CEBBCO.NS\n"
     ]
    },
    {
     "name": "stderr",
     "output_type": "stream",
     "text": [
      "CEBBCO.NS: No data found, symbol may be delisted\n"
     ]
    },
    {
     "name": "stdout",
     "output_type": "stream",
     "text": [
      "339\n",
      "COMPINFO.NS\n",
      "340\n",
      "COMPUSOFT.NS\n",
      "341\n",
      "CAMS.NS\n",
      "342\n",
      "CONFIPET.NS\n",
      "343\n",
      "CCCL.NS\n",
      "344\n",
      "CONSOFINVT.NS\n",
      "345\n",
      "CONCOR.NS\n",
      "346\n",
      "CONTI.NS\n",
      "347\n",
      "CONTROLPR.NS\n",
      "348\n",
      "CORALFINAC.NS\n",
      "349\n",
      "CREATIVEYE.NS\n",
      "357\n",
      "CREATIVE.NS\n",
      "358\n",
      "CREDITACC.NS\n",
      "359\n",
      "CREST.NS\n",
      "360\n",
      "CRISIL.NS\n",
      "361\n",
      "CROMPTON.NS\n",
      "362\n",
      "CROWN.NS\n",
      "363\n",
      "CSBBANK.NS\n",
      "364\n",
      "CUBEXTUB.NS\n",
      "365\n",
      "CUMMINSIND.NS\n",
      "366\n",
      "CUPID.NS\n",
      "367\n",
      "CYBERTECH.NS\n",
      "368\n",
      "CYIENT.NS\n",
      "369\n",
      "DBREALTY.NS\n",
      "370\n",
      "DPWIRES.NS\n",
      "371\n",
      "DPABHUSHAN.NS\n",
      "372\n",
      "DBCORP.NS\n",
      "373\n",
      "DABUR.NS\n",
      "374\n",
      "DALBHARAT.NS\n",
      "375\n",
      "DALMIASUG.NS\n",
      "376\n",
      "DAMODARIND.NS\n",
      "377\n",
      "DANGEE.NS\n",
      "378\n",
      "DATAMATICS.NS\n",
      "379\n",
      "DBSTOCKBRO.NS\n",
      "380\n",
      "DCI.NS\n",
      "381\n",
      "DCBBANK.NS\n",
      "382\n",
      "DCM.NS\n",
      "383\n",
      "DCMFINSERV.NS\n",
      "384\n",
      "DCMNVL.NS\n",
      "385\n",
      "DCMSHRIRAM.NS\n",
      "386\n",
      "DCW.NS\n",
      "387\n",
      "DENORA.NS\n",
      "388\n",
      "DSML.NS\n"
     ]
    },
    {
     "name": "stderr",
     "output_type": "stream",
     "text": [
      "DSML.NS: No data found, symbol may be delisted\n"
     ]
    },
    {
     "name": "stdout",
     "output_type": "stream",
     "text": [
      "389\n",
      "DECCANCE.NS\n",
      "390\n",
      "DEEPIND.NS\n"
     ]
    },
    {
     "name": "stderr",
     "output_type": "stream",
     "text": [
      "DEEPIND.NS: No data found, symbol may be delisted\n"
     ]
    },
    {
     "name": "stdout",
     "output_type": "stream",
     "text": [
      "391\n",
      "DEEPAKFERT.NS\n",
      "392\n",
      "DEEPAKNTR.NS\n",
      "393\n",
      "DELTACORP.NS\n",
      "394\n",
      "DELTAMAGNT.NS\n",
      "395\n",
      "DEN.NS\n",
      "396\n",
      "DEVIT.NS\n",
      "397\n",
      "DHFL.NS\n"
     ]
    },
    {
     "name": "stderr",
     "output_type": "stream",
     "text": [
      "DHFL.NS: No data found, symbol may be delisted\n"
     ]
    },
    {
     "name": "stdout",
     "output_type": "stream",
     "text": [
      "398\n",
      "DFMFOODS.NS\n"
     ]
    },
    {
     "name": "stderr",
     "output_type": "stream",
     "text": [
      "DFMFOODS.NS: No data found, symbol may be delisted\n"
     ]
    },
    {
     "name": "stdout",
     "output_type": "stream",
     "text": [
      "399\n",
      "DHAMPURSUG.NS\n",
      "400\n",
      "DHANBANK.NS\n",
      "401\n",
      "DHANUKA.NS\n",
      "402\n",
      "DRL.NS\n"
     ]
    },
    {
     "name": "stderr",
     "output_type": "stream",
     "text": [
      "DRL.NS: No data found, symbol may be delisted\n"
     ]
    },
    {
     "name": "stdout",
     "output_type": "stream",
     "text": [
      "403\n",
      "DHARSUGAR.NS\n",
      "404\n",
      "DHUNINV.NS\n",
      "405\n",
      "DTIL.NS\n",
      "406\n",
      "DVL.NS\n",
      "407\n",
      "DIAPOWER.NS\n",
      "408\n",
      "DICIND.NS\n",
      "409\n",
      "DGCONTENT.NS\n",
      "410\n",
      "DIGISPICE.NS\n",
      "411\n",
      "DIGJAMLTD.NS\n",
      "412\n",
      "DNAMEDIA.NS\n",
      "413\n",
      "DBL.NS\n",
      "414\n",
      "DISHTV.NS\n",
      "415\n",
      "DCAL.NS\n",
      "416\n",
      "DIVISLAB.NS\n",
      "417\n",
      "DIXON.NS\n",
      "418\n",
      "DLF.NS\n",
      "419\n",
      "DLINKINDIA.NS\n",
      "420\n",
      "DOLLAR.NS\n",
      "421\n",
      "DONEAR.NS\n",
      "422\n",
      "DPSCLTD.NS\n",
      "423\n",
      "DQE.NS\n",
      "424\n",
      "LALPATHLAB.NS\n",
      "425\n",
      "DRREDDY.NS\n",
      "426\n",
      "DREDGECORP.NS\n",
      "427\n",
      "DRSDILIP.NS\n"
     ]
    },
    {
     "name": "stderr",
     "output_type": "stream",
     "text": [
      "DRSDILIP.NS: No data found, symbol may be delisted\n"
     ]
    },
    {
     "name": "stdout",
     "output_type": "stream",
     "text": [
      "428\n",
      "DUCON.NS\n",
      "429\n",
      "DWARKESH.NS\n",
      "430\n",
      "DSSL.NS\n",
      "431\n",
      "DYNAMATECH.NS\n",
      "432\n",
      "DYNPRO.NS\n",
      "433\n",
      "E2E.NS\n",
      "434\n",
      "EASTSILK.NS\n",
      "435\n",
      "EASUNREYRL.NS\n",
      "436\n",
      "EBIXFOREX.NS\n"
     ]
    },
    {
     "name": "stderr",
     "output_type": "stream",
     "text": [
      "EBIXFOREX.NS: No data found, symbol may be delisted\n"
     ]
    },
    {
     "name": "stdout",
     "output_type": "stream",
     "text": [
      "437\n",
      "ECLERX.NS\n",
      "438\n",
      "EDELWEISS.NS\n",
      "439\n",
      "EDUCOMP.NS\n",
      "440\n",
      "EICHERMOT.NS\n",
      "441\n",
      "EIDPARRY.NS\n",
      "442\n",
      "EIHAHOTELS.NS\n",
      "443\n",
      "EIHOTEL.NS\n",
      "444\n",
      "EIMCOELECO.NS\n",
      "445\n",
      "ELECON.NS\n",
      "446\n",
      "ELECTCAST.NS\n",
      "447\n",
      "ELECTHERM.NS\n",
      "448\n",
      "ELGIEQUIP.NS\n",
      "449\n",
      "ELGIRUBCO.NS\n",
      "450\n",
      "EMAMILTD.NS\n",
      "451\n",
      "EMAMIPAP.NS\n",
      "452\n",
      "EMAMIREAL.NS\n",
      "453\n",
      "EMCO.NS\n",
      "454\n",
      "EMKAY.NS\n",
      "455\n",
      "EMKAYTOOLS.NS\n"
     ]
    },
    {
     "name": "stderr",
     "output_type": "stream",
     "text": [
      "EMKAYTOOLS.NS: No data found, symbol may be delisted\n"
     ]
    },
    {
     "name": "stdout",
     "output_type": "stream",
     "text": [
      "456\n",
      "EMIL.NS\n",
      "457\n",
      "EMMBI.NS\n",
      "458\n",
      "EDL.NS\n"
     ]
    },
    {
     "name": "stderr",
     "output_type": "stream",
     "text": [
      "EDL.NS: No data found, symbol may be delisted\n"
     ]
    },
    {
     "name": "stdout",
     "output_type": "stream",
     "text": [
      "459\n",
      "ENDURANCE.NS\n",
      "460\n",
      "ENERGYDEV.NS\n",
      "461\n",
      "ENGINERSIN.NS\n",
      "462\n",
      "ENIL.NS\n",
      "463\n",
      "EON.NS\n",
      "464\n",
      "EQUITAS.NS\n",
      "465\n",
      "EQUITASBNK.NS\n",
      "466\n",
      "ERIS.NS\n",
      "467\n",
      "EROSMEDIA.NS\n",
      "468\n",
      "ESABINDIA.NS\n",
      "469\n",
      "ESCORTS.NS\n",
      "470\n",
      "ESSARSHPNG.NS\n",
      "471\n",
      "ESSELPACK.NS\n"
     ]
    },
    {
     "name": "stderr",
     "output_type": "stream",
     "text": [
      "ESSELPACK.NS: No data found, symbol may be delisted\n"
     ]
    },
    {
     "name": "stdout",
     "output_type": "stream",
     "text": [
      "472\n",
      "ESTER.NS\n",
      "473\n",
      "EUROCERA.NS\n",
      "474\n",
      "EIFFL.NS\n",
      "475\n",
      "EUROMULTI.NS\n",
      "476\n",
      "EUROTEXIND.NS\n",
      "477\n",
      "EVEREADY.NS\n",
      "478\n",
      "EVERESTIND.NS\n",
      "479\n",
      "EKC.NS\n",
      "480\n",
      "EXCELINDUS.NS\n",
      "481\n",
      "EXCEL.NS\n",
      "482\n",
      "EXIDEIND.NS\n",
      "483\n",
      "EXPLEOSOL.NS\n",
      "484\n",
      "FAIRCHEM.NS\n"
     ]
    },
    {
     "name": "stderr",
     "output_type": "stream",
     "text": [
      "FAIRCHEM.NS: No data found, symbol may be delisted\n"
     ]
    },
    {
     "name": "stdout",
     "output_type": "stream",
     "text": [
      "485\n",
      "FCSSOFT.NS\n",
      "486\n",
      "FDC.NS\n",
      "487\n",
      "FMGOETZE.NS\n",
      "488\n",
      "FELIX.NS\n",
      "489\n",
      "FACT.NS\n",
      "490\n",
      "FIEMIND.NS\n",
      "491\n",
      "FILATEX.NS\n",
      "492\n",
      "FINEORG.NS\n",
      "493\n",
      "FCL.NS\n",
      "494\n",
      "FINCABLES.NS\n",
      "495\n",
      "FINPIPE.NS\n",
      "496\n",
      "FSL.NS\n",
      "497\n",
      "FLEXITUFF.NS\n",
      "498\n",
      "FOCUS.NS\n",
      "499\n",
      "FORTIS.NS\n",
      "500\n",
      "FOSECOIND.NS\n",
      "501\n",
      "FOURTHDIM.NS\n"
     ]
    },
    {
     "name": "stderr",
     "output_type": "stream",
     "text": [
      "FOURTHDIM.NS: No data found, symbol may be delisted\n"
     ]
    },
    {
     "name": "stdout",
     "output_type": "stream",
     "text": [
      "502\n",
      "FCONSUMER.NS\n",
      "503\n",
      "FEL.NS\n",
      "504\n",
      "FLFL.NS\n",
      "505\n",
      "FMNL.NS\n",
      "506\n",
      "FRETAIL.NS\n",
      "507\n",
      "FSC.NS\n",
      "508\n",
      "GABRIEL.NS\n",
      "509\n",
      "GAIL.NS\n",
      "510\n",
      "GALAXYSURF.NS\n",
      "511\n",
      "GALLISPAT.NS\n"
     ]
    },
    {
     "name": "stderr",
     "output_type": "stream",
     "text": [
      "GALLISPAT.NS: No data found, symbol may be delisted\n"
     ]
    },
    {
     "name": "stdout",
     "output_type": "stream",
     "text": [
      "512\n",
      "GALLANTT.NS\n",
      "513\n",
      "GAMMNINFRA.NS\n"
     ]
    },
    {
     "name": "stderr",
     "output_type": "stream",
     "text": [
      "GAMMNINFRA.NS: No data found, symbol may be delisted\n"
     ]
    },
    {
     "name": "stdout",
     "output_type": "stream",
     "text": [
      "514\n",
      "GANDHITUBE.NS\n",
      "515\n",
      "GANESHHOUC.NS\n",
      "516\n",
      "GANECOS.NS\n",
      "517\n",
      "GANGAFORGE.NS\n",
      "518\n",
      "GANGESSECU.NS\n",
      "519\n",
      "GRSE.NS\n",
      "520\n",
      "GARDENSILK.NS\n"
     ]
    },
    {
     "name": "stderr",
     "output_type": "stream",
     "text": [
      "GARDENSILK.NS: No data found, symbol may be delisted\n"
     ]
    },
    {
     "name": "stdout",
     "output_type": "stream",
     "text": [
      "521\n",
      "GARFIBRES.NS\n",
      "522\n",
      "GDL.NS\n"
     ]
    },
    {
     "name": "stderr",
     "output_type": "stream",
     "text": [
      "GDL.NS: No data found, symbol may be delisted\n"
     ]
    },
    {
     "name": "stdout",
     "output_type": "stream",
     "text": [
      "523\n",
      "GATI.NS\n",
      "524\n",
      "GAYAHWS.NS\n",
      "525\n",
      "GAYAPROJ.NS\n",
      "526\n",
      "GBGLOBAL.NS\n",
      "527\n",
      "GEPIL.NS\n",
      "528\n",
      "GET&D.NS\n",
      "529\n",
      "GEECEE.NS\n",
      "530\n",
      "GEEKAYWIRE.NS\n",
      "531\n",
      "GICRE.NS\n",
      "532\n",
      "GENESYS.NS\n",
      "533\n",
      "GENUSPAPER.NS\n",
      "534\n",
      "GENUSPOWER.NS\n",
      "535\n",
      "GEOJITFSL.NS\n",
      "536\n",
      "GFLLIMITED.NS\n",
      "537\n",
      "GHCL.NS\n",
      "538\n",
      "GISOLUTION.NS\n",
      "539\n",
      "GICHSGFIN.NS\n",
      "540\n",
      "GILLANDERS.NS\n",
      "541\n",
      "GILLETTE.NS\n",
      "542\n",
      "GINNIFILA.NS\n",
      "543\n",
      "GIRRESORTS.NS\n",
      "544\n",
      "GKWLIMITED.NS\n",
      "545\n",
      "GLAND.NS\n",
      "546\n",
      "GSKCONS.NS\n"
     ]
    },
    {
     "name": "stderr",
     "output_type": "stream",
     "text": [
      "GSKCONS.NS: No data found, symbol may be delisted\n"
     ]
    },
    {
     "name": "stdout",
     "output_type": "stream",
     "text": [
      "547\n",
      "GLAXO.NS\n",
      "548\n",
      "GLENMARK.NS\n",
      "549\n",
      "GLOBAL.NS\n",
      "550\n",
      "GLOBOFFS.NS\n"
     ]
    },
    {
     "name": "stderr",
     "output_type": "stream",
     "text": [
      "GLOBOFFS.NS: Period '10mo' is invalid, must be one of ['1d', '5d', '1mo', '3mo', '6mo', '1y', '2y', '5y', '10y', 'ytd', 'max']\n"
     ]
    },
    {
     "name": "stdout",
     "output_type": "stream",
     "text": [
      "551\n",
      "GLOBALVECT.NS\n",
      "552\n",
      "GICL.NS\n"
     ]
    },
    {
     "name": "stderr",
     "output_type": "stream",
     "text": [
      "GICL.NS: No data found, symbol may be delisted\n"
     ]
    },
    {
     "name": "stdout",
     "output_type": "stream",
     "text": [
      "553\n",
      "GLOBE.NS\n",
      "554\n",
      "GLOBUSSPR.NS\n",
      "555\n",
      "GMBREW.NS\n",
      "556\n",
      "GMMPFAUDLR.NS\n",
      "557\n",
      "GMRINFRA.NS\n",
      "558\n",
      "GNA.NS\n",
      "559\n",
      "GOACARBON.NS\n",
      "560\n",
      "GOCLCORP.NS\n",
      "561\n",
      "GPIL.NS\n",
      "562\n",
      "GODFRYPHLP.NS\n",
      "563\n",
      "GODHA.NS\n",
      "564\n",
      "GODREJAGRO.NS\n",
      "565\n",
      "GODREJCP.NS\n",
      "566\n",
      "GODREJIND.NS\n",
      "567\n",
      "GODREJPROP.NS\n",
      "568\n",
      "GOENKA.NS\n",
      "569\n",
      "GOKEX.NS\n",
      "570\n",
      "GOKULAGRO.NS\n",
      "571\n",
      "GOKUL.NS\n",
      "572\n",
      "GOLDENTOBC.NS\n",
      "573\n",
      "GREENLAM.NS\n",
      "586\n",
      "GREENPANEL.NS\n",
      "587\n",
      "GREENPLY.NS\n",
      "588\n",
      "GRETEX.NS\n"
     ]
    },
    {
     "name": "stderr",
     "output_type": "stream",
     "text": [
      "GRETEX.NS: No data found, symbol may be delisted\n"
     ]
    },
    {
     "name": "stdout",
     "output_type": "stream",
     "text": [
      "589\n",
      "GRINDWELL.NS\n",
      "590\n",
      "GRPLTD.NS\n",
      "591\n",
      "GSS.NS\n",
      "592\n",
      "GTLINFRA.NS\n",
      "593\n",
      "GTL.NS\n",
      "594\n",
      "GTNIND.NS\n"
     ]
    },
    {
     "name": "stderr",
     "output_type": "stream",
     "text": [
      "GTNIND.NS: Period '10mo' is invalid, must be one of ['1d', '5d', '1mo', '3mo', '6mo', '1y', '2y', '5y', '10y', 'ytd', 'max']\n"
     ]
    },
    {
     "name": "stdout",
     "output_type": "stream",
     "text": [
      "595\n",
      "GTNTEX.NS\n"
     ]
    },
    {
     "name": "stderr",
     "output_type": "stream",
     "text": [
      "GTNTEX.NS: Period '10mo' is invalid, must be one of ['1d', '5d', '1mo', '3mo', '6mo', '1y', '2y', '5y', '10y', 'ytd', 'max']\n"
     ]
    },
    {
     "name": "stdout",
     "output_type": "stream",
     "text": [
      "596\n",
      "GTPL.NS\n",
      "597\n",
      "GUFICBIO.NS\n",
      "598\n",
      "GUJALKALI.NS\n",
      "599\n",
      "GAEL.NS\n",
      "600\n",
      "GUJAPOLLO.NS\n",
      "601\n",
      "FLUOROCHEM.NS\n",
      "602\n",
      "GUJGASLTD.NS\n",
      "603\n",
      "GIPCL.NS\n",
      "604\n",
      "GLFL.NS\n",
      "605\n",
      "GMDCLTD.NS\n",
      "606\n",
      "GNFC.NS\n",
      "607\n",
      "GPPL.NS\n",
      "608\n",
      "GUJRAFFIA.NS\n",
      "609\n",
      "GSCLCEMENT.NS\n",
      "610\n",
      "GSFC.NS\n",
      "611\n",
      "GSPL.NS\n",
      "612\n",
      "GULFOILLUB.NS\n",
      "613\n",
      "GULPOLY.NS\n",
      "614\n",
      "GVKPIL.NS\n",
      "615\n",
      "GAL.NS\n"
     ]
    },
    {
     "name": "stderr",
     "output_type": "stream",
     "text": [
      "GAL.NS: No data found, symbol may be delisted\n"
     ]
    },
    {
     "name": "stdout",
     "output_type": "stream",
     "text": [
      "616\n",
      "HGINFRA.NS\n",
      "617\n",
      "HAPPSTMNDS.NS\n",
      "618\n",
      "HARITASEAT.NS\n"
     ]
    },
    {
     "name": "stderr",
     "output_type": "stream",
     "text": [
      "HARITASEAT.NS: No data found, symbol may be delisted\n"
     ]
    },
    {
     "name": "stdout",
     "output_type": "stream",
     "text": [
      "619\n",
      "HARRMALAYA.NS\n",
      "620\n",
      "HATHWAY.NS\n",
      "621\n",
      "HATSUN.NS\n",
      "622\n",
      "HAVELLS.NS\n",
      "623\n",
      "HBSL.NS\n",
      "624\n",
      "HBLPOWER.NS\n",
      "625\n",
      "HCL-INSYS.NS\n",
      "626\n",
      "HCLTECH.NS\n",
      "627\n",
      "HDFCAMC.NS\n",
      "628\n",
      "HDFCBANK.NS\n",
      "629\n",
      "HDFCLIFE.NS\n",
      "630\n",
      "HCG.NS\n",
      "631\n",
      "HECPROJECT.NS\n",
      "632\n",
      "HEG.NS\n",
      "633\n",
      "HEIDELBERG.NS\n",
      "634\n",
      "HERCULES.NS\n",
      "635\n",
      "HERITGFOOD.NS\n",
      "636\n",
      "HEROMOTOCO.NS\n",
      "637\n",
      "HESTERBIO.NS\n",
      "638\n",
      "HEXATRADEX.NS\n",
      "639\n",
      "HEXAWARE.NS\n"
     ]
    },
    {
     "name": "stderr",
     "output_type": "stream",
     "text": [
      "HEXAWARE.NS: No data found, symbol may be delisted\n"
     ]
    },
    {
     "name": "stdout",
     "output_type": "stream",
     "text": [
      "640\n",
      "HFCL.NS\n",
      "641\n",
      "HIKAL.NS\n",
      "642\n",
      "HINDALCO.NS\n",
      "648\n",
      "HINDCON.NS\n",
      "649\n",
      "HPIL.NS\n",
      "650\n",
      "HGS.NS\n",
      "651\n",
      "HAL.NS\n",
      "652\n",
      "HINDCOMPOS.NS\n",
      "653\n",
      "HCC.NS\n",
      "654\n",
      "HINDCOPPER.NS\n",
      "655\n",
      "HMVL.NS\n",
      "656\n",
      "HINDMOTORS.NS\n",
      "657\n",
      "HINDOILEXP.NS\n",
      "658\n",
      "HINDPETRO.NS\n",
      "659\n",
      "HINDUNILVR.NS\n",
      "660\n",
      "HINDZINC.NS\n",
      "661\n",
      "HINDNATGLS.NS\n",
      "662\n",
      "HISARMETAL.NS\n",
      "663\n",
      "HITECHCORP.NS\n",
      "664\n",
      "HITECH.NS\n",
      "665\n",
      "HLVLTD.NS\n",
      "666\n",
      "HMT.NS\n",
      "667\n",
      "HONDAPOWER.NS\n",
      "668\n",
      "HONAUT.NS\n",
      "669\n",
      "HOTELRUGBY.NS\n"
     ]
    },
    {
     "name": "stderr",
     "output_type": "stream",
     "text": [
      "HOTELRUGBY.NS: No data found, symbol may be delisted\n"
     ]
    },
    {
     "name": "stdout",
     "output_type": "stream",
     "text": [
      "670\n",
      "HUDCO.NS\n",
      "671\n",
      "HDIL.NS\n",
      "672\n",
      "HDFC.NS\n",
      "673\n",
      "HOVS.NS\n",
      "674\n",
      "HPL.NS\n",
      "675\n",
      "HSIL.NS\n"
     ]
    },
    {
     "name": "stderr",
     "output_type": "stream",
     "text": [
      "HSIL.NS: No data found, symbol may be delisted\n"
     ]
    },
    {
     "name": "stdout",
     "output_type": "stream",
     "text": [
      "676\n",
      "HTMEDIA.NS\n",
      "677\n",
      "HUBTOWN.NS\n",
      "678\n",
      "PAPERPROD.NS\n"
     ]
    },
    {
     "name": "stderr",
     "output_type": "stream",
     "text": [
      "PAPERPROD.NS: No data found, symbol may be delisted\n"
     ]
    },
    {
     "name": "stdout",
     "output_type": "stream",
     "text": [
      "679\n",
      "HUSYSLTD.NS\n"
     ]
    },
    {
     "name": "stderr",
     "output_type": "stream",
     "text": [
      "HUSYSLTD.NS: No data found, symbol may be delisted\n"
     ]
    },
    {
     "name": "stdout",
     "output_type": "stream",
     "text": [
      "680\n",
      "ICEMAKE.NS\n",
      "681\n",
      "ICICIBANK.NS\n",
      "682\n",
      "ICICIGI.NS\n",
      "683\n",
      "ICICIPRULI.NS\n",
      "684\n",
      "ISEC.NS\n",
      "685\n",
      "ICRA.NS\n",
      "686\n",
      "IDBI.NS\n",
      "687\n",
      "IDFCFIRSTB.NS\n",
      "688\n",
      "IDFC.NS\n",
      "689\n",
      "IFBAGRO.NS\n",
      "690\n",
      "IFBIND.NS\n",
      "691\n",
      "IFCI.NS\n",
      "692\n",
      "IFGLEXPOR.NS\n",
      "693\n",
      "IGPL.NS\n",
      "694\n",
      "IGARASHI.NS\n",
      "695\n",
      "IIFL.NS\n",
      "696\n",
      "IIFLSEC.NS\n",
      "697\n",
      "IIFLWAM.NS\n"
     ]
    },
    {
     "name": "stderr",
     "output_type": "stream",
     "text": [
      "IIFLWAM.NS: No data found, symbol may be delisted\n"
     ]
    },
    {
     "name": "stdout",
     "output_type": "stream",
     "text": [
      "698\n",
      "IL&FSENGG.NS\n",
      "699\n",
      "IVC.NS\n",
      "700\n",
      "IL&FSTRANS.NS\n",
      "701\n",
      "INDLMETER.NS\n",
      "702\n",
      "IMPEXFERRO.NS\n",
      "703\n",
      "INDBANK.NS\n",
      "704\n",
      "INDIAGLYCO.NS\n",
      "705\n",
      "IMPAL.NS\n",
      "706\n",
      "INDNIPPON.NS\n",
      "707\n",
      "ITDC.NS\n",
      "708\n",
      "IBULHSGFIN.NS\n",
      "709\n",
      "IBULISL.NS\n"
     ]
    },
    {
     "name": "stderr",
     "output_type": "stream",
     "text": [
      "IBULISL.NS: No data found, symbol may be delisted\n"
     ]
    },
    {
     "name": "stdout",
     "output_type": "stream",
     "text": [
      "710\n",
      "IBREALEST.NS\n",
      "711\n",
      "IBVENTURES.NS\n"
     ]
    },
    {
     "name": "stderr",
     "output_type": "stream",
     "text": [
      "IBVENTURES.NS: No data found, symbol may be delisted\n"
     ]
    },
    {
     "name": "stdout",
     "output_type": "stream",
     "text": [
      "712\n",
      "INDIAMART.NS\n",
      "713\n",
      "INDIANB.NS\n",
      "714\n",
      "INDIANCARD.NS\n",
      "715\n",
      "IEX.NS\n",
      "716\n",
      "INDIANHUME.NS\n",
      "717\n",
      "IMFA.NS\n",
      "718\n",
      "IOC.NS\n",
      "719\n",
      "IOB.NS\n",
      "720\n",
      "IRCTC.NS\n",
      "721\n",
      "INDTERRAIN.NS\n",
      "722\n",
      "ICIL.NS\n",
      "723\n",
      "INDORAMA.NS\n",
      "724\n",
      "INDOTECH.NS\n",
      "725\n",
      "INDOTHAI.NS\n",
      "726\n",
      "INDOCO.NS\n",
      "727\n",
      "NIPPOBATRY.NS\n",
      "728\n",
      "INDOSOLAR.NS\n",
      "729\n",
      "INDOSTAR.NS\n",
      "730\n",
      "INDOWIND.NS\n",
      "731\n",
      "IGL.NS\n",
      "732\n",
      "INDRAMEDCO.NS\n",
      "733\n",
      "INDSWFTLAB.NS\n",
      "734\n",
      "INDSWFTLTD.NS\n",
      "735\n",
      "INDUSINDBK.NS\n",
      "736\n",
      "IITL.NS\n",
      "737\n",
      "INEOSSTYRO.NS\n"
     ]
    },
    {
     "name": "stderr",
     "output_type": "stream",
     "text": [
      "INEOSSTYRO.NS: No data found, symbol may be delisted\n"
     ]
    },
    {
     "name": "stdout",
     "output_type": "stream",
     "text": [
      "738\n",
      "INFIBEAM.NS\n",
      "739\n",
      "NAUKRI.NS\n",
      "740\n",
      "INFOBEAN.NS\n",
      "741\n",
      "INFOMEDIA.NS\n",
      "742\n",
      "INFY.NS\n",
      "743\n",
      "INGERRAND.NS\n",
      "744\n",
      "INNOVANA.NS\n"
     ]
    },
    {
     "name": "stderr",
     "output_type": "stream",
     "text": [
      "INNOVANA.NS: No data found, symbol may be delisted\n"
     ]
    },
    {
     "name": "stdout",
     "output_type": "stream",
     "text": [
      "745\n",
      "INNOVATIVE.NS\n",
      "746\n",
      "INOXLEISUR.NS\n",
      "747\n",
      "INOXWIND.NS\n",
      "748\n",
      "INSECTICID.NS\n",
      "749\n",
      "INSPIRISYS.NS\n",
      "750\n",
      "INTEGRA.NS\n"
     ]
    },
    {
     "name": "stderr",
     "output_type": "stream",
     "text": [
      "INTEGRA.NS: No data found, symbol may be delisted\n"
     ]
    },
    {
     "name": "stdout",
     "output_type": "stream",
     "text": [
      "751\n",
      "INTELLECT.NS\n",
      "752\n",
      "INTENTECH.NS\n",
      "753\n",
      "INDIGO.NS\n",
      "754\n",
      "SUBCAPCITY.NS\n"
     ]
    },
    {
     "name": "stderr",
     "output_type": "stream",
     "text": [
      "SUBCAPCITY.NS: No data found, symbol may be delisted\n"
     ]
    },
    {
     "name": "stdout",
     "output_type": "stream",
     "text": [
      "755\n",
      "ISFT.NS\n",
      "756\n",
      "INVENTURE.NS\n",
      "757\n",
      "IOLCP.NS\n",
      "758\n",
      "IPCALAB.NS\n",
      "759\n",
      "IRB.NS\n",
      "760\n",
      "IRCON.NS\n",
      "761\n",
      "IRISDOREME.NS\n",
      "762\n",
      "ISMTLTD.NS\n",
      "763\n",
      "ITC.NS\n",
      "764\n",
      "ITDCEM.NS\n",
      "765\n",
      "ITI.NS\n",
      "766\n",
      "IVP.NS\n",
      "767\n",
      "IZMO.NS\n",
      "768\n",
      "JKIL.NS\n",
      "769\n",
      "JAGRAN.NS\n",
      "770\n",
      "JAGSNPHARM.NS\n",
      "771\n",
      "JAIBALAJI.NS\n",
      "772\n",
      "JAICORPLTD.NS\n",
      "773\n",
      "JAIHINDPRO.NS\n"
     ]
    },
    {
     "name": "stderr",
     "output_type": "stream",
     "text": [
      "JAIHINDPRO.NS: No data found, symbol may be delisted\n"
     ]
    },
    {
     "name": "stdout",
     "output_type": "stream",
     "text": [
      "774\n",
      "JISLJALEQS.NS\n",
      "775\n",
      "JAINSTUDIO.NS\n",
      "776\n",
      "JPASSOCIAT.NS\n",
      "777\n",
      "JPPOWER.NS\n",
      "778\n",
      "JAKHARIA.NS\n"
     ]
    },
    {
     "name": "stderr",
     "output_type": "stream",
     "text": [
      "JAKHARIA.NS: No data found, symbol may be delisted\n"
     ]
    },
    {
     "name": "stdout",
     "output_type": "stream",
     "text": [
      "779\n",
      "JALAN.NS\n",
      "780\n",
      "JAMNAAUTO.NS\n",
      "781\n",
      "JASH.NS\n",
      "782\n",
      "JAYBARMARU.NS\n",
      "783\n",
      "JAYAGROGN.NS\n",
      "784\n",
      "JAYNECOIND.NS\n",
      "785\n",
      "JPINFRATEC.NS\n",
      "786\n",
      "JAYSREETEA.NS\n",
      "787\n",
      "JBCHEPHARM.NS\n",
      "788\n",
      "JBFIND.NS\n",
      "789\n",
      "JBMA.NS\n",
      "790\n",
      "JETAIRWAYS.NS\n",
      "791\n",
      "JETFREIGHT.NS\n",
      "792\n",
      "JETKNIT.NS\n"
     ]
    },
    {
     "name": "stderr",
     "output_type": "stream",
     "text": [
      "JETKNIT.NS: No data found, symbol may be delisted\n"
     ]
    },
    {
     "name": "stdout",
     "output_type": "stream",
     "text": [
      "793\n",
      "JHS.NS\n",
      "794\n",
      "JIKIND.NS\n",
      "795\n",
      "JINDRILL.NS\n",
      "796\n",
      "JINDALPHOT.NS\n",
      "797\n",
      "JINDALPOLY.NS\n",
      "798\n",
      "JPOLYINVST.NS\n",
      "799\n",
      "JINDALSAW.NS\n",
      "800\n",
      "JSLHISAR.NS\n",
      "801\n",
      "JSL.NS\n",
      "802\n",
      "JINDALSTEL.NS\n",
      "803\n",
      "JINDWORLD.NS\n",
      "804\n",
      "JITFINFRA.NS\n",
      "805\n",
      "JKCEMENT.NS\n",
      "806\n",
      "JKLAKSHMI.NS\n",
      "807\n",
      "JKPAPER.NS\n",
      "808\n",
      "JKTYRE.NS\n",
      "809\n",
      "JMFINANCIL.NS\n",
      "810\n",
      "JMCPROJECT.NS\n",
      "811\n",
      "JMTAUTOLTD.NS\n",
      "812\n",
      "JOCIL.NS\n",
      "813\n",
      "JCHAC.NS\n",
      "814\n",
      "JSWENERGY.NS\n",
      "815\n",
      "JSWHL.NS\n",
      "816\n",
      "JSWSTEEL.NS\n",
      "817\n",
      "JTEKTINDIA.NS\n",
      "818\n",
      "JUBLFOOD.NS\n",
      "819\n",
      "JUBLINDS.NS\n",
      "820\n",
      "JUBILANT.NS\n"
     ]
    },
    {
     "name": "stderr",
     "output_type": "stream",
     "text": [
      "JUBILANT.NS: No data found, symbol may be delisted\n"
     ]
    },
    {
     "name": "stdout",
     "output_type": "stream",
     "text": [
      "821\n",
      "JMA.NS\n",
      "822\n",
      "JUSTDIAL.NS\n",
      "823\n",
      "JVLAGRO.NS\n"
     ]
    },
    {
     "name": "stderr",
     "output_type": "stream",
     "text": [
      "JVLAGRO.NS: No data found, symbol may be delisted\n"
     ]
    },
    {
     "name": "stdout",
     "output_type": "stream",
     "text": [
      "824\n",
      "JYOTHYLAB.NS\n",
      "825\n",
      "JYOTISTRUC.NS\n",
      "826\n",
      "KMSUGAR.NS\n",
      "827\n",
      "KPRMILL.NS\n",
      "828\n",
      "KABRAEXTRU.NS\n",
      "829\n",
      "KAJARIACER.NS\n",
      "830\n",
      "KAKATCEM.NS\n",
      "831\n",
      "KALPATPOWR.NS\n"
     ]
    },
    {
     "name": "stderr",
     "output_type": "stream",
     "text": [
      "KALPATPOWR.NS: No data found, symbol may be delisted\n"
     ]
    },
    {
     "name": "stdout",
     "output_type": "stream",
     "text": [
      "832\n",
      "KALYANI.NS\n"
     ]
    },
    {
     "name": "stderr",
     "output_type": "stream",
     "text": [
      "KALYANI.NS: Period '10mo' is invalid, must be one of ['1d', '5d']\n"
     ]
    },
    {
     "name": "stdout",
     "output_type": "stream",
     "text": [
      "833\n",
      "KALYANIFRG.NS\n",
      "834\n",
      "KICL.NS\n",
      "835\n",
      "KSL.NS\n",
      "836\n",
      "KAMATHOTEL.NS\n",
      "837\n",
      "KAMDHENU.NS\n",
      "838\n",
      "KANANIIND.NS\n",
      "839\n",
      "KANORICHEM.NS\n",
      "840\n",
      "KANSAINER.NS\n",
      "841\n",
      "KAPSTON.NS\n",
      "842\n",
      "KARDA.NS\n"
     ]
    },
    {
     "name": "stderr",
     "output_type": "stream",
     "text": [
      "KARDA.NS: No data found, symbol may be delisted\n"
     ]
    },
    {
     "name": "stdout",
     "output_type": "stream",
     "text": [
      "843\n",
      "KARMAENG.NS\n",
      "844\n",
      "KARURVYSYA.NS\n",
      "845\n",
      "KGL.NS\n",
      "846\n",
      "KAUSHALYA.NS\n",
      "847\n",
      "KSCL.NS\n",
      "848\n",
      "KAYA.NS\n",
      "849\n",
      "KCP.NS\n",
      "850\n",
      "KCPSUGIND.NS\n",
      "851\n",
      "KDDL.NS\n",
      "852\n",
      "KEC.NS\n",
      "853\n",
      "KEERTI.NS\n",
      "854\n",
      "KEI.NS\n",
      "855\n",
      "KELLTONTEC.NS\n",
      "856\n",
      "KERNEX.NS\n",
      "857\n",
      "KESORAMIND.NS\n",
      "858\n",
      "KKCL.NS\n",
      "859\n",
      "KEYFINSERV.NS\n",
      "860\n",
      "KHADIM.NS\n",
      "861\n",
      "KHANDSE.NS\n",
      "862\n",
      "KHFM.NS\n"
     ]
    },
    {
     "name": "stderr",
     "output_type": "stream",
     "text": [
      "KHFM.NS: No data found, symbol may be delisted\n"
     ]
    },
    {
     "name": "stdout",
     "output_type": "stream",
     "text": [
      "863\n",
      "KILITCH.NS\n",
      "864\n",
      "KINGFA.NS\n",
      "865\n",
      "KIOCL.NS\n",
      "866\n",
      "KIRIINDUS.NS\n",
      "867\n",
      "KIRLOSBROS.NS\n",
      "868\n",
      "KECL.NS\n",
      "869\n",
      "KIRLOSIND.NS\n",
      "870\n",
      "KIRLOSENG.NS\n",
      "871\n",
      "KITEX.NS\n",
      "872\n",
      "KKVAPOW.NS\n",
      "873\n",
      "KNRCON.NS\n",
      "874\n",
      "KOHINOOR.NS\n",
      "875\n",
      "KOKUYOCMLN.NS\n",
      "876\n",
      "KOLTEPATIL.NS\n",
      "877\n",
      "KOPRAN.NS\n",
      "878\n",
      "KOTAKBANK.NS\n",
      "879\n",
      "KOTHARIPET.NS\n",
      "880\n",
      "KOTHARIPRO.NS\n",
      "881\n",
      "KOTARISUG.NS\n",
      "882\n",
      "KPITTECH.NS\n",
      "883\n",
      "KRBL.NS\n",
      "884\n",
      "KREBSBIO.NS\n",
      "885\n",
      "KRIDHANINF.NS\n",
      "886\n",
      "KRISHANA.NS\n",
      "887\n",
      "KRITIKA.NS\n",
      "888\n",
      "KSB.NS\n",
      "889\n",
      "KSHITIJPOL.NS\n",
      "890\n",
      "KSK.NS\n",
      "891\n",
      "KSERASERA.NS\n",
      "892\n",
      "KUANTUM.NS\n",
      "893\n",
      "KWALITY.NS\n"
     ]
    },
    {
     "name": "stderr",
     "output_type": "stream",
     "text": [
      "KWALITY.NS: No data found, symbol may be delisted\n"
     ]
    },
    {
     "name": "stdout",
     "output_type": "stream",
     "text": [
      "894\n",
      "L&TFH.NS\n",
      "895\n",
      "LTTS.NS\n",
      "896\n",
      "LAOPALA.NS\n",
      "897\n",
      "LAGNAM.NS\n",
      "898\n",
      "LFIC.NS\n",
      "899\n",
      "LAXMIMACH.NS\n",
      "900\n",
      "LAKPRE.NS\n",
      "901\n",
      "LAKSHVILAS.NS\n"
     ]
    },
    {
     "name": "stderr",
     "output_type": "stream",
     "text": [
      "LAKSHVILAS.NS: No data found, symbol may be delisted\n"
     ]
    },
    {
     "name": "stdout",
     "output_type": "stream",
     "text": [
      "902\n",
      "LAMBODHARA.NS\n",
      "903\n",
      "LPDC.NS\n",
      "904\n",
      "LTIM.NS\n",
      "905\n",
      "LT.NS\n",
      "906\n",
      "LASA.NS\n",
      "907\n",
      "LATTEYS.NS\n",
      "908\n",
      "LAURUSLABS.NS\n",
      "909\n",
      "LAXMICOT.NS\n",
      "910\n",
      "LEMONTREE.NS\n",
      "911\n",
      "LEXUS.NS\n",
      "912\n",
      "LGBBROSLTD.NS\n",
      "913\n",
      "LGBFORGE.NS\n",
      "914\n",
      "LIBAS.NS\n",
      "915\n",
      "LIBERTSHOE.NS\n",
      "916\n",
      "LICHSGFIN.NS\n",
      "917\n",
      "LIKHITHA.NS\n",
      "918\n",
      "LINCPEN.NS\n"
     ]
    },
    {
     "name": "stderr",
     "output_type": "stream",
     "text": [
      "LINCPEN.NS: No data found, symbol may be delisted\n"
     ]
    },
    {
     "name": "stdout",
     "output_type": "stream",
     "text": [
      "919\n",
      "LINCOLN.NS\n",
      "920\n",
      "LINDEINDIA.NS\n",
      "921\n",
      "LSIL.NS\n",
      "922\n",
      "LOKESHMACH.NS\n",
      "923\n",
      "LOTUSEYE.NS\n",
      "924\n",
      "LOVABLE.NS\n",
      "925\n",
      "DAAWAT.NS\n",
      "926\n",
      "LUMAXTECH.NS\n",
      "927\n",
      "LUMAXIND.NS\n",
      "928\n",
      "LUPIN.NS\n",
      "929\n",
      "LUXIND.NS\n",
      "930\n",
      "LYKALABS.NS\n",
      "931\n",
      "LYPSAGEMS.NS\n",
      "932\n",
      "MKPL.NS\n",
      "933\n",
      "MRO.NS\n"
     ]
    },
    {
     "name": "stderr",
     "output_type": "stream",
     "text": [
      "MRO.NS: No data found, symbol may be delisted\n"
     ]
    },
    {
     "name": "stdout",
     "output_type": "stream",
     "text": [
      "934\n",
      "MAANALU.NS\n",
      "935\n",
      "MACPOWER.NS\n",
      "936\n",
      "MCL.NS\n",
      "937\n",
      "MADHAV.NS\n",
      "938\n",
      "MADHUCON.NS\n",
      "939\n",
      "MBAPL.NS\n",
      "940\n",
      "MPTODAY.NS\n",
      "941\n",
      "MADRASFERT.NS\n",
      "942\n",
      "MAGADSUGAR.NS\n",
      "943\n",
      "MAGMA.NS\n"
     ]
    },
    {
     "name": "stderr",
     "output_type": "stream",
     "text": [
      "MAGMA.NS: No data found, symbol may be delisted\n"
     ]
    },
    {
     "name": "stdout",
     "output_type": "stream",
     "text": [
      "944\n",
      "MAGNUM.NS\n",
      "945\n",
      "MAHAPEXLTD.NS\n",
      "946\n",
      "MAHASTEEL.NS\n",
      "947\n",
      "MGL.NS\n",
      "948\n",
      "MTNL.NS\n",
      "949\n",
      "MAHSCOOTER.NS\n",
      "950\n",
      "MAHSEAMLES.NS\n",
      "951\n",
      "MAHESHWARI.NS\n",
      "952\n",
      "MAHICKRA.NS\n",
      "953\n",
      "M&MFIN.NS\n",
      "954\n",
      "M&M.NS\n",
      "955\n",
      "MAHINDCIE.NS\n"
     ]
    },
    {
     "name": "stderr",
     "output_type": "stream",
     "text": [
      "MAHINDCIE.NS: No data found, symbol may be delisted\n"
     ]
    },
    {
     "name": "stdout",
     "output_type": "stream",
     "text": [
      "956\n",
      "MAHEPC.NS\n",
      "957\n",
      "MHRIL.NS\n",
      "958\n",
      "MAHLIFE.NS\n",
      "959\n",
      "MAHLOG.NS\n",
      "960\n",
      "MAITHANALL.NS\n",
      "961\n",
      "MAJESCO.NS\n"
     ]
    },
    {
     "name": "stderr",
     "output_type": "stream",
     "text": [
      "MAJESCO.NS: No data found, symbol may be delisted\n"
     ]
    },
    {
     "name": "stdout",
     "output_type": "stream",
     "text": [
      "962\n",
      "MALUPAPER.NS\n",
      "963\n",
      "MANINDS.NS\n",
      "964\n",
      "MANINFRA.NS\n",
      "965\n",
      "MANAKALUCO.NS\n",
      "966\n",
      "MANAKCOAT.NS\n",
      "967\n",
      "MANAKSIA.NS\n",
      "968\n",
      "MANAKSTEEL.NS\n",
      "969\n",
      "MANALIPETC.NS\n",
      "970\n",
      "MANAPPURAM.NS\n",
      "971\n",
      "MANAV.NS\n"
     ]
    },
    {
     "name": "stderr",
     "output_type": "stream",
     "text": [
      "MANAV.NS: No data found, symbol may be delisted\n"
     ]
    },
    {
     "name": "stdout",
     "output_type": "stream",
     "text": [
      "972\n",
      "MANGLMCEM.NS\n",
      "973\n",
      "MANGALAM.NS\n",
      "974\n",
      "MGEL.NS\n",
      "975\n",
      "MANGTIMBER.NS\n"
     ]
    },
    {
     "name": "stderr",
     "output_type": "stream",
     "text": [
      "MANGTIMBER.NS: No data found, symbol may be delisted\n"
     ]
    },
    {
     "name": "stdout",
     "output_type": "stream",
     "text": [
      "976\n",
      "MANGCHEFER.NS\n",
      "977\n",
      "MRPL.NS\n",
      "978\n",
      "MANUGRAPH.NS\n",
      "979\n",
      "MARALOVER.NS\n",
      "980\n",
      "MARATHON.NS\n",
      "981\n",
      "MARICO.NS\n",
      "982\n",
      "MARINE.NS\n",
      "983\n",
      "MARKSANS.NS\n",
      "984\n",
      "MARSHALL.NS\n",
      "985\n",
      "MARUTI.NS\n",
      "986\n",
      "MDL.NS\n",
      "987\n",
      "MASFIN.NS\n",
      "988\n",
      "MASKINVEST.NS\n",
      "989\n",
      "MASTEK.NS\n",
      "990\n",
      "MATRIMONY.NS\n",
      "991\n",
      "MAWANASUG.NS\n",
      "992\n",
      "MFSL.NS\n",
      "993\n",
      "MAXHEALTH.NS\n",
      "994\n",
      "MAXINDIA.NS\n"
     ]
    },
    {
     "name": "stderr",
     "output_type": "stream",
     "text": [
      "MAXINDIA.NS: No data found, symbol may be delisted\n"
     ]
    },
    {
     "name": "stdout",
     "output_type": "stream",
     "text": [
      "995\n",
      "MAXVIL.NS\n",
      "996\n",
      "MAYURUNIQ.NS\n",
      "997\n",
      "MAZDOCK.NS\n",
      "998\n",
      "MAZDA.NS\n",
      "999\n",
      "MBLINFRA.NS\n",
      "1000\n",
      "MCDHOLDING.NS\n",
      "1001\n",
      "MCLEODRUSS.NS\n",
      "1002\n",
      "MBECL.NS\n",
      "1003\n",
      "MEGASOFT.NS\n",
      "1004\n",
      "MEGH.NS\n"
     ]
    },
    {
     "name": "stderr",
     "output_type": "stream",
     "text": [
      "MEGH.NS: Period '10mo' is invalid, must be one of ['1d', '5d', '1mo', '3mo', '6mo', '1y', '2y', '5y', '10y', 'ytd', 'max']\n"
     ]
    },
    {
     "name": "stdout",
     "output_type": "stream",
     "text": [
      "1005\n",
      "MELSTAR.NS\n",
      "1006\n",
      "MENONBE.NS\n",
      "1007\n",
      "MEP.NS\n",
      "1008\n",
      "MERCATOR.NS\n",
      "1009\n",
      "METALFORGE.NS\n",
      "1010\n",
      "METKORE.NS\n",
      "1011\n",
      "METROPOLIS.NS\n",
      "1012\n",
      "MIC.NS\n"
     ]
    },
    {
     "name": "stderr",
     "output_type": "stream",
     "text": [
      "MIC.NS: No data found, symbol may be delisted\n"
     ]
    },
    {
     "name": "stdout",
     "output_type": "stream",
     "text": [
      "1013\n",
      "MMNL.NS\n"
     ]
    },
    {
     "name": "stderr",
     "output_type": "stream",
     "text": [
      "MMNL.NS: No data found, symbol may be delisted\n"
     ]
    },
    {
     "name": "stdout",
     "output_type": "stream",
     "text": [
      "1014\n",
      "MILTON.NS\n"
     ]
    },
    {
     "name": "stderr",
     "output_type": "stream",
     "text": [
      "MILTON.NS: No data found, symbol may be delisted\n"
     ]
    },
    {
     "name": "stdout",
     "output_type": "stream",
     "text": [
      "1015\n",
      "MINDACORP.NS\n",
      "1016\n",
      "MINDAIND.NS\n"
     ]
    },
    {
     "name": "stderr",
     "output_type": "stream",
     "text": [
      "MINDAIND.NS: No data found, symbol may be delisted\n"
     ]
    },
    {
     "name": "stdout",
     "output_type": "stream",
     "text": [
      "1017\n",
      "MINDPOOL.NS\n"
     ]
    },
    {
     "name": "stderr",
     "output_type": "stream",
     "text": [
      "MINDPOOL.NS: No data found, symbol may be delisted\n"
     ]
    },
    {
     "name": "stdout",
     "output_type": "stream",
     "text": [
      "1018\n",
      "MINDTECK.NS\n",
      "1019\n",
      "MINDTREE.NS\n"
     ]
    },
    {
     "name": "stderr",
     "output_type": "stream",
     "text": [
      "MINDTREE.NS: No data found, symbol may be delisted\n"
     ]
    },
    {
     "name": "stdout",
     "output_type": "stream",
     "text": [
      "1020\n",
      "MIRCELECTR.NS\n",
      "1021\n",
      "MIRZAINT.NS\n",
      "1022\n",
      "MIDHANI.NS\n",
      "1023\n",
      "MITCON.NS\n",
      "1024\n",
      "MITTAL.NS\n",
      "1025\n",
      "MMFL.NS\n",
      "1026\n",
      "MMP.NS\n",
      "1027\n",
      "MMTC.NS\n",
      "1028\n",
      "MODIRUBBER.NS\n",
      "1029\n",
      "MHHL.NS\n"
     ]
    },
    {
     "name": "stderr",
     "output_type": "stream",
     "text": [
      "MHHL.NS: No data found, symbol may be delisted\n"
     ]
    },
    {
     "name": "stdout",
     "output_type": "stream",
     "text": [
      "1030\n",
      "MOHITIND.NS\n",
      "1031\n",
      "MOHOTAIND.NS\n",
      "1032\n",
      "MOIL.NS\n",
      "1033\n",
      "MOKSH.NS\n",
      "1034\n",
      "MOLDTKPAC.NS\n",
      "1035\n",
      "MOLDTECH.NS\n",
      "1036\n",
      "AIONJSW.NS\n"
     ]
    },
    {
     "name": "stderr",
     "output_type": "stream",
     "text": [
      "AIONJSW.NS: No data found, symbol may be delisted\n"
     ]
    },
    {
     "name": "stdout",
     "output_type": "stream",
     "text": [
      "1037\n",
      "MONTECARLO.NS\n",
      "1038\n",
      "MORARJEE.NS\n",
      "1039\n",
      "MOREPENLAB.NS\n",
      "1040\n",
      "MOTHERSUMI.NS\n"
     ]
    },
    {
     "name": "stderr",
     "output_type": "stream",
     "text": [
      "MOTHERSUMI.NS: No data found, symbol may be delisted\n"
     ]
    },
    {
     "name": "stdout",
     "output_type": "stream",
     "text": [
      "1041\n",
      "MOTILALOFS.NS\n",
      "1042\n",
      "MPHASIS.NS\n",
      "1043\n",
      "MPSLTD.NS\n",
      "1044\n",
      "MRF.NS\n",
      "1045\n",
      "MRO-TEK.NS\n",
      "1046\n",
      "MSPL.NS\n",
      "1047\n",
      "MSTCLTD.NS\n",
      "1048\n",
      "MTEDUCARE.NS\n",
      "1049\n",
      "MUKANDENGG.NS\n"
     ]
    },
    {
     "name": "stderr",
     "output_type": "stream",
     "text": [
      "MUKANDENGG.NS: Period '10mo' is invalid, must be one of ['1d', '5d', '1mo', '3mo', '6mo', '1y', '2y', '5y', '10y', 'ytd', 'max']\n"
     ]
    },
    {
     "name": "stdout",
     "output_type": "stream",
     "text": [
      "1050\n",
      "MUKANDLTD.NS\n",
      "1051\n",
      "MUKTAARTS.NS\n",
      "1052\n",
      "MUNJALAU.NS\n",
      "1053\n",
      "MUNJALSHOW.NS\n",
      "1054\n",
      "MURUDCERA.NS\n",
      "1055\n",
      "RADIOCITY.NS\n",
      "1056\n",
      "MUTHOOTCAP.NS\n",
      "1057\n",
      "MUTHOOTFIN.NS\n",
      "1058\n",
      "NRAIL.NS\n",
      "1059\n",
      "NBIFIN.NS\n",
      "1060\n",
      "NACLIND.NS\n",
      "1061\n",
      "NDGL.NS\n",
      "1062\n",
      "NAGAFERT.NS\n",
      "1063\n",
      "NAGREEKCAP.NS\n",
      "1064\n",
      "NAGREEKEXP.NS\n",
      "1065\n",
      "NAHARCAP.NS\n",
      "1066\n",
      "NAHARINDUS.NS\n",
      "1067\n",
      "NAHARPOLY.NS\n",
      "1068\n",
      "NAHARSPING.NS\n",
      "1069\n",
      "NSIL.NS\n",
      "1070\n",
      "NDL.NS\n",
      "1071\n",
      "NANDANI.NS\n"
     ]
    },
    {
     "name": "stderr",
     "output_type": "stream",
     "text": [
      "NANDANI.NS: No data found, symbol may be delisted\n"
     ]
    },
    {
     "name": "stdout",
     "output_type": "stream",
     "text": [
      "1072\n",
      "NH.NS\n",
      "1073\n",
      "NARMADA.NS\n",
      "1074\n",
      "NATCOPHARM.NS\n",
      "1075\n",
      "NATHBIOGEN.NS\n",
      "1076\n",
      "NATIONALUM.NS\n",
      "1077\n",
      "NFL.NS\n",
      "1078\n",
      "NATNLSTEEL.NS\n"
     ]
    },
    {
     "name": "stderr",
     "output_type": "stream",
     "text": [
      "NATNLSTEEL.NS: No data found, symbol may be delisted\n"
     ]
    },
    {
     "name": "stdout",
     "output_type": "stream",
     "text": [
      "1079\n",
      "NBVENTURES.NS\n"
     ]
    },
    {
     "name": "stderr",
     "output_type": "stream",
     "text": [
      "NBVENTURES.NS: No data found, symbol may be delisted\n"
     ]
    },
    {
     "name": "stdout",
     "output_type": "stream",
     "text": [
      "1080\n",
      "NAVINFLUOR.NS\n",
      "1081\n",
      "NAVKARCORP.NS\n",
      "1082\n",
      "NAVNETEDUL.NS\n",
      "1083\n",
      "NBCC.NS\n",
      "1084\n",
      "NCC.NS\n",
      "1085\n",
      "NCLIND.NS\n",
      "1086\n",
      "NECLIFE.NS\n",
      "1087\n",
      "NELCAST.NS\n",
      "1088\n",
      "NELCO.NS\n",
      "1089\n",
      "NEOGEN.NS\n",
      "1090\n",
      "NESCO.NS\n",
      "1091\n",
      "NETWORK18.NS\n",
      "1092\n",
      "NTL.NS\n",
      "1093\n",
      "NEULANDLAB.NS\n",
      "1094\n",
      "NDTV.NS\n",
      "1095\n",
      "NEWGEN.NS\n",
      "1096\n",
      "NEXTMEDIA.NS\n",
      "1097\n",
      "NHPC.NS\n",
      "1098\n",
      "NIITLTD.NS\n",
      "1099\n",
      "NILAINFRA.NS\n",
      "1100\n",
      "NILASPACES.NS\n",
      "1101\n",
      "NILKAMAL.NS\n",
      "1102\n",
      "NAM-INDIA.NS\n",
      "1103\n",
      "NIRAJISPAT.NS\n"
     ]
    },
    {
     "name": "stderr",
     "output_type": "stream",
     "text": [
      "NIRAJISPAT.NS: Period '10mo' is invalid, must be one of ['1d', '5d']\n"
     ]
    },
    {
     "name": "stdout",
     "output_type": "stream",
     "text": [
      "1104\n",
      "NITCO.NS\n",
      "1105\n",
      "NITINFIRE.NS\n",
      "1106\n",
      "NITINSPIN.NS\n",
      "1107\n",
      "NITIRAJ.NS\n",
      "1108\n",
      "NKIND.NS\n",
      "1109\n",
      "NLCINDIA.NS\n",
      "1110\n",
      "NMDC.NS\n",
      "1111\n",
      "NOCIL.NS\n",
      "1112\n",
      "NOIDATOLL.NS\n",
      "1113\n",
      "NORBTEAEXP.NS\n",
      "1114\n",
      "NECCLTD.NS\n",
      "1115\n",
      "NRBBEARING.NS\n",
      "1116\n",
      "NIBL.NS\n",
      "1117\n",
      "NTPC.NS\n",
      "1118\n",
      "NUCLEUS.NS\n",
      "1119\n",
      "NXTDIGITAL.NS\n"
     ]
    },
    {
     "name": "stderr",
     "output_type": "stream",
     "text": [
      "NXTDIGITAL.NS: No data found, symbol may be delisted\n"
     ]
    },
    {
     "name": "stdout",
     "output_type": "stream",
     "text": [
      "1120\n",
      "OBEROIRLTY.NS\n",
      "1121\n",
      "OISL.NS\n",
      "1122\n",
      "ONGC.NS\n",
      "1123\n",
      "OILCOUNTUB.NS\n",
      "1124\n",
      "OIL.NS\n",
      "1125\n",
      "OLECTRA.NS\n",
      "1126\n",
      "OMMETALS.NS\n"
     ]
    },
    {
     "name": "stderr",
     "output_type": "stream",
     "text": [
      "OMMETALS.NS: No data found, symbol may be delisted\n"
     ]
    },
    {
     "name": "stdout",
     "output_type": "stream",
     "text": [
      "1127\n",
      "OMAXAUTO.NS\n",
      "1128\n",
      "OMAXE.NS\n",
      "1129\n",
      "OMFURN.NS\n"
     ]
    },
    {
     "name": "stderr",
     "output_type": "stream",
     "text": [
      "OMFURN.NS: No data found, symbol may be delisted\n"
     ]
    },
    {
     "name": "stdout",
     "output_type": "stream",
     "text": [
      "1130\n",
      "OMKARCHEM.NS\n",
      "1131\n",
      "ONEPOINT.NS\n",
      "1132\n",
      "ONELIFECAP.NS\n",
      "1133\n",
      "ONMOBILE.NS\n",
      "1134\n",
      "ONWARDTEC.NS\n",
      "1135\n",
      "OPAL.NS\n"
     ]
    },
    {
     "name": "stderr",
     "output_type": "stream",
     "text": [
      "OPAL.NS: No data found, symbol may be delisted\n"
     ]
    },
    {
     "name": "stdout",
     "output_type": "stream",
     "text": [
      "1136\n",
      "OPTIEMUS.NS\n",
      "1137\n",
      "OPTOCIRCUI.NS\n",
      "1138\n",
      "OFSS.NS\n",
      "1139\n",
      "ORBTEXP.NS\n",
      "1140\n",
      "ORCHIDPHAR.NS\n"
     ]
    },
    {
     "name": "stderr",
     "output_type": "stream",
     "text": [
      "ORCHIDPHAR.NS: No data found, symbol may be delisted\n"
     ]
    },
    {
     "name": "stdout",
     "output_type": "stream",
     "text": [
      "1141\n",
      "ORICONENT.NS\n",
      "1142\n",
      "ORIENTABRA.NS\n",
      "1143\n",
      "ORIENTBELL.NS\n",
      "1144\n",
      "ORIENTCEM.NS\n",
      "1145\n",
      "ORIENTELEC.NS\n",
      "1146\n",
      "GREENPOWER.NS\n",
      "1147\n",
      "ORIENTPPR.NS\n",
      "1148\n",
      "ORIENTLTD.NS\n",
      "1149\n",
      "ORIENTREF.NS\n"
     ]
    },
    {
     "name": "stderr",
     "output_type": "stream",
     "text": [
      "ORIENTREF.NS: No data found, symbol may be delisted\n"
     ]
    },
    {
     "name": "stdout",
     "output_type": "stream",
     "text": [
      "1150\n",
      "OAL.NS\n",
      "1151\n",
      "OCCL.NS\n",
      "1152\n",
      "ORIENTHOT.NS\n",
      "1153\n",
      "ORIENTALTL.NS\n",
      "1154\n",
      "ORTEL.NS\n",
      "1155\n",
      "ORTINLABSS.NS\n"
     ]
    },
    {
     "name": "stderr",
     "output_type": "stream",
     "text": [
      "ORTINLABSS.NS: No data found, symbol may be delisted\n"
     ]
    },
    {
     "name": "stdout",
     "output_type": "stream",
     "text": [
      "1156\n",
      "OSIAHYPER.NS\n",
      "1157\n",
      "OSWALAGRO.NS\n",
      "1158\n",
      "BINDALAGRO.NS\n"
     ]
    },
    {
     "name": "stderr",
     "output_type": "stream",
     "text": [
      "BINDALAGRO.NS: No data found, symbol may be delisted\n"
     ]
    },
    {
     "name": "stdout",
     "output_type": "stream",
     "text": [
      "1159\n",
      "PAEL.NS\n"
     ]
    },
    {
     "name": "stderr",
     "output_type": "stream",
     "text": [
      "PAEL.NS: Period '10mo' is invalid, must be one of ['1d', '5d', '1mo', '3mo', '6mo', '1y', '2y', '5y', '10y', 'ytd', 'max']\n"
     ]
    },
    {
     "name": "stdout",
     "output_type": "stream",
     "text": [
      "1160\n",
      "PAGEIND.NS\n",
      "1161\n",
      "PAISALO.NS\n",
      "1162\n",
      "PALASHSECU.NS\n",
      "1163\n",
      "PALREDTEC.NS\n",
      "1164\n",
      "PANACEABIO.NS\n",
      "1165\n",
      "PANACHE.NS\n",
      "1166\n",
      "PANAMAPET.NS\n",
      "1167\n",
      "PANSARI.NS\n",
      "1168\n",
      "PAR.NS\n",
      "1169\n",
      "PARABDRUGS.NS\n"
     ]
    },
    {
     "name": "stderr",
     "output_type": "stream",
     "text": [
      "PARABDRUGS.NS: No data found, symbol may be delisted\n"
     ]
    },
    {
     "name": "stdout",
     "output_type": "stream",
     "text": [
      "1170\n",
      "PARAGMILK.NS\n",
      "1171\n",
      "PARACABLES.NS\n",
      "1172\n",
      "PARIN.NS\n"
     ]
    },
    {
     "name": "stderr",
     "output_type": "stream",
     "text": [
      "PARIN.NS: No data found, symbol may be delisted\n"
     ]
    },
    {
     "name": "stdout",
     "output_type": "stream",
     "text": [
      "1173\n",
      "PARSVNATH.NS\n",
      "1174\n",
      "PASHUPATI.NS\n",
      "1175\n",
      "PATELENG.NS\n",
      "1176\n",
      "PATINTLOG.NS\n",
      "1177\n",
      "PATSPINLTD.NS\n"
     ]
    },
    {
     "name": "stderr",
     "output_type": "stream",
     "text": [
      "PATSPINLTD.NS: No data found, symbol may be delisted\n"
     ]
    },
    {
     "name": "stdout",
     "output_type": "stream",
     "text": [
      "1178\n",
      "PCJEWELLER.NS\n",
      "1179\n",
      "PDSMFL.NS\n"
     ]
    },
    {
     "name": "stderr",
     "output_type": "stream",
     "text": [
      "PDSMFL.NS: No data found, symbol may be delisted\n"
     ]
    },
    {
     "name": "stdout",
     "output_type": "stream",
     "text": [
      "1180\n",
      "PGIL.NS\n",
      "1181\n",
      "PEARLPOLY.NS\n",
      "1182\n",
      "PENINLAND.NS\n",
      "1183\n",
      "PENIND.NS\n",
      "1184\n",
      "PENTAGOLD.NS\n"
     ]
    },
    {
     "name": "stderr",
     "output_type": "stream",
     "text": [
      "PENTAGOLD.NS: No data found, symbol may be delisted\n"
     ]
    },
    {
     "name": "stdout",
     "output_type": "stream",
     "text": [
      "1185\n",
      "PERFECT.NS\n"
     ]
    },
    {
     "name": "stderr",
     "output_type": "stream",
     "text": [
      "PERFECT.NS: No data found, symbol may be delisted\n"
     ]
    },
    {
     "name": "stdout",
     "output_type": "stream",
     "text": [
      "1186\n",
      "PERSISTENT.NS\n",
      "1187\n",
      "PETRONET.NS\n",
      "1188\n",
      "PFIZER.NS\n",
      "1189\n",
      "PGEL.NS\n",
      "1190\n",
      "PHILIPCARB.NS\n"
     ]
    },
    {
     "name": "stderr",
     "output_type": "stream",
     "text": [
      "PHILIPCARB.NS: No data found, symbol may be delisted\n"
     ]
    },
    {
     "name": "stdout",
     "output_type": "stream",
     "text": [
      "1191\n",
      "PIIND.NS\n",
      "1192\n",
      "PIDILITIND.NS\n",
      "1193\n",
      "PILITA.NS\n",
      "1194\n",
      "PILANIINVS.NS\n",
      "1195\n",
      "PIONDIST.NS\n",
      "1196\n",
      "PIONEEREMB.NS\n",
      "1197\n",
      "PEL.NS\n",
      "1198\n",
      "PITTIENG.NS\n",
      "1199\n",
      "PLASTIBLEN.NS\n",
      "1200\n",
      "PNBGILTS.NS\n",
      "1201\n",
      "PNBHOUSING.NS\n",
      "1202\n",
      "PNCINFRA.NS\n",
      "1203\n",
      "PODDARHOUS.NS\n",
      "1204\n",
      "PODDARMENT.NS\n",
      "1205\n",
      "POKARNA.NS\n",
      "1206\n",
      "POLYMED.NS\n",
      "1207\n",
      "POLYCAB.NS\n",
      "1208\n",
      "POLYPLEX.NS\n",
      "1209\n",
      "PONNIERODE.NS\n",
      "1210\n",
      "PIGL.NS\n",
      "1211\n",
      "PFC.NS\n",
      "1212\n",
      "POWERGRID.NS\n",
      "1213\n",
      "POWERMECH.NS\n",
      "1214\n",
      "POWERFUL.NS\n"
     ]
    },
    {
     "name": "stderr",
     "output_type": "stream",
     "text": [
      "POWERFUL.NS: No data found, symbol may be delisted\n"
     ]
    },
    {
     "name": "stdout",
     "output_type": "stream",
     "text": [
      "1215\n",
      "PPAP.NS\n",
      "1216\n",
      "PRABHAT.NS\n"
     ]
    },
    {
     "name": "stderr",
     "output_type": "stream",
     "text": [
      "PRABHAT.NS: No data found, symbol may be delisted\n"
     ]
    },
    {
     "name": "stdout",
     "output_type": "stream",
     "text": [
      "1217\n",
      "PRADIP.NS\n"
     ]
    },
    {
     "name": "stderr",
     "output_type": "stream",
     "text": [
      "PRADIP.NS: No data found, symbol may be delisted\n"
     ]
    },
    {
     "name": "stdout",
     "output_type": "stream",
     "text": [
      "1218\n",
      "PRAJIND.NS\n",
      "1219\n",
      "PRAENG.NS\n",
      "1220\n",
      "PRAKASH.NS\n",
      "1221\n",
      "PPL.NS\n",
      "1222\n",
      "PRAKASHSTL.NS\n",
      "1223\n",
      "DIAMONDYD.NS\n",
      "1224\n",
      "PRAXIS.NS\n",
      "1225\n",
      "PRECAM.NS\n",
      "1226\n",
      "PRECWIRE.NS\n",
      "1227\n",
      "PRECOT.NS\n",
      "1228\n",
      "PREMEXPLN.NS\n",
      "1229\n",
      "PREMIER.NS\n",
      "1230\n",
      "PREMIERPOL.NS\n",
      "1231\n",
      "PRESSMN.NS\n",
      "1232\n",
      "PRESTIGE.NS\n",
      "1233\n",
      "PRICOLLTD.NS\n",
      "1234\n",
      "PFOCUS.NS\n",
      "1235\n",
      "PRIMESECU.NS\n",
      "1236\n",
      "PRINCEPIPE.NS\n",
      "1237\n",
      "PRSMJOHNSN.NS\n",
      "1238\n",
      "PRITI.NS\n",
      "1239\n",
      "PNC.NS\n",
      "1240\n",
      "PGHL.NS\n",
      "1241\n",
      "PGHH.NS\n",
      "1242\n",
      "PROLIFE.NS\n"
     ]
    },
    {
     "name": "stderr",
     "output_type": "stream",
     "text": [
      "PROLIFE.NS: No data found, symbol may be delisted\n"
     ]
    },
    {
     "name": "stdout",
     "output_type": "stream",
     "text": [
      "1243\n",
      "PROSEED.NS\n"
     ]
    },
    {
     "name": "stderr",
     "output_type": "stream",
     "text": [
      "PROSEED.NS: No data found, symbol may be delisted\n"
     ]
    },
    {
     "name": "stdout",
     "output_type": "stream",
     "text": [
      "1244\n",
      "PROZONINTU.NS\n",
      "1245\n",
      "PSL.NS\n"
     ]
    },
    {
     "name": "stderr",
     "output_type": "stream",
     "text": [
      "PSL.NS: No data found, symbol may be delisted\n"
     ]
    },
    {
     "name": "stdout",
     "output_type": "stream",
     "text": [
      "1246\n",
      "PSPPROJECT.NS\n",
      "1247\n",
      "PFS.NS\n",
      "1248\n",
      "PTC.NS\n",
      "1249\n",
      "PTL.NS\n",
      "1250\n",
      "PDMJEPAPER.NS\n",
      "1251\n",
      "PULZ.NS\n"
     ]
    },
    {
     "name": "stderr",
     "output_type": "stream",
     "text": [
      "PULZ.NS: No data found, symbol may be delisted\n"
     ]
    },
    {
     "name": "stdout",
     "output_type": "stream",
     "text": [
      "1252\n",
      "PUNJLLOYD.NS\n",
      "1253\n",
      "PSB.NS\n",
      "1254\n",
      "PUNJABCHEM.NS\n",
      "1255\n",
      "PNB.NS\n",
      "1256\n",
      "PURVA.NS\n",
      "1257\n",
      "PUSHPREALM.NS\n"
     ]
    },
    {
     "name": "stderr",
     "output_type": "stream",
     "text": [
      "PUSHPREALM.NS: No data found, symbol may be delisted\n"
     ]
    },
    {
     "name": "stdout",
     "output_type": "stream",
     "text": [
      "1258\n",
      "PVR.NS\n"
     ]
    },
    {
     "name": "stderr",
     "output_type": "stream",
     "text": [
      "PVR.NS: No data found, symbol may be delisted\n"
     ]
    },
    {
     "name": "stdout",
     "output_type": "stream",
     "text": [
      "1259\n",
      "QUESS.NS\n",
      "1260\n",
      "QUICKHEAL.NS\n",
      "1261\n",
      "RMDRIP.NS\n"
     ]
    },
    {
     "name": "stderr",
     "output_type": "stream",
     "text": [
      "RMDRIP.NS: No data found, symbol may be delisted\n"
     ]
    },
    {
     "name": "stdout",
     "output_type": "stream",
     "text": [
      "1262\n",
      "RSYSTEMS.NS\n",
      "1263\n",
      "RSSOFTWARE.NS\n",
      "1264\n",
      "RPPINFRA.NS\n",
      "1265\n",
      "RADAAN.NS\n",
      "1266\n",
      "RMCL.NS\n",
      "1267\n",
      "RADICO.NS\n",
      "1268\n",
      "RVNL.NS\n",
      "1269\n",
      "RAIN.NS\n",
      "1270\n",
      "RAJOIL.NS\n"
     ]
    },
    {
     "name": "stderr",
     "output_type": "stream",
     "text": [
      "RAJOIL.NS: No data found, symbol may be delisted\n"
     ]
    },
    {
     "name": "stdout",
     "output_type": "stream",
     "text": [
      "1271\n",
      "RAJRAYON.NS\n"
     ]
    },
    {
     "name": "stderr",
     "output_type": "stream",
     "text": [
      "RAJRAYON.NS: No data found, symbol may be delisted\n"
     ]
    },
    {
     "name": "stdout",
     "output_type": "stream",
     "text": [
      "1272\n",
      "RAJTV.NS\n",
      "1273\n",
      "ARENTERP.NS\n",
      "1274\n",
      "RAJESHEXPO.NS\n",
      "1275\n",
      "RAJMET.NS\n",
      "1276\n",
      "RPPL.NS\n",
      "1277\n",
      "RAJSREESUG.NS\n",
      "1278\n",
      "RALLIS.NS\n",
      "1279\n",
      "RAMASTEEL.NS\n",
      "1280\n",
      "RAMCOIND.NS\n",
      "1281\n",
      "RAMCOSYS.NS\n",
      "1282\n",
      "RKFORGE.NS\n",
      "1283\n",
      "RAMKY.NS\n",
      "1284\n",
      "RAMSARUP.NS\n"
     ]
    },
    {
     "name": "stderr",
     "output_type": "stream",
     "text": [
      "RAMSARUP.NS: Period '10mo' is invalid, must be one of ['1d', '5d', '1mo', '3mo', '6mo', '1y', '2y', '5y', '10y', 'ytd', 'max']\n"
     ]
    },
    {
     "name": "stdout",
     "output_type": "stream",
     "text": [
      "1285\n",
      "RANASUG.NS\n",
      "1286\n",
      "RML.NS\n",
      "1287\n",
      "RBL.NS\n",
      "1288\n",
      "RANEENGINE.NS\n",
      "1289\n",
      "RANEHOLDIN.NS\n",
      "1290\n",
      "RCF.NS\n",
      "1291\n",
      "RATNAMANI.NS\n",
      "1292\n",
      "RTNINFRA.NS\n"
     ]
    },
    {
     "name": "stderr",
     "output_type": "stream",
     "text": [
      "RTNINFRA.NS: No data found, symbol may be delisted\n"
     ]
    },
    {
     "name": "stdout",
     "output_type": "stream",
     "text": [
      "1293\n",
      "RTNPOWER.NS\n",
      "1294\n",
      "RKDL.NS\n",
      "1295\n",
      "RAYMOND.NS\n",
      "1296\n",
      "RBLBANK.NS\n",
      "1297\n",
      "RECLTD.NS\n",
      "1298\n",
      "REDINGTON.NS\n",
      "1299\n",
      "REFEX.NS\n",
      "1300\n",
      "RELAXO.NS\n",
      "1301\n",
      "RELIABLE.NS\n",
      "1302\n",
      "RELCAPITAL.NS\n",
      "1303\n",
      "RCOM.NS\n",
      "1304\n",
      "RHFL.NS\n",
      "1305\n",
      "RIIL.NS\n",
      "1306\n",
      "RELIANCE.NS\n",
      "1307\n",
      "RELINFRA.NS\n",
      "1308\n",
      "RNAVAL.NS\n",
      "1309\n",
      "RPOWER.NS\n",
      "1310\n",
      "RELIGARE.NS\n",
      "1311\n",
      "REMSONSIND.NS\n",
      "1312\n",
      "RGL.NS\n",
      "1313\n",
      "REPCOHOME.NS\n",
      "1314\n",
      "REPRO.NS\n",
      "1315\n",
      "RESPONIND.NS\n",
      "1316\n",
      "REVATHI.NS\n",
      "1317\n",
      "RICOAUTO.NS\n",
      "1318\n",
      "RITES.NS\n",
      "1319\n",
      "RKEC.NS\n",
      "1320\n",
      "ROHITFERRO.NS\n"
     ]
    },
    {
     "name": "stderr",
     "output_type": "stream",
     "text": [
      "ROHITFERRO.NS: No data found, symbol may be delisted\n"
     ]
    },
    {
     "name": "stdout",
     "output_type": "stream",
     "text": [
      "1321\n",
      "ROLLT.NS\n",
      "1322\n",
      "ROLTA.NS\n",
      "1323\n",
      "ROSSARI.NS\n",
      "1324\n",
      "ROSSELLIND.NS\n",
      "1325\n",
      "ROUTE.NS\n",
      "1326\n",
      "ROHLTD.NS\n",
      "1327\n",
      "RPGLIFE.NS\n",
      "1328\n",
      "RSWM.NS\n",
      "1329\n",
      "RUCHINFRA.NS\n",
      "1330\n",
      "RUCHI.NS\n"
     ]
    },
    {
     "name": "stderr",
     "output_type": "stream",
     "text": [
      "RUCHI.NS: No data found, symbol may be delisted\n"
     ]
    },
    {
     "name": "stdout",
     "output_type": "stream",
     "text": [
      "1331\n",
      "RUCHIRA.NS\n",
      "1332\n",
      "REPL.NS\n",
      "1333\n",
      "RUPA.NS\n",
      "1334\n",
      "RUSHIL.NS\n",
      "1335\n",
      "SCHAND.NS\n",
      "1336\n",
      "SHK.NS\n",
      "1337\n",
      "S&SPOWER.NS\n",
      "1338\n",
      "SPAL.NS\n",
      "1339\n",
      "SALSTEEL.NS\n",
      "1340\n",
      "SEPOWER.NS\n",
      "1341\n",
      "SSINFRA.NS\n",
      "1342\n",
      "SABEVENTS.NS\n",
      "1343\n",
      "SADBHAV.NS\n",
      "1344\n",
      "SADBHIN.NS\n",
      "1345\n",
      "SAFARI.NS\n",
      "1346\n",
      "SAGCEM.NS\n",
      "1347\n",
      "SAGARDEEP.NS\n",
      "1348\n",
      "SAKAR.NS\n",
      "1349\n",
      "SAKETH.NS\n"
     ]
    },
    {
     "name": "stderr",
     "output_type": "stream",
     "text": [
      "SAKETH.NS: No data found, symbol may be delisted\n"
     ]
    },
    {
     "name": "stdout",
     "output_type": "stream",
     "text": [
      "1350\n",
      "SAKSOFT.NS\n",
      "1351\n",
      "SAKHTISUG.NS\n",
      "1352\n",
      "SAKUMA.NS\n",
      "1353\n",
      "SECL.NS\n"
     ]
    },
    {
     "name": "stderr",
     "output_type": "stream",
     "text": [
      "SECL.NS: No data found, symbol may be delisted\n"
     ]
    },
    {
     "name": "stdout",
     "output_type": "stream",
     "text": [
      "1354\n",
      "SALASAR.NS\n",
      "1355\n",
      "SALONA.NS\n",
      "1356\n",
      "SALZERELEC.NS\n",
      "1357\n",
      "SAMBHAAV.NS\n",
      "1358\n",
      "SANCO.NS\n",
      "1359\n",
      "SANDHAR.NS\n",
      "1360\n",
      "SANGAMIND.NS\n",
      "1361\n",
      "SANGHIIND.NS\n",
      "1362\n",
      "SANGHVIFOR.NS\n"
     ]
    },
    {
     "name": "stderr",
     "output_type": "stream",
     "text": [
      "SANGHVIFOR.NS: No data found, symbol may be delisted\n"
     ]
    },
    {
     "name": "stdout",
     "output_type": "stream",
     "text": [
      "1363\n",
      "SANGHVIMOV.NS\n",
      "1364\n",
      "SANGINITA.NS\n",
      "1365\n",
      "SANOFI.NS\n",
      "1366\n",
      "SANWARIA.NS\n",
      "1367\n",
      "SARDAEN.NS\n",
      "1368\n",
      "SAREGAMA.NS\n",
      "1369\n",
      "SARLAPOLY.NS\n",
      "1370\n",
      "SARVESHWAR.NS\n",
      "1371\n",
      "SASKEN.NS\n",
      "1372\n",
      "SASTASUNDR.NS\n",
      "1373\n",
      "SATHAISPAT.NS\n",
      "1374\n",
      "SATIA.NS\n",
      "1375\n",
      "SATIN.NS\n",
      "1376\n",
      "SOTL.NS\n",
      "1377\n",
      "SBICARD.NS\n",
      "1378\n",
      "SBILIFE.NS\n",
      "1379\n",
      "SCHAEFFLER.NS\n",
      "1380\n",
      "SCHNEIDER.NS\n",
      "1381\n",
      "SEAMECLTD.NS\n",
      "1382\n",
      "SECURCRED.NS\n",
      "1383\n",
      "SIS.NS\n",
      "1384\n",
      "SELMCL.NS\n"
     ]
    },
    {
     "name": "stderr",
     "output_type": "stream",
     "text": [
      "SELMCL.NS: No data found, symbol may be delisted\n"
     ]
    },
    {
     "name": "stdout",
     "output_type": "stream",
     "text": [
      "1385\n",
      "SELAN.NS\n",
      "1386\n",
      "SEQUENT.NS\n",
      "1387\n",
      "SERVOTECH.NS\n",
      "1388\n",
      "SESHAPAPER.NS\n",
      "1389\n",
      "SETCO.NS\n",
      "1390\n",
      "SETUINFRA.NS\n",
      "1391\n",
      "SEYAIND.NS\n",
      "1392\n",
      "SEZAL.NS\n"
     ]
    },
    {
     "name": "stderr",
     "output_type": "stream",
     "text": [
      "SEZAL.NS: No data found, symbol may be delisted\n"
     ]
    },
    {
     "name": "stdout",
     "output_type": "stream",
     "text": [
      "1393\n",
      "SHAHALLOYS.NS\n",
      "1394\n",
      "SHAIVAL.NS\n"
     ]
    },
    {
     "name": "stderr",
     "output_type": "stream",
     "text": [
      "SHAIVAL.NS: No data found, symbol may be delisted\n"
     ]
    },
    {
     "name": "stdout",
     "output_type": "stream",
     "text": [
      "1395\n",
      "SHAKTIPUMP.NS\n",
      "1396\n",
      "SHALBY.NS\n",
      "1397\n",
      "SHALPAINTS.NS\n",
      "1398\n",
      "SHANKARA.NS\n",
      "1399\n",
      "SHANTIGEAR.NS\n",
      "1400\n",
      "SHANTI.NS\n",
      "1401\n",
      "SHARDACROP.NS\n",
      "1402\n",
      "SHARDAMOTR.NS\n",
      "1403\n",
      "SHARONBIO.NS\n",
      "1404\n",
      "SFL.NS\n",
      "1405\n",
      "SPYL.NS\n",
      "1406\n",
      "SHEMAROO.NS\n",
      "1407\n",
      "SHILPAMED.NS\n",
      "1408\n",
      "SCI.NS\n",
      "1409\n",
      "SHIRPUR-G.NS\n",
      "1410\n",
      "SHIVAUM.NS\n"
     ]
    },
    {
     "name": "stderr",
     "output_type": "stream",
     "text": [
      "SHIVAUM.NS: No data found, symbol may be delisted\n"
     ]
    },
    {
     "name": "stdout",
     "output_type": "stream",
     "text": [
      "1411\n",
      "SHIVAMILLS.NS\n",
      "1412\n",
      "SHIVATEX.NS\n",
      "1413\n",
      "SHIVAMAUTO.NS\n",
      "1414\n",
      "SHOPERSTOP.NS\n",
      "1415\n",
      "SHRADHA.NS\n",
      "1416\n",
      "SHREECEM.NS\n",
      "1417\n",
      "SHREDIGCEM.NS\n",
      "1418\n",
      "SHREEPUSHK.NS\n",
      "1419\n",
      "SRPL.NS\n",
      "1420\n",
      "SHREERAMA.NS\n",
      "1421\n",
      "RAMANEWS.NS\n",
      "1422\n",
      "RENUKA.NS\n",
      "1423\n",
      "TIRUPATI.NS\n"
     ]
    },
    {
     "name": "stderr",
     "output_type": "stream",
     "text": [
      "TIRUPATI.NS: No data found, symbol may be delisted\n"
     ]
    },
    {
     "name": "stdout",
     "output_type": "stream",
     "text": [
      "1424\n",
      "SVLL.NS\n",
      "1425\n",
      "OSWALSEEDS.NS\n",
      "1426\n",
      "SHRENIK.NS\n",
      "1427\n",
      "SHREYANIND.NS\n",
      "1428\n",
      "SHREYAS.NS\n",
      "1429\n",
      "SRIRAM.NS\n"
     ]
    },
    {
     "name": "stderr",
     "output_type": "stream",
     "text": [
      "SRIRAM.NS: No data found, symbol may be delisted\n"
     ]
    },
    {
     "name": "stdout",
     "output_type": "stream",
     "text": [
      "1430\n",
      "SHRIRAMCIT.NS\n"
     ]
    },
    {
     "name": "stderr",
     "output_type": "stream",
     "text": [
      "SHRIRAMCIT.NS: No data found, symbol may be delisted\n"
     ]
    },
    {
     "name": "stdout",
     "output_type": "stream",
     "text": [
      "1431\n",
      "SHRIRAMEPC.NS\n"
     ]
    },
    {
     "name": "stderr",
     "output_type": "stream",
     "text": [
      "SHRIRAMEPC.NS: No data found, symbol may be delisted\n"
     ]
    },
    {
     "name": "stdout",
     "output_type": "stream",
     "text": [
      "1432\n",
      "SHRIPISTON.NS\n",
      "1433\n",
      "SRTRANSFIN.NS\n"
     ]
    },
    {
     "name": "stderr",
     "output_type": "stream",
     "text": [
      "SRTRANSFIN.NS: No data found, symbol may be delisted\n"
     ]
    },
    {
     "name": "stdout",
     "output_type": "stream",
     "text": [
      "1434\n",
      "SHUBHLAXMI.NS\n"
     ]
    },
    {
     "name": "stderr",
     "output_type": "stream",
     "text": [
      "SHUBHLAXMI.NS: No data found, symbol may be delisted\n"
     ]
    },
    {
     "name": "stdout",
     "output_type": "stream",
     "text": [
      "1435\n",
      "SHYAMCENT.NS\n",
      "1436\n",
      "SHYAMMETL.NS\n",
      "1437\n",
      "SHYAMTEL.NS\n",
      "1438\n",
      "SICAGEN.NS\n"
     ]
    },
    {
     "name": "stderr",
     "output_type": "stream",
     "text": [
      "SICAGEN.NS: Period '10mo' is invalid, must be one of ['1d', '5d', '1mo', '3mo', '6mo', '1y', '2y', '5y', '10y', 'ytd', 'max']\n"
     ]
    },
    {
     "name": "stdout",
     "output_type": "stream",
     "text": [
      "1439\n",
      "SICAL.NS\n",
      "1440\n",
      "SIEMENS.NS\n",
      "1441\n",
      "SIGIND.NS\n",
      "1442\n",
      "SIKKO.NS\n",
      "1443\n",
      "SILINV.NS\n",
      "1444\n",
      "SILGO.NS\n",
      "1445\n",
      "SILLYMONKS.NS\n",
      "1446\n",
      "SILVERTUC.NS\n",
      "1447\n",
      "SIMBHALS.NS\n",
      "1448\n",
      "SIMPLEXINF.NS\n",
      "1449\n",
      "SINTERCOM.NS\n",
      "1450\n",
      "SINTEX.NS\n"
     ]
    },
    {
     "name": "stderr",
     "output_type": "stream",
     "text": [
      "SINTEX.NS: No data found, symbol may be delisted\n"
     ]
    },
    {
     "name": "stdout",
     "output_type": "stream",
     "text": [
      "1451\n",
      "SPTL.NS\n",
      "1452\n",
      "SIRCA.NS\n",
      "1453\n",
      "SITINET.NS\n",
      "1454\n",
      "SIYSIL.NS\n",
      "1455\n",
      "SJVN.NS\n",
      "1456\n",
      "SKFINDIA.NS\n",
      "1457\n",
      "SKIL.NS\n",
      "1458\n",
      "SKIPPER.NS\n",
      "1459\n",
      "SKMEGGPROD.NS\n",
      "1460\n",
      "SKSTEXTILE.NS\n"
     ]
    },
    {
     "name": "stderr",
     "output_type": "stream",
     "text": [
      "SKSTEXTILE.NS: No data found, symbol may be delisted\n"
     ]
    },
    {
     "name": "stdout",
     "output_type": "stream",
     "text": [
      "1461\n",
      "SMARTLINK.NS\n",
      "1462\n",
      "SMLISUZU.NS\n",
      "1463\n",
      "SMSLIFE.NS\n",
      "1464\n",
      "SMSPHARMA.NS\n",
      "1465\n",
      "SMVD.NS\n"
     ]
    },
    {
     "name": "stderr",
     "output_type": "stream",
     "text": [
      "SMVD.NS: No data found, symbol may be delisted\n"
     ]
    },
    {
     "name": "stdout",
     "output_type": "stream",
     "text": [
      "1466\n",
      "SNOWMAN.NS\n",
      "1467\n",
      "SOBHA.NS\n",
      "1468\n",
      "SOFTTECH.NS\n",
      "1469\n",
      "SOLARINDS.NS\n",
      "1470\n",
      "SOLARA.NS\n",
      "1471\n",
      "SOLEX.NS\n"
     ]
    },
    {
     "name": "stderr",
     "output_type": "stream",
     "text": [
      "SOLEX.NS: No data found, symbol may be delisted\n"
     ]
    },
    {
     "name": "stdout",
     "output_type": "stream",
     "text": [
      "1472\n",
      "SDBL.NS\n",
      "1473\n",
      "SOMATEX.NS\n",
      "1474\n",
      "SOMANYCERA.NS\n",
      "1475\n",
      "SHIL.NS\n"
     ]
    },
    {
     "name": "stderr",
     "output_type": "stream",
     "text": [
      "SHIL.NS: No data found, symbol may be delisted\n"
     ]
    },
    {
     "name": "stdout",
     "output_type": "stream",
     "text": [
      "1476\n",
      "SOMICONVEY.NS\n",
      "1477\n",
      "SONAHISONA.NS\n"
     ]
    },
    {
     "name": "stderr",
     "output_type": "stream",
     "text": [
      "SONAHISONA.NS: No data found, symbol may be delisted\n"
     ]
    },
    {
     "name": "stdout",
     "output_type": "stream",
     "text": [
      "1478\n",
      "SONAMCLOCK.NS\n",
      "1479\n",
      "SONATSOFTW.NS\n",
      "1480\n",
      "SONISOYA.NS\n",
      "1481\n",
      "SORILINFRA.NS\n"
     ]
    },
    {
     "name": "stderr",
     "output_type": "stream",
     "text": [
      "SORILINFRA.NS: Period '10mo' is invalid, must be one of ['1d', '5d', '1mo', '3mo', '6mo', '1y', '2y', '5y', '10y', 'ytd', 'max']\n"
     ]
    },
    {
     "name": "stdout",
     "output_type": "stream",
     "text": [
      "1482\n",
      "SOUTHWEST.NS\n",
      "1483\n",
      "SPIC.NS\n",
      "1484\n",
      "SPCENET.NS\n",
      "1485\n",
      "SPANDANA.NS\n",
      "1486\n",
      "SPECIALITY.NS\n",
      "1487\n",
      "SPECTRUM.NS\n"
     ]
    },
    {
     "name": "stderr",
     "output_type": "stream",
     "text": [
      "SPECTRUM.NS: No data found, symbol may be delisted\n"
     ]
    },
    {
     "name": "stdout",
     "output_type": "stream",
     "text": [
      "1488\n",
      "SPENCERS.NS\n",
      "1489\n",
      "SPENTEX.NS\n",
      "1490\n",
      "SPLIL.NS\n",
      "1491\n",
      "SMPL.NS\n"
     ]
    },
    {
     "name": "stderr",
     "output_type": "stream",
     "text": [
      "SMPL.NS: No data found, symbol may be delisted\n"
     ]
    },
    {
     "name": "stdout",
     "output_type": "stream",
     "text": [
      "1492\n",
      "SPMLINFRA.NS\n",
      "1493\n",
      "SRHHYPOLTD.NS\n",
      "1494\n",
      "SREEL.NS\n",
      "1495\n",
      "SREINFRA.NS\n",
      "1496\n",
      "SRF.NS\n",
      "1497\n",
      "SABTN.NS\n",
      "1498\n",
      "HAVISHA.NS\n",
      "1499\n",
      "SRIPIPES.NS\n"
     ]
    },
    {
     "name": "stderr",
     "output_type": "stream",
     "text": [
      "SRIPIPES.NS: No data found, symbol may be delisted\n"
     ]
    },
    {
     "name": "stdout",
     "output_type": "stream",
     "text": [
      "1500\n",
      "STAMPEDE.NS\n",
      "1501\n",
      "SIL.NS\n",
      "1502\n",
      "STARCEMENT.NS\n",
      "1503\n",
      "STARPAPER.NS\n",
      "1504\n",
      "SBIN.NS\n",
      "1505\n",
      "SAIL.NS\n",
      "1506\n",
      "STEELCITY.NS\n",
      "1507\n",
      "STEELXIND.NS\n",
      "1508\n",
      "SSWL.NS\n",
      "1509\n",
      "STEL.NS\n",
      "1510\n",
      "SWSOLAR.NS\n",
      "1511\n",
      "STERTOOLS.NS\n",
      "1512\n",
      "STRTECH.NS\n"
     ]
    },
    {
     "name": "stderr",
     "output_type": "stream",
     "text": [
      "STRTECH.NS: No data found, symbol may be delisted\n"
     ]
    },
    {
     "name": "stdout",
     "output_type": "stream",
     "text": [
      "1513\n",
      "STINDIA.NS\n"
     ]
    },
    {
     "name": "stderr",
     "output_type": "stream",
     "text": [
      "STINDIA.NS: No data found, symbol may be delisted\n"
     ]
    },
    {
     "name": "stdout",
     "output_type": "stream",
     "text": [
      "1514\n",
      "SGL.NS\n",
      "1515\n",
      "STAR.NS\n",
      "1516\n",
      "SUBEXLTD.NS\n",
      "1517\n",
      "SUBROS.NS\n",
      "1518\n",
      "SUDARSCHEM.NS\n",
      "1519\n",
      "SUJANAUNI.NS\n"
     ]
    },
    {
     "name": "stderr",
     "output_type": "stream",
     "text": [
      "SUJANAUNI.NS: No data found, symbol may be delisted\n"
     ]
    },
    {
     "name": "stdout",
     "output_type": "stream",
     "text": [
      "1520\n",
      "SUMEETINDS.NS\n",
      "1521\n",
      "SUMIT.NS\n",
      "1522\n",
      "SUMICHEM.NS\n",
      "1523\n",
      "SUMMITSEC.NS\n",
      "1524\n",
      "SPARC.NS\n",
      "1525\n",
      "SUNPHARMA.NS\n",
      "1526\n",
      "SUNTV.NS\n",
      "1527\n",
      "SUNDRMBRAK.NS\n",
      "1528\n",
      "SUNCLAYLTD.NS\n",
      "1529\n",
      "SUNDARMHLD.NS\n",
      "1530\n",
      "SUNDARMFIN.NS\n",
      "1531\n",
      "SUNDARAM.NS\n",
      "1532\n",
      "SUNDRMFAST.NS\n",
      "1533\n",
      "SUNFLAG.NS\n",
      "1534\n",
      "SUNTECK.NS\n",
      "1535\n",
      "SUPERSPIN.NS\n",
      "1536\n",
      "SUPERHOUSE.NS\n",
      "1537\n",
      "SUPRAJIT.NS\n",
      "1538\n",
      "SUPREMEENG.NS\n",
      "1539\n",
      "SUPREMEIND.NS\n",
      "1540\n",
      "SUPREMEINF.NS\n",
      "1541\n",
      "SUPPETRO.NS\n"
     ]
    },
    {
     "name": "stderr",
     "output_type": "stream",
     "text": [
      "SUPPETRO.NS: No data found, symbol may be delisted\n"
     ]
    },
    {
     "name": "stdout",
     "output_type": "stream",
     "text": [
      "1542\n",
      "SURANASOL.NS\n",
      "1543\n",
      "SURANAT&P.NS\n",
      "1544\n",
      "SURANI.NS\n"
     ]
    },
    {
     "name": "stderr",
     "output_type": "stream",
     "text": [
      "SURANI.NS: No data found, symbol may be delisted\n"
     ]
    },
    {
     "name": "stdout",
     "output_type": "stream",
     "text": [
      "1545\n",
      "SUREVIN.NS\n"
     ]
    },
    {
     "name": "stderr",
     "output_type": "stream",
     "text": [
      "SUREVIN.NS: No data found, symbol may be delisted\n"
     ]
    },
    {
     "name": "stdout",
     "output_type": "stream",
     "text": [
      "1546\n",
      "SURYAROSNI.NS\n",
      "1547\n",
      "SURYALAXMI.NS\n",
      "1548\n",
      "SUTLEJTEX.NS\n",
      "1549\n",
      "SUULD.NS\n",
      "1550\n",
      "SUVEN.NS\n",
      "1551\n",
      "SUVENPHAR.NS\n",
      "1552\n",
      "SUZLON.NS\n",
      "1553\n",
      "SWANENERGY.NS\n",
      "1554\n",
      "SWARAJENG.NS\n",
      "1555\n",
      "SWELECTES.NS\n",
      "1556\n",
      "SYMPHONY.NS\n",
      "1557\n",
      "SYNCOM.NS\n"
     ]
    },
    {
     "name": "stderr",
     "output_type": "stream",
     "text": [
      "SYNCOM.NS: No data found, symbol may be delisted\n"
     ]
    },
    {
     "name": "stdout",
     "output_type": "stream",
     "text": [
      "1558\n",
      "SYNGENE.NS\n",
      "1559\n",
      "TTL.NS\n",
      "1560\n"
     ]
    }
   ],
   "source": [
    "import time\n",
    "import os\n",
    "\n",
    "stock = pd.read_csv(\"/data/stock_symbols.csv\")\n",
    "\n",
    "skip_counter = 0\n",
    "\n",
    "print(skip_counter)\n",
    "\n",
    "counter = 0\n",
    "\n",
    "df = fetch_data(\"LTIM.NS\")\n",
    "\n",
    "for ind in stock.index:\n",
    "    print(stock['Symbol_New'][ind])\n",
    "    counter = counter+1\n",
    "    if counter < skip_counter:\n",
    "        continue\n",
    "    df_tmp = fetch_data(stock['Symbol_New'][ind])\n",
    "    if df_tmp is not None:\n",
    "        df = pd.concat([df, df_tmp])\n",
    "    if counter % 5 == 0:\n",
    "        df.to_csv(\"/data/missing_stock_data.csv\", index=False)\n",
    "    print(counter)\n",
    "    time.sleep(10) \n",
    "    \n",
    "\n",
    "df.to_csv(\"/data/missing_stock_data.csv\", index=False)"
   ]
  },
  {
   "cell_type": "code",
   "execution_count": 46,
   "id": "e423507b-e417-4bc9-a08b-93111aa36f82",
   "metadata": {},
   "outputs": [],
   "source": [
    "df = fetch_data(\"LTIM.NS\")"
   ]
  },
  {
   "cell_type": "code",
   "execution_count": 47,
   "id": "b937db20-2337-4c31-b1d4-806364a405f1",
   "metadata": {},
   "outputs": [
    {
     "data": {
      "text/html": [
       "<div>\n",
       "<style scoped>\n",
       "    .dataframe tbody tr th:only-of-type {\n",
       "        vertical-align: middle;\n",
       "    }\n",
       "\n",
       "    .dataframe tbody tr th {\n",
       "        vertical-align: top;\n",
       "    }\n",
       "\n",
       "    .dataframe thead th {\n",
       "        text-align: right;\n",
       "    }\n",
       "</style>\n",
       "<table border=\"1\" class=\"dataframe\">\n",
       "  <thead>\n",
       "    <tr style=\"text-align: right;\">\n",
       "      <th></th>\n",
       "      <th>Open</th>\n",
       "      <th>High</th>\n",
       "      <th>Low</th>\n",
       "      <th>Close</th>\n",
       "      <th>Volume</th>\n",
       "      <th>Dividends</th>\n",
       "      <th>Stock Splits</th>\n",
       "      <th>Symbol_name</th>\n",
       "      <th>FinancialDate</th>\n",
       "    </tr>\n",
       "    <tr>\n",
       "      <th>Date</th>\n",
       "      <th></th>\n",
       "      <th></th>\n",
       "      <th></th>\n",
       "      <th></th>\n",
       "      <th></th>\n",
       "      <th></th>\n",
       "      <th></th>\n",
       "      <th></th>\n",
       "      <th></th>\n",
       "    </tr>\n",
       "  </thead>\n",
       "  <tbody>\n",
       "    <tr>\n",
       "      <th>2022-12-26 00:00:00+05:30</th>\n",
       "      <td>4189.535146</td>\n",
       "      <td>4281.418009</td>\n",
       "      <td>4171.443844</td>\n",
       "      <td>4276.010254</td>\n",
       "      <td>248624</td>\n",
       "      <td>0.0</td>\n",
       "      <td>0.0</td>\n",
       "      <td>LTIM.NS</td>\n",
       "      <td>2022-12-26</td>\n",
       "    </tr>\n",
       "  </tbody>\n",
       "</table>\n",
       "</div>"
      ],
      "text/plain": [
       "                                  Open         High          Low        Close  \\\n",
       "Date                                                                            \n",
       "2022-12-26 00:00:00+05:30  4189.535146  4281.418009  4171.443844  4276.010254   \n",
       "\n",
       "                           Volume  Dividends  Stock Splits Symbol_name  \\\n",
       "Date                                                                     \n",
       "2022-12-26 00:00:00+05:30  248624        0.0           0.0     LTIM.NS   \n",
       "\n",
       "                          FinancialDate  \n",
       "Date                                     \n",
       "2022-12-26 00:00:00+05:30    2022-12-26  "
      ]
     },
     "execution_count": 47,
     "metadata": {},
     "output_type": "execute_result"
    }
   ],
   "source": [
    "df"
   ]
  },
  {
   "cell_type": "code",
   "execution_count": 19,
   "id": "52cebf2b-1ec0-4fec-b188-17d24aec90d1",
   "metadata": {},
   "outputs": [],
   "source": []
  },
  {
   "cell_type": "code",
   "execution_count": 40,
   "id": "b00249af-4131-4897-9143-649e8626b5e6",
   "metadata": {},
   "outputs": [
    {
     "data": {
      "text/html": [
       "<div>\n",
       "<style scoped>\n",
       "    .dataframe tbody tr th:only-of-type {\n",
       "        vertical-align: middle;\n",
       "    }\n",
       "\n",
       "    .dataframe tbody tr th {\n",
       "        vertical-align: top;\n",
       "    }\n",
       "\n",
       "    .dataframe thead th {\n",
       "        text-align: right;\n",
       "    }\n",
       "</style>\n",
       "<table border=\"1\" class=\"dataframe\">\n",
       "  <thead>\n",
       "    <tr style=\"text-align: right;\">\n",
       "      <th></th>\n",
       "      <th>Open</th>\n",
       "      <th>High</th>\n",
       "      <th>Low</th>\n",
       "      <th>Close</th>\n",
       "      <th>Volume</th>\n",
       "      <th>Dividends</th>\n",
       "      <th>Stock Splits</th>\n",
       "      <th>FinancialDate</th>\n",
       "    </tr>\n",
       "    <tr>\n",
       "      <th>Date</th>\n",
       "      <th></th>\n",
       "      <th></th>\n",
       "      <th></th>\n",
       "      <th></th>\n",
       "      <th></th>\n",
       "      <th></th>\n",
       "      <th></th>\n",
       "      <th></th>\n",
       "    </tr>\n",
       "  </thead>\n",
       "  <tbody>\n",
       "    <tr>\n",
       "      <th>2022-12-26 00:00:00+05:30</th>\n",
       "      <td>82.441451</td>\n",
       "      <td>87.656121</td>\n",
       "      <td>80.703228</td>\n",
       "      <td>86.265541</td>\n",
       "      <td>141024</td>\n",
       "      <td>0.0</td>\n",
       "      <td>0.0</td>\n",
       "      <td>2022-12-26</td>\n",
       "    </tr>\n",
       "  </tbody>\n",
       "</table>\n",
       "</div>"
      ],
      "text/plain": [
       "                                Open       High        Low      Close  Volume  \\\n",
       "Date                                                                            \n",
       "2022-12-26 00:00:00+05:30  82.441451  87.656121  80.703228  86.265541  141024   \n",
       "\n",
       "                           Dividends  Stock Splits FinancialDate  \n",
       "Date                                                              \n",
       "2022-12-26 00:00:00+05:30        0.0           0.0    2022-12-26  "
      ]
     },
     "execution_count": 40,
     "metadata": {},
     "output_type": "execute_result"
    }
   ],
   "source": [
    "\n",
    "\n",
    "hist1 = hist.loc[hist[\"FinancialDate\"] == datetime.strptime(\"2022-12-26\", '%Y-%m-%d').date() ]\n",
    "\n",
    "hist1"
   ]
  },
  {
   "cell_type": "code",
   "execution_count": null,
   "id": "9acc6fbb-fbef-4abd-af52-a02bad04b165",
   "metadata": {},
   "outputs": [],
   "source": []
  }
 ],
 "metadata": {
  "kernelspec": {
   "display_name": "Python 3",
   "language": "python",
   "name": "python3"
  },
  "language_info": {
   "codemirror_mode": {
    "name": "ipython",
    "version": 3
   },
   "file_extension": ".py",
   "mimetype": "text/x-python",
   "name": "python",
   "nbconvert_exporter": "python",
   "pygments_lexer": "ipython3",
   "version": "3.9.16"
  }
 },
 "nbformat": 4,
 "nbformat_minor": 5
}
