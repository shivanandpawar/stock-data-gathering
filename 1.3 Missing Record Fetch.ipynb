{
 "cells": [
  {
   "cell_type": "code",
   "execution_count": 1,
   "id": "90ea7c78-f22e-4590-8033-6ce5f4ed4922",
   "metadata": {},
   "outputs": [],
   "source": [
    "import pandas as pd\n",
    "import numpy as np\n",
    "import yfinance as yf\n",
    "from datetime import timedelta\n",
    "import json"
   ]
  },
  {
   "cell_type": "code",
   "execution_count": 45,
   "id": "c09871c0-7860-4149-8c2f-87f8c3fb2580",
   "metadata": {},
   "outputs": [],
   "source": [
    "def fetch_data(company_name):\n",
    "    try:        \n",
    "        msft = yf.Ticker(company_name)\n",
    "        from datetime import datetime\n",
    "\n",
    "        hist = msft.history(period=\"10mo\")\n",
    "        hist[\"Symbol_name\"]=company_name\n",
    "        hist[\"FinancialDate\"]=pd.to_datetime(hist.index, format='%y-%m-%d').date\n",
    "        return hist.loc[hist[\"FinancialDate\"] == datetime.strptime(\"2022-12-26\", '%Y-%m-%d').date() ]\n",
    "    except Exception as e:\n",
    "        print(e)\n",
    "        return None"
   ]
  },
  {
   "cell_type": "code",
   "execution_count": null,
   "id": "a6f31885-399c-4eb9-9890-190bab1dcb0c",
   "metadata": {},
   "outputs": [
    {
     "name": "stdout",
     "output_type": "stream",
     "text": [
      "0\n",
      "20MICRONS.NS\n",
      "1\n",
      "21STCENMGM.NS\n",
      "2\n",
      "3IINFOTECH.NS\n"
     ]
    },
    {
     "name": "stderr",
     "output_type": "stream",
     "text": [
      "3IINFOTECH.NS: No data found, symbol may be delisted\n"
     ]
    },
    {
     "name": "stdout",
     "output_type": "stream",
     "text": [
      "3\n",
      "3MINDIA.NS\n",
      "4\n",
      "3PLAND.NS\n",
      "5\n",
      "3RDROCK.NS\n",
      "6\n",
      "5PAISA.NS\n",
      "7\n",
      "63MOONS.NS\n",
      "8\n"
     ]
    }
   ],
   "source": [
    "import time\n",
    "import os\n",
    "\n",
    "stock = pd.read_csv(\"/data/stock_symbols.csv\")\n",
    "\n",
    "skip_counter = 0\n",
    "\n",
    "print(skip_counter)\n",
    "\n",
    "counter = 0\n",
    "\n",
    "df = fetch_data(\"LTIM.NS\")\n",
    "\n",
    "for ind in stock.index:\n",
    "    print(stock['Symbol_New'][ind])\n",
    "    counter = counter+1\n",
    "    if counter < skip_counter:\n",
    "        continue\n",
    "    df_tmp = fetch_data(stock['Symbol_New'][ind])\n",
    "    if df_tmp is not None:\n",
    "        df = pd.concat([df, df_tmp])\n",
    "    if counter % 5 == 0:\n",
    "        df.to_csv(\"/data/missing_stock_data.csv\", index=False)\n",
    "    print(counter)\n",
    "    time.sleep(10) \n",
    "    \n",
    "\n",
    "df.to_csv(\"/data/missing_stock_data.csv\", index=False)"
   ]
  },
  {
   "cell_type": "code",
   "execution_count": 46,
   "id": "e423507b-e417-4bc9-a08b-93111aa36f82",
   "metadata": {},
   "outputs": [],
   "source": [
    "df = fetch_data(\"LTIM.NS\")"
   ]
  },
  {
   "cell_type": "code",
   "execution_count": 47,
   "id": "b937db20-2337-4c31-b1d4-806364a405f1",
   "metadata": {},
   "outputs": [
    {
     "data": {
      "text/html": [
       "<div>\n",
       "<style scoped>\n",
       "    .dataframe tbody tr th:only-of-type {\n",
       "        vertical-align: middle;\n",
       "    }\n",
       "\n",
       "    .dataframe tbody tr th {\n",
       "        vertical-align: top;\n",
       "    }\n",
       "\n",
       "    .dataframe thead th {\n",
       "        text-align: right;\n",
       "    }\n",
       "</style>\n",
       "<table border=\"1\" class=\"dataframe\">\n",
       "  <thead>\n",
       "    <tr style=\"text-align: right;\">\n",
       "      <th></th>\n",
       "      <th>Open</th>\n",
       "      <th>High</th>\n",
       "      <th>Low</th>\n",
       "      <th>Close</th>\n",
       "      <th>Volume</th>\n",
       "      <th>Dividends</th>\n",
       "      <th>Stock Splits</th>\n",
       "      <th>Symbol_name</th>\n",
       "      <th>FinancialDate</th>\n",
       "    </tr>\n",
       "    <tr>\n",
       "      <th>Date</th>\n",
       "      <th></th>\n",
       "      <th></th>\n",
       "      <th></th>\n",
       "      <th></th>\n",
       "      <th></th>\n",
       "      <th></th>\n",
       "      <th></th>\n",
       "      <th></th>\n",
       "      <th></th>\n",
       "    </tr>\n",
       "  </thead>\n",
       "  <tbody>\n",
       "    <tr>\n",
       "      <th>2022-12-26 00:00:00+05:30</th>\n",
       "      <td>4189.535146</td>\n",
       "      <td>4281.418009</td>\n",
       "      <td>4171.443844</td>\n",
       "      <td>4276.010254</td>\n",
       "      <td>248624</td>\n",
       "      <td>0.0</td>\n",
       "      <td>0.0</td>\n",
       "      <td>LTIM.NS</td>\n",
       "      <td>2022-12-26</td>\n",
       "    </tr>\n",
       "  </tbody>\n",
       "</table>\n",
       "</div>"
      ],
      "text/plain": [
       "                                  Open         High          Low        Close  \\\n",
       "Date                                                                            \n",
       "2022-12-26 00:00:00+05:30  4189.535146  4281.418009  4171.443844  4276.010254   \n",
       "\n",
       "                           Volume  Dividends  Stock Splits Symbol_name  \\\n",
       "Date                                                                     \n",
       "2022-12-26 00:00:00+05:30  248624        0.0           0.0     LTIM.NS   \n",
       "\n",
       "                          FinancialDate  \n",
       "Date                                     \n",
       "2022-12-26 00:00:00+05:30    2022-12-26  "
      ]
     },
     "execution_count": 47,
     "metadata": {},
     "output_type": "execute_result"
    }
   ],
   "source": [
    "df"
   ]
  },
  {
   "cell_type": "code",
   "execution_count": 19,
   "id": "52cebf2b-1ec0-4fec-b188-17d24aec90d1",
   "metadata": {},
   "outputs": [],
   "source": []
  },
  {
   "cell_type": "code",
   "execution_count": 40,
   "id": "b00249af-4131-4897-9143-649e8626b5e6",
   "metadata": {},
   "outputs": [
    {
     "data": {
      "text/html": [
       "<div>\n",
       "<style scoped>\n",
       "    .dataframe tbody tr th:only-of-type {\n",
       "        vertical-align: middle;\n",
       "    }\n",
       "\n",
       "    .dataframe tbody tr th {\n",
       "        vertical-align: top;\n",
       "    }\n",
       "\n",
       "    .dataframe thead th {\n",
       "        text-align: right;\n",
       "    }\n",
       "</style>\n",
       "<table border=\"1\" class=\"dataframe\">\n",
       "  <thead>\n",
       "    <tr style=\"text-align: right;\">\n",
       "      <th></th>\n",
       "      <th>Open</th>\n",
       "      <th>High</th>\n",
       "      <th>Low</th>\n",
       "      <th>Close</th>\n",
       "      <th>Volume</th>\n",
       "      <th>Dividends</th>\n",
       "      <th>Stock Splits</th>\n",
       "      <th>FinancialDate</th>\n",
       "    </tr>\n",
       "    <tr>\n",
       "      <th>Date</th>\n",
       "      <th></th>\n",
       "      <th></th>\n",
       "      <th></th>\n",
       "      <th></th>\n",
       "      <th></th>\n",
       "      <th></th>\n",
       "      <th></th>\n",
       "      <th></th>\n",
       "    </tr>\n",
       "  </thead>\n",
       "  <tbody>\n",
       "    <tr>\n",
       "      <th>2022-12-26 00:00:00+05:30</th>\n",
       "      <td>82.441451</td>\n",
       "      <td>87.656121</td>\n",
       "      <td>80.703228</td>\n",
       "      <td>86.265541</td>\n",
       "      <td>141024</td>\n",
       "      <td>0.0</td>\n",
       "      <td>0.0</td>\n",
       "      <td>2022-12-26</td>\n",
       "    </tr>\n",
       "  </tbody>\n",
       "</table>\n",
       "</div>"
      ],
      "text/plain": [
       "                                Open       High        Low      Close  Volume  \\\n",
       "Date                                                                            \n",
       "2022-12-26 00:00:00+05:30  82.441451  87.656121  80.703228  86.265541  141024   \n",
       "\n",
       "                           Dividends  Stock Splits FinancialDate  \n",
       "Date                                                              \n",
       "2022-12-26 00:00:00+05:30        0.0           0.0    2022-12-26  "
      ]
     },
     "execution_count": 40,
     "metadata": {},
     "output_type": "execute_result"
    }
   ],
   "source": [
    "\n",
    "\n",
    "hist1 = hist.loc[hist[\"FinancialDate\"] == datetime.strptime(\"2022-12-26\", '%Y-%m-%d').date() ]\n",
    "\n",
    "hist1"
   ]
  },
  {
   "cell_type": "code",
   "execution_count": null,
   "id": "9acc6fbb-fbef-4abd-af52-a02bad04b165",
   "metadata": {},
   "outputs": [],
   "source": []
  }
 ],
 "metadata": {
  "kernelspec": {
   "display_name": "Python 3",
   "language": "python",
   "name": "python3"
  },
  "language_info": {
   "codemirror_mode": {
    "name": "ipython",
    "version": 3
   },
   "file_extension": ".py",
   "mimetype": "text/x-python",
   "name": "python",
   "nbconvert_exporter": "python",
   "pygments_lexer": "ipython3",
   "version": "3.9.16"
  }
 },
 "nbformat": 4,
 "nbformat_minor": 5
}
