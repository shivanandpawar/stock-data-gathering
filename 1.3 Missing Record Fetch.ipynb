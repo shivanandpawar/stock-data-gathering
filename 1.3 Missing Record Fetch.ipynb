{
 "cells": [
  {
   "cell_type": "code",
   "execution_count": 1,
   "id": "90ea7c78-f22e-4590-8033-6ce5f4ed4922",
   "metadata": {},
   "outputs": [],
   "source": [
    "import pandas as pd\n",
    "import numpy as np\n",
    "import yfinance as yf\n",
    "from datetime import timedelta\n",
    "import json"
   ]
  },
  {
   "cell_type": "code",
   "execution_count": 45,
   "id": "c09871c0-7860-4149-8c2f-87f8c3fb2580",
   "metadata": {},
   "outputs": [],
   "source": [
    "def fetch_data(company_name):\n",
    "    try:        \n",
    "        msft = yf.Ticker(company_name)\n",
    "        from datetime import datetime\n",
    "\n",
    "        hist = msft.history(period=\"10mo\")\n",
    "        hist[\"Symbol_name\"]=company_name\n",
    "        hist[\"FinancialDate\"]=pd.to_datetime(hist.index, format='%y-%m-%d').date\n",
    "        return hist.loc[hist[\"FinancialDate\"] == datetime.strptime(\"2022-12-26\", '%Y-%m-%d').date() ]\n",
    "    except Exception as e:\n",
    "        print(e)\n",
    "        return None"
   ]
  },
  {
   "cell_type": "code",
   "execution_count": 1,
   "id": "a6f31885-399c-4eb9-9890-190bab1dcb0c",
   "metadata": {},
   "outputs": [
    {
     "name": "stdout",
     "output_type": "stream",
     "text": [
      "Download\n"
     ]
    }
   ],
   "source": [
    "import time\n",
    "import os\n",
    "\n",
    "stock = pd.read_csv(\"/data/stock_symbols.csv\")\n",
    "\n",
    "skip_counter = 0\n",
    "\n",
    "print(skip_counter)\n",
    "\n",
    "counter = 0\n",
    "\n",
    "df = fetch_data(\"LTIM.NS\")\n",
    "\n",
    "for ind in stock.index:\n",
    "    print(stock['Symbol_New'][ind])\n",
    "    counter = counter+1\n",
    "    if counter < skip_counter:\n",
    "        continue\n",
    "    df_tmp = fetch_data(stock['Symbol_New'][ind])\n",
    "    if df_tmp is not None:\n",
    "        df = pd.concat([df, df_tmp])\n",
    "    if counter % 5 == 0:\n",
    "        df.to_csv(\"/data/missing_stock_data.csv\", index=False)\n",
    "    print(counter)\n",
    "    time.sleep(10) \n",
    "    \n",
    "\n",
    "df.to_csv(\"/data/missing_stock_data.csv\", index=False)"
   ]
  },
  {
   "cell_type": "code",
   "execution_count": 2,
   "id": "e423507b-e417-4bc9-a08b-93111aa36f82",
   "metadata": {},
   "outputs": [],
   "source": [
    "mdf = pd.read_csv(\"/data/missing_stock_data.csv\")"
   ]
  },
  {
   "cell_type": "code",
   "execution_count": 4,
   "id": "b937db20-2337-4c31-b1d4-806364a405f1",
   "metadata": {},
   "outputs": [],
   "source": [
    "rdf = pd.read_csv(\"/data/raw_stock_indicator.csv\")"
   ]
  },
  {
   "cell_type": "code",
   "execution_count": 5,
   "id": "3e8c5623-76cf-4b31-acfe-3d3630931f98",
   "metadata": {},
   "outputs": [
    {
     "data": {
      "text/plain": [
       "Index(['Tax Effect Of Unusual Items', 'Tax Rate For Calcs',\n",
       "       'Normalized EBITDA', 'Total Unusual Items',\n",
       "       'Total Unusual Items Excluding Goodwill',\n",
       "       'Net Income From Continuing Operation Net Minority Interest',\n",
       "       'Reconciled Depreciation', 'Reconciled Cost Of Revenue', 'EBIT',\n",
       "       'Net Interest Income', 'Interest Expense', 'Normalized Income',\n",
       "       'Net Income From Continuing And Discontinued Operation',\n",
       "       'Total Expenses', 'Diluted Average Shares', 'Basic Average Shares',\n",
       "       'Diluted EPS', 'Basic EPS', 'Diluted NI Availto Com Stockholders',\n",
       "       'Net Income Common Stockholders', 'Otherunder Preferred Stock Dividend',\n",
       "       'Net Income', 'Minority Interests',\n",
       "       'Net Income Including Noncontrolling Interests',\n",
       "       'Net Income Continuous Operations', 'Tax Provision', 'Pretax Income',\n",
       "       'Other Non Operating Income Expenses', 'Special Income Charges',\n",
       "       'Restructuring And Mergern Acquisition',\n",
       "       'Net Non Operating Interest Income Expense',\n",
       "       'Interest Expense Non Operating', 'Operating Income',\n",
       "       'Operating Expense', 'Other Operating Expenses',\n",
       "       'Depreciation And Amortization In Income Statement',\n",
       "       'Depreciation Income Statement', 'Gross Profit', 'Cost Of Revenue',\n",
       "       'Total Revenue', 'Operating Revenue', 'FinancialDate', 'Year', 'Month',\n",
       "       'IsWeekend', 'FinancialDate_Adj', 'Open', 'High', 'Low', 'Close',\n",
       "       'Volume', 'Dividends', 'Stock Splits', 'Stock_Date', 'info_json',\n",
       "       'Adj Close', 'Interest Income', 'Interest Income Non Operating',\n",
       "       'Write Off', 'Selling General And Administration',\n",
       "       'General And Administrative Expense', 'Other Special Charges',\n",
       "       'Net Income Discontinuous Operations', 'Net Income Extraordinary',\n",
       "       'Impairment Of Capital Assets', 'Selling And Marketing Expense',\n",
       "       'Other Income Expense', 'Rent Expense Supplemental',\n",
       "       'Rent And Landing Fees', 'Research And Development',\n",
       "       'Total Operating Income As Reported', 'Capital Gains',\n",
       "       'Gain On Sale Of Security', 'Total Other Finance Cost',\n",
       "       'Gain On Sale Of Ppe', 'Earnings From Equity Interest',\n",
       "       'Depreciation Amortization Depletion Income Statement',\n",
       "       'Salaries And Wages', 'Average Dilution Earnings',\n",
       "       'Insurance And Claims', 'Amortization', 'Other Taxes', 'Other Gand A',\n",
       "       'Preferred Stock Dividends', 'Gain On Sale Of Business',\n",
       "       'Earnings From Equity Interest Net Of Tax'],\n",
       "      dtype='object')"
      ]
     },
     "execution_count": 5,
     "metadata": {},
     "output_type": "execute_result"
    }
   ],
   "source": [
    "rdf.columns"
   ]
  },
  {
   "cell_type": "code",
   "execution_count": 16,
   "id": "52cebf2b-1ec0-4fec-b188-17d24aec90d1",
   "metadata": {},
   "outputs": [],
   "source": [
    "rdf_b = rdf[rdf[\"Month\"] == 12]\n",
    "rdf_g = rdf[rdf[\"Month\"] != 12]"
   ]
  },
  {
   "cell_type": "code",
   "execution_count": null,
   "id": "b00249af-4131-4897-9143-649e8626b5e6",
   "metadata": {},
   "outputs": [],
   "source": [
    "rdf_g.count()"
   ]
  },
  {
   "cell_type": "code",
   "execution_count": null,
   "id": "9acc6fbb-fbef-4abd-af52-a02bad04b165",
   "metadata": {},
   "outputs": [],
   "source": []
  }
 ],
 "metadata": {
  "kernelspec": {
   "display_name": "Python 3",
   "language": "python",
   "name": "python3"
  },
  "language_info": {
   "codemirror_mode": {
    "name": "ipython",
    "version": 3
   },
   "file_extension": ".py",
   "mimetype": "text/x-python",
   "name": "python",
   "nbconvert_exporter": "python",
   "pygments_lexer": "ipython3",
   "version": "3.9.16"
  }
 },
 "nbformat": 4,
 "nbformat_minor": 5
}
