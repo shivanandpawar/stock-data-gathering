{
 "cells": [
  {
   "cell_type": "code",
   "execution_count": 1,
   "id": "90ea7c78-f22e-4590-8033-6ce5f4ed4922",
   "metadata": {},
   "outputs": [],
   "source": [
    "import pandas as pd\n",
    "import numpy as np\n",
    "import yfinance as yf\n",
    "from datetime import timedelta\n",
    "import json"
   ]
  },
  {
   "cell_type": "code",
   "execution_count": 45,
   "id": "c09871c0-7860-4149-8c2f-87f8c3fb2580",
   "metadata": {},
   "outputs": [],
   "source": [
    "def fetch_data(company_name):\n",
    "    try:        \n",
    "        msft = yf.Ticker(company_name)\n",
    "        from datetime import datetime\n",
    "\n",
    "        hist = msft.history(period=\"10mo\")\n",
    "        hist[\"Symbol_name\"]=company_name\n",
    "        hist[\"FinancialDate\"]=pd.to_datetime(hist.index, format='%y-%m-%d').date\n",
    "        return hist.loc[hist[\"FinancialDate\"] == datetime.strptime(\"2022-12-26\", '%Y-%m-%d').date() ]\n",
    "    except Exception as e:\n",
    "        print(e)\n",
    "        return None"
   ]
  },
  {
   "cell_type": "code",
   "execution_count": null,
   "id": "a6f31885-399c-4eb9-9890-190bab1dcb0c",
   "metadata": {},
   "outputs": [
    {
     "name": "stdout",
     "output_type": "stream",
     "text": [
      "0\n",
      "20MICRONS.NS\n",
      "1\n",
      "21STCENMGM.NS\n",
      "2\n",
      "3IINFOTECH.NS\n"
     ]
    },
    {
     "name": "stderr",
     "output_type": "stream",
     "text": [
      "3IINFOTECH.NS: No data found, symbol may be delisted\n"
     ]
    },
    {
     "name": "stdout",
     "output_type": "stream",
     "text": [
      "3\n",
      "3MINDIA.NS\n",
      "4\n",
      "3PLAND.NS\n",
      "5\n",
      "3RDROCK.NS\n",
      "6\n",
      "5PAISA.NS\n",
      "7\n",
      "63MOONS.NS\n",
      "8\n",
      "AMJUMBO.NS\n"
     ]
    },
    {
     "name": "stderr",
     "output_type": "stream",
     "text": [
      "AMJUMBO.NS: No data found, symbol may be delisted\n"
     ]
    },
    {
     "name": "stdout",
     "output_type": "stream",
     "text": [
      "9\n",
      "ABINFRA.NS\n"
     ]
    },
    {
     "name": "stderr",
     "output_type": "stream",
     "text": [
      "ABINFRA.NS: No data found, symbol may be delisted\n"
     ]
    },
    {
     "name": "stdout",
     "output_type": "stream",
     "text": [
      "10\n",
      "ABNINT.NS\n"
     ]
    },
    {
     "name": "stderr",
     "output_type": "stream",
     "text": [
      "ABNINT.NS: No data found, symbol may be delisted\n"
     ]
    },
    {
     "name": "stdout",
     "output_type": "stream",
     "text": [
      "11\n",
      "A2ZINFRA.NS\n",
      "12\n",
      "AAKASH.NS\n",
      "13\n",
      "AARON.NS\n",
      "14\n",
      "AARTIDRUGS.NS\n",
      "15\n",
      "AARTIIND.NS\n",
      "16\n",
      "AARVEEDEN.NS\n",
      "17\n",
      "AARVI.NS\n",
      "18\n",
      "AAVAS.NS\n",
      "19\n",
      "ABAN.NS\n",
      "20\n",
      "ABB.NS\n",
      "21\n",
      "POWERINDIA.NS\n",
      "22\n",
      "ABMINTLTD.NS\n"
     ]
    },
    {
     "name": "stderr",
     "output_type": "stream",
     "text": [
      "ABMINTLTD.NS: No data found, symbol may be delisted\n"
     ]
    },
    {
     "name": "stdout",
     "output_type": "stream",
     "text": [
      "23\n",
      "ACC.NS\n",
      "24\n",
      "ACCELYA.NS\n",
      "25\n",
      "ACCORD.NS\n"
     ]
    },
    {
     "name": "stderr",
     "output_type": "stream",
     "text": [
      "ACCORD.NS: No data found, symbol may be delisted\n"
     ]
    },
    {
     "name": "stdout",
     "output_type": "stream",
     "text": [
      "26\n",
      "ACCURACY.NS\n",
      "27\n",
      "ACEINTEG.NS\n",
      "28\n",
      "ACE.NS\n",
      "29\n",
      "ADANIENT.NS\n",
      "30\n",
      "ADANIGAS.NS\n"
     ]
    },
    {
     "name": "stderr",
     "output_type": "stream",
     "text": [
      "ADANIGAS.NS: No data found, symbol may be delisted\n"
     ]
    },
    {
     "name": "stdout",
     "output_type": "stream",
     "text": [
      "31\n",
      "ADANIGREEN.NS\n",
      "32\n",
      "ADANIPORTS.NS\n",
      "33\n",
      "ADANIPOWER.NS\n",
      "34\n",
      "ADANITRANS.NS\n",
      "35\n",
      "ADFFOODS.NS\n",
      "36\n",
      "ADHUNIKIND.NS\n"
     ]
    },
    {
     "name": "stderr",
     "output_type": "stream",
     "text": [
      "ADHUNIKIND.NS: No data found, symbol may be delisted\n"
     ]
    },
    {
     "name": "stdout",
     "output_type": "stream",
     "text": [
      "37\n",
      "ABCAPITAL.NS\n",
      "38\n",
      "ABFRL.NS\n",
      "39\n",
      "BIRLAMONEY.NS\n",
      "40\n",
      "ADLABS.NS\n"
     ]
    },
    {
     "name": "stderr",
     "output_type": "stream",
     "text": [
      "ADLABS.NS: No data found, symbol may be delisted\n"
     ]
    },
    {
     "name": "stdout",
     "output_type": "stream",
     "text": [
      "41\n",
      "ADORWELD.NS\n",
      "42\n",
      "ADROITINFO.NS\n",
      "43\n",
      "ADVENZYMES.NS\n",
      "44\n",
      "ADVANIHOTR.NS\n",
      "45\n",
      "AEGISCHEM.NS\n",
      "46\n",
      "AFFLE.NS\n",
      "47\n",
      "AGARIND.NS\n",
      "48\n",
      "AGCNET.NS\n"
     ]
    },
    {
     "name": "stderr",
     "output_type": "stream",
     "text": [
      "AGCNET.NS: No data found, symbol may be delisted\n"
     ]
    },
    {
     "name": "stdout",
     "output_type": "stream",
     "text": [
      "49\n",
      "AGRITECH.NS\n",
      "50\n",
      "AGROPHOS.NS\n",
      "51\n",
      "ATFL.NS\n",
      "52\n",
      "AHIMSA.NS\n"
     ]
    },
    {
     "name": "stderr",
     "output_type": "stream",
     "text": [
      "AHIMSA.NS: No data found, symbol may be delisted\n"
     ]
    },
    {
     "name": "stdout",
     "output_type": "stream",
     "text": [
      "53\n",
      "AHLADA.NS\n",
      "54\n",
      "AHLUCONT.NS\n",
      "55\n",
      "AIAENG.NS\n",
      "56\n",
      "AIRAN.NS\n",
      "57\n",
      "AIROLAM.NS\n",
      "58\n",
      "AJANTPHARM.NS\n",
      "59\n",
      "AJMERA.NS\n",
      "60\n",
      "AJOONI.NS\n",
      "61\n",
      "AKASH.NS\n",
      "62\n",
      "AKG.NS\n",
      "63\n",
      "AKSHOPTFBR.NS\n",
      "64\n",
      "AKSHARCHEM.NS\n",
      "65\n",
      "AKZOINDIA.NS\n",
      "66\n",
      "ALANKIT.NS\n",
      "67\n",
      "ALBERTDAVD.NS\n",
      "68\n",
      "ALCHEM.NS\n",
      "69\n",
      "ALEMBICLTD.NS\n",
      "70\n",
      "APLLTD.NS\n",
      "71\n",
      "ALICON.NS\n",
      "72\n",
      "ALKALI.NS\n",
      "73\n",
      "ALKEM.NS\n",
      "74\n",
      "ALKYLAMINE.NS\n",
      "75\n",
      "ALLCARGO.NS\n",
      "76\n",
      "ADSL.NS\n",
      "77\n",
      "ALLSEC.NS\n",
      "78\n",
      "ALMONDZ.NS\n",
      "79\n",
      "ALOKINDS.NS\n",
      "80\n",
      "ALPA.NS\n",
      "81\n",
      "ALPHAGEO.NS\n",
      "82\n",
      "ALPSINDUS.NS\n",
      "83\n",
      "AMARAJABAT.NS\n",
      "84\n",
      "AMBANIORG.NS\n"
     ]
    },
    {
     "name": "stderr",
     "output_type": "stream",
     "text": [
      "AMBANIORG.NS: No data found, symbol may be delisted\n"
     ]
    },
    {
     "name": "stdout",
     "output_type": "stream",
     "text": [
      "85\n",
      "AMBER.NS\n",
      "86\n",
      "AMBIKCO.NS\n",
      "87\n",
      "AMBUJACEM.NS\n",
      "88\n",
      "AMDIND.NS\n",
      "89\n",
      "ASIL.NS\n",
      "90\n",
      "AMJLAND.NS\n",
      "91\n",
      "AMRUTANJAN.NS\n",
      "92\n",
      "ANANTRAJ.NS\n",
      "93\n",
      "ANDHRACEMT.NS\n",
      "94\n",
      "ANDHRAPAP.NS\n",
      "95\n",
      "ANGELBRKG.NS\n"
     ]
    },
    {
     "name": "stderr",
     "output_type": "stream",
     "text": [
      "ANGELBRKG.NS: No data found, symbol may be delisted\n"
     ]
    },
    {
     "name": "stdout",
     "output_type": "stream",
     "text": [
      "96\n",
      "AISL.NS\n"
     ]
    },
    {
     "name": "stderr",
     "output_type": "stream",
     "text": [
      "AISL.NS: No data found, symbol may be delisted\n"
     ]
    },
    {
     "name": "stdout",
     "output_type": "stream",
     "text": [
      "97\n",
      "ANIKINDS.NS\n",
      "98\n",
      "APCL.NS\n",
      "99\n",
      "ANKITMETAL.NS\n",
      "100\n",
      "ANSALHSG.NS\n"
     ]
    },
    {
     "name": "stderr",
     "output_type": "stream",
     "text": [
      "ANSALHSG.NS: Period '10mo' is invalid, must be one of ['1d', '5d', '1mo', '3mo', '6mo', '1y', '2y', '5y', '10y', 'ytd', 'max']\n"
     ]
    },
    {
     "name": "stdout",
     "output_type": "stream",
     "text": [
      "101\n",
      "ANSALAPI.NS\n",
      "102\n",
      "APARINDS.NS\n",
      "103\n",
      "APCOTEXIND.NS\n",
      "104\n",
      "APEX.NS\n",
      "105\n",
      "APLAPOLLO.NS\n",
      "106\n",
      "APOLLOHOSP.NS\n",
      "107\n",
      "APOLLO.NS\n",
      "108\n",
      "APOLLOPIPE.NS\n",
      "109\n",
      "APOLSINHOT.NS\n",
      "110\n",
      "APOLLOTYRE.NS\n",
      "111\n",
      "APTECHT.NS\n",
      "112\n",
      "ARCHIDPLY.NS\n",
      "113\n",
      "ARCHIES.NS\n",
      "114\n",
      "ARCOTECH.NS\n",
      "115\n",
      "ARIES.NS\n",
      "116\n",
      "ARIHANT.NS\n",
      "117\n",
      "ARIHANTSUP.NS\n",
      "118\n",
      "ARMANFIN.NS\n",
      "119\n",
      "AROGRANITE.NS\n",
      "120\n",
      "ARROWGREEN.NS\n",
      "121\n",
      "ARSHIYA.NS\n",
      "122\n",
      "ARSSINFRA.NS\n",
      "123\n",
      "ARTNIRMAN.NS\n",
      "124\n",
      "ARTEDZ.NS\n"
     ]
    },
    {
     "name": "stderr",
     "output_type": "stream",
     "text": [
      "ARTEDZ.NS: No data found, symbol may be delisted\n"
     ]
    },
    {
     "name": "stdout",
     "output_type": "stream",
     "text": [
      "125\n",
      "ARTEMISMED.NS\n",
      "126\n",
      "ARVEE.NS\n",
      "127\n",
      "ARVINDFASN.NS\n",
      "128\n",
      "ARVIND.NS\n",
      "129\n",
      "ARVSMART.NS\n",
      "130\n",
      "ASAHIINDIA.NS\n",
      "131\n",
      "ASAHISONG.NS\n",
      "132\n",
      "ASCOM.NS\n"
     ]
    },
    {
     "name": "stderr",
     "output_type": "stream",
     "text": [
      "ASCOM.NS: No data found, symbol may be delisted\n"
     ]
    },
    {
     "name": "stdout",
     "output_type": "stream",
     "text": [
      "133\n",
      "ASHAPURMIN.NS\n",
      "134\n",
      "ASHIANA.NS\n",
      "135\n",
      "ASHIMASYN.NS\n",
      "136\n",
      "ASHOKLEY.NS\n",
      "137\n",
      "ASHOKA.NS\n",
      "138\n",
      "ASIANTILES.NS\n",
      "139\n",
      "AHLEAST.NS\n",
      "140\n",
      "ASIANHOTNR.NS\n",
      "141\n",
      "AHLWEST.NS\n",
      "142\n",
      "ASIANPAINT.NS\n",
      "143\n",
      "ASLIND.NS\n"
     ]
    },
    {
     "name": "stderr",
     "output_type": "stream",
     "text": [
      "ASLIND.NS: No data found, symbol may be delisted\n"
     ]
    },
    {
     "name": "stdout",
     "output_type": "stream",
     "text": [
      "144\n",
      "ASPINWALL.NS\n",
      "145\n",
      "ASALCBR.NS\n",
      "146\n",
      "ASTEC.NS\n",
      "147\n",
      "ASTERDM.NS\n",
      "148\n",
      "ASTRAMICRO.NS\n",
      "149\n",
      "ASTRAL.NS\n",
      "150\n",
      "ASTRAZEN.NS\n",
      "151\n",
      "ASTRON.NS\n",
      "152\n",
      "ATLANTA.NS\n",
      "153\n",
      "ATLASCYCLE.NS\n",
      "154\n",
      "ATNINTER.NS\n",
      "155\n",
      "ATULAUTO.NS\n",
      "156\n",
      "ATUL.NS\n",
      "157\n",
      "AUBANK.NS\n",
      "158\n",
      "AURDIS.NS\n"
     ]
    },
    {
     "name": "stderr",
     "output_type": "stream",
     "text": [
      "AURDIS.NS: No data found, symbol may be delisted\n"
     ]
    },
    {
     "name": "stdout",
     "output_type": "stream",
     "text": [
      "159\n",
      "Aurionpro.NS\n",
      "160\n",
      "AUROPHARMA.NS\n",
      "161\n",
      "AUSOMENT.NS\n",
      "162\n",
      "AUTOIND.NS\n",
      "163\n",
      "AUTOLITIND.NS\n",
      "164\n",
      "AUTOAXLES.NS\n",
      "165\n",
      "ASAL.NS\n",
      "166\n",
      "AVADHSUGAR.NS\n",
      "167\n",
      "AVANTIFEED.NS\n",
      "168\n",
      "AVENTUS.NS\n"
     ]
    },
    {
     "name": "stderr",
     "output_type": "stream",
     "text": [
      "AVENTUS.NS: No data found, symbol may be delisted\n"
     ]
    },
    {
     "name": "stdout",
     "output_type": "stream",
     "text": [
      "169\n",
      "DMART.NS\n",
      "170\n",
      "AVG.NS\n",
      "171\n",
      "AVROIND.NS\n",
      "172\n",
      "AVSL.NS\n"
     ]
    },
    {
     "name": "stderr",
     "output_type": "stream",
     "text": [
      "AVSL.NS: No data found, symbol may be delisted\n"
     ]
    },
    {
     "name": "stdout",
     "output_type": "stream",
     "text": [
      "173\n",
      "AVTNPL.NS\n",
      "174\n",
      "AXISBANK.NS\n",
      "175\n",
      "AXISCADES.NS\n",
      "176\n",
      "AYMSYNTEX.NS\n",
      "177\n",
      "BBTCL.NS\n",
      "178\n",
      "BLKASHYAP.NS\n",
      "179\n",
      "BAGFILMS.NS\n",
      "180\n",
      "BABAFOOD.NS\n"
     ]
    },
    {
     "name": "stderr",
     "output_type": "stream",
     "text": [
      "BABAFOOD.NS: No data found, symbol may be delisted\n"
     ]
    },
    {
     "name": "stdout",
     "output_type": "stream",
     "text": [
      "181\n",
      "BAFNAPH.NS\n",
      "182\n",
      "BAJAJ-AUTO.NS\n",
      "183\n",
      "BAJAJCON.NS\n",
      "184\n",
      "BAJAJELEC.NS\n",
      "185\n",
      "BAJFINANCE.NS\n",
      "186\n",
      "BAJAJFINSV.NS\n",
      "187\n",
      "BAJAJHIND.NS\n",
      "188\n",
      "BAJAJHLDNG.NS\n",
      "189\n",
      "BALPHARMA.NS\n",
      "190\n",
      "BALAMINES.NS\n",
      "191\n",
      "BALAJITELE.NS\n",
      "192\n",
      "BALAXI.NS\n",
      "193\n",
      "BALKRISIND.NS\n",
      "194\n",
      "BALKRISHNA.NS\n",
      "195\n",
      "BALLARPUR.NS\n",
      "196\n",
      "BALMLAWRIE.NS\n",
      "197\n",
      "BALRAMCHIN.NS\n",
      "198\n",
      "BANARBEADS.NS\n",
      "199\n",
      "BANCOINDIA.NS\n",
      "200\n",
      "BANDHANBNK.NS\n",
      "201\n",
      "BANG.NS\n",
      "202\n",
      "BANKBARODA.NS\n",
      "203\n",
      "BANKINDIA.NS\n",
      "204\n",
      "MAHABANK.NS\n",
      "205\n",
      "BANKA.NS\n",
      "206\n",
      "BASML.NS\n",
      "207\n",
      "BANARISUG.NS\n",
      "208\n",
      "BANSWRAS.NS\n",
      "209\n",
      "BVCL.NS\n",
      "210\n",
      "BARTRONICS.NS\n"
     ]
    },
    {
     "name": "stderr",
     "output_type": "stream",
     "text": [
      "BARTRONICS.NS: No data found, symbol may be delisted\n"
     ]
    },
    {
     "name": "stdout",
     "output_type": "stream",
     "text": [
      "211\n",
      "BASF.NS\n",
      "212\n",
      "BATAINDIA.NS\n",
      "213\n",
      "BDR.NS\n"
     ]
    },
    {
     "name": "stderr",
     "output_type": "stream",
     "text": [
      "BDR.NS: Period '10mo' is invalid, must be one of ['1mo', '3mo', '6mo', 'ytd', '1y', '2y', '5y', '10y', 'max']\n"
     ]
    },
    {
     "name": "stdout",
     "output_type": "stream",
     "text": [
      "214\n",
      "BEARDSELL.NS\n",
      "215\n",
      "BEDMUTHA.NS\n",
      "216\n",
      "BEML.NS\n",
      "217\n",
      "BERGEPAINT.NS\n",
      "218\n",
      "BETA.NS\n"
     ]
    },
    {
     "name": "stderr",
     "output_type": "stream",
     "text": [
      "BETA.NS: No data found, symbol may be delisted\n"
     ]
    },
    {
     "name": "stdout",
     "output_type": "stream",
     "text": [
      "219\n",
      "BFINVEST.NS\n",
      "220\n",
      "BFUTILITIE.NS\n",
      "221\n",
      "BGRENERGY.NS\n",
      "222\n",
      "BHAGERIA.NS\n",
      "223\n"
     ]
    }
   ],
   "source": [
    "import time\n",
    "import os\n",
    "\n",
    "stock = pd.read_csv(\"/data/stock_symbols.csv\")\n",
    "\n",
    "skip_counter = 0\n",
    "\n",
    "print(skip_counter)\n",
    "\n",
    "counter = 0\n",
    "\n",
    "df = fetch_data(\"LTIM.NS\")\n",
    "\n",
    "for ind in stock.index:\n",
    "    print(stock['Symbol_New'][ind])\n",
    "    counter = counter+1\n",
    "    if counter < skip_counter:\n",
    "        continue\n",
    "    df_tmp = fetch_data(stock['Symbol_New'][ind])\n",
    "    if df_tmp is not None:\n",
    "        df = pd.concat([df, df_tmp])\n",
    "    if counter % 5 == 0:\n",
    "        df.to_csv(\"/data/missing_stock_data.csv\", index=False)\n",
    "    print(counter)\n",
    "    time.sleep(10) \n",
    "    \n",
    "\n",
    "df.to_csv(\"/data/missing_stock_data.csv\", index=False)"
   ]
  },
  {
   "cell_type": "code",
   "execution_count": 46,
   "id": "e423507b-e417-4bc9-a08b-93111aa36f82",
   "metadata": {},
   "outputs": [],
   "source": [
    "df = fetch_data(\"LTIM.NS\")"
   ]
  },
  {
   "cell_type": "code",
   "execution_count": 47,
   "id": "b937db20-2337-4c31-b1d4-806364a405f1",
   "metadata": {},
   "outputs": [
    {
     "data": {
      "text/html": [
       "<div>\n",
       "<style scoped>\n",
       "    .dataframe tbody tr th:only-of-type {\n",
       "        vertical-align: middle;\n",
       "    }\n",
       "\n",
       "    .dataframe tbody tr th {\n",
       "        vertical-align: top;\n",
       "    }\n",
       "\n",
       "    .dataframe thead th {\n",
       "        text-align: right;\n",
       "    }\n",
       "</style>\n",
       "<table border=\"1\" class=\"dataframe\">\n",
       "  <thead>\n",
       "    <tr style=\"text-align: right;\">\n",
       "      <th></th>\n",
       "      <th>Open</th>\n",
       "      <th>High</th>\n",
       "      <th>Low</th>\n",
       "      <th>Close</th>\n",
       "      <th>Volume</th>\n",
       "      <th>Dividends</th>\n",
       "      <th>Stock Splits</th>\n",
       "      <th>Symbol_name</th>\n",
       "      <th>FinancialDate</th>\n",
       "    </tr>\n",
       "    <tr>\n",
       "      <th>Date</th>\n",
       "      <th></th>\n",
       "      <th></th>\n",
       "      <th></th>\n",
       "      <th></th>\n",
       "      <th></th>\n",
       "      <th></th>\n",
       "      <th></th>\n",
       "      <th></th>\n",
       "      <th></th>\n",
       "    </tr>\n",
       "  </thead>\n",
       "  <tbody>\n",
       "    <tr>\n",
       "      <th>2022-12-26 00:00:00+05:30</th>\n",
       "      <td>4189.535146</td>\n",
       "      <td>4281.418009</td>\n",
       "      <td>4171.443844</td>\n",
       "      <td>4276.010254</td>\n",
       "      <td>248624</td>\n",
       "      <td>0.0</td>\n",
       "      <td>0.0</td>\n",
       "      <td>LTIM.NS</td>\n",
       "      <td>2022-12-26</td>\n",
       "    </tr>\n",
       "  </tbody>\n",
       "</table>\n",
       "</div>"
      ],
      "text/plain": [
       "                                  Open         High          Low        Close  \\\n",
       "Date                                                                            \n",
       "2022-12-26 00:00:00+05:30  4189.535146  4281.418009  4171.443844  4276.010254   \n",
       "\n",
       "                           Volume  Dividends  Stock Splits Symbol_name  \\\n",
       "Date                                                                     \n",
       "2022-12-26 00:00:00+05:30  248624        0.0           0.0     LTIM.NS   \n",
       "\n",
       "                          FinancialDate  \n",
       "Date                                     \n",
       "2022-12-26 00:00:00+05:30    2022-12-26  "
      ]
     },
     "execution_count": 47,
     "metadata": {},
     "output_type": "execute_result"
    }
   ],
   "source": [
    "df"
   ]
  },
  {
   "cell_type": "code",
   "execution_count": 19,
   "id": "52cebf2b-1ec0-4fec-b188-17d24aec90d1",
   "metadata": {},
   "outputs": [],
   "source": []
  },
  {
   "cell_type": "code",
   "execution_count": 40,
   "id": "b00249af-4131-4897-9143-649e8626b5e6",
   "metadata": {},
   "outputs": [
    {
     "data": {
      "text/html": [
       "<div>\n",
       "<style scoped>\n",
       "    .dataframe tbody tr th:only-of-type {\n",
       "        vertical-align: middle;\n",
       "    }\n",
       "\n",
       "    .dataframe tbody tr th {\n",
       "        vertical-align: top;\n",
       "    }\n",
       "\n",
       "    .dataframe thead th {\n",
       "        text-align: right;\n",
       "    }\n",
       "</style>\n",
       "<table border=\"1\" class=\"dataframe\">\n",
       "  <thead>\n",
       "    <tr style=\"text-align: right;\">\n",
       "      <th></th>\n",
       "      <th>Open</th>\n",
       "      <th>High</th>\n",
       "      <th>Low</th>\n",
       "      <th>Close</th>\n",
       "      <th>Volume</th>\n",
       "      <th>Dividends</th>\n",
       "      <th>Stock Splits</th>\n",
       "      <th>FinancialDate</th>\n",
       "    </tr>\n",
       "    <tr>\n",
       "      <th>Date</th>\n",
       "      <th></th>\n",
       "      <th></th>\n",
       "      <th></th>\n",
       "      <th></th>\n",
       "      <th></th>\n",
       "      <th></th>\n",
       "      <th></th>\n",
       "      <th></th>\n",
       "    </tr>\n",
       "  </thead>\n",
       "  <tbody>\n",
       "    <tr>\n",
       "      <th>2022-12-26 00:00:00+05:30</th>\n",
       "      <td>82.441451</td>\n",
       "      <td>87.656121</td>\n",
       "      <td>80.703228</td>\n",
       "      <td>86.265541</td>\n",
       "      <td>141024</td>\n",
       "      <td>0.0</td>\n",
       "      <td>0.0</td>\n",
       "      <td>2022-12-26</td>\n",
       "    </tr>\n",
       "  </tbody>\n",
       "</table>\n",
       "</div>"
      ],
      "text/plain": [
       "                                Open       High        Low      Close  Volume  \\\n",
       "Date                                                                            \n",
       "2022-12-26 00:00:00+05:30  82.441451  87.656121  80.703228  86.265541  141024   \n",
       "\n",
       "                           Dividends  Stock Splits FinancialDate  \n",
       "Date                                                              \n",
       "2022-12-26 00:00:00+05:30        0.0           0.0    2022-12-26  "
      ]
     },
     "execution_count": 40,
     "metadata": {},
     "output_type": "execute_result"
    }
   ],
   "source": [
    "\n",
    "\n",
    "hist1 = hist.loc[hist[\"FinancialDate\"] == datetime.strptime(\"2022-12-26\", '%Y-%m-%d').date() ]\n",
    "\n",
    "hist1"
   ]
  },
  {
   "cell_type": "code",
   "execution_count": null,
   "id": "9acc6fbb-fbef-4abd-af52-a02bad04b165",
   "metadata": {},
   "outputs": [],
   "source": []
  }
 ],
 "metadata": {
  "kernelspec": {
   "display_name": "Python 3",
   "language": "python",
   "name": "python3"
  },
  "language_info": {
   "codemirror_mode": {
    "name": "ipython",
    "version": 3
   },
   "file_extension": ".py",
   "mimetype": "text/x-python",
   "name": "python",
   "nbconvert_exporter": "python",
   "pygments_lexer": "ipython3",
   "version": "3.9.16"
  }
 },
 "nbformat": 4,
 "nbformat_minor": 5
}
