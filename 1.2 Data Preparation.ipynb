{
 "cells": [
  {
   "cell_type": "code",
   "execution_count": 66,
   "id": "1463f714-49e4-4003-8cad-ab4de7839e4c",
   "metadata": {},
   "outputs": [],
   "source": [
    "import pandas as pd"
   ]
  },
  {
   "cell_type": "code",
   "execution_count": 67,
   "id": "f1004744-733c-48a2-b768-6e0a3c585a98",
   "metadata": {},
   "outputs": [],
   "source": [
    "df = pd.read_csv(\"/data/raw_stock_ind.csv\")"
   ]
  },
  {
   "cell_type": "code",
   "execution_count": 73,
   "id": "484dc85a-96bb-441c-aa2b-163ad7e7820f",
   "metadata": {},
   "outputs": [],
   "source": [
    "import json\n",
    "#df[\"info_json_cln\"] = df[\"info_json\"].str.replace(\"\\\"\", \" \")\n",
    "df[\"info_json_cln\"] = df[\"info_json_cln\"].str.replace(\"\\'\", \"\\\"\")\n",
    "df[\"info_json_cln\"] = df[\"info_json_cln\"].str.replace(\"None\", \"\\\"None\\\"\")"
   ]
  },
  {
   "cell_type": "code",
   "execution_count": 69,
   "id": "c237c312-b922-4e1f-a946-50f343eff061",
   "metadata": {},
   "outputs": [],
   "source": [
    "def json_parser(x):\n",
    "    try:\n",
    "        return json.loads(x)[\"symbol\"]\n",
    "    except:\n",
    "        #print(x)\n",
    "        return \"\""
   ]
  },
  {
   "cell_type": "code",
   "execution_count": 70,
   "id": "a1cac758-1ae3-4f18-bd2d-429a722d351f",
   "metadata": {},
   "outputs": [],
   "source": [
    "df[\"company_symbol\"] = df[\"info_json\"].map(lambda x: json_parser(x))  "
   ]
  },
  {
   "cell_type": "code",
   "execution_count": 71,
   "id": "7fe64a4f-8d90-4d6f-9a41-17cfe86afa67",
   "metadata": {},
   "outputs": [
    {
     "data": {
      "text/plain": [
       "''"
      ]
     },
     "execution_count": 71,
     "metadata": {},
     "output_type": "execute_result"
    }
   ],
   "source": [
    "df.loc[101].company_symbol"
   ]
  },
  {
   "cell_type": "code",
   "execution_count": 72,
   "id": "3a7ced90-c9e1-48a8-90d8-a8b244f7dc7f",
   "metadata": {},
   "outputs": [
    {
     "data": {
      "text/plain": [
       "'{\\'address1\\': \\'Plot No. B-38, Sector 32\\', \\'address2\\': \\'Institutional Area Jharsa Chowk\\', \\'city\\': \\'Gurugram\\', \\'zip\\': \\'122001\\', \\'country\\': \\'India\\', \\'phone\\': \\'91 12 4451 7600\\', \\'fax\\': \\'91 12 4438 0014\\', \\'website\\': \\'https://www.a2zgroup.co.in\\', \\'industry\\': \\'Engineering & Construction\\', \\'industryDisp\\': \\'Engineering & Construction\\', \\'sector\\': \\'Industrials\\', \\'sectorDisp\\': \\'Industrials\\', \\'longBusinessSummary\\': \"A2Z Infra Engineering Limited offers engineering, procurement, construction, and facility management services in India and internationally. The company operates through Engineering Services, Facility Management Services, Power Generation Projects, Municipal Solid Waste Management, and Others segments. It offers integrated design, testing, installation, construction, and commissioning services, as well as telecom infrastructure projects. The company\\'s activities include rural and railway electrification, reduction of AT&C losses, and feeder renovation and segregation; underground cabling; installation of high and low voltage distribution system; erection of distribution lines; renewable energy; construction of substations and transmission lines; and operation and maintenance of electric utilities. It also provides system integration of IT projects; and optical fiber cable NLD/access networking construction and maintenance, network integration, telecom infrastructure operation and maintenance, material planning and project management, radio frequency engineering, and engineering construction and infrastructure services. In addition, the company is involved in the collection, transportation, treatment, and disposal of solid waste generated in cities; trade of goods; rental of equipment; manufacture of electrical equipment; and provision of operation and maintenance services, etc. Further, it provides facility management services for corporate offices, malls, railways stations and coaches, airports, ports, other commercial establishments, monuments, and parks and beaches; operates sewage network and treatment plants, gas distribution networks, and metro projects; and offers power and renewable energy generation services. The company was formerly known as A2Z Maintenance & Engineering Services Limited and changed its name to A2Z Infra Engineering Limited in October 2014. A2Z Infra Engineering Limited was incorporated in 2002 and is based in Gurugram, India.\", \\'companyOfficers\\': [{\\'maxAge\\': 1, \\'name\\': \\'Colonel Guljeet Singh Saroya\\', \\'title\\': \\'Pres\\', \\'exercisedValue\\': 0, \\'unexercisedValue\\': 0}, {\\'maxAge\\': 1, \\'name\\': \\'Mr. Atul Kumar Agarwal\\', \\'age\\': 46, \\'title\\': \\'Company Sec., Compliance Officer & Pres of Corp. Affairs\\', \\'yearBorn\\': 1976, \\'exercisedValue\\': 0, \\'unexercisedValue\\': 0}, {\\'maxAge\\': 1, \\'name\\': \\'Mr. Amit  Mittal\\', \\'age\\': 54, \\'title\\': \\'Founder, MD, CEO & Exec. Director\\', \\'yearBorn\\': 1968, \\'fiscalYear\\': 2020, \\'totalPay\\': 0, \\'exercisedValue\\': 0, \\'unexercisedValue\\': 0}, {\\'maxAge\\': 1, \\'name\\': \\'Mr. Lalit  Kumar\\', \\'title\\': \\'Chief Financial Officer\\', \\'exercisedValue\\': 0, \\'unexercisedValue\\': 0}, {\\'maxAge\\': 1, \\'name\\': \\'Mr. Rajiv  Singh\\', \\'title\\': \\'Group Director of Corp. Fin. & Strategy\\', \\'exercisedValue\\': 0, \\'unexercisedValue\\': 0}, {\\'maxAge\\': 1, \\'name\\': \\'Mr. V. K. Ramesh\\', \\'age\\': 59, \\'title\\': \\'Sr. VP of Bus. Devel.\\', \\'yearBorn\\': 1963, \\'exercisedValue\\': 0, \\'unexercisedValue\\': 0}, {\\'maxAge\\': 1, \\'name\\': \\'Mr. Vaibhav  Seth\\', \\'title\\': \\'Pres of International Projects & Tendering\\', \\'exercisedValue\\': 0, \\'unexercisedValue\\': 0}], \\'compensationAsOfEpochDate\\': 1609372800, \\'maxAge\\': 86400, \\'priceHint\\': 2, \\'previousClose\\': 9.9, \\'open\\': 10.05, \\'dayLow\\': 9.6, \\'dayHigh\\': 10.35, \\'regularMarketPreviousClose\\': 9.9, \\'regularMarketOpen\\': 10.05, \\'regularMarketDayLow\\': 9.6, \\'regularMarketDayHigh\\': 10.35, \\'exDividendDate\\': 1316649600, \\'payoutRatio\\': 0.0, \\'beta\\': 0.761679, \\'volume\\': 1101365, \\'regularMarketVolume\\': 1101365, \\'averageVolume\\': 431886, \\'averageVolume10days\\': 670967, \\'averageDailyVolume10Day\\': 670967, \\'bid\\': 10.25, \\'ask\\': 10.3, \\'bidSize\\': 0, \\'askSize\\': 0, \\'marketCap\\': 1814036096, \\'fiftyTwoWeekLow\\': 5.1, \\'fiftyTwoWeekHigh\\': 13.5, \\'priceToSalesTrailing12Months\\': 0.49714112, \\'fiftyDayAverage\\': 7.374, \\'twoHundredDayAverage\\': 8.1625, \\'trailingAnnualDividendRate\\': 0.0, \\'trailingAnnualDividendYield\\': 0.0, \\'currency\\': \\'INR\\', \\'enterpriseValue\\': 4582694912, \\'profitMargins\\': -0.33161, \\'floatShares\\': 109838138, \\'sharesOutstanding\\': 176120000, \\'heldPercentInsiders\\': 0.36811, \\'heldPercentInstitutions\\': 0.0, \\'impliedSharesOutstanding\\': 176120000, \\'bookValue\\': 2.161, \\'priceToBook\\': 4.766312, \\'lastFiscalYearEnd\\': 1680220800, \\'nextFiscalYearEnd\\': 1711843200, \\'mostRecentQuarter\\': 1688083200, \\'netIncomeToCommon\\': -1210032000, \\'trailingEps\\': -7.21, \\'enterpriseToRevenue\\': 1.256, \\'enterpriseToEbitda\\': 17.753, \\'52WeekChange\\': -0.21739131, \\'SandP52WeekChange\\': 0.07853043, \\'lastDividendValue\\': 2.0, \\'lastDividendDate\\': 1316649600, \\'exchange\\': \\'NSI\\', \\'quoteType\\': \\'EQUITY\\', \\'symbol\\': \\'A2ZINFRA.NS\\', \\'underlyingSymbol\\': \\'A2ZINFRA.NS\\', \\'shortName\\': \\'A2Z INFRA ENGINEER\\', \\'longName\\': \\'A2Z Infra Engineering Limited\\', \\'firstTradeDateEpochUtc\\': 1293075900, \\'timeZoneFullName\\': \\'Asia/Kolkata\\', \\'timeZoneShortName\\': \\'IST\\', \\'uuid\\': \\'b72b4b76-89d8-3056-9318-ecf747a3f4c9\\', \\'messageBoardId\\': \\'finmb_36827660\\', \\'gmtOffSetMilliseconds\\': 19800000, \\'currentPrice\\': 10.3, \\'recommendationKey\\': \\'none\\', \\'totalCash\\': 120607000, \\'totalCashPerShare\\': 0.689, \\'ebitda\\': 258136000, \\'totalDebt\\': 3134351872, \\'totalRevenue\\': 3648935936, \\'debtToEquity\\': 1090.851, \\'revenuePerShare\\': 20.707, \\'operatingCashflow\\': 203356992, \\'revenueGrowth\\': 0.196, \\'grossMargins\\': 0.15449001, \\'ebitdaMargins\\': 0.07074, \\'operatingMargins\\': 0.04632, \\'financialCurrency\\': \\'INR\\', \\'trailingPegRatio\\': None}'"
      ]
     },
     "execution_count": 72,
     "metadata": {},
     "output_type": "execute_result"
    }
   ],
   "source": [
    "df[df[\"company_symbol\"]==''].info_json[34]"
   ]
  },
  {
   "cell_type": "code",
   "execution_count": null,
   "id": "02903cf8-5fec-42d0-ae72-0e77b7928f12",
   "metadata": {},
   "outputs": [],
   "source": []
  }
 ],
 "metadata": {
  "kernelspec": {
   "display_name": "Python 3",
   "language": "python",
   "name": "python3"
  },
  "language_info": {
   "codemirror_mode": {
    "name": "ipython",
    "version": 3
   },
   "file_extension": ".py",
   "mimetype": "text/x-python",
   "name": "python",
   "nbconvert_exporter": "python",
   "pygments_lexer": "ipython3",
   "version": "3.9.16"
  }
 },
 "nbformat": 4,
 "nbformat_minor": 5
}
