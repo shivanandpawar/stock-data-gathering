{
 "cells": [
  {
   "cell_type": "code",
   "execution_count": 3,
   "id": "1463f714-49e4-4003-8cad-ab4de7839e4c",
   "metadata": {},
   "outputs": [],
   "source": [
    "import pandas as pd\n",
    "import json"
   ]
  },
  {
   "cell_type": "code",
   "execution_count": 4,
   "id": "f1004744-733c-48a2-b768-6e0a3c585a98",
   "metadata": {},
   "outputs": [],
   "source": [
    "df = pd.read_csv(\"/data/raw_stock_indicator.csv\")"
   ]
  },
  {
   "cell_type": "code",
   "execution_count": 5,
   "id": "c237c312-b922-4e1f-a946-50f343eff061",
   "metadata": {},
   "outputs": [],
   "source": [
    "def json_parser(x):\n",
    "    try:\n",
    "        return json.loads(x)[\"symbol\"]\n",
    "    except Exception as e:\n",
    "        print(e)\n",
    "        return \"\""
   ]
  },
  {
   "cell_type": "code",
   "execution_count": 6,
   "id": "a1cac758-1ae3-4f18-bd2d-429a722d351f",
   "metadata": {},
   "outputs": [],
   "source": [
    "df[\"company_symbol\"] = df[\"info_json\"].map(lambda x: json_parser(x))  "
   ]
  },
  {
   "cell_type": "code",
   "execution_count": 7,
   "id": "3a7ced90-c9e1-48a8-90d8-a8b244f7dc7f",
   "metadata": {},
   "outputs": [
    {
     "data": {
      "text/plain": [
       "array(['LTIM.NS', '20MICRONS.NS', '21STCENMGM.NS', '3MINDIA.NS',\n",
       "       '3PLAND.NS', '5PAISA.NS', '63MOONS.NS', 'A2ZINFRA.NS', 'AAKASH.NS',\n",
       "       'AARON.NS', 'AARTIDRUGS.NS', 'AARTIIND.NS', 'AARVEEDEN.NS',\n",
       "       'AARVI.NS', 'AAVAS.NS', 'ABAN.NS', 'ABB.NS', 'POWERINDIA.NS',\n",
       "       'ACC.NS', 'ACCELYA.NS', 'ACCURACY.NS', 'ACEINTEG.NS', 'ACE.NS',\n",
       "       'ADANIENT.NS', 'ADANIGREEN.NS', 'ADANIPORTS.NS', 'ADANIPOWER.NS',\n",
       "       'ADANITRANS.NS', 'ADFFOODS.NS', 'ABCAPITAL.NS', 'ABFRL.NS',\n",
       "       'BIRLAMONEY.NS', 'ADORWELD.NS', 'ADROITINFO.NS', 'ADVENZYMES.NS',\n",
       "       'ADVANIHOTR.NS', 'AEGISCHEM.NS', 'AFFLE.NS', 'AGARIND.NS',\n",
       "       'AGRITECH.NS', 'AGROPHOS.NS', 'ATFL.NS', 'AHLADA.NS',\n",
       "       'AHLUCONT.NS'], dtype=object)"
      ]
     },
     "execution_count": 7,
     "metadata": {},
     "output_type": "execute_result"
    }
   ],
   "source": [
    "df[\"company_symbol\"].unique()"
   ]
  },
  {
   "cell_type": "code",
   "execution_count": 11,
   "id": "02903cf8-5fec-42d0-ae72-0e77b7928f12",
   "metadata": {},
   "outputs": [
    {
     "data": {
      "text/plain": [
       "Index(['Tax Effect Of Unusual Items', 'Tax Rate For Calcs',\n",
       "       'Normalized EBITDA', 'Total Unusual Items',\n",
       "       'Total Unusual Items Excluding Goodwill',\n",
       "       'Net Income From Continuing Operation Net Minority Interest',\n",
       "       'Reconciled Depreciation', 'Reconciled Cost Of Revenue', 'EBIT',\n",
       "       'Net Interest Income', 'Interest Expense', 'Normalized Income',\n",
       "       'Net Income From Continuing And Discontinued Operation',\n",
       "       'Total Expenses', 'Diluted Average Shares', 'Basic Average Shares',\n",
       "       'Diluted EPS', 'Basic EPS', 'Diluted NI Availto Com Stockholders',\n",
       "       'Net Income Common Stockholders', 'Otherunder Preferred Stock Dividend',\n",
       "       'Net Income', 'Minority Interests',\n",
       "       'Net Income Including Noncontrolling Interests',\n",
       "       'Net Income Continuous Operations', 'Tax Provision', 'Pretax Income',\n",
       "       'Other Non Operating Income Expenses', 'Special Income Charges',\n",
       "       'Restructuring And Mergern Acquisition',\n",
       "       'Net Non Operating Interest Income Expense',\n",
       "       'Interest Expense Non Operating', 'Operating Income',\n",
       "       'Operating Expense', 'Other Operating Expenses',\n",
       "       'Depreciation And Amortization In Income Statement',\n",
       "       'Depreciation Income Statement', 'Gross Profit', 'Cost Of Revenue',\n",
       "       'Total Revenue', 'Operating Revenue', 'FinancialDate', 'Year', 'Month',\n",
       "       'IsWeekend', 'FinancialDate_Adj', 'Open', 'High', 'Low', 'Close',\n",
       "       'Volume', 'Dividends', 'Stock Splits', 'Stock_Date', 'info_json',\n",
       "       'Adj Close', 'Interest Income', 'Interest Income Non Operating',\n",
       "       'Write Off', 'Selling General And Administration',\n",
       "       'General And Administrative Expense', 'Other Special Charges',\n",
       "       'Net Income Discontinuous Operations', 'Net Income Extraordinary',\n",
       "       'Impairment Of Capital Assets', 'Selling And Marketing Expense',\n",
       "       'Other Income Expense', 'Rent Expense Supplemental',\n",
       "       'Rent And Landing Fees', 'company_symbol'],\n",
       "      dtype='object')"
      ]
     },
     "execution_count": 11,
     "metadata": {},
     "output_type": "execute_result"
    }
   ],
   "source": [
    "df.columns"
   ]
  },
  {
   "cell_type": "code",
   "execution_count": 21,
   "id": "0eb373d8-2f13-42d0-842f-5ff855a343db",
   "metadata": {},
   "outputs": [],
   "source": [
    "cols = [\"Total Revenue\", \"Operating Revenue\", \"Gross Profit\", \"Year\", \"Month\", \"company_symbol\" ,\"company_symbol\", \"Open\", \"Volume\"]"
   ]
  },
  {
   "cell_type": "code",
   "execution_count": 16,
   "id": "28672cac-de35-4782-a78b-44b1691ce5c1",
   "metadata": {},
   "outputs": [
    {
     "data": {
      "text/html": [
       "<div>\n",
       "<style scoped>\n",
       "    .dataframe tbody tr th:only-of-type {\n",
       "        vertical-align: middle;\n",
       "    }\n",
       "\n",
       "    .dataframe tbody tr th {\n",
       "        vertical-align: top;\n",
       "    }\n",
       "\n",
       "    .dataframe thead th {\n",
       "        text-align: right;\n",
       "    }\n",
       "</style>\n",
       "<table border=\"1\" class=\"dataframe\">\n",
       "  <thead>\n",
       "    <tr style=\"text-align: right;\">\n",
       "      <th></th>\n",
       "      <th>Total Revenue</th>\n",
       "      <th>Operating Revenue</th>\n",
       "      <th>Gross Profit</th>\n",
       "      <th>Year</th>\n",
       "      <th>Month</th>\n",
       "      <th>company_symbol</th>\n",
       "      <th>company_symbol</th>\n",
       "      <th>Open</th>\n",
       "      <th>Volume</th>\n",
       "    </tr>\n",
       "  </thead>\n",
       "  <tbody>\n",
       "    <tr>\n",
       "      <th>0</th>\n",
       "      <td>8.702100e+10</td>\n",
       "      <td>8.702100e+10</td>\n",
       "      <td>3.103400e+10</td>\n",
       "      <td>2023</td>\n",
       "      <td>6</td>\n",
       "      <td>LTIM.NS</td>\n",
       "      <td>LTIM.NS</td>\n",
       "      <td>5084.918182</td>\n",
       "      <td>581634.0</td>\n",
       "    </tr>\n",
       "    <tr>\n",
       "      <th>1</th>\n",
       "      <td>8.691000e+10</td>\n",
       "      <td>8.691000e+10</td>\n",
       "      <td>3.110300e+10</td>\n",
       "      <td>2023</td>\n",
       "      <td>3</td>\n",
       "      <td>LTIM.NS</td>\n",
       "      <td>LTIM.NS</td>\n",
       "      <td>4603.711157</td>\n",
       "      <td>328337.0</td>\n",
       "    </tr>\n",
       "    <tr>\n",
       "      <th>2</th>\n",
       "      <td>8.620000e+10</td>\n",
       "      <td>8.620000e+10</td>\n",
       "      <td>3.147800e+10</td>\n",
       "      <td>2022</td>\n",
       "      <td>12</td>\n",
       "      <td>LTIM.NS</td>\n",
       "      <td>LTIM.NS</td>\n",
       "      <td>NaN</td>\n",
       "      <td>NaN</td>\n",
       "    </tr>\n",
       "    <tr>\n",
       "      <th>3</th>\n",
       "      <td>4.836700e+10</td>\n",
       "      <td>4.836700e+10</td>\n",
       "      <td>1.751800e+10</td>\n",
       "      <td>2022</td>\n",
       "      <td>9</td>\n",
       "      <td>LTIM.NS</td>\n",
       "      <td>LTIM.NS</td>\n",
       "      <td>4345.868216</td>\n",
       "      <td>410491.0</td>\n",
       "    </tr>\n",
       "    <tr>\n",
       "      <th>4</th>\n",
       "      <td>4.522800e+10</td>\n",
       "      <td>4.522800e+10</td>\n",
       "      <td>1.650500e+10</td>\n",
       "      <td>2022</td>\n",
       "      <td>6</td>\n",
       "      <td>LTIM.NS</td>\n",
       "      <td>LTIM.NS</td>\n",
       "      <td>4019.437045</td>\n",
       "      <td>374541.0</td>\n",
       "    </tr>\n",
       "    <tr>\n",
       "      <th>...</th>\n",
       "      <td>...</td>\n",
       "      <td>...</td>\n",
       "      <td>...</td>\n",
       "      <td>...</td>\n",
       "      <td>...</td>\n",
       "      <td>...</td>\n",
       "      <td>...</td>\n",
       "      <td>...</td>\n",
       "      <td>...</td>\n",
       "    </tr>\n",
       "    <tr>\n",
       "      <th>199</th>\n",
       "      <td>7.636123e+09</td>\n",
       "      <td>7.636123e+09</td>\n",
       "      <td>1.609054e+09</td>\n",
       "      <td>2023</td>\n",
       "      <td>6</td>\n",
       "      <td>AHLUCONT.NS</td>\n",
       "      <td>AHLUCONT.NS</td>\n",
       "      <td>613.000000</td>\n",
       "      <td>37669.0</td>\n",
       "    </tr>\n",
       "    <tr>\n",
       "      <th>200</th>\n",
       "      <td>8.630525e+09</td>\n",
       "      <td>8.630525e+09</td>\n",
       "      <td>1.800475e+09</td>\n",
       "      <td>2023</td>\n",
       "      <td>3</td>\n",
       "      <td>AHLUCONT.NS</td>\n",
       "      <td>AHLUCONT.NS</td>\n",
       "      <td>555.000000</td>\n",
       "      <td>129257.0</td>\n",
       "    </tr>\n",
       "    <tr>\n",
       "      <th>201</th>\n",
       "      <td>7.432501e+09</td>\n",
       "      <td>7.432501e+09</td>\n",
       "      <td>1.351223e+09</td>\n",
       "      <td>2022</td>\n",
       "      <td>12</td>\n",
       "      <td>AHLUCONT.NS</td>\n",
       "      <td>AHLUCONT.NS</td>\n",
       "      <td>NaN</td>\n",
       "      <td>NaN</td>\n",
       "    </tr>\n",
       "    <tr>\n",
       "      <th>202</th>\n",
       "      <td>6.228436e+09</td>\n",
       "      <td>6.228436e+09</td>\n",
       "      <td>1.179904e+09</td>\n",
       "      <td>2022</td>\n",
       "      <td>9</td>\n",
       "      <td>AHLUCONT.NS</td>\n",
       "      <td>AHLUCONT.NS</td>\n",
       "      <td>421.100006</td>\n",
       "      <td>13806.0</td>\n",
       "    </tr>\n",
       "    <tr>\n",
       "      <th>203</th>\n",
       "      <td>6.092471e+09</td>\n",
       "      <td>6.092471e+09</td>\n",
       "      <td>1.186364e+09</td>\n",
       "      <td>2022</td>\n",
       "      <td>6</td>\n",
       "      <td>AHLUCONT.NS</td>\n",
       "      <td>AHLUCONT.NS</td>\n",
       "      <td>423.470025</td>\n",
       "      <td>39312.0</td>\n",
       "    </tr>\n",
       "  </tbody>\n",
       "</table>\n",
       "<p>204 rows × 9 columns</p>\n",
       "</div>"
      ],
      "text/plain": [
       "     Total Revenue  Operating Revenue  Gross Profit  Year  Month  \\\n",
       "0     8.702100e+10       8.702100e+10  3.103400e+10  2023      6   \n",
       "1     8.691000e+10       8.691000e+10  3.110300e+10  2023      3   \n",
       "2     8.620000e+10       8.620000e+10  3.147800e+10  2022     12   \n",
       "3     4.836700e+10       4.836700e+10  1.751800e+10  2022      9   \n",
       "4     4.522800e+10       4.522800e+10  1.650500e+10  2022      6   \n",
       "..             ...                ...           ...   ...    ...   \n",
       "199   7.636123e+09       7.636123e+09  1.609054e+09  2023      6   \n",
       "200   8.630525e+09       8.630525e+09  1.800475e+09  2023      3   \n",
       "201   7.432501e+09       7.432501e+09  1.351223e+09  2022     12   \n",
       "202   6.228436e+09       6.228436e+09  1.179904e+09  2022      9   \n",
       "203   6.092471e+09       6.092471e+09  1.186364e+09  2022      6   \n",
       "\n",
       "    company_symbol company_symbol         Open    Volume  \n",
       "0          LTIM.NS        LTIM.NS  5084.918182  581634.0  \n",
       "1          LTIM.NS        LTIM.NS  4603.711157  328337.0  \n",
       "2          LTIM.NS        LTIM.NS          NaN       NaN  \n",
       "3          LTIM.NS        LTIM.NS  4345.868216  410491.0  \n",
       "4          LTIM.NS        LTIM.NS  4019.437045  374541.0  \n",
       "..             ...            ...          ...       ...  \n",
       "199    AHLUCONT.NS    AHLUCONT.NS   613.000000   37669.0  \n",
       "200    AHLUCONT.NS    AHLUCONT.NS   555.000000  129257.0  \n",
       "201    AHLUCONT.NS    AHLUCONT.NS          NaN       NaN  \n",
       "202    AHLUCONT.NS    AHLUCONT.NS   421.100006   13806.0  \n",
       "203    AHLUCONT.NS    AHLUCONT.NS   423.470025   39312.0  \n",
       "\n",
       "[204 rows x 9 columns]"
      ]
     },
     "execution_count": 23,
     "metadata": {},
     "output_type": "execute_result"
    }
   ],
   "source": [
    "df1 = df[cols]"
   ]
  },
  {
   "cell_type": "code",
   "execution_count": 20,
   "id": "0140792f-e072-4fe0-b3eb-df697682003e",
   "metadata": {},
   "outputs": [
    {
     "ename": "AttributeError",
     "evalue": "Can only use .str accessor with string values!",
     "output_type": "error",
     "traceback": [
      "\u001b[0;31m---------------------------------------------------------------------------\u001b[0m",
      "\u001b[0;31mAttributeError\u001b[0m                            Traceback (most recent call last)",
      "Cell \u001b[0;32mIn[20], line 1\u001b[0m\n\u001b[0;32m----> 1\u001b[0m df1[\u001b[38;5;124m\"\u001b[39m\u001b[38;5;124mtime_lag\u001b[39m\u001b[38;5;124m\"\u001b[39m] \u001b[38;5;241m=\u001b[39m \u001b[43mdf1\u001b[49m\u001b[38;5;241;43m.\u001b[39;49m\u001b[43mYear\u001b[49m\u001b[38;5;241;43m.\u001b[39;49m\u001b[43mstr\u001b[49m\u001b[38;5;241m.\u001b[39mcat(df1\u001b[38;5;241m.\u001b[39mMonth\u001b[38;5;241m.\u001b[39mstr)\n",
      "File \u001b[0;32m/packages/Jupyterlab-3.9/92b58fac-ba46-499a-8443-617f80fbf2d3/3.9/pandas/core/generic.py:5989\u001b[0m, in \u001b[0;36mNDFrame.__getattr__\u001b[0;34m(self, name)\u001b[0m\n\u001b[1;32m   5982\u001b[0m \u001b[38;5;28;01mif\u001b[39;00m (\n\u001b[1;32m   5983\u001b[0m     name \u001b[38;5;129;01mnot\u001b[39;00m \u001b[38;5;129;01min\u001b[39;00m \u001b[38;5;28mself\u001b[39m\u001b[38;5;241m.\u001b[39m_internal_names_set\n\u001b[1;32m   5984\u001b[0m     \u001b[38;5;129;01mand\u001b[39;00m name \u001b[38;5;129;01mnot\u001b[39;00m \u001b[38;5;129;01min\u001b[39;00m \u001b[38;5;28mself\u001b[39m\u001b[38;5;241m.\u001b[39m_metadata\n\u001b[1;32m   5985\u001b[0m     \u001b[38;5;129;01mand\u001b[39;00m name \u001b[38;5;129;01mnot\u001b[39;00m \u001b[38;5;129;01min\u001b[39;00m \u001b[38;5;28mself\u001b[39m\u001b[38;5;241m.\u001b[39m_accessors\n\u001b[1;32m   5986\u001b[0m     \u001b[38;5;129;01mand\u001b[39;00m \u001b[38;5;28mself\u001b[39m\u001b[38;5;241m.\u001b[39m_info_axis\u001b[38;5;241m.\u001b[39m_can_hold_identifiers_and_holds_name(name)\n\u001b[1;32m   5987\u001b[0m ):\n\u001b[1;32m   5988\u001b[0m     \u001b[38;5;28;01mreturn\u001b[39;00m \u001b[38;5;28mself\u001b[39m[name]\n\u001b[0;32m-> 5989\u001b[0m \u001b[38;5;28;01mreturn\u001b[39;00m \u001b[38;5;28;43mobject\u001b[39;49m\u001b[38;5;241;43m.\u001b[39;49m\u001b[38;5;21;43m__getattribute__\u001b[39;49m\u001b[43m(\u001b[49m\u001b[38;5;28;43mself\u001b[39;49m\u001b[43m,\u001b[49m\u001b[43m \u001b[49m\u001b[43mname\u001b[49m\u001b[43m)\u001b[49m\n",
      "File \u001b[0;32m/packages/Jupyterlab-3.9/92b58fac-ba46-499a-8443-617f80fbf2d3/3.9/pandas/core/accessor.py:224\u001b[0m, in \u001b[0;36mCachedAccessor.__get__\u001b[0;34m(self, obj, cls)\u001b[0m\n\u001b[1;32m    221\u001b[0m \u001b[38;5;28;01mif\u001b[39;00m obj \u001b[38;5;129;01mis\u001b[39;00m \u001b[38;5;28;01mNone\u001b[39;00m:\n\u001b[1;32m    222\u001b[0m     \u001b[38;5;66;03m# we're accessing the attribute of the class, i.e., Dataset.geo\u001b[39;00m\n\u001b[1;32m    223\u001b[0m     \u001b[38;5;28;01mreturn\u001b[39;00m \u001b[38;5;28mself\u001b[39m\u001b[38;5;241m.\u001b[39m_accessor\n\u001b[0;32m--> 224\u001b[0m accessor_obj \u001b[38;5;241m=\u001b[39m \u001b[38;5;28;43mself\u001b[39;49m\u001b[38;5;241;43m.\u001b[39;49m\u001b[43m_accessor\u001b[49m\u001b[43m(\u001b[49m\u001b[43mobj\u001b[49m\u001b[43m)\u001b[49m\n\u001b[1;32m    225\u001b[0m \u001b[38;5;66;03m# Replace the property with the accessor object. Inspired by:\u001b[39;00m\n\u001b[1;32m    226\u001b[0m \u001b[38;5;66;03m# https://www.pydanny.com/cached-property.html\u001b[39;00m\n\u001b[1;32m    227\u001b[0m \u001b[38;5;66;03m# We need to use object.__setattr__ because we overwrite __setattr__ on\u001b[39;00m\n\u001b[1;32m    228\u001b[0m \u001b[38;5;66;03m# NDFrame\u001b[39;00m\n\u001b[1;32m    229\u001b[0m \u001b[38;5;28mobject\u001b[39m\u001b[38;5;241m.\u001b[39m\u001b[38;5;21m__setattr__\u001b[39m(obj, \u001b[38;5;28mself\u001b[39m\u001b[38;5;241m.\u001b[39m_name, accessor_obj)\n",
      "File \u001b[0;32m/packages/Jupyterlab-3.9/92b58fac-ba46-499a-8443-617f80fbf2d3/3.9/pandas/core/strings/accessor.py:181\u001b[0m, in \u001b[0;36mStringMethods.__init__\u001b[0;34m(self, data)\u001b[0m\n\u001b[1;32m    178\u001b[0m \u001b[38;5;28;01mdef\u001b[39;00m \u001b[38;5;21m__init__\u001b[39m(\u001b[38;5;28mself\u001b[39m, data) \u001b[38;5;241m-\u001b[39m\u001b[38;5;241m>\u001b[39m \u001b[38;5;28;01mNone\u001b[39;00m:\n\u001b[1;32m    179\u001b[0m     \u001b[38;5;28;01mfrom\u001b[39;00m \u001b[38;5;21;01mpandas\u001b[39;00m\u001b[38;5;21;01m.\u001b[39;00m\u001b[38;5;21;01mcore\u001b[39;00m\u001b[38;5;21;01m.\u001b[39;00m\u001b[38;5;21;01marrays\u001b[39;00m\u001b[38;5;21;01m.\u001b[39;00m\u001b[38;5;21;01mstring_\u001b[39;00m \u001b[38;5;28;01mimport\u001b[39;00m StringDtype\n\u001b[0;32m--> 181\u001b[0m     \u001b[38;5;28mself\u001b[39m\u001b[38;5;241m.\u001b[39m_inferred_dtype \u001b[38;5;241m=\u001b[39m \u001b[38;5;28;43mself\u001b[39;49m\u001b[38;5;241;43m.\u001b[39;49m\u001b[43m_validate\u001b[49m\u001b[43m(\u001b[49m\u001b[43mdata\u001b[49m\u001b[43m)\u001b[49m\n\u001b[1;32m    182\u001b[0m     \u001b[38;5;28mself\u001b[39m\u001b[38;5;241m.\u001b[39m_is_categorical \u001b[38;5;241m=\u001b[39m is_categorical_dtype(data\u001b[38;5;241m.\u001b[39mdtype)\n\u001b[1;32m    183\u001b[0m     \u001b[38;5;28mself\u001b[39m\u001b[38;5;241m.\u001b[39m_is_string \u001b[38;5;241m=\u001b[39m \u001b[38;5;28misinstance\u001b[39m(data\u001b[38;5;241m.\u001b[39mdtype, StringDtype)\n",
      "File \u001b[0;32m/packages/Jupyterlab-3.9/92b58fac-ba46-499a-8443-617f80fbf2d3/3.9/pandas/core/strings/accessor.py:235\u001b[0m, in \u001b[0;36mStringMethods._validate\u001b[0;34m(data)\u001b[0m\n\u001b[1;32m    232\u001b[0m inferred_dtype \u001b[38;5;241m=\u001b[39m lib\u001b[38;5;241m.\u001b[39minfer_dtype(values, skipna\u001b[38;5;241m=\u001b[39m\u001b[38;5;28;01mTrue\u001b[39;00m)\n\u001b[1;32m    234\u001b[0m \u001b[38;5;28;01mif\u001b[39;00m inferred_dtype \u001b[38;5;129;01mnot\u001b[39;00m \u001b[38;5;129;01min\u001b[39;00m allowed_types:\n\u001b[0;32m--> 235\u001b[0m     \u001b[38;5;28;01mraise\u001b[39;00m \u001b[38;5;167;01mAttributeError\u001b[39;00m(\u001b[38;5;124m\"\u001b[39m\u001b[38;5;124mCan only use .str accessor with string values!\u001b[39m\u001b[38;5;124m\"\u001b[39m)\n\u001b[1;32m    236\u001b[0m \u001b[38;5;28;01mreturn\u001b[39;00m inferred_dtype\n",
      "\u001b[0;31mAttributeError\u001b[0m: Can only use .str accessor with string values!"
     ]
    }
   ],
   "source": [
    "df1[\"time_lag\"] = df1.Year.str.cat(df1.Month.str)"
   ]
  },
  {
   "cell_type": "code",
   "execution_count": null,
   "id": "394b75f4-5b62-46dc-9ffd-a19dc7a983d3",
   "metadata": {},
   "outputs": [],
   "source": []
  }
 ],
 "metadata": {
  "kernelspec": {
   "display_name": "Python 3",
   "language": "python",
   "name": "python3"
  },
  "language_info": {
   "codemirror_mode": {
    "name": "ipython",
    "version": 3
   },
   "file_extension": ".py",
   "mimetype": "text/x-python",
   "name": "python",
   "nbconvert_exporter": "python",
   "pygments_lexer": "ipython3",
   "version": "3.9.16"
  }
 },
 "nbformat": 4,
 "nbformat_minor": 5
}
