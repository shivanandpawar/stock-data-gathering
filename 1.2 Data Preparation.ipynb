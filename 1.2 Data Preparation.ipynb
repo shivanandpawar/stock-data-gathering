{
 "cells": [
  {
   "cell_type": "code",
   "execution_count": 3,
   "id": "1463f714-49e4-4003-8cad-ab4de7839e4c",
   "metadata": {},
   "outputs": [],
   "source": [
    "import pandas as pd\n",
    "import json"
   ]
  },
  {
   "cell_type": "code",
   "execution_count": 4,
   "id": "f1004744-733c-48a2-b768-6e0a3c585a98",
   "metadata": {},
   "outputs": [],
   "source": [
    "df = pd.read_csv(\"/data/raw_stock_indicator.csv\")"
   ]
  },
  {
   "cell_type": "code",
   "execution_count": 5,
   "id": "c237c312-b922-4e1f-a946-50f343eff061",
   "metadata": {},
   "outputs": [],
   "source": [
    "def json_parser(x):\n",
    "    try:\n",
    "        return json.loads(x)[\"symbol\"]\n",
    "    except Exception as e:\n",
    "        print(e)\n",
    "        return \"\""
   ]
  },
  {
   "cell_type": "code",
   "execution_count": 6,
   "id": "a1cac758-1ae3-4f18-bd2d-429a722d351f",
   "metadata": {},
   "outputs": [],
   "source": [
    "df[\"company_symbol\"] = df[\"info_json\"].map(lambda x: json_parser(x))  "
   ]
  },
  {
   "cell_type": "code",
   "execution_count": 7,
   "id": "3a7ced90-c9e1-48a8-90d8-a8b244f7dc7f",
   "metadata": {},
   "outputs": [
    {
     "data": {
      "text/plain": [
       "array(['LTIM.NS', '20MICRONS.NS', '21STCENMGM.NS', '3MINDIA.NS',\n",
       "       '3PLAND.NS', '5PAISA.NS', '63MOONS.NS', 'A2ZINFRA.NS', 'AAKASH.NS',\n",
       "       'AARON.NS', 'AARTIDRUGS.NS', 'AARTIIND.NS', 'AARVEEDEN.NS',\n",
       "       'AARVI.NS', 'AAVAS.NS', 'ABAN.NS', 'ABB.NS', 'POWERINDIA.NS',\n",
       "       'ACC.NS', 'ACCELYA.NS', 'ACCURACY.NS', 'ACEINTEG.NS', 'ACE.NS',\n",
       "       'ADANIENT.NS', 'ADANIGREEN.NS', 'ADANIPORTS.NS', 'ADANIPOWER.NS',\n",
       "       'ADANITRANS.NS', 'ADFFOODS.NS', 'ABCAPITAL.NS', 'ABFRL.NS',\n",
       "       'BIRLAMONEY.NS', 'ADORWELD.NS', 'ADROITINFO.NS', 'ADVENZYMES.NS',\n",
       "       'ADVANIHOTR.NS', 'AEGISCHEM.NS', 'AFFLE.NS', 'AGARIND.NS',\n",
       "       'AGRITECH.NS', 'AGROPHOS.NS', 'ATFL.NS', 'AHLADA.NS',\n",
       "       'AHLUCONT.NS'], dtype=object)"
      ]
     },
     "execution_count": 7,
     "metadata": {},
     "output_type": "execute_result"
    }
   ],
   "source": [
    "df[\"company_symbol\"].unique()"
   ]
  },
  {
   "cell_type": "code",
   "execution_count": 9,
   "id": "02903cf8-5fec-42d0-ae72-0e77b7928f12",
   "metadata": {},
   "outputs": [
    {
     "data": {
      "text/plain": [
       "Tax Effect Of Unusual Items               float64\n",
       "Tax Rate For Calcs                        float64\n",
       "Normalized EBITDA                         float64\n",
       "Total Unusual Items                       float64\n",
       "Total Unusual Items Excluding Goodwill    float64\n",
       "                                           ...   \n",
       "Selling And Marketing Expense             float64\n",
       "Other Income Expense                      float64\n",
       "Rent Expense Supplemental                 float64\n",
       "Rent And Landing Fees                     float64\n",
       "company_symbol                             object\n",
       "Length: 70, dtype: object"
      ]
     },
     "execution_count": 9,
     "metadata": {},
     "output_type": "execute_result"
    }
   ],
   "source": [
    "df.cols"
   ]
  },
  {
   "cell_type": "code",
   "execution_count": null,
   "id": "0eb373d8-2f13-42d0-842f-5ff855a343db",
   "metadata": {},
   "outputs": [],
   "source": []
  }
 ],
 "metadata": {
  "kernelspec": {
   "display_name": "Python 3",
   "language": "python",
   "name": "python3"
  },
  "language_info": {
   "codemirror_mode": {
    "name": "ipython",
    "version": 3
   },
   "file_extension": ".py",
   "mimetype": "text/x-python",
   "name": "python",
   "nbconvert_exporter": "python",
   "pygments_lexer": "ipython3",
   "version": "3.9.16"
  }
 },
 "nbformat": 4,
 "nbformat_minor": 5
}
