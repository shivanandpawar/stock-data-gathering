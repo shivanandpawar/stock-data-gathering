{
 "cells": [
  {
   "cell_type": "code",
   "execution_count": 110,
   "id": "1463f714-49e4-4003-8cad-ab4de7839e4c",
   "metadata": {},
   "outputs": [],
   "source": [
    "import pandas as pd"
   ]
  },
  {
   "cell_type": "code",
   "execution_count": 105,
   "id": "f1004744-733c-48a2-b768-6e0a3c585a98",
   "metadata": {},
   "outputs": [],
   "source": [
    "df = pd.read_csv(\"/data/raw_stock_ind.csv\")"
   ]
  },
  {
   "cell_type": "code",
   "execution_count": 106,
   "id": "484dc85a-96bb-441c-aa2b-163ad7e7820f",
   "metadata": {},
   "outputs": [],
   "source": [
    "#import json\n",
    "#df[\"info_json_cln\"] = df[\"info_json\"].str.replace(\"\\\"\", \" \")\n",
    "#df[\"info_json_cln\"] = df[\"info_json_cln\"].str.replace(\"\\'\", \"\\\"\")\n",
    "#df[\"info_json_cln\"] = df[\"info_json_cln\"].str.replace(\"None\", \"\\\"None\\\"\")"
   ]
  },
  {
   "cell_type": "code",
   "execution_count": 107,
   "id": "c237c312-b922-4e1f-a946-50f343eff061",
   "metadata": {},
   "outputs": [],
   "source": [
    "def json_parser(x):\n",
    "    try:\n",
    "        return json.loads(x)[\"symbol\"]\n",
    "    except:\n",
    "        #print(x)\n",
    "        return \"\""
   ]
  },
  {
   "cell_type": "code",
   "execution_count": 108,
   "id": "a1cac758-1ae3-4f18-bd2d-429a722d351f",
   "metadata": {},
   "outputs": [],
   "source": [
    "df[\"company_symbol\"] = df[\"info_json\"].map(lambda x: json_parser(x))  "
   ]
  },
  {
   "cell_type": "code",
   "execution_count": 109,
   "id": "3a7ced90-c9e1-48a8-90d8-a8b244f7dc7f",
   "metadata": {},
   "outputs": [
    {
     "data": {
      "text/plain": [
       "array([], dtype=object)"
      ]
     },
     "execution_count": 109,
     "metadata": {},
     "output_type": "execute_result"
    }
   ],
   "source": [
    "df[\"company_symbol\"].unique()"
   ]
  },
  {
   "cell_type": "code",
   "execution_count": null,
   "id": "02903cf8-5fec-42d0-ae72-0e77b7928f12",
   "metadata": {},
   "outputs": [],
   "source": []
  }
 ],
 "metadata": {
  "kernelspec": {
   "display_name": "Python 3",
   "language": "python",
   "name": "python3"
  },
  "language_info": {
   "codemirror_mode": {
    "name": "ipython",
    "version": 3
   },
   "file_extension": ".py",
   "mimetype": "text/x-python",
   "name": "python",
   "nbconvert_exporter": "python",
   "pygments_lexer": "ipython3",
   "version": "3.9.16"
  }
 },
 "nbformat": 4,
 "nbformat_minor": 5
}
