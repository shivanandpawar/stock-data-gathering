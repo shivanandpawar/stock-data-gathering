{
 "cells": [
  {
   "cell_type": "code",
   "execution_count": 60,
   "id": "1463f714-49e4-4003-8cad-ab4de7839e4c",
   "metadata": {},
   "outputs": [],
   "source": [
    "import pandas as pd"
   ]
  },
  {
   "cell_type": "code",
   "execution_count": 61,
   "id": "f1004744-733c-48a2-b768-6e0a3c585a98",
   "metadata": {},
   "outputs": [],
   "source": [
    "df = pd.read_csv(\"/data/raw_stock_ind.csv\")"
   ]
  },
  {
   "cell_type": "code",
   "execution_count": 62,
   "id": "484dc85a-96bb-441c-aa2b-163ad7e7820f",
   "metadata": {},
   "outputs": [],
   "source": [
    "import json\n",
    "df[\"info_json\"] = df[\"info_json\"].str.replace(\"\\'\", \"\\\"\")\n",
    "df[\"info_json\"] = df[\"info_json\"].replace(\"None\", \"\\\"None\\\"\")\n",
    "#pd.json_normalize(df.head(1).info_json[0])"
   ]
  },
  {
   "cell_type": "code",
   "execution_count": 58,
   "id": "a1cac758-1ae3-4f18-bd2d-429a722d351f",
   "metadata": {},
   "outputs": [
    {
     "ename": "JSONDecodeError",
     "evalue": "Expecting ',' delimiter: line 1 column 6176 (char 6175)",
     "output_type": "error",
     "traceback": [
      "\u001b[0;31m---------------------------------------------------------------------------\u001b[0m",
      "\u001b[0;31mJSONDecodeError\u001b[0m                           Traceback (most recent call last)",
      "Cell \u001b[0;32mIn[58], line 4\u001b[0m\n\u001b[1;32m      1\u001b[0m string \u001b[38;5;241m=\u001b[39m string\u001b[38;5;241m.\u001b[39mreplace(\u001b[38;5;124m\"\u001b[39m\u001b[38;5;130;01m\\'\u001b[39;00m\u001b[38;5;124m\"\u001b[39m, \u001b[38;5;124m\"\u001b[39m\u001b[38;5;130;01m\\\"\u001b[39;00m\u001b[38;5;124m\"\u001b[39m)\n\u001b[1;32m      2\u001b[0m string \u001b[38;5;241m=\u001b[39m string\u001b[38;5;241m.\u001b[39mreplace(\u001b[38;5;124m\"\u001b[39m\u001b[38;5;124mNone\u001b[39m\u001b[38;5;124m\"\u001b[39m, \u001b[38;5;124m\"\u001b[39m\u001b[38;5;130;01m\\\"\u001b[39;00m\u001b[38;5;124mNone\u001b[39m\u001b[38;5;130;01m\\\"\u001b[39;00m\u001b[38;5;124m\"\u001b[39m)\n\u001b[0;32m----> 4\u001b[0m student_details \u001b[38;5;241m=\u001b[39m \u001b[43mjson\u001b[49m\u001b[38;5;241;43m.\u001b[39;49m\u001b[43mloads\u001b[49m\u001b[43m(\u001b[49m\u001b[43mstring\u001b[49m\u001b[43m)\u001b[49m\n",
      "File \u001b[0;32m/opt/conda/lib/python3.9/json/__init__.py:346\u001b[0m, in \u001b[0;36mloads\u001b[0;34m(s, cls, object_hook, parse_float, parse_int, parse_constant, object_pairs_hook, **kw)\u001b[0m\n\u001b[1;32m    341\u001b[0m     s \u001b[38;5;241m=\u001b[39m s\u001b[38;5;241m.\u001b[39mdecode(detect_encoding(s), \u001b[38;5;124m'\u001b[39m\u001b[38;5;124msurrogatepass\u001b[39m\u001b[38;5;124m'\u001b[39m)\n\u001b[1;32m    343\u001b[0m \u001b[38;5;28;01mif\u001b[39;00m (\u001b[38;5;28mcls\u001b[39m \u001b[38;5;129;01mis\u001b[39;00m \u001b[38;5;28;01mNone\u001b[39;00m \u001b[38;5;129;01mand\u001b[39;00m object_hook \u001b[38;5;129;01mis\u001b[39;00m \u001b[38;5;28;01mNone\u001b[39;00m \u001b[38;5;129;01mand\u001b[39;00m\n\u001b[1;32m    344\u001b[0m         parse_int \u001b[38;5;129;01mis\u001b[39;00m \u001b[38;5;28;01mNone\u001b[39;00m \u001b[38;5;129;01mand\u001b[39;00m parse_float \u001b[38;5;129;01mis\u001b[39;00m \u001b[38;5;28;01mNone\u001b[39;00m \u001b[38;5;129;01mand\u001b[39;00m\n\u001b[1;32m    345\u001b[0m         parse_constant \u001b[38;5;129;01mis\u001b[39;00m \u001b[38;5;28;01mNone\u001b[39;00m \u001b[38;5;129;01mand\u001b[39;00m object_pairs_hook \u001b[38;5;129;01mis\u001b[39;00m \u001b[38;5;28;01mNone\u001b[39;00m \u001b[38;5;129;01mand\u001b[39;00m \u001b[38;5;129;01mnot\u001b[39;00m kw):\n\u001b[0;32m--> 346\u001b[0m     \u001b[38;5;28;01mreturn\u001b[39;00m \u001b[43m_default_decoder\u001b[49m\u001b[38;5;241;43m.\u001b[39;49m\u001b[43mdecode\u001b[49m\u001b[43m(\u001b[49m\u001b[43ms\u001b[49m\u001b[43m)\u001b[49m\n\u001b[1;32m    347\u001b[0m \u001b[38;5;28;01mif\u001b[39;00m \u001b[38;5;28mcls\u001b[39m \u001b[38;5;129;01mis\u001b[39;00m \u001b[38;5;28;01mNone\u001b[39;00m:\n\u001b[1;32m    348\u001b[0m     \u001b[38;5;28mcls\u001b[39m \u001b[38;5;241m=\u001b[39m JSONDecoder\n",
      "File \u001b[0;32m/opt/conda/lib/python3.9/json/decoder.py:337\u001b[0m, in \u001b[0;36mJSONDecoder.decode\u001b[0;34m(self, s, _w)\u001b[0m\n\u001b[1;32m    332\u001b[0m \u001b[38;5;28;01mdef\u001b[39;00m \u001b[38;5;21mdecode\u001b[39m(\u001b[38;5;28mself\u001b[39m, s, _w\u001b[38;5;241m=\u001b[39mWHITESPACE\u001b[38;5;241m.\u001b[39mmatch):\n\u001b[1;32m    333\u001b[0m \u001b[38;5;250m    \u001b[39m\u001b[38;5;124;03m\"\"\"Return the Python representation of ``s`` (a ``str`` instance\u001b[39;00m\n\u001b[1;32m    334\u001b[0m \u001b[38;5;124;03m    containing a JSON document).\u001b[39;00m\n\u001b[1;32m    335\u001b[0m \n\u001b[1;32m    336\u001b[0m \u001b[38;5;124;03m    \"\"\"\u001b[39;00m\n\u001b[0;32m--> 337\u001b[0m     obj, end \u001b[38;5;241m=\u001b[39m \u001b[38;5;28;43mself\u001b[39;49m\u001b[38;5;241;43m.\u001b[39;49m\u001b[43mraw_decode\u001b[49m\u001b[43m(\u001b[49m\u001b[43ms\u001b[49m\u001b[43m,\u001b[49m\u001b[43m \u001b[49m\u001b[43midx\u001b[49m\u001b[38;5;241;43m=\u001b[39;49m\u001b[43m_w\u001b[49m\u001b[43m(\u001b[49m\u001b[43ms\u001b[49m\u001b[43m,\u001b[49m\u001b[43m \u001b[49m\u001b[38;5;241;43m0\u001b[39;49m\u001b[43m)\u001b[49m\u001b[38;5;241;43m.\u001b[39;49m\u001b[43mend\u001b[49m\u001b[43m(\u001b[49m\u001b[43m)\u001b[49m\u001b[43m)\u001b[49m\n\u001b[1;32m    338\u001b[0m     end \u001b[38;5;241m=\u001b[39m _w(s, end)\u001b[38;5;241m.\u001b[39mend()\n\u001b[1;32m    339\u001b[0m     \u001b[38;5;28;01mif\u001b[39;00m end \u001b[38;5;241m!=\u001b[39m \u001b[38;5;28mlen\u001b[39m(s):\n",
      "File \u001b[0;32m/opt/conda/lib/python3.9/json/decoder.py:353\u001b[0m, in \u001b[0;36mJSONDecoder.raw_decode\u001b[0;34m(self, s, idx)\u001b[0m\n\u001b[1;32m    344\u001b[0m \u001b[38;5;250m\u001b[39m\u001b[38;5;124;03m\"\"\"Decode a JSON document from ``s`` (a ``str`` beginning with\u001b[39;00m\n\u001b[1;32m    345\u001b[0m \u001b[38;5;124;03ma JSON document) and return a 2-tuple of the Python\u001b[39;00m\n\u001b[1;32m    346\u001b[0m \u001b[38;5;124;03mrepresentation and the index in ``s`` where the document ended.\u001b[39;00m\n\u001b[0;32m   (...)\u001b[0m\n\u001b[1;32m    350\u001b[0m \n\u001b[1;32m    351\u001b[0m \u001b[38;5;124;03m\"\"\"\u001b[39;00m\n\u001b[1;32m    352\u001b[0m \u001b[38;5;28;01mtry\u001b[39;00m:\n\u001b[0;32m--> 353\u001b[0m     obj, end \u001b[38;5;241m=\u001b[39m \u001b[38;5;28;43mself\u001b[39;49m\u001b[38;5;241;43m.\u001b[39;49m\u001b[43mscan_once\u001b[49m\u001b[43m(\u001b[49m\u001b[43ms\u001b[49m\u001b[43m,\u001b[49m\u001b[43m \u001b[49m\u001b[43midx\u001b[49m\u001b[43m)\u001b[49m\n\u001b[1;32m    354\u001b[0m \u001b[38;5;28;01mexcept\u001b[39;00m \u001b[38;5;167;01mStopIteration\u001b[39;00m \u001b[38;5;28;01mas\u001b[39;00m err:\n\u001b[1;32m    355\u001b[0m     \u001b[38;5;28;01mraise\u001b[39;00m JSONDecodeError(\u001b[38;5;124m\"\u001b[39m\u001b[38;5;124mExpecting value\u001b[39m\u001b[38;5;124m\"\u001b[39m, s, err\u001b[38;5;241m.\u001b[39mvalue) \u001b[38;5;28;01mfrom\u001b[39;00m \u001b[38;5;28;01mNone\u001b[39;00m\n",
      "\u001b[0;31mJSONDecodeError\u001b[0m: Expecting ',' delimiter: line 1 column 6176 (char 6175)"
     ]
    }
   ],
   "source": [
    "string = string.replace(\"\\'\", \"\\\"\")\n",
    "string = string.replace(\"None\", \"\\\"None\\\"\")\n",
    "\n",
    "student_details = json.loads(string)"
   ]
  },
  {
   "cell_type": "code",
   "execution_count": 63,
   "id": "7fe64a4f-8d90-4d6f-9a41-17cfe86afa67",
   "metadata": {},
   "outputs": [
    {
     "name": "stdout",
     "output_type": "stream",
     "text": [
      "{\"address1\": \"L&T House\", \"address2\": \"Ballard Estate\", \"city\": \"Mumbai\", \"zip\": \"400001\", \"country\": \"India\", \"phone\": \"91 22 6776 6776\", \"fax\": \"91 22 4313 0997\", \"website\": \"https://www.ltimindtree.com\", \"industry\": \"Information Technology Services\", \"industryDisp\": \"Information Technology Services\", \"sector\": \"Technology\", \"sectorDisp\": \"Technology\", \"longBusinessSummary\": \"LTIMindtree Limited, a technology consulting and digital solutions company, provides information technology services and solutions in India, North America, Europe, and internationally. The company operates through Banking, Financial Services & Insurance; Hi-Tech, Media & Entertainment; Manufacturing & Resources; Retail, CPG & Travel, Transport & Hospitality; and Health & Public Services. It offers cloud and infrastructure services, consulting, cyber security, data and insights, digital engineering, disruptive SaaS, enterprise application, platform operation, RPA, and testing services. The company serves various industries, such as banking and financial services, energy, utilities, healthcare, Hi-tech, insurance, life sciences, manufacturing, retail and consumer packaged goods, travel, transport, and hospitality, as well as communications, media, and entertainment industries. LTIMindtree Limited has a strategic collaboration agreement with Amazon Web Services, Inc.; and a strategic partnership with eClinicalHealth Limited to enhance digital innovation in clinical trials management process for patient centric drug development. The company was formerly known as Larsen & Toubro Infotech Limited and changed its name to LTIMindtree Limited in November 2022. The company was incorporated in 1996 and is based in Mumbai, India. LTIMindtree Limited is a subsidiary of Larsen & Toubro Limited.\", \"fullTimeEmployees\": 82738, \"companyOfficers\": [{\"maxAge\": 1, \"name\": \"Mr. Anilkumar Manibhai Naik\", \"age\": 80, \"title\": \"Non-Exec. Founder Chairman\", \"yearBorn\": 1942, \"fiscalYear\": 2023, \"totalPay\": 21500000, \"exercisedValue\": 0, \"unexercisedValue\": 0}, {\"maxAge\": 1, \"name\": \"Mr. Debashis  Chatterjee\", \"age\": 56, \"title\": \"Director, CEO & MD\", \"yearBorn\": 1966, \"fiscalYear\": 2023, \"totalPay\": 313253720, \"exercisedValue\": 0, \"unexercisedValue\": 0}, {\"maxAge\": 1, \"name\": \"Mr. Nachiket  Deshpande\", \"age\": 49, \"title\": \"COO & Whole Time Director\", \"yearBorn\": 1973, \"fiscalYear\": 2023, \"totalPay\": 23010000, \"exercisedValue\": 0, \"unexercisedValue\": 0}, {\"maxAge\": 1, \"name\": \"Mr. Sudhir  Chaturvedi\", \"age\": 52, \"title\": \"Pres of Sale & Markets and Whole-Time Director\", \"yearBorn\": 1970, \"fiscalYear\": 2023, \"totalPay\": 221800000, \"exercisedValue\": 0, \"unexercisedValue\": 0}, {\"maxAge\": 1, \"name\": \"Mr. Siddharth Ravindra Bohra\", \"title\": \"Head of Retail, CPG, Hi-Tech, Utilities - Americas & Data Products, Cloud Unit\", \"exercisedValue\": 0, \"unexercisedValue\": 0}, {\"maxAge\": 1, \"name\": \"Mr. Vinit Ajit Teredesai\", \"age\": 51, \"title\": \"Chief Financial Officer\", \"yearBorn\": 1971, \"exercisedValue\": 0, \"unexercisedValue\": 0}, {\"maxAge\": 1, \"name\": \"Mr. Nitin  Mohta\", \"title\": \"Principal Director of Financial Planning & Analysis and Chief Investor Relations Officer\", \"exercisedValue\": 0, \"unexercisedValue\": 0}, {\"maxAge\": 1, \"name\": \"Mr. Tridib Kumar Barat\", \"age\": 54, \"title\": \"Company Sec. & Compliance Officer\", \"yearBorn\": 1968, \"exercisedValue\": 0, \"unexercisedValue\": 0}, {\"maxAge\": 1, \"name\": \"Harsh  Naidu\", \"title\": \"Head of Banking & Financial Services, Americas\", \"exercisedValue\": 0, \"unexercisedValue\": 0}, {\"maxAge\": 1, \"name\": \"Rohit  Kedia\", \"title\": \"Head of Manufacturing Americas & Intelligent Enterprise Unit\", \"exercisedValue\": 0, \"unexercisedValue\": 0}], \"compensationAsOfEpochDate\": 1703980800, \"maxAge\": 86400, \"priceHint\": 2, \"previousClose\": 5170.15, \"open\": 5131.0, \"dayLow\": 5104.15, \"dayHigh\": 5189.9, \"regularMarketPreviousClose\": 5170.15, \"regularMarketOpen\": 5131.0, \"regularMarketDayLow\": 5104.15, \"regularMarketDayHigh\": 5189.9, \"dividendRate\": 60.0, \"dividendYield\": 0.0117, \"exDividendDate\": 1688947200, \"fiveYearAvgDividendYield\": 1.14, \"beta\": 0.601557, \"volume\": 108092, \"regularMarketVolume\": 108092, \"averageVolume\": 544378, \"averageVolume10days\": 318955, \"averageDailyVolume10Day\": 318955, \"bid\": 5110.4, \"ask\": 5113.95, \"marketCap\": 1513203564544, \"fiftyTwoWeekLow\": 4121.0, \"fiftyTwoWeekHigh\": 5430.0, \"priceToSalesTrailing12Months\": 4.4192867, \"fiftyDayAverage\": 5044.456, \"twoHundredDayAverage\": 4719.857, \"trailingAnnualDividendRate\": 0.0, \"trailingAnnualDividendYield\": 0.0, \"currency\": \"INR\", \"enterpriseValue\": 1462676750336, \"profitMargins\": 0.13008, \"floatShares\": 90335944, \"sharesOutstanding\": 295903008, \"heldPercentInsiders\": 0.68861, \"heldPercentInstitutions\": 0.14594, \"impliedSharesOutstanding\": 295903008, \"bookValue\": 614.568, \"priceToBook\": 8.321049, \"lastFiscalYearEnd\": 1680220800, \"nextFiscalYearEnd\": 1711843200, \"mostRecentQuarter\": 1688083200, \"earningsQuarterlyGrowth\": 0.818, \"netIncomeToCommon\": 44542001152, \"trailingEps\": -3554.88, \"enterpriseToRevenue\": 4.272, \"enterpriseToEbitda\": 24.83, \"52WeekChange\": 0.10972428, \"SandP52WeekChange\": 0.07853043, \"lastDividendValue\": 40.0, \"lastDividendDate\": 1688947200, \"exchange\": \"NSI\", \"quoteType\": \"EQUITY\", \"symbol\": \"LTIM.NS\", \"underlyingSymbol\": \"LTIM.NS\", \"shortName\": \"LTIMINDTREE LIMITED\", \"longName\": \"LTIMindtree Limited\", \"firstTradeDateEpochUtc\": 1469072700, \"timeZoneFullName\": \"Asia/Kolkata\", \"timeZoneShortName\": \"IST\", \"uuid\": \"0a5d3cbd-bfcf-3b61-9e5c-2ebd65d46373\", \"messageBoardId\": \"finmb_4440082\", \"gmtOffSetMilliseconds\": 19800000, \"currentPrice\": 5113.85, \"recommendationKey\": \"none\", \"totalCash\": 84127997952, \"totalCashPerShare\": 284.348, \"ebitda\": 58908000256, \"totalDebt\": 15786000384, \"quickRatio\": 3.027, \"currentRatio\": 3.465, \"totalRevenue\": 342408986624, \"debtToEquity\": 8.678, \"revenuePerShare\": 1157.4, \"returnOnAssets\": 0.18326001, \"returnOnEquity\": 0.32396, \"grossProfits\": 92799000000, \"freeCashflow\": 9716249600, \"operatingCashflow\": 34345000960, \"earningsGrowth\": 0.077, \"revenueGrowth\": 0.924, \"grossMargins\": 0.27686, \"ebitdaMargins\": 0.17204, \"operatingMargins\": 0.16088, \"financialCurrency\": \"INR\", \"trailingPegRatio\": None}\n"
     ]
    }
   ],
   "source": [
    "print(df.head(1).info_json[0])"
   ]
  },
  {
   "cell_type": "code",
   "execution_count": null,
   "id": "3a7ced90-c9e1-48a8-90d8-a8b244f7dc7f",
   "metadata": {},
   "outputs": [],
   "source": [
    "student_details[\"symbol\"]"
   ]
  },
  {
   "cell_type": "code",
   "execution_count": null,
   "id": "02903cf8-5fec-42d0-ae72-0e77b7928f12",
   "metadata": {},
   "outputs": [],
   "source": []
  }
 ],
 "metadata": {
  "kernelspec": {
   "display_name": "Python 3",
   "language": "python",
   "name": "python3"
  },
  "language_info": {
   "codemirror_mode": {
    "name": "ipython",
    "version": 3
   },
   "file_extension": ".py",
   "mimetype": "text/x-python",
   "name": "python",
   "nbconvert_exporter": "python",
   "pygments_lexer": "ipython3",
   "version": "3.9.16"
  }
 },
 "nbformat": 4,
 "nbformat_minor": 5
}
