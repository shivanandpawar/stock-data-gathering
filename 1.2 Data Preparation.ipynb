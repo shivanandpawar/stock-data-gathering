{
 "cells": [
  {
   "cell_type": "code",
   "execution_count": 3,
   "id": "1463f714-49e4-4003-8cad-ab4de7839e4c",
   "metadata": {},
   "outputs": [],
   "source": [
    "import pandas as pd\n",
    "import json"
   ]
  },
  {
   "cell_type": "code",
   "execution_count": 4,
   "id": "f1004744-733c-48a2-b768-6e0a3c585a98",
   "metadata": {},
   "outputs": [],
   "source": [
    "df = pd.read_csv(\"/data/raw_stock_indicator.csv\")"
   ]
  },
  {
   "cell_type": "code",
   "execution_count": 5,
   "id": "c237c312-b922-4e1f-a946-50f343eff061",
   "metadata": {},
   "outputs": [],
   "source": [
    "def json_parser(x):\n",
    "    try:\n",
    "        return json.loads(x)[\"symbol\"]\n",
    "    except Exception as e:\n",
    "        print(e)\n",
    "        return \"\""
   ]
  },
  {
   "cell_type": "code",
   "execution_count": 6,
   "id": "a1cac758-1ae3-4f18-bd2d-429a722d351f",
   "metadata": {},
   "outputs": [],
   "source": [
    "df[\"company_symbol\"] = df[\"info_json\"].map(lambda x: json_parser(x))  "
   ]
  },
  {
   "cell_type": "code",
   "execution_count": 23,
   "id": "3a7ced90-c9e1-48a8-90d8-a8b244f7dc7f",
   "metadata": {},
   "outputs": [
    {
     "data": {
      "text/plain": [
       "1549"
      ]
     },
     "execution_count": 23,
     "metadata": {},
     "output_type": "execute_result"
    }
   ],
   "source": [
    "df[\"company_symbol\"].unique().size"
   ]
  },
  {
   "cell_type": "code",
   "execution_count": 15,
   "id": "02903cf8-5fec-42d0-ae72-0e77b7928f12",
   "metadata": {},
   "outputs": [
    {
     "data": {
      "text/plain": [
       "Index(['Tax Effect Of Unusual Items', 'Tax Rate For Calcs',\n",
       "       'Normalized EBITDA', 'Total Unusual Items',\n",
       "       'Total Unusual Items Excluding Goodwill',\n",
       "       'Net Income From Continuing Operation Net Minority Interest',\n",
       "       'Reconciled Depreciation', 'Reconciled Cost Of Revenue', 'EBIT',\n",
       "       'Net Interest Income', 'Interest Expense', 'Normalized Income',\n",
       "       'Net Income From Continuing And Discontinued Operation',\n",
       "       'Total Expenses', 'Diluted Average Shares', 'Basic Average Shares',\n",
       "       'Diluted EPS', 'Basic EPS', 'Diluted NI Availto Com Stockholders',\n",
       "       'Net Income Common Stockholders', 'Otherunder Preferred Stock Dividend',\n",
       "       'Net Income', 'Minority Interests',\n",
       "       'Net Income Including Noncontrolling Interests',\n",
       "       'Net Income Continuous Operations', 'Tax Provision', 'Pretax Income',\n",
       "       'Other Non Operating Income Expenses', 'Special Income Charges',\n",
       "       'Restructuring And Mergern Acquisition',\n",
       "       'Net Non Operating Interest Income Expense',\n",
       "       'Interest Expense Non Operating', 'Operating Income',\n",
       "       'Operating Expense', 'Other Operating Expenses',\n",
       "       'Depreciation And Amortization In Income Statement',\n",
       "       'Depreciation Income Statement', 'Gross Profit', 'Cost Of Revenue',\n",
       "       'Total Revenue', 'Operating Revenue', 'FinancialDate', 'Year', 'Month',\n",
       "       'IsWeekend', 'FinancialDate_Adj', 'Open', 'High', 'Low', 'Close',\n",
       "       'Volume', 'Dividends', 'Stock Splits', 'Stock_Date', 'info_json',\n",
       "       'Adj Close', 'Interest Income', 'Interest Income Non Operating',\n",
       "       'Write Off', 'Selling General And Administration',\n",
       "       'General And Administrative Expense', 'Other Special Charges',\n",
       "       'Net Income Discontinuous Operations', 'Net Income Extraordinary',\n",
       "       'Impairment Of Capital Assets', 'Selling And Marketing Expense',\n",
       "       'Other Income Expense', 'Rent Expense Supplemental',\n",
       "       'Rent And Landing Fees', 'Research And Development',\n",
       "       'Total Operating Income As Reported', 'Capital Gains',\n",
       "       'Gain On Sale Of Security', 'Total Other Finance Cost',\n",
       "       'Gain On Sale Of Ppe', 'Earnings From Equity Interest',\n",
       "       'Depreciation Amortization Depletion Income Statement',\n",
       "       'Salaries And Wages', 'Average Dilution Earnings',\n",
       "       'Insurance And Claims', 'Amortization', 'Other Taxes', 'Other Gand A',\n",
       "       'Preferred Stock Dividends', 'Gain On Sale Of Business',\n",
       "       'Earnings From Equity Interest Net Of Tax', 'company_symbol'],\n",
       "      dtype='object')"
      ]
     },
     "execution_count": 15,
     "metadata": {},
     "output_type": "execute_result"
    }
   ],
   "source": [
    "df.columns"
   ]
  },
  {
   "cell_type": "code",
   "execution_count": 25,
   "id": "0eb373d8-2f13-42d0-842f-5ff855a343db",
   "metadata": {},
   "outputs": [],
   "source": [
    "cols = [\"Total Revenue\", \"Operating Revenue\", \"Gross Profit\", \"Year\", \"Month\" ,\"company_symbol\", \"Open\", \"Volume\"]"
   ]
  },
  {
   "cell_type": "code",
   "execution_count": 30,
   "id": "28672cac-de35-4782-a78b-44b1691ce5c1",
   "metadata": {},
   "outputs": [
    {
     "name": "stderr",
     "output_type": "stream",
     "text": [
      "<ipython-input-30-b54d8197d8f8>:2: SettingWithCopyWarning: \n",
      "A value is trying to be set on a copy of a slice from a DataFrame.\n",
      "Try using .loc[row_indexer,col_indexer] = value instead\n",
      "\n",
      "See the caveats in the documentation: https://pandas.pydata.org/pandas-docs/stable/user_guide/indexing.html#returning-a-view-versus-a-copy\n",
      "  df1[\"year_month\"] = (10*df1[\"Year\"])+df1[\"Month\"]\n"
     ]
    },
    {
     "ename": "AttributeError",
     "evalue": "'DataFrame' object has no attribute 'sort'",
     "output_type": "error",
     "traceback": [
      "\u001b[0;31m---------------------------------------------------------------------------\u001b[0m",
      "\u001b[0;31mAttributeError\u001b[0m                            Traceback (most recent call last)",
      "\u001b[0;32m<ipython-input-30-b54d8197d8f8>\u001b[0m in \u001b[0;36m?\u001b[0;34m()\u001b[0m\n\u001b[0;32m----> 3\u001b[0;31m \u001b[0mdf1\u001b[0m \u001b[0;34m=\u001b[0m \u001b[0mdf\u001b[0m\u001b[0;34m[\u001b[0m\u001b[0mcols\u001b[0m\u001b[0;34m]\u001b[0m\u001b[0;34m\u001b[0m\u001b[0;34m\u001b[0m\u001b[0m\n\u001b[0m\u001b[1;32m      4\u001b[0m \u001b[0mdf1\u001b[0m\u001b[0;34m[\u001b[0m\u001b[0;34m\"year_month\"\u001b[0m\u001b[0;34m]\u001b[0m \u001b[0;34m=\u001b[0m \u001b[0;34m(\u001b[0m\u001b[0;36m10\u001b[0m\u001b[0;34m*\u001b[0m\u001b[0mdf1\u001b[0m\u001b[0;34m[\u001b[0m\u001b[0;34m\"Year\"\u001b[0m\u001b[0;34m]\u001b[0m\u001b[0;34m)\u001b[0m\u001b[0;34m+\u001b[0m\u001b[0mdf1\u001b[0m\u001b[0;34m[\u001b[0m\u001b[0;34m\"Month\"\u001b[0m\u001b[0;34m]\u001b[0m\u001b[0;34m\u001b[0m\u001b[0;34m\u001b[0m\u001b[0m\n\u001b[1;32m      5\u001b[0m \u001b[0mdf1\u001b[0m \u001b[0;34m=\u001b[0m \u001b[0mdf1\u001b[0m\u001b[0;34m.\u001b[0m\u001b[0msort\u001b[0m\u001b[0;34m(\u001b[0m\u001b[0;34m'company_symbol'\u001b[0m\u001b[0;34m,\u001b[0m \u001b[0;34m'year_month'\u001b[0m\u001b[0;34m)\u001b[0m\u001b[0;34m\u001b[0m\u001b[0;34m\u001b[0m\u001b[0m\n\u001b[1;32m      6\u001b[0m \u001b[0mdf1\u001b[0m\u001b[0;34m\u001b[0m\u001b[0;34m\u001b[0m\u001b[0m\n",
      "\u001b[0;32m/packages/Jupyterlab-3.9/92b58fac-ba46-499a-8443-617f80fbf2d3/3.9/pandas/core/generic.py\u001b[0m in \u001b[0;36m?\u001b[0;34m(self, name)\u001b[0m\n\u001b[1;32m   5985\u001b[0m             \u001b[0;32mand\u001b[0m \u001b[0mname\u001b[0m \u001b[0;32mnot\u001b[0m \u001b[0;32min\u001b[0m \u001b[0mself\u001b[0m\u001b[0;34m.\u001b[0m\u001b[0m_accessors\u001b[0m\u001b[0;34m\u001b[0m\u001b[0;34m\u001b[0m\u001b[0m\n\u001b[1;32m   5986\u001b[0m             \u001b[0;32mand\u001b[0m \u001b[0mself\u001b[0m\u001b[0;34m.\u001b[0m\u001b[0m_info_axis\u001b[0m\u001b[0;34m.\u001b[0m\u001b[0m_can_hold_identifiers_and_holds_name\u001b[0m\u001b[0;34m(\u001b[0m\u001b[0mname\u001b[0m\u001b[0;34m)\u001b[0m\u001b[0;34m\u001b[0m\u001b[0;34m\u001b[0m\u001b[0m\n\u001b[1;32m   5987\u001b[0m         ):\n\u001b[1;32m   5988\u001b[0m             \u001b[0;32mreturn\u001b[0m \u001b[0mself\u001b[0m\u001b[0;34m[\u001b[0m\u001b[0mname\u001b[0m\u001b[0;34m]\u001b[0m\u001b[0;34m\u001b[0m\u001b[0;34m\u001b[0m\u001b[0m\n\u001b[0;32m-> 5989\u001b[0;31m         \u001b[0;32mreturn\u001b[0m \u001b[0mobject\u001b[0m\u001b[0;34m.\u001b[0m\u001b[0m__getattribute__\u001b[0m\u001b[0;34m(\u001b[0m\u001b[0mself\u001b[0m\u001b[0;34m,\u001b[0m \u001b[0mname\u001b[0m\u001b[0;34m)\u001b[0m\u001b[0;34m\u001b[0m\u001b[0;34m\u001b[0m\u001b[0m\n\u001b[0m",
      "\u001b[0;31mAttributeError\u001b[0m: 'DataFrame' object has no attribute 'sort'"
     ]
    }
   ],
   "source": [
    "df1 = df[cols]\n",
    "df1[\"year_month\"] = (10*df1[\"Year\"])+df1[\"Month\"]\n",
    "df1 = df1.sort('company_symbol', 'year_month')\n",
    "df1 "
   ]
  },
  {
   "cell_type": "code",
   "execution_count": 27,
   "id": "0140792f-e072-4fe0-b3eb-df697682003e",
   "metadata": {},
   "outputs": [
    {
     "name": "stderr",
     "output_type": "stream",
     "text": [
      "<ipython-input-27-c67b1427ded8>:1: SettingWithCopyWarning: \n",
      "A value is trying to be set on a copy of a slice from a DataFrame.\n",
      "Try using .loc[row_indexer,col_indexer] = value instead\n",
      "\n",
      "See the caveats in the documentation: https://pandas.pydata.org/pandas-docs/stable/user_guide/indexing.html#returning-a-view-versus-a-copy\n",
      "  df1['price_change'] = df1.groupby(['company_symbol'])['Open'].shift(1)\n"
     ]
    }
   ],
   "source": [
    "df1['price_change'] = df1.groupby(['company_symbol'])['Open'].shift(1)"
   ]
  },
  {
   "cell_type": "code",
   "execution_count": 28,
   "id": "394b75f4-5b62-46dc-9ffd-a19dc7a983d3",
   "metadata": {},
   "outputs": [
    {
     "data": {
      "text/html": [
       "<div>\n",
       "<style scoped>\n",
       "    .dataframe tbody tr th:only-of-type {\n",
       "        vertical-align: middle;\n",
       "    }\n",
       "\n",
       "    .dataframe tbody tr th {\n",
       "        vertical-align: top;\n",
       "    }\n",
       "\n",
       "    .dataframe thead th {\n",
       "        text-align: right;\n",
       "    }\n",
       "</style>\n",
       "<table border=\"1\" class=\"dataframe\">\n",
       "  <thead>\n",
       "    <tr style=\"text-align: right;\">\n",
       "      <th></th>\n",
       "      <th>Total Revenue</th>\n",
       "      <th>Operating Revenue</th>\n",
       "      <th>Gross Profit</th>\n",
       "      <th>Year</th>\n",
       "      <th>Month</th>\n",
       "      <th>company_symbol</th>\n",
       "      <th>Open</th>\n",
       "      <th>Volume</th>\n",
       "      <th>year_month</th>\n",
       "      <th>price_change</th>\n",
       "    </tr>\n",
       "  </thead>\n",
       "  <tbody>\n",
       "    <tr>\n",
       "      <th>0</th>\n",
       "      <td>8.702100e+10</td>\n",
       "      <td>8.702100e+10</td>\n",
       "      <td>3.103400e+10</td>\n",
       "      <td>2023</td>\n",
       "      <td>6</td>\n",
       "      <td>LTIM.NS</td>\n",
       "      <td>5084.918182</td>\n",
       "      <td>581634.0</td>\n",
       "      <td>20236</td>\n",
       "      <td>NaN</td>\n",
       "    </tr>\n",
       "    <tr>\n",
       "      <th>1</th>\n",
       "      <td>8.691000e+10</td>\n",
       "      <td>8.691000e+10</td>\n",
       "      <td>3.110300e+10</td>\n",
       "      <td>2023</td>\n",
       "      <td>3</td>\n",
       "      <td>LTIM.NS</td>\n",
       "      <td>4603.711157</td>\n",
       "      <td>328337.0</td>\n",
       "      <td>20233</td>\n",
       "      <td>5084.918182</td>\n",
       "    </tr>\n",
       "    <tr>\n",
       "      <th>2</th>\n",
       "      <td>8.620000e+10</td>\n",
       "      <td>8.620000e+10</td>\n",
       "      <td>3.147800e+10</td>\n",
       "      <td>2022</td>\n",
       "      <td>12</td>\n",
       "      <td>LTIM.NS</td>\n",
       "      <td>NaN</td>\n",
       "      <td>NaN</td>\n",
       "      <td>20232</td>\n",
       "      <td>4603.711157</td>\n",
       "    </tr>\n",
       "    <tr>\n",
       "      <th>3</th>\n",
       "      <td>4.836700e+10</td>\n",
       "      <td>4.836700e+10</td>\n",
       "      <td>1.751800e+10</td>\n",
       "      <td>2022</td>\n",
       "      <td>9</td>\n",
       "      <td>LTIM.NS</td>\n",
       "      <td>4345.868216</td>\n",
       "      <td>410491.0</td>\n",
       "      <td>20229</td>\n",
       "      <td>NaN</td>\n",
       "    </tr>\n",
       "    <tr>\n",
       "      <th>4</th>\n",
       "      <td>4.522800e+10</td>\n",
       "      <td>4.522800e+10</td>\n",
       "      <td>1.650500e+10</td>\n",
       "      <td>2022</td>\n",
       "      <td>6</td>\n",
       "      <td>LTIM.NS</td>\n",
       "      <td>4019.437045</td>\n",
       "      <td>374541.0</td>\n",
       "      <td>20226</td>\n",
       "      <td>4345.868216</td>\n",
       "    </tr>\n",
       "    <tr>\n",
       "      <th>...</th>\n",
       "      <td>...</td>\n",
       "      <td>...</td>\n",
       "      <td>...</td>\n",
       "      <td>...</td>\n",
       "      <td>...</td>\n",
       "      <td>...</td>\n",
       "      <td>...</td>\n",
       "      <td>...</td>\n",
       "      <td>...</td>\n",
       "      <td>...</td>\n",
       "    </tr>\n",
       "    <tr>\n",
       "      <th>7310</th>\n",
       "      <td>1.205380e+10</td>\n",
       "      <td>1.205380e+10</td>\n",
       "      <td>4.469900e+09</td>\n",
       "      <td>2023</td>\n",
       "      <td>6</td>\n",
       "      <td>ZUARI.NS</td>\n",
       "      <td>149.000000</td>\n",
       "      <td>59962.0</td>\n",
       "      <td>20236</td>\n",
       "      <td>NaN</td>\n",
       "    </tr>\n",
       "    <tr>\n",
       "      <th>7311</th>\n",
       "      <td>1.338910e+10</td>\n",
       "      <td>1.338910e+10</td>\n",
       "      <td>4.684400e+09</td>\n",
       "      <td>2023</td>\n",
       "      <td>3</td>\n",
       "      <td>ZUARI.NS</td>\n",
       "      <td>121.900002</td>\n",
       "      <td>98839.0</td>\n",
       "      <td>20233</td>\n",
       "      <td>149.000000</td>\n",
       "    </tr>\n",
       "    <tr>\n",
       "      <th>7312</th>\n",
       "      <td>1.416170e+10</td>\n",
       "      <td>1.416170e+10</td>\n",
       "      <td>5.367000e+09</td>\n",
       "      <td>2022</td>\n",
       "      <td>12</td>\n",
       "      <td>ZUARI.NS</td>\n",
       "      <td>NaN</td>\n",
       "      <td>NaN</td>\n",
       "      <td>20232</td>\n",
       "      <td>121.900002</td>\n",
       "    </tr>\n",
       "    <tr>\n",
       "      <th>7313</th>\n",
       "      <td>5.016200e+09</td>\n",
       "      <td>5.016200e+09</td>\n",
       "      <td>1.144400e+09</td>\n",
       "      <td>2022</td>\n",
       "      <td>9</td>\n",
       "      <td>ZUARI.NS</td>\n",
       "      <td>168.600006</td>\n",
       "      <td>457551.0</td>\n",
       "      <td>20229</td>\n",
       "      <td>NaN</td>\n",
       "    </tr>\n",
       "    <tr>\n",
       "      <th>7314</th>\n",
       "      <td>1.295920e+10</td>\n",
       "      <td>1.295920e+10</td>\n",
       "      <td>3.533500e+09</td>\n",
       "      <td>2022</td>\n",
       "      <td>6</td>\n",
       "      <td>ZUARI.NS</td>\n",
       "      <td>144.750000</td>\n",
       "      <td>82964.0</td>\n",
       "      <td>20226</td>\n",
       "      <td>168.600006</td>\n",
       "    </tr>\n",
       "  </tbody>\n",
       "</table>\n",
       "<p>7315 rows × 10 columns</p>\n",
       "</div>"
      ],
      "text/plain": [
       "      Total Revenue  Operating Revenue  Gross Profit  Year  Month  \\\n",
       "0      8.702100e+10       8.702100e+10  3.103400e+10  2023      6   \n",
       "1      8.691000e+10       8.691000e+10  3.110300e+10  2023      3   \n",
       "2      8.620000e+10       8.620000e+10  3.147800e+10  2022     12   \n",
       "3      4.836700e+10       4.836700e+10  1.751800e+10  2022      9   \n",
       "4      4.522800e+10       4.522800e+10  1.650500e+10  2022      6   \n",
       "...             ...                ...           ...   ...    ...   \n",
       "7310   1.205380e+10       1.205380e+10  4.469900e+09  2023      6   \n",
       "7311   1.338910e+10       1.338910e+10  4.684400e+09  2023      3   \n",
       "7312   1.416170e+10       1.416170e+10  5.367000e+09  2022     12   \n",
       "7313   5.016200e+09       5.016200e+09  1.144400e+09  2022      9   \n",
       "7314   1.295920e+10       1.295920e+10  3.533500e+09  2022      6   \n",
       "\n",
       "     company_symbol         Open    Volume  year_month  price_change  \n",
       "0           LTIM.NS  5084.918182  581634.0       20236           NaN  \n",
       "1           LTIM.NS  4603.711157  328337.0       20233   5084.918182  \n",
       "2           LTIM.NS          NaN       NaN       20232   4603.711157  \n",
       "3           LTIM.NS  4345.868216  410491.0       20229           NaN  \n",
       "4           LTIM.NS  4019.437045  374541.0       20226   4345.868216  \n",
       "...             ...          ...       ...         ...           ...  \n",
       "7310       ZUARI.NS   149.000000   59962.0       20236           NaN  \n",
       "7311       ZUARI.NS   121.900002   98839.0       20233    149.000000  \n",
       "7312       ZUARI.NS          NaN       NaN       20232    121.900002  \n",
       "7313       ZUARI.NS   168.600006  457551.0       20229           NaN  \n",
       "7314       ZUARI.NS   144.750000   82964.0       20226    168.600006  \n",
       "\n",
       "[7315 rows x 10 columns]"
      ]
     },
     "execution_count": 28,
     "metadata": {},
     "output_type": "execute_result"
    }
   ],
   "source": [
    "df1"
   ]
  },
  {
   "cell_type": "code",
   "execution_count": null,
   "id": "58808cda-15f6-4550-bb79-3acf095bc081",
   "metadata": {},
   "outputs": [],
   "source": []
  }
 ],
 "metadata": {
  "kernelspec": {
   "display_name": "Python 3",
   "language": "python",
   "name": "python3"
  },
  "language_info": {
   "codemirror_mode": {
    "name": "ipython",
    "version": 3
   },
   "file_extension": ".py",
   "mimetype": "text/x-python",
   "name": "python",
   "nbconvert_exporter": "python",
   "pygments_lexer": "ipython3",
   "version": "3.9.16"
  }
 },
 "nbformat": 4,
 "nbformat_minor": 5
}
