{
 "cells": [
  {
   "cell_type": "code",
   "execution_count": 1,
   "id": "1463f714-49e4-4003-8cad-ab4de7839e4c",
   "metadata": {},
   "outputs": [],
   "source": [
    "import pandas as pd"
   ]
  },
  {
   "cell_type": "code",
   "execution_count": 2,
   "id": "f1004744-733c-48a2-b768-6e0a3c585a98",
   "metadata": {},
   "outputs": [],
   "source": [
    "df = pd.read_csv(\"/data/raw_stock_ind.csv\")"
   ]
  },
  {
   "cell_type": "code",
   "execution_count": 8,
   "id": "484dc85a-96bb-441c-aa2b-163ad7e7820f",
   "metadata": {},
   "outputs": [
    {
     "data": {
      "text/plain": [
       "0      {'address1': 'L&T House', 'address2': 'Ballard...\n",
       "1      {'address1': 'L&T House', 'address2': 'Ballard...\n",
       "2      {'address1': 'L&T House', 'address2': 'Ballard...\n",
       "3      {'address1': 'L&T House', 'address2': 'Ballard...\n",
       "4      {'address1': 'L&T House', 'address2': 'Ballard...\n",
       "                             ...                        \n",
       "436    {'address1': '37, Hargobind Enclave', 'address...\n",
       "437    {'address1': 'No.43/5, Hussain Mansion', 'addr...\n",
       "438    {'address1': 'No.43/5, Hussain Mansion', 'addr...\n",
       "439    {'address1': 'No.43/5, Hussain Mansion', 'addr...\n",
       "440    {'address1': 'No.43/5, Hussain Mansion', 'addr...\n",
       "Name: info_json, Length: 441, dtype: object"
      ]
     },
     "execution_count": 8,
     "metadata": {},
     "output_type": "execute_result"
    }
   ],
   "source": [
    "df.info_json[\""
   ]
  },
  {
   "cell_type": "code",
   "execution_count": null,
   "id": "a1cac758-1ae3-4f18-bd2d-429a722d351f",
   "metadata": {},
   "outputs": [],
   "source": []
  }
 ],
 "metadata": {
  "kernelspec": {
   "display_name": "Python 3",
   "language": "python",
   "name": "python3"
  },
  "language_info": {
   "codemirror_mode": {
    "name": "ipython",
    "version": 3
   },
   "file_extension": ".py",
   "mimetype": "text/x-python",
   "name": "python",
   "nbconvert_exporter": "python",
   "pygments_lexer": "ipython3",
   "version": "3.9.16"
  }
 },
 "nbformat": 4,
 "nbformat_minor": 5
}
