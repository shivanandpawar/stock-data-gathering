{
 "cells": [
  {
   "cell_type": "code",
   "execution_count": 3,
   "id": "1463f714-49e4-4003-8cad-ab4de7839e4c",
   "metadata": {},
   "outputs": [],
   "source": [
    "import pandas as pd\n",
    "import json"
   ]
  },
  {
   "cell_type": "code",
   "execution_count": 4,
   "id": "f1004744-733c-48a2-b768-6e0a3c585a98",
   "metadata": {},
   "outputs": [],
   "source": [
    "df = pd.read_csv(\"/data/raw_stock_indicator.csv\")"
   ]
  },
  {
   "cell_type": "code",
   "execution_count": 5,
   "id": "c237c312-b922-4e1f-a946-50f343eff061",
   "metadata": {},
   "outputs": [],
   "source": [
    "def json_parser(x):\n",
    "    try:\n",
    "        return json.loads(x)[\"symbol\"]\n",
    "    except Exception as e:\n",
    "        print(e)\n",
    "        return \"\""
   ]
  },
  {
   "cell_type": "code",
   "execution_count": 6,
   "id": "a1cac758-1ae3-4f18-bd2d-429a722d351f",
   "metadata": {},
   "outputs": [],
   "source": [
    "df[\"company_symbol\"] = df[\"info_json\"].map(lambda x: json_parser(x))  "
   ]
  },
  {
   "cell_type": "code",
   "execution_count": 7,
   "id": "3a7ced90-c9e1-48a8-90d8-a8b244f7dc7f",
   "metadata": {},
   "outputs": [
    {
     "data": {
      "text/plain": [
       "array(['LTIM.NS', '20MICRONS.NS', '21STCENMGM.NS', '3MINDIA.NS',\n",
       "       '3PLAND.NS', '5PAISA.NS', '63MOONS.NS', 'A2ZINFRA.NS', 'AAKASH.NS',\n",
       "       'AARON.NS', 'AARTIDRUGS.NS', 'AARTIIND.NS', 'AARVEEDEN.NS',\n",
       "       'AARVI.NS', 'AAVAS.NS', 'ABAN.NS', 'ABB.NS', 'POWERINDIA.NS',\n",
       "       'ACC.NS', 'ACCELYA.NS', 'ACCURACY.NS', 'ACEINTEG.NS', 'ACE.NS',\n",
       "       'ADANIENT.NS', 'ADANIGREEN.NS', 'ADANIPORTS.NS', 'ADANIPOWER.NS',\n",
       "       'ADANITRANS.NS', 'ADFFOODS.NS', 'ABCAPITAL.NS', 'ABFRL.NS',\n",
       "       'BIRLAMONEY.NS', 'ADORWELD.NS', 'ADROITINFO.NS', 'ADVENZYMES.NS',\n",
       "       'ADVANIHOTR.NS', 'AEGISCHEM.NS', 'AFFLE.NS', 'AGARIND.NS',\n",
       "       'AGRITECH.NS', 'AGROPHOS.NS', 'ATFL.NS', 'AHLADA.NS',\n",
       "       'AHLUCONT.NS'], dtype=object)"
      ]
     },
     "execution_count": 7,
     "metadata": {},
     "output_type": "execute_result"
    }
   ],
   "source": [
    "df[\"company_symbol\"].unique()"
   ]
  },
  {
   "cell_type": "code",
   "execution_count": 11,
   "id": "02903cf8-5fec-42d0-ae72-0e77b7928f12",
   "metadata": {},
   "outputs": [
    {
     "data": {
      "text/plain": [
       "Index(['Tax Effect Of Unusual Items', 'Tax Rate For Calcs',\n",
       "       'Normalized EBITDA', 'Total Unusual Items',\n",
       "       'Total Unusual Items Excluding Goodwill',\n",
       "       'Net Income From Continuing Operation Net Minority Interest',\n",
       "       'Reconciled Depreciation', 'Reconciled Cost Of Revenue', 'EBIT',\n",
       "       'Net Interest Income', 'Interest Expense', 'Normalized Income',\n",
       "       'Net Income From Continuing And Discontinued Operation',\n",
       "       'Total Expenses', 'Diluted Average Shares', 'Basic Average Shares',\n",
       "       'Diluted EPS', 'Basic EPS', 'Diluted NI Availto Com Stockholders',\n",
       "       'Net Income Common Stockholders', 'Otherunder Preferred Stock Dividend',\n",
       "       'Net Income', 'Minority Interests',\n",
       "       'Net Income Including Noncontrolling Interests',\n",
       "       'Net Income Continuous Operations', 'Tax Provision', 'Pretax Income',\n",
       "       'Other Non Operating Income Expenses', 'Special Income Charges',\n",
       "       'Restructuring And Mergern Acquisition',\n",
       "       'Net Non Operating Interest Income Expense',\n",
       "       'Interest Expense Non Operating', 'Operating Income',\n",
       "       'Operating Expense', 'Other Operating Expenses',\n",
       "       'Depreciation And Amortization In Income Statement',\n",
       "       'Depreciation Income Statement', 'Gross Profit', 'Cost Of Revenue',\n",
       "       'Total Revenue', 'Operating Revenue', 'FinancialDate', 'Year', 'Month',\n",
       "       'IsWeekend', 'FinancialDate_Adj', 'Open', 'High', 'Low', 'Close',\n",
       "       'Volume', 'Dividends', 'Stock Splits', 'Stock_Date', 'info_json',\n",
       "       'Adj Close', 'Interest Income', 'Interest Income Non Operating',\n",
       "       'Write Off', 'Selling General And Administration',\n",
       "       'General And Administrative Expense', 'Other Special Charges',\n",
       "       'Net Income Discontinuous Operations', 'Net Income Extraordinary',\n",
       "       'Impairment Of Capital Assets', 'Selling And Marketing Expense',\n",
       "       'Other Income Expense', 'Rent Expense Supplemental',\n",
       "       'Rent And Landing Fees', 'company_symbol'],\n",
       "      dtype='object')"
      ]
     },
     "execution_count": 11,
     "metadata": {},
     "output_type": "execute_result"
    }
   ],
   "source": [
    "df.columns"
   ]
  },
  {
   "cell_type": "code",
   "execution_count": 15,
   "id": "0eb373d8-2f13-42d0-842f-5ff855a343db",
   "metadata": {},
   "outputs": [],
   "source": [
    "cols = [\"Total Revenue\", \"Operating Revenue\", \"Gross Profit\", \"Year\", \"Month\", \"company_symbol\" ,\"company_symbol\"]"
   ]
  },
  {
   "cell_type": "code",
   "execution_count": 16,
   "id": "28672cac-de35-4782-a78b-44b1691ce5c1",
   "metadata": {},
   "outputs": [],
   "source": [
    "df1 = df[cols]"
   ]
  },
  {
   "cell_type": "code",
   "execution_count": 17,
   "id": "0140792f-e072-4fe0-b3eb-df697682003e",
   "metadata": {},
   "outputs": [
    {
     "data": {
      "text/html": [
       "<div>\n",
       "<style scoped>\n",
       "    .dataframe tbody tr th:only-of-type {\n",
       "        vertical-align: middle;\n",
       "    }\n",
       "\n",
       "    .dataframe tbody tr th {\n",
       "        vertical-align: top;\n",
       "    }\n",
       "\n",
       "    .dataframe thead th {\n",
       "        text-align: right;\n",
       "    }\n",
       "</style>\n",
       "<table border=\"1\" class=\"dataframe\">\n",
       "  <thead>\n",
       "    <tr style=\"text-align: right;\">\n",
       "      <th></th>\n",
       "      <th>Total Revenue</th>\n",
       "      <th>Operating Revenue</th>\n",
       "      <th>Gross Profit</th>\n",
       "      <th>Year</th>\n",
       "      <th>Month</th>\n",
       "      <th>company_symbol</th>\n",
       "      <th>company_symbol</th>\n",
       "    </tr>\n",
       "  </thead>\n",
       "  <tbody>\n",
       "    <tr>\n",
       "      <th>0</th>\n",
       "      <td>8.702100e+10</td>\n",
       "      <td>8.702100e+10</td>\n",
       "      <td>3.103400e+10</td>\n",
       "      <td>2023</td>\n",
       "      <td>6</td>\n",
       "      <td>LTIM.NS</td>\n",
       "      <td>LTIM.NS</td>\n",
       "    </tr>\n",
       "    <tr>\n",
       "      <th>1</th>\n",
       "      <td>8.691000e+10</td>\n",
       "      <td>8.691000e+10</td>\n",
       "      <td>3.110300e+10</td>\n",
       "      <td>2023</td>\n",
       "      <td>3</td>\n",
       "      <td>LTIM.NS</td>\n",
       "      <td>LTIM.NS</td>\n",
       "    </tr>\n",
       "    <tr>\n",
       "      <th>2</th>\n",
       "      <td>8.620000e+10</td>\n",
       "      <td>8.620000e+10</td>\n",
       "      <td>3.147800e+10</td>\n",
       "      <td>2022</td>\n",
       "      <td>12</td>\n",
       "      <td>LTIM.NS</td>\n",
       "      <td>LTIM.NS</td>\n",
       "    </tr>\n",
       "    <tr>\n",
       "      <th>3</th>\n",
       "      <td>4.836700e+10</td>\n",
       "      <td>4.836700e+10</td>\n",
       "      <td>1.751800e+10</td>\n",
       "      <td>2022</td>\n",
       "      <td>9</td>\n",
       "      <td>LTIM.NS</td>\n",
       "      <td>LTIM.NS</td>\n",
       "    </tr>\n",
       "    <tr>\n",
       "      <th>4</th>\n",
       "      <td>4.522800e+10</td>\n",
       "      <td>4.522800e+10</td>\n",
       "      <td>1.650500e+10</td>\n",
       "      <td>2022</td>\n",
       "      <td>6</td>\n",
       "      <td>LTIM.NS</td>\n",
       "      <td>LTIM.NS</td>\n",
       "    </tr>\n",
       "    <tr>\n",
       "      <th>...</th>\n",
       "      <td>...</td>\n",
       "      <td>...</td>\n",
       "      <td>...</td>\n",
       "      <td>...</td>\n",
       "      <td>...</td>\n",
       "      <td>...</td>\n",
       "      <td>...</td>\n",
       "    </tr>\n",
       "    <tr>\n",
       "      <th>199</th>\n",
       "      <td>7.636123e+09</td>\n",
       "      <td>7.636123e+09</td>\n",
       "      <td>1.609054e+09</td>\n",
       "      <td>2023</td>\n",
       "      <td>6</td>\n",
       "      <td>AHLUCONT.NS</td>\n",
       "      <td>AHLUCONT.NS</td>\n",
       "    </tr>\n",
       "    <tr>\n",
       "      <th>200</th>\n",
       "      <td>8.630525e+09</td>\n",
       "      <td>8.630525e+09</td>\n",
       "      <td>1.800475e+09</td>\n",
       "      <td>2023</td>\n",
       "      <td>3</td>\n",
       "      <td>AHLUCONT.NS</td>\n",
       "      <td>AHLUCONT.NS</td>\n",
       "    </tr>\n",
       "    <tr>\n",
       "      <th>201</th>\n",
       "      <td>7.432501e+09</td>\n",
       "      <td>7.432501e+09</td>\n",
       "      <td>1.351223e+09</td>\n",
       "      <td>2022</td>\n",
       "      <td>12</td>\n",
       "      <td>AHLUCONT.NS</td>\n",
       "      <td>AHLUCONT.NS</td>\n",
       "    </tr>\n",
       "    <tr>\n",
       "      <th>202</th>\n",
       "      <td>6.228436e+09</td>\n",
       "      <td>6.228436e+09</td>\n",
       "      <td>1.179904e+09</td>\n",
       "      <td>2022</td>\n",
       "      <td>9</td>\n",
       "      <td>AHLUCONT.NS</td>\n",
       "      <td>AHLUCONT.NS</td>\n",
       "    </tr>\n",
       "    <tr>\n",
       "      <th>203</th>\n",
       "      <td>6.092471e+09</td>\n",
       "      <td>6.092471e+09</td>\n",
       "      <td>1.186364e+09</td>\n",
       "      <td>2022</td>\n",
       "      <td>6</td>\n",
       "      <td>AHLUCONT.NS</td>\n",
       "      <td>AHLUCONT.NS</td>\n",
       "    </tr>\n",
       "  </tbody>\n",
       "</table>\n",
       "<p>204 rows × 7 columns</p>\n",
       "</div>"
      ],
      "text/plain": [
       "     Total Revenue  Operating Revenue  Gross Profit  Year  Month  \\\n",
       "0     8.702100e+10       8.702100e+10  3.103400e+10  2023      6   \n",
       "1     8.691000e+10       8.691000e+10  3.110300e+10  2023      3   \n",
       "2     8.620000e+10       8.620000e+10  3.147800e+10  2022     12   \n",
       "3     4.836700e+10       4.836700e+10  1.751800e+10  2022      9   \n",
       "4     4.522800e+10       4.522800e+10  1.650500e+10  2022      6   \n",
       "..             ...                ...           ...   ...    ...   \n",
       "199   7.636123e+09       7.636123e+09  1.609054e+09  2023      6   \n",
       "200   8.630525e+09       8.630525e+09  1.800475e+09  2023      3   \n",
       "201   7.432501e+09       7.432501e+09  1.351223e+09  2022     12   \n",
       "202   6.228436e+09       6.228436e+09  1.179904e+09  2022      9   \n",
       "203   6.092471e+09       6.092471e+09  1.186364e+09  2022      6   \n",
       "\n",
       "    company_symbol company_symbol  \n",
       "0          LTIM.NS        LTIM.NS  \n",
       "1          LTIM.NS        LTIM.NS  \n",
       "2          LTIM.NS        LTIM.NS  \n",
       "3          LTIM.NS        LTIM.NS  \n",
       "4          LTIM.NS        LTIM.NS  \n",
       "..             ...            ...  \n",
       "199    AHLUCONT.NS    AHLUCONT.NS  \n",
       "200    AHLUCONT.NS    AHLUCONT.NS  \n",
       "201    AHLUCONT.NS    AHLUCONT.NS  \n",
       "202    AHLUCONT.NS    AHLUCONT.NS  \n",
       "203    AHLUCONT.NS    AHLUCONT.NS  \n",
       "\n",
       "[204 rows x 7 columns]"
      ]
     },
     "execution_count": 17,
     "metadata": {},
     "output_type": "execute_result"
    }
   ],
   "source": [
    "df1"
   ]
  },
  {
   "cell_type": "code",
   "execution_count": null,
   "id": "394b75f4-5b62-46dc-9ffd-a19dc7a983d3",
   "metadata": {},
   "outputs": [],
   "source": []
  }
 ],
 "metadata": {
  "kernelspec": {
   "display_name": "Python 3",
   "language": "python",
   "name": "python3"
  },
  "language_info": {
   "codemirror_mode": {
    "name": "ipython",
    "version": 3
   },
   "file_extension": ".py",
   "mimetype": "text/x-python",
   "name": "python",
   "nbconvert_exporter": "python",
   "pygments_lexer": "ipython3",
   "version": "3.9.16"
  }
 },
 "nbformat": 4,
 "nbformat_minor": 5
}
