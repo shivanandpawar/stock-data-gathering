{
 "cells": [
  {
   "cell_type": "code",
   "execution_count": 4,
   "id": "9601b391-4374-4d3c-831c-5ddea3e86fbe",
   "metadata": {},
   "outputs": [
    {
     "name": "stdout",
     "output_type": "stream",
     "text": [
      "Collecting moneycontrol-api\n",
      "  Downloading https://files.pythonhosted.org/packages/a9/72/ee4a8c6b995387c72d5f328e333f72c1ab780b47d49bdf4b7696032ccfbb/moneycontrol_api-1.0.9-py3-none-any.whl\n",
      "Installing collected packages: moneycontrol-api\n",
      "Successfully installed moneycontrol-api-1.0.9\n",
      "\u001b[33mWARNING: You are using pip version 19.3.1; however, version 23.3.2 is available.\n",
      "You should consider upgrading via the 'pip install --upgrade pip' command.\u001b[0m\n"
     ]
    }
   ],
   "source": [
    "!pip install moneycontrol-api"
   ]
  },
  {
   "cell_type": "code",
   "execution_count": 2,
   "id": "1d9551cf-7109-41f8-bae1-bdb62ed8b4fc",
   "metadata": {},
   "outputs": [],
   "source": [
    "new_data"
   ]
  },
  {
   "cell_type": "code",
   "execution_count": null,
   "id": "307e1596-292e-4446-ad8b-db0b6ba84d79",
   "metadata": {},
   "outputs": [],
   "source": []
  }
 ],
 "metadata": {
  "kernelspec": {
   "display_name": "Python 3",
   "language": "python",
   "name": "python3"
  },
  "language_info": {
   "codemirror_mode": {
    "name": "ipython",
    "version": 3
   },
   "file_extension": ".py",
   "mimetype": "text/x-python",
   "name": "python",
   "nbconvert_exporter": "python",
   "pygments_lexer": "ipython3",
   "version": "3.9.16"
  }
 },
 "nbformat": 4,
 "nbformat_minor": 5
}
