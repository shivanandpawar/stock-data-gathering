{
 "cells": [
  {
   "cell_type": "code",
   "execution_count": 1,
   "id": "5be68c0c",
   "metadata": {},
   "outputs": [],
   "source": [
    "import os\n",
    "import glob\n",
    "import pandas as pd\n",
    "os.chdir(\"/data/csv/\")"
   ]
  },
  {
   "cell_type": "code",
   "execution_count": 2,
   "id": "0989a8e8",
   "metadata": {},
   "outputs": [],
   "source": [
    "extension = 'csv'\n",
    "all_filenames = [i for i in glob.glob('*.{}'.format(extension))]"
   ]
  },
  {
   "cell_type": "code",
   "execution_count": 5,
   "id": "29e8e9ec",
   "metadata": {},
   "outputs": [
    {
     "name": "stdout",
     "output_type": "stream",
     "text": [
      "/data/csv/cm01FEB2021bhav.csv\n",
      "/data/csv/cm01MAR2021bhav.csv\n",
      "/data/csv/cm01NOV2021bhav.csv\n",
      "/data/csv/cm02AUG2021bhav.csv\n",
      "/data/csv/cm03MAY2021bhav.csv\n",
      "/data/csv/cm03NOV2021bhav.csv\n",
      "/data/csv/cm04JAN2021bhav.csv\n",
      "/data/csv/cm04OCT2021bhav.csv\n",
      "/data/csv/cm05APR2021bhav.csv\n",
      "/data/csv/cm05JUL2021bhav.csv\n",
      "/data/csv/cm06SEP2021bhav.csv\n",
      "/data/csv/cm07JUN2021bhav.csv\n",
      "/data/csv/cm08FEB2021bhav.csv\n",
      "/data/csv/cm08MAR2021bhav.csv\n",
      "/data/csv/cm09AUG2021bhav.csv\n",
      "/data/csv/cm10MAY2021bhav.csv\n",
      "/data/csv/cm11JAN2021bhav.csv\n",
      "/data/csv/cm11OCT2021bhav.csv\n",
      "/data/csv/cm12APR2021bhav.csv\n",
      "/data/csv/cm12JUL2021bhav.csv\n",
      "/data/csv/cm13SEP2021bhav.csv\n",
      "/data/csv/cm14JUN2021bhav.csv\n",
      "/data/csv/cm15FEB2021bhav.csv\n",
      "/data/csv/cm15MAR2021bhav.csv\n",
      "/data/csv/cm16AUG2021bhav.csv\n",
      "/data/csv/cm17MAY2021bhav.csv\n",
      "/data/csv/cm18JAN2021bhav.csv\n",
      "/data/csv/cm18OCT2021bhav.csv\n",
      "/data/csv/cm19APR2021bhav.csv\n",
      "/data/csv/cm19JUL2021bhav.csv\n",
      "/data/csv/cm20SEP2021bhav.csv\n",
      "/data/csv/cm21JUN2021bhav.csv\n",
      "/data/csv/cm22FEB2021bhav.csv\n",
      "/data/csv/cm22MAR2021bhav.csv\n",
      "/data/csv/cm23AUG2021bhav.csv\n",
      "/data/csv/cm24MAY2021bhav.csv\n",
      "/data/csv/cm25JAN2021bhav.csv\n",
      "/data/csv/cm25OCT2021bhav.csv\n",
      "/data/csv/cm26APR2021bhav.csv\n",
      "/data/csv/cm26JUL2021bhav.csv\n",
      "/data/csv/cm27SEP2021bhav.csv\n",
      "/data/csv/cm28JUN2021bhav.csv\n",
      "/data/csv/cm30AUG2021bhav.csv\n",
      "/data/csv/cm31MAY2021bhav.csv\n"
     ]
    }
   ],
   "source": [
    "#combine all files in the list\n",
    "#combined_csv = pd.concat([pd.read_csv(\"/data/csv/\"+f) for f in all_filenames ])\n",
    "#export to csv\n",
    "\n",
    "\n",
    "for f in all_filenames:\n",
    "    fqfn = \"/data/csv/\"+f\n",
    "    print(fqfn)\n",
    "    df1 = pd.read_csv(fqfn)\n",
    "    combined_csv = pd.concat([combined_csv, df1], ignore_index=True)"
   ]
  },
  {
   "cell_type": "code",
   "execution_count": 4,
   "id": "4a11707e",
   "metadata": {},
   "outputs": [],
   "source": [
    "names = [x for x in df1.columns]\n",
    "combined_csv = pd.DataFrame(columns=names)"
   ]
  },
  {
   "cell_type": "code",
   "execution_count": 6,
   "id": "1f9e3771",
   "metadata": {},
   "outputs": [],
   "source": [
    "combined_csv.to_csv(\"/data/combined_stock_data.csv\")"
   ]
  },
  {
   "cell_type": "code",
   "execution_count": null,
   "id": "292e6f10",
   "metadata": {},
   "outputs": [],
   "source": []
  }
 ],
 "metadata": {
  "kernelspec": {
   "display_name": "Python 3",
   "language": "python",
   "name": "python3"
  },
  "language_info": {
   "codemirror_mode": {
    "name": "ipython",
    "version": 3
   },
   "file_extension": ".py",
   "mimetype": "text/x-python",
   "name": "python",
   "nbconvert_exporter": "python",
   "pygments_lexer": "ipython3",
   "version": "3.9.16"
  }
 },
 "nbformat": 4,
 "nbformat_minor": 5
}
