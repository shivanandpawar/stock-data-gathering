{
 "cells": [
  {
   "cell_type": "code",
   "execution_count": 7,
   "id": "4dd3e74c",
   "metadata": {},
   "outputs": [],
   "source": [
    "def download(day, month):\n",
    " \n",
    "    \n",
    "    \n",
    "    import requests\n",
    "\n",
    "    my_referer = \"https://www1.nseindia.com/products/content/equities/equities/archieve_eq.htm\"\n",
    "    #user_agent = \"Mozilla/5.0 (Macintosh; Intel Mac OS X 10.8; rv:21.0) Gecko/20100101 Firefox/21.0\"\n",
    "\n",
    "    r = requests.get('https://www1.nseindia.com/content/historical/EQUITIES/2021/'+month+'/cm'+day+month+'2021bhav.csv.zip', \n",
    "                 headers={'referer': my_referer})\n",
    "\n",
    "    if r.status_code == 200 :\n",
    "        open('/data/zip/cm'+day+month+'2021bhav.csv.zip', 'wb').write(r.content)\n",
    "        import zipfile\n",
    "        with zipfile.ZipFile(\"/data/zip/cm\"+day+month+\"2021bhav.csv.zip\", 'r') as zip_ref:\n",
    "            zip_ref.extractall(\"/data/csv/\")\n",
    "        return True\n",
    "    else:\n",
    "        return False\n",
    "    "
   ]
  },
  {
   "cell_type": "code",
   "execution_count": 8,
   "id": "0721799f",
   "metadata": {},
   "outputs": [
    {
     "data": {
      "text/plain": [
       "True"
      ]
     },
     "execution_count": 8,
     "metadata": {},
     "output_type": "execute_result"
    }
   ],
   "source": [
    "download(\"03\",\"NOV\")    "
   ]
  },
  {
   "cell_type": "code",
   "execution_count": null,
   "id": "dfaa00d2",
   "metadata": {},
   "outputs": [
    {
     "name": "stdout",
     "output_type": "stream",
     "text": [
      "4 1\n",
      "True\n",
      "11 1\n",
      "True\n",
      "18 1\n",
      "True\n",
      "25 1\n",
      "True\n",
      "1 2\n",
      "True\n",
      "8 2\n",
      "True\n",
      "15 2\n",
      "True\n",
      "22 2\n",
      "True\n",
      "1 3\n",
      "True\n",
      "8 3\n",
      "True\n",
      "15 3\n",
      "True\n",
      "22 3\n",
      "True\n",
      "29 3\n",
      "False\n",
      "5 4\n",
      "True\n",
      "12 4\n",
      "True\n",
      "19 4\n",
      "True\n",
      "26 4\n",
      "True\n",
      "3 5\n",
      "True\n",
      "10 5\n",
      "True\n",
      "17 5\n",
      "True\n",
      "24 5\n",
      "True\n",
      "31 5\n",
      "True\n",
      "7 6\n",
      "True\n",
      "14 6\n",
      "True\n",
      "21 6\n",
      "True\n",
      "28 6\n",
      "True\n",
      "5 7\n",
      "True\n",
      "12 7\n",
      "True\n",
      "19 7\n",
      "True\n",
      "26 7\n",
      "True\n",
      "2 8\n",
      "True\n",
      "9 8\n",
      "True\n",
      "16 8\n",
      "True\n",
      "23 8\n",
      "True\n",
      "30 8\n",
      "True\n",
      "6 9\n",
      "True\n"
     ]
    }
   ],
   "source": [
    "from datetime import date, timedelta\n",
    "import time\n",
    "\n",
    "def allmondays(year):\n",
    "   d = date(year, 1, 1)                    # January 1st\n",
    "   d += timedelta(days = 7 - d.weekday())  # First Sunday\n",
    "   while d.year == year:\n",
    "      yield d\n",
    "      d += timedelta(days = 7)\n",
    "    \n",
    "month_dict = {1:\"JAN\", 2:\"FEB\",3:\"MAR\",4:\"APR\",5:\"MAY\",6:\"JUN\",7:\"JUL\",8:\"AUG\",9:\"SEP\",10:\"OCT\",11:\"NOV\",12:\"DEC\"}\n",
    "\n",
    "for d in allmondays(2021):\n",
    "    downloaded = True\n",
    "    download_date = \"\"\n",
    "    if d.day < 10:\n",
    "        download_date = \"0\"+str(d.day)\n",
    "    else:\n",
    "        download_date = str(d.day)\n",
    "    downloaded = download(download_date, month_dict.get(d.month))\n",
    "    print(d.day,d.month)\n",
    "    print(str(downloaded))\n",
    "    if d.month > 10:\n",
    "        break\n",
    "    time.sleep(30)"
   ]
  },
  {
   "cell_type": "code",
   "execution_count": null,
   "id": "840653a6",
   "metadata": {},
   "outputs": [],
   "source": []
  }
 ],
 "metadata": {
  "kernelspec": {
   "display_name": "Python 3",
   "language": "python",
   "name": "python3"
  },
  "language_info": {
   "codemirror_mode": {
    "name": "ipython",
    "version": 3
   },
   "file_extension": ".py",
   "mimetype": "text/x-python",
   "name": "python",
   "nbconvert_exporter": "python",
   "pygments_lexer": "ipython3",
   "version": "3.7.10"
  }
 },
 "nbformat": 4,
 "nbformat_minor": 5
}
