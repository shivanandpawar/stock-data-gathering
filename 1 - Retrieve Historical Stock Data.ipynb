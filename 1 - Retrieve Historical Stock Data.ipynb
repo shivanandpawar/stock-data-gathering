{
 "cells": [
  {
   "cell_type": "code",
   "execution_count": 42,
   "id": "4dd3e74c",
   "metadata": {},
   "outputs": [],
   "source": [
    "def download(day, month):\n",
    " \n",
    "    \n",
    "    \n",
    "    import requests\n",
    "\n",
    "    my_referer = \"https://www1.nseindia.com/products/content/equities/equities/archieve_eq.htm\"\n",
    "    #user_agent = \"Mozilla/5.0 (Macintosh; Intel Mac OS X 10.8; rv:21.0) Gecko/20100101 Firefox/21.0\"\n",
    "\n",
    "    r = requests.get('https://www1.nseindia.com/content/historical/EQUITIES/2019/'+month+'/cm'+day+month+'2019bhav.csv.zip', \n",
    "                 headers={'referer': my_referer})\n",
    "\n",
    "    if r.status_code == 200 :\n",
    "        open('/data/zip/cm'+day+month+'2019bhav.csv.zip', 'wb').write(r.content)\n",
    "        import zipfile\n",
    "        with zipfile.ZipFile(\"/data/zip/cm\"+day+month+\"2019bhav.csv.zip\", 'r') as zip_ref:\n",
    "            zip_ref.extractall(\"/data/csv/\")\n",
    "        return True\n",
    "    else:\n",
    "        return False\n",
    "    "
   ]
  },
  {
   "cell_type": "code",
   "execution_count": 3,
   "id": "7a0eb6ef",
   "metadata": {},
   "outputs": [],
   "source": [
    "import zipfile\n",
    "with zipfile.ZipFile(\"/data/zip/cm01JUL2021bhav.csv.zip\", 'r') as zip_ref:\n",
    "    zip_ref.extractall(\"/data/csv/\")"
   ]
  },
  {
   "cell_type": "code",
   "execution_count": 22,
   "id": "0721799f",
   "metadata": {},
   "outputs": [
    {
     "data": {
      "text/plain": [
       "False"
      ]
     },
     "execution_count": 22,
     "metadata": {},
     "output_type": "execute_result"
    }
   ],
   "source": [
    "download()    "
   ]
  },
  {
   "cell_type": "code",
   "execution_count": 43,
   "id": "dfaa00d2",
   "metadata": {},
   "outputs": [],
   "source": [
    "from datetime import date, timedelta\n",
    "\n",
    "def allsundays(year):\n",
    "   d = date(year, 1, 1)                    # January 1st\n",
    "   d += timedelta(days = 7 - d.weekday())  # First Sunday\n",
    "   while d.year == year:\n",
    "      yield d\n",
    "      d += timedelta(days = 7)\n",
    "    \n",
    "month_dict = {1:\"JAN\", 2:\"FEB\",3:\"MAR\",4:\"APR\",5:\"MAY\",6:\"JUN\",7:\"JUL\",8:\"AUG\",9:\"SEP\",10:\"OCT\",11:\"NOV\",12:\"DEC\"}\n",
    "\n",
    "for d in allsundays(2019):\n",
    "    if d.day < 10:\n",
    "        download(\"0\"+str(d.day), month_dict.get(d.month))\n",
    "    else:\n",
    "        download(d.day, month_dict.get(d.month))\n",
    "    break"
   ]
  },
  {
   "cell_type": "code",
   "execution_count": null,
   "id": "840653a6",
   "metadata": {},
   "outputs": [],
   "source": []
  }
 ],
 "metadata": {
  "kernelspec": {
   "display_name": "Python 3",
   "language": "python",
   "name": "python3"
  },
  "language_info": {
   "codemirror_mode": {
    "name": "ipython",
    "version": 3
   },
   "file_extension": ".py",
   "mimetype": "text/x-python",
   "name": "python",
   "nbconvert_exporter": "python",
   "pygments_lexer": "ipython3",
   "version": "3.7.10"
  }
 },
 "nbformat": 4,
 "nbformat_minor": 5
}
