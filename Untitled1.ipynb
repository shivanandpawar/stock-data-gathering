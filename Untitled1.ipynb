{
 "cells": [
  {
   "cell_type": "code",
   "execution_count": 18,
   "id": "6c31f7f9-3e18-43e7-ba6c-eb8c61362457",
   "metadata": {},
   "outputs": [],
   "source": [
    "import pandas as pd\n",
    "import time\n",
    "import finnhub\n",
    "\n",
    "stock = pd.read_csv(\"/data/stock_master.csv\")"
   ]
  },
  {
   "cell_type": "code",
   "execution_count": 10,
   "id": "f94568ce-844c-4dd5-a817-9fe96b4876be",
   "metadata": {},
   "outputs": [],
   "source": [
    "stock = stock.head()"
   ]
  },
  {
   "cell_type": "code",
   "execution_count": null,
   "id": "3a6651a1-36c9-4427-93a1-bd2a4713df8a",
   "metadata": {},
   "outputs": [],
   "source": [
    "def fetch_nse_id(company_name):\n",
    "    import re\n",
    "    pattern = re.compile(\"limited\", re.IGNORECASE)\n",
    "    company_name = pattern.sub(\"\", company_name).strip()\n",
    "    print(company_name)\n",
    "    finnhub_client = finnhub.Client(api_key=\"c5k5j3qad3ie96ef67kg\")\n",
    "    lookup_data = finnhub_client.symbol_lookup(company_name)\n",
    "    for val in lookup_data['result']:\n",
    "        if val['displaySymbol'].endswith(\".NS\"):\n",
    "            return val['displaySymbol']"
   ]
  },
  {
   "cell_type": "code",
   "execution_count": 29,
   "id": "acd2204b-84a7-4cea-82aa-062b62dc2f27",
   "metadata": {},
   "outputs": [
    {
     "name": "stdout",
     "output_type": "stream",
     "text": [
      "20 Microns \n",
      "21st Century Management Services \n",
      "3i Infotech \n",
      "3M India \n",
      "3P Land Holdings \n",
      "3rd Rock Multimedia \n",
      "5Paisa Capital \n",
      "63 Moons Technologies \n",
      "A and M Jumbo Bags \n",
      "A B Infrabuild \n",
      "A B N Intercorp \n",
      "A2Z Infra Engineering \n",
      "Aakash Exploration Services \n",
      "Aaron Industries \n"
     ]
    },
    {
     "ename": "KeyboardInterrupt",
     "evalue": "",
     "output_type": "error",
     "traceback": [
      "\u001b[0;31m---------------------------------------------------------------------------\u001b[0m",
      "\u001b[0;31mKeyboardInterrupt\u001b[0m                         Traceback (most recent call last)",
      "Cell \u001b[0;32mIn[29], line 5\u001b[0m\n\u001b[1;32m      3\u001b[0m     values \u001b[38;5;241m=\u001b[39m [stock[\u001b[38;5;124m'\u001b[39m\u001b[38;5;124mSymbol\u001b[39m\u001b[38;5;124m'\u001b[39m][ind], stock[\u001b[38;5;124m'\u001b[39m\u001b[38;5;124mCompany name\u001b[39m\u001b[38;5;124m'\u001b[39m][ind], fetch_nse_id(stock[\u001b[38;5;124m'\u001b[39m\u001b[38;5;124mCompany name\u001b[39m\u001b[38;5;124m'\u001b[39m][ind])]\n\u001b[1;32m      4\u001b[0m     \u001b[38;5;28mlist\u001b[39m\u001b[38;5;241m.\u001b[39mappend(values)\n\u001b[0;32m----> 5\u001b[0m     \u001b[43mtime\u001b[49m\u001b[38;5;241;43m.\u001b[39;49m\u001b[43msleep\u001b[49m\u001b[43m(\u001b[49m\u001b[38;5;241;43m5\u001b[39;49m\u001b[43m)\u001b[49m\n\u001b[1;32m      7\u001b[0m \u001b[38;5;28mlist\u001b[39m\n",
      "\u001b[0;31mKeyboardInterrupt\u001b[0m: "
     ]
    }
   ],
   "source": [
    "list = []\n",
    "for ind in stock.index:\n",
    "    values = [stock['Symbol'][ind], stock['Company name'][ind], fetch_nse_id(stock['Company name'][ind])]\n",
    "    list.append(values)\n",
    "    time.sleep(5)\n",
    "    \n",
    "list"
   ]
  },
  {
   "cell_type": "code",
   "execution_count": 30,
   "id": "86b3c517-8986-48d9-b446-259a018b105b",
   "metadata": {},
   "outputs": [],
   "source": [
    "df = pd.DataFrame(list, columns = ['Symbol', 'CompanyName', 'NSEID'])"
   ]
  },
  {
   "cell_type": "code",
   "execution_count": 31,
   "id": "8c58e508-b3fd-47d7-a30f-d582e155a00c",
   "metadata": {},
   "outputs": [
    {
     "data": {
      "text/html": [
       "<div>\n",
       "<style scoped>\n",
       "    .dataframe tbody tr th:only-of-type {\n",
       "        vertical-align: middle;\n",
       "    }\n",
       "\n",
       "    .dataframe tbody tr th {\n",
       "        vertical-align: top;\n",
       "    }\n",
       "\n",
       "    .dataframe thead th {\n",
       "        text-align: right;\n",
       "    }\n",
       "</style>\n",
       "<table border=\"1\" class=\"dataframe\">\n",
       "  <thead>\n",
       "    <tr style=\"text-align: right;\">\n",
       "      <th></th>\n",
       "      <th>Symbol</th>\n",
       "      <th>CompanyName</th>\n",
       "      <th>NSEID</th>\n",
       "    </tr>\n",
       "  </thead>\n",
       "  <tbody>\n",
       "    <tr>\n",
       "      <th>0</th>\n",
       "      <td>NSE: 20MICRONS</td>\n",
       "      <td>20 Microns Limited</td>\n",
       "      <td>20MICRONS.NS</td>\n",
       "    </tr>\n",
       "    <tr>\n",
       "      <th>1</th>\n",
       "      <td>NSE: 21STCENMGM</td>\n",
       "      <td>21st Century Management Services Limited</td>\n",
       "      <td>None</td>\n",
       "    </tr>\n",
       "    <tr>\n",
       "      <th>2</th>\n",
       "      <td>NSE: 3IINFOTECH</td>\n",
       "      <td>3i Infotech Limited</td>\n",
       "      <td>None</td>\n",
       "    </tr>\n",
       "    <tr>\n",
       "      <th>3</th>\n",
       "      <td>NSE: 3MINDIA</td>\n",
       "      <td>3M India Limited</td>\n",
       "      <td>None</td>\n",
       "    </tr>\n",
       "    <tr>\n",
       "      <th>4</th>\n",
       "      <td>NSE: 3PLAND</td>\n",
       "      <td>3P Land Holdings Limited</td>\n",
       "      <td>3PLAND.NS</td>\n",
       "    </tr>\n",
       "    <tr>\n",
       "      <th>5</th>\n",
       "      <td>NSE: 3RDROCK</td>\n",
       "      <td>3rd Rock Multimedia Limited</td>\n",
       "      <td>None</td>\n",
       "    </tr>\n",
       "    <tr>\n",
       "      <th>6</th>\n",
       "      <td>NSE: 5PAISA</td>\n",
       "      <td>5Paisa Capital Limited</td>\n",
       "      <td>5PAISA.NS</td>\n",
       "    </tr>\n",
       "    <tr>\n",
       "      <th>7</th>\n",
       "      <td>NSE: 63MOONS</td>\n",
       "      <td>63 Moons Technologies Limited</td>\n",
       "      <td>63MOONS.NS</td>\n",
       "    </tr>\n",
       "    <tr>\n",
       "      <th>8</th>\n",
       "      <td>NSE: AMJUMBO</td>\n",
       "      <td>A and M Jumbo Bags Limited</td>\n",
       "      <td>None</td>\n",
       "    </tr>\n",
       "    <tr>\n",
       "      <th>9</th>\n",
       "      <td>NSE: ABINFRA</td>\n",
       "      <td>A B Infrabuild Limited</td>\n",
       "      <td>None</td>\n",
       "    </tr>\n",
       "    <tr>\n",
       "      <th>10</th>\n",
       "      <td>NSE: ABNINT</td>\n",
       "      <td>A B N Intercorp Limited</td>\n",
       "      <td>None</td>\n",
       "    </tr>\n",
       "    <tr>\n",
       "      <th>11</th>\n",
       "      <td>NSE: A2ZINFRA</td>\n",
       "      <td>A2Z Infra Engineering Limited</td>\n",
       "      <td>A2ZINFRA.NS</td>\n",
       "    </tr>\n",
       "    <tr>\n",
       "      <th>12</th>\n",
       "      <td>NSE: AAKASH</td>\n",
       "      <td>Aakash Exploration Services Limited</td>\n",
       "      <td>None</td>\n",
       "    </tr>\n",
       "    <tr>\n",
       "      <th>13</th>\n",
       "      <td>NSE: AARON</td>\n",
       "      <td>Aaron Industries Limited</td>\n",
       "      <td>AARON.NS</td>\n",
       "    </tr>\n",
       "  </tbody>\n",
       "</table>\n",
       "</div>"
      ],
      "text/plain": [
       "             Symbol                               CompanyName         NSEID\n",
       "0    NSE: 20MICRONS                        20 Microns Limited  20MICRONS.NS\n",
       "1   NSE: 21STCENMGM  21st Century Management Services Limited          None\n",
       "2   NSE: 3IINFOTECH                       3i Infotech Limited          None\n",
       "3      NSE: 3MINDIA                          3M India Limited          None\n",
       "4       NSE: 3PLAND                  3P Land Holdings Limited     3PLAND.NS\n",
       "5      NSE: 3RDROCK               3rd Rock Multimedia Limited          None\n",
       "6       NSE: 5PAISA                    5Paisa Capital Limited     5PAISA.NS\n",
       "7      NSE: 63MOONS             63 Moons Technologies Limited    63MOONS.NS\n",
       "8      NSE: AMJUMBO                A and M Jumbo Bags Limited          None\n",
       "9      NSE: ABINFRA                    A B Infrabuild Limited          None\n",
       "10      NSE: ABNINT                   A B N Intercorp Limited          None\n",
       "11    NSE: A2ZINFRA             A2Z Infra Engineering Limited   A2ZINFRA.NS\n",
       "12      NSE: AAKASH       Aakash Exploration Services Limited          None\n",
       "13       NSE: AARON                  Aaron Industries Limited      AARON.NS"
      ]
     },
     "execution_count": 31,
     "metadata": {},
     "output_type": "execute_result"
    }
   ],
   "source": [
    "df"
   ]
  },
  {
   "cell_type": "code",
   "execution_count": 26,
   "id": "15980a60-3751-481d-b23e-3af49ac702b1",
   "metadata": {},
   "outputs": [],
   "source": []
  },
  {
   "cell_type": "code",
   "execution_count": 38,
   "id": "1ebfd01c-27bd-4065-9aad-29b60312c782",
   "metadata": {},
   "outputs": [
    {
     "name": "stdout",
     "output_type": "stream",
     "text": [
      "3M India \n"
     ]
    },
    {
     "data": {
      "text/plain": [
       "'3MINDIA.NS'"
      ]
     },
     "execution_count": 38,
     "metadata": {},
     "output_type": "execute_result"
    }
   ],
   "source": [
    "fetch_nse_id(\"3M India Limited\t\".strip())"
   ]
  },
  {
   "cell_type": "code",
   "execution_count": 21,
   "id": "2507e282-b5be-4aa9-bfbe-3d832d9248a7",
   "metadata": {},
   "outputs": [
    {
     "data": {
      "text/plain": [
       "'20 Microns '"
      ]
     },
     "execution_count": 21,
     "metadata": {},
     "output_type": "execute_result"
    }
   ],
   "source": [
    "import re\n",
    "pattern = re.compile(\"limited\", re.IGNORECASE)\n",
    "pattern.sub(\"\", \"20 Microns Limited\")\n"
   ]
  },
  {
   "cell_type": "code",
   "execution_count": null,
   "id": "1288fc2b-1433-4599-94b7-a87fa71bd5cd",
   "metadata": {},
   "outputs": [],
   "source": []
  }
 ],
 "metadata": {
  "kernelspec": {
   "display_name": "Python 3",
   "language": "python",
   "name": "python3"
  },
  "language_info": {
   "codemirror_mode": {
    "name": "ipython",
    "version": 3
   },
   "file_extension": ".py",
   "mimetype": "text/x-python",
   "name": "python",
   "nbconvert_exporter": "python",
   "pygments_lexer": "ipython3",
   "version": "3.9.16"
  }
 },
 "nbformat": 4,
 "nbformat_minor": 5
}
