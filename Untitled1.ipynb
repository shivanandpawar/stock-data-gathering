{
 "cells": [
  {
   "cell_type": "code",
   "execution_count": 47,
   "id": "6c31f7f9-3e18-43e7-ba6c-eb8c61362457",
   "metadata": {},
   "outputs": [],
   "source": [
    "import pandas as pd\n",
    "import time\n",
    "import finnhub\n",
    "\n",
    "stock = pd.read_csv(\"/data/stock_master.csv\")"
   ]
  },
  {
   "cell_type": "code",
   "execution_count": 48,
   "id": "f94568ce-844c-4dd5-a817-9fe96b4876be",
   "metadata": {},
   "outputs": [],
   "source": [
    "stock = stock.head(10)"
   ]
  },
  {
   "cell_type": "code",
   "execution_count": 50,
   "id": "3a6651a1-36c9-4427-93a1-bd2a4713df8a",
   "metadata": {},
   "outputs": [],
   "source": [
    "def fetch_nse_id(company_name):\n",
    "    company_name = company_name.replace(u'\\xa0', u' ').strip()\n",
    "    \n",
    "    import re\n",
    "    pattern = re.compile(\"limited\", re.IGNORECASE)\n",
    "    company_name = pattern.sub(\"\", company_name)\n",
    "    print(company_name)\n",
    "    finnhub_client = finnhub.Client(api_key=\"c5k5j3qad3ie96ef67kg\")\n",
    "    lookup_data = finnhub_client.symbol_lookup(company_name)\n",
    "    for val in lookup_data['result']:\n",
    "        if val['displaySymbol'].endswith(\".NS\"):\n",
    "            return val['displaySymbol']"
   ]
  },
  {
   "cell_type": "code",
   "execution_count": 51,
   "id": "acd2204b-84a7-4cea-82aa-062b62dc2f27",
   "metadata": {},
   "outputs": [
    {
     "name": "stdout",
     "output_type": "stream",
     "text": [
      "20 Microns \n",
      "21st Century Management Services \n",
      "3i Infotech \n",
      "3M India \n",
      "3P Land Holdings \n",
      "3rd Rock Multimedia \n",
      "5Paisa Capital \n",
      "63 Moons Technologies \n",
      "A and M Jumbo Bags \n",
      "A B Infrabuild \n"
     ]
    },
    {
     "data": {
      "text/html": [
       "<div>\n",
       "<style scoped>\n",
       "    .dataframe tbody tr th:only-of-type {\n",
       "        vertical-align: middle;\n",
       "    }\n",
       "\n",
       "    .dataframe tbody tr th {\n",
       "        vertical-align: top;\n",
       "    }\n",
       "\n",
       "    .dataframe thead th {\n",
       "        text-align: right;\n",
       "    }\n",
       "</style>\n",
       "<table border=\"1\" class=\"dataframe\">\n",
       "  <thead>\n",
       "    <tr style=\"text-align: right;\">\n",
       "      <th></th>\n",
       "      <th>Symbol</th>\n",
       "      <th>CompanyName</th>\n",
       "      <th>NSEID</th>\n",
       "    </tr>\n",
       "  </thead>\n",
       "  <tbody>\n",
       "    <tr>\n",
       "      <th>0</th>\n",
       "      <td>NSE: 20MICRONS</td>\n",
       "      <td>20 Microns Limited</td>\n",
       "      <td>20MICRONS.NS</td>\n",
       "    </tr>\n",
       "    <tr>\n",
       "      <th>1</th>\n",
       "      <td>NSE: 21STCENMGM</td>\n",
       "      <td>21st Century Management Services Limited</td>\n",
       "      <td>None</td>\n",
       "    </tr>\n",
       "    <tr>\n",
       "      <th>2</th>\n",
       "      <td>NSE: 3IINFOTECH</td>\n",
       "      <td>3i Infotech Limited</td>\n",
       "      <td>3IINFOLTD.NS</td>\n",
       "    </tr>\n",
       "    <tr>\n",
       "      <th>3</th>\n",
       "      <td>NSE: 3MINDIA</td>\n",
       "      <td>3M India Limited</td>\n",
       "      <td>3MINDIA.NS</td>\n",
       "    </tr>\n",
       "    <tr>\n",
       "      <th>4</th>\n",
       "      <td>NSE: 3PLAND</td>\n",
       "      <td>3P Land Holdings Limited</td>\n",
       "      <td>3PLAND.NS</td>\n",
       "    </tr>\n",
       "    <tr>\n",
       "      <th>5</th>\n",
       "      <td>NSE: 3RDROCK</td>\n",
       "      <td>3rd Rock Multimedia Limited</td>\n",
       "      <td>None</td>\n",
       "    </tr>\n",
       "    <tr>\n",
       "      <th>6</th>\n",
       "      <td>NSE: 5PAISA</td>\n",
       "      <td>5Paisa Capital Limited</td>\n",
       "      <td>5PAISA.NS</td>\n",
       "    </tr>\n",
       "    <tr>\n",
       "      <th>7</th>\n",
       "      <td>NSE: 63MOONS</td>\n",
       "      <td>63 Moons Technologies Limited</td>\n",
       "      <td>63MOONS.NS</td>\n",
       "    </tr>\n",
       "    <tr>\n",
       "      <th>8</th>\n",
       "      <td>NSE: AMJUMBO</td>\n",
       "      <td>A and M Jumbo Bags Limited</td>\n",
       "      <td>None</td>\n",
       "    </tr>\n",
       "    <tr>\n",
       "      <th>9</th>\n",
       "      <td>NSE: ABINFRA</td>\n",
       "      <td>A B Infrabuild Limited</td>\n",
       "      <td>None</td>\n",
       "    </tr>\n",
       "  </tbody>\n",
       "</table>\n",
       "</div>"
      ],
      "text/plain": [
       "            Symbol                               CompanyName         NSEID\n",
       "0   NSE: 20MICRONS                        20 Microns Limited  20MICRONS.NS\n",
       "1  NSE: 21STCENMGM  21st Century Management Services Limited          None\n",
       "2  NSE: 3IINFOTECH                       3i Infotech Limited  3IINFOLTD.NS\n",
       "3     NSE: 3MINDIA                          3M India Limited    3MINDIA.NS\n",
       "4      NSE: 3PLAND                  3P Land Holdings Limited     3PLAND.NS\n",
       "5     NSE: 3RDROCK               3rd Rock Multimedia Limited          None\n",
       "6      NSE: 5PAISA                    5Paisa Capital Limited     5PAISA.NS\n",
       "7     NSE: 63MOONS             63 Moons Technologies Limited    63MOONS.NS\n",
       "8     NSE: AMJUMBO                A and M Jumbo Bags Limited          None\n",
       "9     NSE: ABINFRA                    A B Infrabuild Limited          None"
      ]
     },
     "execution_count": 51,
     "metadata": {},
     "output_type": "execute_result"
    }
   ],
   "source": [
    "list = []\n",
    "for ind in stock.index:\n",
    "    values = [stock['Symbol'][ind], stock['Company name'][ind], fetch_nse_id(stock['Company name'][ind])]\n",
    "    list.append(values)\n",
    "    time.sleep(1)\n",
    "    \n",
    "df = pd.DataFrame(list, columns = ['Symbol', 'CompanyName', 'NSEID'])\n",
    "\n",
    "df"
   ]
  },
  {
   "cell_type": "code",
   "execution_count": 38,
   "id": "1ebfd01c-27bd-4065-9aad-29b60312c782",
   "metadata": {},
   "outputs": [
    {
     "name": "stdout",
     "output_type": "stream",
     "text": [
      "3M India \n"
     ]
    },
    {
     "data": {
      "text/plain": [
       "'3MINDIA.NS'"
      ]
     },
     "execution_count": 38,
     "metadata": {},
     "output_type": "execute_result"
    }
   ],
   "source": [
    "fetch_nse_id(\"3M India Limited\t\".strip())"
   ]
  },
  {
   "cell_type": "code",
   "execution_count": 21,
   "id": "2507e282-b5be-4aa9-bfbe-3d832d9248a7",
   "metadata": {},
   "outputs": [
    {
     "data": {
      "text/plain": [
       "'20 Microns '"
      ]
     },
     "execution_count": 21,
     "metadata": {},
     "output_type": "execute_result"
    }
   ],
   "source": [
    "import re\n",
    "pattern = re.compile(\"limited\", re.IGNORECASE)\n",
    "pattern.sub(\"\", \"20 Microns Limited\")\n"
   ]
  },
  {
   "cell_type": "code",
   "execution_count": null,
   "id": "1288fc2b-1433-4599-94b7-a87fa71bd5cd",
   "metadata": {},
   "outputs": [],
   "source": []
  }
 ],
 "metadata": {
  "kernelspec": {
   "display_name": "Python 3",
   "language": "python",
   "name": "python3"
  },
  "language_info": {
   "codemirror_mode": {
    "name": "ipython",
    "version": 3
   },
   "file_extension": ".py",
   "mimetype": "text/x-python",
   "name": "python",
   "nbconvert_exporter": "python",
   "pygments_lexer": "ipython3",
   "version": "3.9.16"
  }
 },
 "nbformat": 4,
 "nbformat_minor": 5
}
