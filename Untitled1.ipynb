{
 "cells": [
  {
   "cell_type": "code",
   "execution_count": 1,
   "id": "6c31f7f9-3e18-43e7-ba6c-eb8c61362457",
   "metadata": {},
   "outputs": [],
   "source": [
    "import pandas as pd\n",
    "stock = pd.read_csv(\"/data/stock_master.csv\")"
   ]
  },
  {
   "cell_type": "code",
   "execution_count": 2,
   "id": "f94568ce-844c-4dd5-a817-9fe96b4876be",
   "metadata": {},
   "outputs": [
    {
     "data": {
      "text/html": [
       "<div>\n",
       "<style scoped>\n",
       "    .dataframe tbody tr th:only-of-type {\n",
       "        vertical-align: middle;\n",
       "    }\n",
       "\n",
       "    .dataframe tbody tr th {\n",
       "        vertical-align: top;\n",
       "    }\n",
       "\n",
       "    .dataframe thead th {\n",
       "        text-align: right;\n",
       "    }\n",
       "</style>\n",
       "<table border=\"1\" class=\"dataframe\">\n",
       "  <thead>\n",
       "    <tr style=\"text-align: right;\">\n",
       "      <th></th>\n",
       "      <th>Symbol</th>\n",
       "      <th>Company name</th>\n",
       "    </tr>\n",
       "  </thead>\n",
       "  <tbody>\n",
       "    <tr>\n",
       "      <th>0</th>\n",
       "      <td>NSE: 20MICRONS</td>\n",
       "      <td>20 Microns Limited</td>\n",
       "    </tr>\n",
       "    <tr>\n",
       "      <th>1</th>\n",
       "      <td>NSE: 21STCENMGM</td>\n",
       "      <td>21st Century Management Services Limited</td>\n",
       "    </tr>\n",
       "    <tr>\n",
       "      <th>2</th>\n",
       "      <td>NSE: 3IINFOTECH</td>\n",
       "      <td>3i Infotech Limited</td>\n",
       "    </tr>\n",
       "    <tr>\n",
       "      <th>3</th>\n",
       "      <td>NSE: 3MINDIA</td>\n",
       "      <td>3M India Limited</td>\n",
       "    </tr>\n",
       "    <tr>\n",
       "      <th>4</th>\n",
       "      <td>NSE: 3PLAND</td>\n",
       "      <td>3P Land Holdings Limited</td>\n",
       "    </tr>\n",
       "  </tbody>\n",
       "</table>\n",
       "</div>"
      ],
      "text/plain": [
       "            Symbol                              Company name\n",
       "0   NSE: 20MICRONS                        20 Microns Limited\n",
       "1  NSE: 21STCENMGM  21st Century Management Services Limited\n",
       "2  NSE: 3IINFOTECH                       3i Infotech Limited\n",
       "3     NSE: 3MINDIA                          3M India Limited\n",
       "4      NSE: 3PLAND                  3P Land Holdings Limited"
      ]
     },
     "execution_count": 2,
     "metadata": {},
     "output_type": "execute_result"
    }
   ],
   "source": [
    "stock.head()"
   ]
  },
  {
   "cell_type": "code",
   "execution_count": 3,
   "id": "acd2204b-84a7-4cea-82aa-062b62dc2f27",
   "metadata": {},
   "outputs": [
    {
     "ename": "NameError",
     "evalue": "name 'df' is not defined",
     "output_type": "error",
     "traceback": [
      "\u001b[0;31m---------------------------------------------------------------------------\u001b[0m",
      "\u001b[0;31mNameError\u001b[0m                                 Traceback (most recent call last)",
      "Cell \u001b[0;32mIn[3], line 1\u001b[0m\n\u001b[0;32m----> 1\u001b[0m \u001b[38;5;28;01mfor\u001b[39;00m ind \u001b[38;5;129;01min\u001b[39;00m \u001b[43mdf\u001b[49m\u001b[38;5;241m.\u001b[39mindex:\n\u001b[1;32m      2\u001b[0m     \u001b[38;5;28mprint\u001b[39m(df[\u001b[38;5;124m'\u001b[39m\u001b[38;5;124mSymbol\u001b[39m\u001b[38;5;124m'\u001b[39m][ind], df[\u001b[38;5;124m'\u001b[39m\u001b[38;5;124mCompany name\u001b[39m\u001b[38;5;124m'\u001b[39m][ind])\n",
      "\u001b[0;31mNameError\u001b[0m: name 'df' is not defined"
     ]
    }
   ],
   "source": [
    "for ind in stock.index:\n",
    "    print(df['Symbol'][ind], df['Company name'][ind])"
   ]
  },
  {
   "cell_type": "code",
   "execution_count": null,
   "id": "86b3c517-8986-48d9-b446-259a018b105b",
   "metadata": {},
   "outputs": [],
   "source": []
  }
 ],
 "metadata": {
  "kernelspec": {
   "display_name": "Python 3",
   "language": "python",
   "name": "python3"
  },
  "language_info": {
   "codemirror_mode": {
    "name": "ipython",
    "version": 3
   },
   "file_extension": ".py",
   "mimetype": "text/x-python",
   "name": "python",
   "nbconvert_exporter": "python",
   "pygments_lexer": "ipython3",
   "version": "3.9.16"
  }
 },
 "nbformat": 4,
 "nbformat_minor": 5
}
