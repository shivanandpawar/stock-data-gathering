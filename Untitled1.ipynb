{
 "cells": [
  {
   "cell_type": "code",
   "execution_count": 1,
   "id": "3e3e82cd",
   "metadata": {},
   "outputs": [],
   "source": [
    "import requests\n",
    "\n",
    "# Set up the API endpoint URL and the bearer token\n",
    "url = \"https://qa.refract-fosfor.com/mosaic-console-backend/secured/api/project/v1\"\n",
    "token = \"eyJhbGciOiJSUzI1NiIsInR5cCIgOiAiSldUIiwia2lkIiA6ICJ4WTdTd3k5UE1xaXRDQmNSMm5qcVl6bmoxS3NqZzV3TmdOV0xDVzdyUkhvIn0.eyJleHAiOjE2OTIzMzcwMjgsImlhdCI6MTY5MjMzNTIyOCwiYXV0aF90aW1lIjoxNjkyMzM1MjAxLCJqdGkiOiJjYzY1Y2M3OS1hNzRmLTQxNDAtOTg2Zi1kMzI0ZDQ5Mjg3MWQiLCJpc3MiOiJodHRwczovL3FhLWF1dGgucmVmcmFjdC1mb3Nmb3IuY29tL2F1dGgvcmVhbG1zL21vc2FpYyIsImF1ZCI6WyJtb3NhaWMtZ2F0ZWtlZXBlciIsImFjY291bnQiXSwic3ViIjoiMWM5MGQ0ZmYtYzA4Zi00OWUyLTgxZWUtM2UxMzAwNWFkMzdkIiwidHlwIjoiQmVhcmVyIiwiYXpwIjoibW9zYWljLWdhdGVrZWVwZXIiLCJzZXNzaW9uX3N0YXRlIjoiZjZiNGEyYTktZjMzZS00NzIxLWE2NzEtZDMzMjFiODU1ODlkIiwiYWxsb3dlZC1vcmlnaW5zIjpbIioiXSwicmVhbG1fYWNjZXNzIjp7InJvbGVzIjpbIk1MT1BTIiwiZGVmYXVsdC1yb2xlcy1tb3NhaWMiLCJyZWZyYWN0LWRldmVsb3BlciIsIm9mZmxpbmVfYWNjZXNzIiwidW1hX2F1dGhvcml6YXRpb24iXX0sInJlc291cmNlX2FjY2VzcyI6eyJhY2NvdW50Ijp7InJvbGVzIjpbIm1hbmFnZS1hY2NvdW50IiwibWFuYWdlLWFjY291bnQtbGlua3MiLCJ2aWV3LXByb2ZpbGUiXX19LCJzY29wZSI6Im9wZW5pZCBlbWFpbCBwcm9maWxlIiwic2lkIjoiZjZiNGEyYTktZjMzZS00NzIxLWE2NzEtZDMzMjFiODU1ODlkIiwiZW1haWxfdmVyaWZpZWQiOmZhbHNlLCJuYW1lIjoiU2hpdmFuYW5kIFBhd2FyIiwicHJlZmVycmVkX3VzZXJuYW1lIjoic2hpdmFuYW5kLjEwNjM5NTEzQGx0aW1pbmR0cmVlLmNvbSIsImdpdmVuX25hbWUiOiJTaGl2YW5hbmQiLCJmYW1pbHlfbmFtZSI6IlBhd2FyIiwiZW1haWwiOiJzaGl2YW5hbmQucGF3YXJAbHRpbWluZHRyZWUuY29tIn0.LHVxuFwaK3s2rnsWg_ZZXVvy3PsjRrtJQ-X9PaVzzlA8T8IisLNfnU29YVS9BhefIwUMWcMRO8Ro8zTxiunvCtsiSKt8wX4oPGmpZZNL6C1-brRNH_q_i23DxK2IhkYe0ABcO5ZWN68_xz7S8mmVTZJyxiDNKquXGinpxBgWRMaT3vy4Qs0YyrvLL4uxE61D8-kP6yS8i2Q9B1ROUrlZKkCZ_-g1mGX8cgT9CIIaGl4WimxPzzYimEELiu75qDJoOS5zh38MnJQllU5YNvBT2CHrJg80z-NpkVo8OLHBbZkUUP2TexezxOtKa2rMY2YVljsz6acqa7VKq_0hgMVjLQ\"\n"
   ]
  },
  {
   "cell_type": "code",
   "execution_count": null,
   "id": "85c7feee",
   "metadata": {},
   "outputs": [],
   "source": []
  }
 ],
 "metadata": {
  "kernelspec": {
   "display_name": "Python 3",
   "language": "python",
   "name": "python3"
  },
  "language_info": {
   "codemirror_mode": {
    "name": "ipython",
    "version": 3
   },
   "file_extension": ".py",
   "mimetype": "text/x-python",
   "name": "python",
   "nbconvert_exporter": "python",
   "pygments_lexer": "ipython3",
   "version": "3.8.12"
  }
 },
 "nbformat": 4,
 "nbformat_minor": 5
}
