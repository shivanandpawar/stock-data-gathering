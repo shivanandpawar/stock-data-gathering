{
 "cells": [
  {
   "cell_type": "code",
   "execution_count": 18,
   "id": "6c31f7f9-3e18-43e7-ba6c-eb8c61362457",
   "metadata": {},
   "outputs": [],
   "source": [
    "import pandas as pd\n",
    "import time\n",
    "import finnhub\n",
    "\n",
    "stock = pd.read_csv(\"/data/stock_master.csv\")"
   ]
  },
  {
   "cell_type": "code",
   "execution_count": 10,
   "id": "f94568ce-844c-4dd5-a817-9fe96b4876be",
   "metadata": {},
   "outputs": [],
   "source": [
    "stock = stock.head()"
   ]
  },
  {
   "cell_type": "code",
   "execution_count": null,
   "id": "3a6651a1-36c9-4427-93a1-bd2a4713df8a",
   "metadata": {},
   "outputs": [],
   "source": [
    "def fetch_nse_id(company_name):\n",
    "    import re\n",
    "    pattern = re.compile(\"limited\", re.IGNORECASE)\n",
    "    company_name = pattern.sub(\"\", company_name)\n",
    "    print(company_name)\n",
    "    finnhub_client = finnhub.Client(api_key=\"c5k5j3qad3ie96ef67kg\")\n",
    "    lookup_data = finnhub_client.symbol_lookup(company_name)\n",
    "    for val in lookup_data['result']:\n",
    "        if val['displaySymbol'].endswith(\".NS\"):\n",
    "            return val['displaySymbol']"
   ]
  },
  {
   "cell_type": "code",
   "execution_count": null,
   "id": "acd2204b-84a7-4cea-82aa-062b62dc2f27",
   "metadata": {},
   "outputs": [
    {
     "name": "stdout",
     "output_type": "stream",
     "text": [
      "20 Microns \n",
      "21st Century Management Services \n",
      "3i Infotech \n",
      "3M India \n",
      "3P Land Holdings \n",
      "3rd Rock Multimedia \n",
      "5Paisa Capital \n",
      "63 Moons Technologies \n",
      "A and M Jumbo Bags \n",
      "A B Infrabuild \n"
     ]
    }
   ],
   "source": [
    "list = []\n",
    "for ind in stock.index:\n",
    "    values = [stock['Symbol'][ind], stock['Company name'][ind], fetch_nse_id(stock['Company name'][ind])]\n",
    "    list.append(values)\n",
    "    time.sleep(5)\n",
    "    \n",
    "list"
   ]
  },
  {
   "cell_type": "code",
   "execution_count": 13,
   "id": "86b3c517-8986-48d9-b446-259a018b105b",
   "metadata": {},
   "outputs": [],
   "source": [
    "df = pd.DataFrame(list, columns = ['Symbol', 'CompanyName', 'NSEID'])"
   ]
  },
  {
   "cell_type": "code",
   "execution_count": 14,
   "id": "8c58e508-b3fd-47d7-a30f-d582e155a00c",
   "metadata": {},
   "outputs": [
    {
     "data": {
      "text/html": [
       "<div>\n",
       "<style scoped>\n",
       "    .dataframe tbody tr th:only-of-type {\n",
       "        vertical-align: middle;\n",
       "    }\n",
       "\n",
       "    .dataframe tbody tr th {\n",
       "        vertical-align: top;\n",
       "    }\n",
       "\n",
       "    .dataframe thead th {\n",
       "        text-align: right;\n",
       "    }\n",
       "</style>\n",
       "<table border=\"1\" class=\"dataframe\">\n",
       "  <thead>\n",
       "    <tr style=\"text-align: right;\">\n",
       "      <th></th>\n",
       "      <th>Symbol</th>\n",
       "      <th>CompanyName</th>\n",
       "      <th>NSEID</th>\n",
       "    </tr>\n",
       "  </thead>\n",
       "  <tbody>\n",
       "    <tr>\n",
       "      <th>0</th>\n",
       "      <td>NSE: 20MICRONS</td>\n",
       "      <td>20 Microns Limited</td>\n",
       "      <td>Abcd</td>\n",
       "    </tr>\n",
       "    <tr>\n",
       "      <th>1</th>\n",
       "      <td>NSE: 21STCENMGM</td>\n",
       "      <td>21st Century Management Services Limited</td>\n",
       "      <td>Abcd</td>\n",
       "    </tr>\n",
       "    <tr>\n",
       "      <th>2</th>\n",
       "      <td>NSE: 3IINFOTECH</td>\n",
       "      <td>3i Infotech Limited</td>\n",
       "      <td>Abcd</td>\n",
       "    </tr>\n",
       "    <tr>\n",
       "      <th>3</th>\n",
       "      <td>NSE: 3MINDIA</td>\n",
       "      <td>3M India Limited</td>\n",
       "      <td>Abcd</td>\n",
       "    </tr>\n",
       "    <tr>\n",
       "      <th>4</th>\n",
       "      <td>NSE: 3PLAND</td>\n",
       "      <td>3P Land Holdings Limited</td>\n",
       "      <td>Abcd</td>\n",
       "    </tr>\n",
       "  </tbody>\n",
       "</table>\n",
       "</div>"
      ],
      "text/plain": [
       "            Symbol                               CompanyName NSEID\n",
       "0   NSE: 20MICRONS                        20 Microns Limited  Abcd\n",
       "1  NSE: 21STCENMGM  21st Century Management Services Limited  Abcd\n",
       "2  NSE: 3IINFOTECH                       3i Infotech Limited  Abcd\n",
       "3     NSE: 3MINDIA                          3M India Limited  Abcd\n",
       "4      NSE: 3PLAND                  3P Land Holdings Limited  Abcd"
      ]
     },
     "execution_count": 14,
     "metadata": {},
     "output_type": "execute_result"
    }
   ],
   "source": [
    "df"
   ]
  },
  {
   "cell_type": "code",
   "execution_count": 26,
   "id": "15980a60-3751-481d-b23e-3af49ac702b1",
   "metadata": {},
   "outputs": [],
   "source": []
  },
  {
   "cell_type": "code",
   "execution_count": 28,
   "id": "1ebfd01c-27bd-4065-9aad-29b60312c782",
   "metadata": {},
   "outputs": [
    {
     "name": "stdout",
     "output_type": "stream",
     "text": [
      "20 Microns \n"
     ]
    },
    {
     "data": {
      "text/plain": [
       "'20MICRONS.NS'"
      ]
     },
     "execution_count": 28,
     "metadata": {},
     "output_type": "execute_result"
    }
   ],
   "source": [
    "fetch_nse_id(\"20 Microns Limited\")"
   ]
  },
  {
   "cell_type": "code",
   "execution_count": 21,
   "id": "2507e282-b5be-4aa9-bfbe-3d832d9248a7",
   "metadata": {},
   "outputs": [
    {
     "data": {
      "text/plain": [
       "'20 Microns '"
      ]
     },
     "execution_count": 21,
     "metadata": {},
     "output_type": "execute_result"
    }
   ],
   "source": [
    "import re\n",
    "pattern = re.compile(\"limited\", re.IGNORECASE)\n",
    "pattern.sub(\"\", \"20 Microns Limited\")\n"
   ]
  },
  {
   "cell_type": "code",
   "execution_count": null,
   "id": "1288fc2b-1433-4599-94b7-a87fa71bd5cd",
   "metadata": {},
   "outputs": [],
   "source": []
  }
 ],
 "metadata": {
  "kernelspec": {
   "display_name": "Python 3",
   "language": "python",
   "name": "python3"
  },
  "language_info": {
   "codemirror_mode": {
    "name": "ipython",
    "version": 3
   },
   "file_extension": ".py",
   "mimetype": "text/x-python",
   "name": "python",
   "nbconvert_exporter": "python",
   "pygments_lexer": "ipython3",
   "version": "3.9.16"
  }
 },
 "nbformat": 4,
 "nbformat_minor": 5
}
