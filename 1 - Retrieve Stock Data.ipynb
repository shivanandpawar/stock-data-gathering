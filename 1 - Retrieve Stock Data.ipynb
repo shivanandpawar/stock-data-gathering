{
 "cells": [
  {
   "cell_type": "code",
   "execution_count": 11,
   "id": "4dd3e74c",
   "metadata": {},
   "outputs": [
    {
     "data": {
      "text/plain": [
       "76717"
      ]
     },
     "execution_count": 11,
     "metadata": {},
     "output_type": "execute_result"
    }
   ],
   "source": [
    "import requests\n",
    "\n",
    "my_referer = \"https://www1.nseindia.com/products/content/equities/equities/archieve_eq.htm\"\n",
    "#user_agent = \"Mozilla/5.0 (Macintosh; Intel Mac OS X 10.8; rv:21.0) Gecko/20100101 Firefox/21.0\"\n",
    "\n",
    "r = requests.get('https://www1.nseindia.com/content/historical/EQUITIES/2021/JUL/cm01JUL2021bhav.csv.zip', \n",
    "                 headers={'referer': my_referer})\n",
    "\n",
    "\n",
    "open('/data/zip/cm01JUL2021bhav.csv.zip', 'wb').write(r.content)"
   ]
  },
  {
   "cell_type": "code",
   "execution_count": 14,
   "id": "7a0eb6ef",
   "metadata": {},
   "outputs": [],
   "source": [
    "import zipfile\n",
    "with zipfile.ZipFile(\"/data/zip/cm01JUL2021bhav.csv.zip\", 'r') as zip_ref:\n",
    "    zip_ref.extractall(\"/data/csv/cm01JUL2021bhav.csv\")"
   ]
  },
  {
   "cell_type": "code",
   "execution_count": null,
   "id": "0721799f",
   "metadata": {},
   "outputs": [],
   "source": []
  }
 ],
 "metadata": {
  "kernelspec": {
   "display_name": "Python 3",
   "language": "python",
   "name": "python3"
  },
  "language_info": {
   "codemirror_mode": {
    "name": "ipython",
    "version": 3
   },
   "file_extension": ".py",
   "mimetype": "text/x-python",
   "name": "python",
   "nbconvert_exporter": "python",
   "pygments_lexer": "ipython3",
   "version": "3.7.10"
  }
 },
 "nbformat": 4,
 "nbformat_minor": 5
}
