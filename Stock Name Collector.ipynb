{
 "cells": [
  {
   "cell_type": "code",
   "execution_count": 47,
   "id": "6c31f7f9-3e18-43e7-ba6c-eb8c61362457",
   "metadata": {},
   "outputs": [],
   "source": [
    "import pandas as pd\n",
    "import time\n",
    "import finnhub\n",
    "\n",
    "stock = pd.read_csv(\"/data/stock_master.csv\")"
   ]
  },
  {
   "cell_type": "code",
   "execution_count": 50,
   "id": "3a6651a1-36c9-4427-93a1-bd2a4713df8a",
   "metadata": {},
   "outputs": [],
   "source": [
    "def fetch_nse_id(company_name):\n",
    "    company_name = company_name.replace(u'\\xa0', u' ').strip()\n",
    "    \n",
    "    import re\n",
    "    pattern = re.compile(\"limited\", re.IGNORECASE)\n",
    "    company_name = pattern.sub(\"\", company_name)\n",
    "    print(company_name)\n",
    "    finnhub_client = finnhub.Client(api_key=\"c5k5j3qad3ie96ef67kg\")\n",
    "    lookup_data = finnhub_client.symbol_lookup(company_name)\n",
    "    for val in lookup_data['result']:\n",
    "        if val['displaySymbol'].endswith(\".NS\"):\n",
    "            return val['displaySymbol']"
   ]
  },
  {
   "cell_type": "code",
   "execution_count": 57,
   "id": "acd2204b-84a7-4cea-82aa-062b62dc2f27",
   "metadata": {},
   "outputs": [
    {
     "name": "stdout",
     "output_type": "stream",
     "text": [
      "20 Microns \n",
      "21st Century Management Services \n",
      "3i Infotech \n",
      "3M India \n",
      "3P Land Holdings \n"
     ]
    },
    {
     "ename": "KeyboardInterrupt",
     "evalue": "",
     "output_type": "error",
     "traceback": [
      "\u001b[0;31m---------------------------------------------------------------------------\u001b[0m",
      "\u001b[0;31mKeyboardInterrupt\u001b[0m                         Traceback (most recent call last)",
      "Cell \u001b[0;32mIn[57], line 5\u001b[0m\n\u001b[1;32m      3\u001b[0m     values \u001b[38;5;241m=\u001b[39m [stock[\u001b[38;5;124m'\u001b[39m\u001b[38;5;124mSymbol\u001b[39m\u001b[38;5;124m'\u001b[39m][ind], stock[\u001b[38;5;124m'\u001b[39m\u001b[38;5;124mCompany name\u001b[39m\u001b[38;5;124m'\u001b[39m][ind], fetch_nse_id(stock[\u001b[38;5;124m'\u001b[39m\u001b[38;5;124mCompany name\u001b[39m\u001b[38;5;124m'\u001b[39m][ind])]\n\u001b[1;32m      4\u001b[0m     \u001b[38;5;28mlist\u001b[39m\u001b[38;5;241m.\u001b[39mappend(values)\n\u001b[0;32m----> 5\u001b[0m     \u001b[43mtime\u001b[49m\u001b[38;5;241;43m.\u001b[39;49m\u001b[43msleep\u001b[49m\u001b[43m(\u001b[49m\u001b[38;5;241;43m5\u001b[39;49m\u001b[43m)\u001b[49m\n\u001b[1;32m      7\u001b[0m df \u001b[38;5;241m=\u001b[39m pd\u001b[38;5;241m.\u001b[39mDataFrame(\u001b[38;5;28mlist\u001b[39m, columns \u001b[38;5;241m=\u001b[39m [\u001b[38;5;124m'\u001b[39m\u001b[38;5;124mSymbol\u001b[39m\u001b[38;5;124m'\u001b[39m, \u001b[38;5;124m'\u001b[39m\u001b[38;5;124mCompanyName\u001b[39m\u001b[38;5;124m'\u001b[39m, \u001b[38;5;124m'\u001b[39m\u001b[38;5;124mNSEID\u001b[39m\u001b[38;5;124m'\u001b[39m])\n\u001b[1;32m      9\u001b[0m df\u001b[38;5;241m.\u001b[39mto_csv(\u001b[38;5;124m\"\u001b[39m\u001b[38;5;124m/data/stock_symbols.csv\u001b[39m\u001b[38;5;124m\"\u001b[39m)\n",
      "\u001b[0;31mKeyboardInterrupt\u001b[0m: "
     ]
    }
   ],
   "source": [
    "list = []\n",
    "for ind in stock.index:\n",
    "    values = [stock['Symbol'][ind], stock['Company name'][ind], fetch_nse_id(stock['Company name'][ind])]\n",
    "    list.append(values)\n",
    "    time.sleep(5)\n",
    "    \n",
    "df = pd.DataFrame(list, columns = ['Symbol', 'CompanyName', 'NSEID'])\n",
    "\n",
    "df.to_csv(\"/data/stock_symbols.csv\", index=False)"
   ]
  },
  {
   "cell_type": "code",
   "execution_count": 56,
   "id": "2507e282-b5be-4aa9-bfbe-3d832d9248a7",
   "metadata": {},
   "outputs": [],
   "source": [
    "df.to_csv(\"/data/stock_symbols.csv\", index=False)"
   ]
  },
  {
   "cell_type": "code",
   "execution_count": null,
   "id": "1288fc2b-1433-4599-94b7-a87fa71bd5cd",
   "metadata": {},
   "outputs": [],
   "source": []
  }
 ],
 "metadata": {
  "kernelspec": {
   "display_name": "Python 3",
   "language": "python",
   "name": "python3"
  },
  "language_info": {
   "codemirror_mode": {
    "name": "ipython",
    "version": 3
   },
   "file_extension": ".py",
   "mimetype": "text/x-python",
   "name": "python",
   "nbconvert_exporter": "python",
   "pygments_lexer": "ipython3",
   "version": "3.9.16"
  }
 },
 "nbformat": 4,
 "nbformat_minor": 5
}
