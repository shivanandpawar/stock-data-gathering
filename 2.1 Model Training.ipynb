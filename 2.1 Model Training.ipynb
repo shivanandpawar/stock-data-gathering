{
 "cells": [
  {
   "cell_type": "code",
   "execution_count": 1,
   "id": "936cd504-c08e-4d1a-9b60-0f4bac40d0ab",
   "metadata": {},
   "outputs": [],
   "source": [
    "import pandas as pd"
   ]
  },
  {
   "cell_type": "code",
   "execution_count": 2,
   "id": "51f1742b-4d4b-4a5d-adbe-67e4fd39223d",
   "metadata": {},
   "outputs": [],
   "source": [
    "df = pd.read_csv(\"/data/prepared_stock_indicator.csv\")"
   ]
  },
  {
   "cell_type": "code",
   "execution_count": 3,
   "id": "cd393877-8175-4dee-9618-dd6f556cb1b5",
   "metadata": {},
   "outputs": [],
   "source": [
    "cols = ['company_symbol', 'price_change', 'revenue_change', 'Good_stock']"
   ]
  },
  {
   "cell_type": "code",
   "execution_count": 4,
   "id": "12f8161b-e255-49ce-8195-8eff98c4abb5",
   "metadata": {},
   "outputs": [],
   "source": [
    "df = df[cols]"
   ]
  },
  {
   "cell_type": "code",
   "execution_count": 5,
   "id": "cda4ab29-ed33-4788-8ae6-d35c47b7c434",
   "metadata": {},
   "outputs": [
    {
     "data": {
      "text/html": [
       "<div>\n",
       "<style scoped>\n",
       "    .dataframe tbody tr th:only-of-type {\n",
       "        vertical-align: middle;\n",
       "    }\n",
       "\n",
       "    .dataframe tbody tr th {\n",
       "        vertical-align: top;\n",
       "    }\n",
       "\n",
       "    .dataframe thead th {\n",
       "        text-align: right;\n",
       "    }\n",
       "</style>\n",
       "<table border=\"1\" class=\"dataframe\">\n",
       "  <thead>\n",
       "    <tr style=\"text-align: right;\">\n",
       "      <th></th>\n",
       "      <th>company_symbol</th>\n",
       "      <th>price_change</th>\n",
       "      <th>revenue_change</th>\n",
       "      <th>Good_stock</th>\n",
       "    </tr>\n",
       "  </thead>\n",
       "  <tbody>\n",
       "    <tr>\n",
       "      <th>0</th>\n",
       "      <td>20MICRONS.NS</td>\n",
       "      <td>NaN</td>\n",
       "      <td>NaN</td>\n",
       "      <td>False</td>\n",
       "    </tr>\n",
       "    <tr>\n",
       "      <th>1</th>\n",
       "      <td>20MICRONS.NS</td>\n",
       "      <td>1.379061</td>\n",
       "      <td>1.010038</td>\n",
       "      <td>False</td>\n",
       "    </tr>\n",
       "    <tr>\n",
       "      <th>2</th>\n",
       "      <td>20MICRONS.NS</td>\n",
       "      <td>NaN</td>\n",
       "      <td>0.823923</td>\n",
       "      <td>False</td>\n",
       "    </tr>\n",
       "    <tr>\n",
       "      <th>3</th>\n",
       "      <td>20MICRONS.NS</td>\n",
       "      <td>NaN</td>\n",
       "      <td>1.120027</td>\n",
       "      <td>False</td>\n",
       "    </tr>\n",
       "    <tr>\n",
       "      <th>4</th>\n",
       "      <td>21STCENMGM.NS</td>\n",
       "      <td>NaN</td>\n",
       "      <td>NaN</td>\n",
       "      <td>False</td>\n",
       "    </tr>\n",
       "    <tr>\n",
       "      <th>...</th>\n",
       "      <td>...</td>\n",
       "      <td>...</td>\n",
       "      <td>...</td>\n",
       "      <td>...</td>\n",
       "    </tr>\n",
       "    <tr>\n",
       "      <th>7310</th>\n",
       "      <td>ZUARI.NS</td>\n",
       "      <td>NaN</td>\n",
       "      <td>NaN</td>\n",
       "      <td>False</td>\n",
       "    </tr>\n",
       "    <tr>\n",
       "      <th>7311</th>\n",
       "      <td>ZUARI.NS</td>\n",
       "      <td>1.164767</td>\n",
       "      <td>0.387076</td>\n",
       "      <td>False</td>\n",
       "    </tr>\n",
       "    <tr>\n",
       "      <th>7312</th>\n",
       "      <td>ZUARI.NS</td>\n",
       "      <td>NaN</td>\n",
       "      <td>2.823193</td>\n",
       "      <td>False</td>\n",
       "    </tr>\n",
       "    <tr>\n",
       "      <th>7313</th>\n",
       "      <td>ZUARI.NS</td>\n",
       "      <td>NaN</td>\n",
       "      <td>0.945444</td>\n",
       "      <td>False</td>\n",
       "    </tr>\n",
       "    <tr>\n",
       "      <th>7314</th>\n",
       "      <td>ZUARI.NS</td>\n",
       "      <td>1.222313</td>\n",
       "      <td>0.900270</td>\n",
       "      <td>False</td>\n",
       "    </tr>\n",
       "  </tbody>\n",
       "</table>\n",
       "<p>7315 rows × 4 columns</p>\n",
       "</div>"
      ],
      "text/plain": [
       "     company_symbol  price_change  revenue_change  Good_stock\n",
       "0      20MICRONS.NS           NaN             NaN       False\n",
       "1      20MICRONS.NS      1.379061        1.010038       False\n",
       "2      20MICRONS.NS           NaN        0.823923       False\n",
       "3      20MICRONS.NS           NaN        1.120027       False\n",
       "4     21STCENMGM.NS           NaN             NaN       False\n",
       "...             ...           ...             ...         ...\n",
       "7310       ZUARI.NS           NaN             NaN       False\n",
       "7311       ZUARI.NS      1.164767        0.387076       False\n",
       "7312       ZUARI.NS           NaN        2.823193       False\n",
       "7313       ZUARI.NS           NaN        0.945444       False\n",
       "7314       ZUARI.NS      1.222313        0.900270       False\n",
       "\n",
       "[7315 rows x 4 columns]"
      ]
     },
     "execution_count": 5,
     "metadata": {},
     "output_type": "execute_result"
    }
   ],
   "source": [
    "df"
   ]
  },
  {
   "cell_type": "code",
   "execution_count": 7,
   "id": "e2aa46dd-437d-4e58-952c-0c3f73ccf5ab",
   "metadata": {},
   "outputs": [],
   "source": [
    "from sklearn.linear_model import LogisticRegression\n",
    "from sklearn.discriminant_analysis import LinearDiscriminantAnalysis\n",
    "from sklearn.neighbors import KNeighborsClassifier\n",
    "from sklearn.naive_bayes import GaussianNB\n",
    "from sklearn.tree import DecisionTreeClassifier\n",
    "from sklearn.svm import SVC"
   ]
  },
  {
   "cell_type": "code",
   "execution_count": 8,
   "id": "8ce69180-8bdc-4ed1-89f6-c1a60e90d5d1",
   "metadata": {},
   "outputs": [],
   "source": [
    "logreg_clf = LogisticRegression()"
   ]
  },
  {
   "cell_type": "code",
   "execution_count": 9,
   "id": "197075db-38f9-460f-9c9c-6e87cf3d429f",
   "metadata": {},
   "outputs": [],
   "source": [
    "df.drop('company_symbol', axis=1, inplace=True)"
   ]
  },
  {
   "cell_type": "code",
   "execution_count": 10,
   "id": "35319c75-8713-47b5-8557-b85feed430b4",
   "metadata": {},
   "outputs": [],
   "source": [
    "X = df.iloc[:,:-1].values\n",
    "# Now let's tell the dataframe which column we want for the target/labels.  \n",
    "y = df['Good_stock']"
   ]
  },
  {
   "cell_type": "code",
   "execution_count": 11,
   "id": "81cb17a4-525e-48e1-96e2-4b77b3584ac9",
   "metadata": {},
   "outputs": [
    {
     "data": {
      "text/plain": [
       "array([[       nan,        nan],\n",
       "       [1.37906132, 1.01003758],\n",
       "       [       nan, 0.82392299],\n",
       "       ...,\n",
       "       [       nan, 2.82319286],\n",
       "       [       nan, 0.9454444 ],\n",
       "       [1.22231336, 0.90026962]])"
      ]
     },
     "execution_count": 11,
     "metadata": {},
     "output_type": "execute_result"
    }
   ],
   "source": [
    "X"
   ]
  },
  {
   "cell_type": "code",
   "execution_count": 12,
   "id": "bac60ee7-113b-4ce6-ba5e-7eafe5553a50",
   "metadata": {},
   "outputs": [
    {
     "data": {
      "text/plain": [
       "0       False\n",
       "1       False\n",
       "2       False\n",
       "3       False\n",
       "4       False\n",
       "        ...  \n",
       "7310    False\n",
       "7311    False\n",
       "7312    False\n",
       "7313    False\n",
       "7314    False\n",
       "Name: Good_stock, Length: 7315, dtype: bool"
      ]
     },
     "execution_count": 12,
     "metadata": {},
     "output_type": "execute_result"
    }
   ],
   "source": [
    "y"
   ]
  },
  {
   "cell_type": "code",
   "execution_count": 14,
   "id": "466e5e33-2fa1-4cd7-9f24-a21e2a5a4d2f",
   "metadata": {},
   "outputs": [],
   "source": [
    "from sklearn.model_selection import train_test_split\n",
    "X_train, X_test, y_train, y_test = train_test_split(X, y, test_size=0.20, random_state=27)"
   ]
  },
  {
   "cell_type": "code",
   "execution_count": 15,
   "id": "ee669062-94eb-4851-a706-702f38ace345",
   "metadata": {},
   "outputs": [
    {
     "ename": "NameError",
     "evalue": "name 'svm' is not defined",
     "output_type": "error",
     "traceback": [
      "\u001b[0;31m---------------------------------------------------------------------------\u001b[0m",
      "\u001b[0;31mNameError\u001b[0m                                 Traceback (most recent call last)",
      "Cell \u001b[0;32mIn[15], line 1\u001b[0m\n\u001b[0;32m----> 1\u001b[0m SVC_model \u001b[38;5;241m=\u001b[39m \u001b[43msvm\u001b[49m\u001b[38;5;241m.\u001b[39mSVC()\n\u001b[1;32m      2\u001b[0m \u001b[38;5;66;03m# KNN model requires you to specify n_neighbors,\u001b[39;00m\n\u001b[1;32m      3\u001b[0m \u001b[38;5;66;03m# the number of points the classifier will look at to determine what class a new point belongs to\u001b[39;00m\n\u001b[1;32m      4\u001b[0m KNN_model \u001b[38;5;241m=\u001b[39m KNeighborsClassifier(n_neighbors\u001b[38;5;241m=\u001b[39m\u001b[38;5;241m5\u001b[39m)\n",
      "\u001b[0;31mNameError\u001b[0m: name 'svm' is not defined"
     ]
    }
   ],
   "source": [
    "logreg_clf.fit(X_train, y_train)"
   ]
  },
  {
   "cell_type": "code",
   "execution_count": null,
   "id": "f4cd5263-7e77-4980-8c0b-b39c07435ade",
   "metadata": {},
   "outputs": [],
   "source": []
  }
 ],
 "metadata": {
  "kernelspec": {
   "display_name": "Python 3",
   "language": "python",
   "name": "python3"
  },
  "language_info": {
   "codemirror_mode": {
    "name": "ipython",
    "version": 3
   },
   "file_extension": ".py",
   "mimetype": "text/x-python",
   "name": "python",
   "nbconvert_exporter": "python",
   "pygments_lexer": "ipython3",
   "version": "3.9.16"
  }
 },
 "nbformat": 4,
 "nbformat_minor": 5
}
