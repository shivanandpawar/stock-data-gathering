{
 "cells": [
  {
   "cell_type": "code",
   "execution_count": 38,
   "id": "936cd504-c08e-4d1a-9b60-0f4bac40d0ab",
   "metadata": {},
   "outputs": [],
   "source": [
    "import pandas as pd"
   ]
  },
  {
   "cell_type": "code",
   "execution_count": 65,
   "id": "51f1742b-4d4b-4a5d-adbe-67e4fd39223d",
   "metadata": {},
   "outputs": [],
   "source": [
    "df = pd.read_csv(\"/data/prepared_stock_indicator.csv\")"
   ]
  },
  {
   "cell_type": "code",
   "execution_count": 40,
   "id": "cd393877-8175-4dee-9618-dd6f556cb1b5",
   "metadata": {},
   "outputs": [],
   "source": [
    "cols = ['company_symbol', 'price_change', 'revenue_change', 'Good_stock']"
   ]
  },
  {
   "cell_type": "code",
   "execution_count": 41,
   "id": "12f8161b-e255-49ce-8195-8eff98c4abb5",
   "metadata": {},
   "outputs": [],
   "source": [
    "df = df[cols]"
   ]
  },
  {
   "cell_type": "code",
   "execution_count": 42,
   "id": "cda4ab29-ed33-4788-8ae6-d35c47b7c434",
   "metadata": {},
   "outputs": [
    {
     "data": {
      "text/html": [
       "<div>\n",
       "<style scoped>\n",
       "    .dataframe tbody tr th:only-of-type {\n",
       "        vertical-align: middle;\n",
       "    }\n",
       "\n",
       "    .dataframe tbody tr th {\n",
       "        vertical-align: top;\n",
       "    }\n",
       "\n",
       "    .dataframe thead th {\n",
       "        text-align: right;\n",
       "    }\n",
       "</style>\n",
       "<table border=\"1\" class=\"dataframe\">\n",
       "  <thead>\n",
       "    <tr style=\"text-align: right;\">\n",
       "      <th></th>\n",
       "      <th>company_symbol</th>\n",
       "      <th>price_change</th>\n",
       "      <th>revenue_change</th>\n",
       "      <th>Good_stock</th>\n",
       "    </tr>\n",
       "  </thead>\n",
       "  <tbody>\n",
       "    <tr>\n",
       "      <th>0</th>\n",
       "      <td>20MICRONS.NS</td>\n",
       "      <td>NaN</td>\n",
       "      <td>NaN</td>\n",
       "      <td>False</td>\n",
       "    </tr>\n",
       "    <tr>\n",
       "      <th>1</th>\n",
       "      <td>20MICRONS.NS</td>\n",
       "      <td>1.379061</td>\n",
       "      <td>1.010038</td>\n",
       "      <td>False</td>\n",
       "    </tr>\n",
       "    <tr>\n",
       "      <th>2</th>\n",
       "      <td>20MICRONS.NS</td>\n",
       "      <td>NaN</td>\n",
       "      <td>0.823923</td>\n",
       "      <td>False</td>\n",
       "    </tr>\n",
       "    <tr>\n",
       "      <th>3</th>\n",
       "      <td>20MICRONS.NS</td>\n",
       "      <td>NaN</td>\n",
       "      <td>1.120027</td>\n",
       "      <td>False</td>\n",
       "    </tr>\n",
       "    <tr>\n",
       "      <th>4</th>\n",
       "      <td>21STCENMGM.NS</td>\n",
       "      <td>NaN</td>\n",
       "      <td>NaN</td>\n",
       "      <td>False</td>\n",
       "    </tr>\n",
       "    <tr>\n",
       "      <th>...</th>\n",
       "      <td>...</td>\n",
       "      <td>...</td>\n",
       "      <td>...</td>\n",
       "      <td>...</td>\n",
       "    </tr>\n",
       "    <tr>\n",
       "      <th>7310</th>\n",
       "      <td>ZUARI.NS</td>\n",
       "      <td>NaN</td>\n",
       "      <td>NaN</td>\n",
       "      <td>False</td>\n",
       "    </tr>\n",
       "    <tr>\n",
       "      <th>7311</th>\n",
       "      <td>ZUARI.NS</td>\n",
       "      <td>1.164767</td>\n",
       "      <td>0.387076</td>\n",
       "      <td>False</td>\n",
       "    </tr>\n",
       "    <tr>\n",
       "      <th>7312</th>\n",
       "      <td>ZUARI.NS</td>\n",
       "      <td>NaN</td>\n",
       "      <td>2.823193</td>\n",
       "      <td>False</td>\n",
       "    </tr>\n",
       "    <tr>\n",
       "      <th>7313</th>\n",
       "      <td>ZUARI.NS</td>\n",
       "      <td>NaN</td>\n",
       "      <td>0.945444</td>\n",
       "      <td>False</td>\n",
       "    </tr>\n",
       "    <tr>\n",
       "      <th>7314</th>\n",
       "      <td>ZUARI.NS</td>\n",
       "      <td>1.222313</td>\n",
       "      <td>0.900270</td>\n",
       "      <td>False</td>\n",
       "    </tr>\n",
       "  </tbody>\n",
       "</table>\n",
       "<p>7315 rows × 4 columns</p>\n",
       "</div>"
      ],
      "text/plain": [
       "     company_symbol  price_change  revenue_change  Good_stock\n",
       "0      20MICRONS.NS           NaN             NaN       False\n",
       "1      20MICRONS.NS      1.379061        1.010038       False\n",
       "2      20MICRONS.NS           NaN        0.823923       False\n",
       "3      20MICRONS.NS           NaN        1.120027       False\n",
       "4     21STCENMGM.NS           NaN             NaN       False\n",
       "...             ...           ...             ...         ...\n",
       "7310       ZUARI.NS           NaN             NaN       False\n",
       "7311       ZUARI.NS      1.164767        0.387076       False\n",
       "7312       ZUARI.NS           NaN        2.823193       False\n",
       "7313       ZUARI.NS           NaN        0.945444       False\n",
       "7314       ZUARI.NS      1.222313        0.900270       False\n",
       "\n",
       "[7315 rows x 4 columns]"
      ]
     },
     "execution_count": 42,
     "metadata": {},
     "output_type": "execute_result"
    }
   ],
   "source": [
    "df"
   ]
  },
  {
   "cell_type": "code",
   "execution_count": 43,
   "id": "e2aa46dd-437d-4e58-952c-0c3f73ccf5ab",
   "metadata": {},
   "outputs": [],
   "source": [
    "from sklearn.linear_model import LogisticRegression\n",
    "from sklearn.discriminant_analysis import LinearDiscriminantAnalysis\n",
    "from sklearn.neighbors import KNeighborsClassifier\n",
    "from sklearn.naive_bayes import GaussianNB\n",
    "from sklearn.tree import DecisionTreeClassifier\n",
    "from sklearn.svm import SVC"
   ]
  },
  {
   "cell_type": "code",
   "execution_count": 44,
   "id": "8ce69180-8bdc-4ed1-89f6-c1a60e90d5d1",
   "metadata": {},
   "outputs": [],
   "source": [
    "logreg_clf = LogisticRegression()"
   ]
  },
  {
   "cell_type": "code",
   "execution_count": 45,
   "id": "197075db-38f9-460f-9c9c-6e87cf3d429f",
   "metadata": {},
   "outputs": [],
   "source": [
    "df.drop('company_symbol', axis=1, inplace=True)"
   ]
  },
  {
   "cell_type": "code",
   "execution_count": 46,
   "id": "d538454b-9fc3-44c9-96a7-417963205f52",
   "metadata": {},
   "outputs": [],
   "source": [
    "df.dropna(inplace=True)"
   ]
  },
  {
   "cell_type": "code",
   "execution_count": 47,
   "id": "af3045e9-4337-4b02-8b43-f75df49516fa",
   "metadata": {},
   "outputs": [
    {
     "data": {
      "text/html": [
       "<div>\n",
       "<style scoped>\n",
       "    .dataframe tbody tr th:only-of-type {\n",
       "        vertical-align: middle;\n",
       "    }\n",
       "\n",
       "    .dataframe tbody tr th {\n",
       "        vertical-align: top;\n",
       "    }\n",
       "\n",
       "    .dataframe thead th {\n",
       "        text-align: right;\n",
       "    }\n",
       "</style>\n",
       "<table border=\"1\" class=\"dataframe\">\n",
       "  <thead>\n",
       "    <tr style=\"text-align: right;\">\n",
       "      <th></th>\n",
       "      <th>price_change</th>\n",
       "      <th>revenue_change</th>\n",
       "      <th>Good_stock</th>\n",
       "    </tr>\n",
       "  </thead>\n",
       "  <tbody>\n",
       "    <tr>\n",
       "      <th>1</th>\n",
       "      <td>1.379061</td>\n",
       "      <td>1.010038</td>\n",
       "      <td>False</td>\n",
       "    </tr>\n",
       "    <tr>\n",
       "      <th>5</th>\n",
       "      <td>0.934132</td>\n",
       "      <td>0.333384</td>\n",
       "      <td>False</td>\n",
       "    </tr>\n",
       "    <tr>\n",
       "      <th>8</th>\n",
       "      <td>1.141827</td>\n",
       "      <td>-2.892980</td>\n",
       "      <td>False</td>\n",
       "    </tr>\n",
       "    <tr>\n",
       "      <th>10</th>\n",
       "      <td>1.062505</td>\n",
       "      <td>1.035081</td>\n",
       "      <td>False</td>\n",
       "    </tr>\n",
       "    <tr>\n",
       "      <th>13</th>\n",
       "      <td>1.190512</td>\n",
       "      <td>1.003457</td>\n",
       "      <td>False</td>\n",
       "    </tr>\n",
       "    <tr>\n",
       "      <th>...</th>\n",
       "      <td>...</td>\n",
       "      <td>...</td>\n",
       "      <td>...</td>\n",
       "    </tr>\n",
       "    <tr>\n",
       "      <th>7302</th>\n",
       "      <td>1.102445</td>\n",
       "      <td>1.134236</td>\n",
       "      <td>False</td>\n",
       "    </tr>\n",
       "    <tr>\n",
       "      <th>7305</th>\n",
       "      <td>1.204790</td>\n",
       "      <td>0.783666</td>\n",
       "      <td>False</td>\n",
       "    </tr>\n",
       "    <tr>\n",
       "      <th>7307</th>\n",
       "      <td>1.084053</td>\n",
       "      <td>1.334324</td>\n",
       "      <td>False</td>\n",
       "    </tr>\n",
       "    <tr>\n",
       "      <th>7311</th>\n",
       "      <td>1.164767</td>\n",
       "      <td>0.387076</td>\n",
       "      <td>False</td>\n",
       "    </tr>\n",
       "    <tr>\n",
       "      <th>7314</th>\n",
       "      <td>1.222313</td>\n",
       "      <td>0.900270</td>\n",
       "      <td>False</td>\n",
       "    </tr>\n",
       "  </tbody>\n",
       "</table>\n",
       "<p>2730 rows × 3 columns</p>\n",
       "</div>"
      ],
      "text/plain": [
       "      price_change  revenue_change  Good_stock\n",
       "1         1.379061        1.010038       False\n",
       "5         0.934132        0.333384       False\n",
       "8         1.141827       -2.892980       False\n",
       "10        1.062505        1.035081       False\n",
       "13        1.190512        1.003457       False\n",
       "...            ...             ...         ...\n",
       "7302      1.102445        1.134236       False\n",
       "7305      1.204790        0.783666       False\n",
       "7307      1.084053        1.334324       False\n",
       "7311      1.164767        0.387076       False\n",
       "7314      1.222313        0.900270       False\n",
       "\n",
       "[2730 rows x 3 columns]"
      ]
     },
     "execution_count": 47,
     "metadata": {},
     "output_type": "execute_result"
    }
   ],
   "source": [
    "import numpy as np\n",
    "df_new = df[np.isfinite(df).all(1)]\n",
    "df_new"
   ]
  },
  {
   "cell_type": "code",
   "execution_count": 48,
   "id": "35319c75-8713-47b5-8557-b85feed430b4",
   "metadata": {},
   "outputs": [],
   "source": [
    "X = df_new.iloc[:,:-1].values\n",
    "# Now let's tell the dataframe which column we want for the target/labels.  \n",
    "y = df_new['Good_stock']"
   ]
  },
  {
   "cell_type": "code",
   "execution_count": 49,
   "id": "6ebdac17-d598-4c10-b3c5-10b4a6aef1a0",
   "metadata": {},
   "outputs": [],
   "source": [
    "from sklearn.preprocessing import StandardScaler\n",
    "scaler = StandardScaler()\n",
    "x = scaler.fit_transform(X)"
   ]
  },
  {
   "cell_type": "code",
   "execution_count": 50,
   "id": "81cb17a4-525e-48e1-96e2-4b77b3584ac9",
   "metadata": {},
   "outputs": [
    {
     "data": {
      "text/plain": [
       "array([[ 0.61872973, -0.03787532],\n",
       "       [-0.87314113, -0.05163244],\n",
       "       [-0.17672879, -0.11722802],\n",
       "       ...,\n",
       "       [-0.37044886, -0.03128221],\n",
       "       [-0.09981012, -0.05054082],\n",
       "       [ 0.09314606, -0.04010703]])"
      ]
     },
     "execution_count": 50,
     "metadata": {},
     "output_type": "execute_result"
    }
   ],
   "source": [
    "x"
   ]
  },
  {
   "cell_type": "code",
   "execution_count": 51,
   "id": "bac60ee7-113b-4ce6-ba5e-7eafe5553a50",
   "metadata": {},
   "outputs": [
    {
     "data": {
      "text/plain": [
       "2730"
      ]
     },
     "execution_count": 51,
     "metadata": {},
     "output_type": "execute_result"
    }
   ],
   "source": [
    "y.size"
   ]
  },
  {
   "cell_type": "code",
   "execution_count": 52,
   "id": "466e5e33-2fa1-4cd7-9f24-a21e2a5a4d2f",
   "metadata": {},
   "outputs": [],
   "source": [
    "from sklearn.model_selection import train_test_split\n",
    "X_train, X_test, y_train, y_test = train_test_split(x, y, test_size=0.20, random_state=27)"
   ]
  },
  {
   "cell_type": "code",
   "execution_count": 53,
   "id": "ee669062-94eb-4851-a706-702f38ace345",
   "metadata": {},
   "outputs": [
    {
     "data": {
      "text/html": [
       "<style>#sk-container-id-4 {color: black;}#sk-container-id-4 pre{padding: 0;}#sk-container-id-4 div.sk-toggleable {background-color: white;}#sk-container-id-4 label.sk-toggleable__label {cursor: pointer;display: block;width: 100%;margin-bottom: 0;padding: 0.3em;box-sizing: border-box;text-align: center;}#sk-container-id-4 label.sk-toggleable__label-arrow:before {content: \"▸\";float: left;margin-right: 0.25em;color: #696969;}#sk-container-id-4 label.sk-toggleable__label-arrow:hover:before {color: black;}#sk-container-id-4 div.sk-estimator:hover label.sk-toggleable__label-arrow:before {color: black;}#sk-container-id-4 div.sk-toggleable__content {max-height: 0;max-width: 0;overflow: hidden;text-align: left;background-color: #f0f8ff;}#sk-container-id-4 div.sk-toggleable__content pre {margin: 0.2em;color: black;border-radius: 0.25em;background-color: #f0f8ff;}#sk-container-id-4 input.sk-toggleable__control:checked~div.sk-toggleable__content {max-height: 200px;max-width: 100%;overflow: auto;}#sk-container-id-4 input.sk-toggleable__control:checked~label.sk-toggleable__label-arrow:before {content: \"▾\";}#sk-container-id-4 div.sk-estimator input.sk-toggleable__control:checked~label.sk-toggleable__label {background-color: #d4ebff;}#sk-container-id-4 div.sk-label input.sk-toggleable__control:checked~label.sk-toggleable__label {background-color: #d4ebff;}#sk-container-id-4 input.sk-hidden--visually {border: 0;clip: rect(1px 1px 1px 1px);clip: rect(1px, 1px, 1px, 1px);height: 1px;margin: -1px;overflow: hidden;padding: 0;position: absolute;width: 1px;}#sk-container-id-4 div.sk-estimator {font-family: monospace;background-color: #f0f8ff;border: 1px dotted black;border-radius: 0.25em;box-sizing: border-box;margin-bottom: 0.5em;}#sk-container-id-4 div.sk-estimator:hover {background-color: #d4ebff;}#sk-container-id-4 div.sk-parallel-item::after {content: \"\";width: 100%;border-bottom: 1px solid gray;flex-grow: 1;}#sk-container-id-4 div.sk-label:hover label.sk-toggleable__label {background-color: #d4ebff;}#sk-container-id-4 div.sk-serial::before {content: \"\";position: absolute;border-left: 1px solid gray;box-sizing: border-box;top: 0;bottom: 0;left: 50%;z-index: 0;}#sk-container-id-4 div.sk-serial {display: flex;flex-direction: column;align-items: center;background-color: white;padding-right: 0.2em;padding-left: 0.2em;position: relative;}#sk-container-id-4 div.sk-item {position: relative;z-index: 1;}#sk-container-id-4 div.sk-parallel {display: flex;align-items: stretch;justify-content: center;background-color: white;position: relative;}#sk-container-id-4 div.sk-item::before, #sk-container-id-4 div.sk-parallel-item::before {content: \"\";position: absolute;border-left: 1px solid gray;box-sizing: border-box;top: 0;bottom: 0;left: 50%;z-index: -1;}#sk-container-id-4 div.sk-parallel-item {display: flex;flex-direction: column;z-index: 1;position: relative;background-color: white;}#sk-container-id-4 div.sk-parallel-item:first-child::after {align-self: flex-end;width: 50%;}#sk-container-id-4 div.sk-parallel-item:last-child::after {align-self: flex-start;width: 50%;}#sk-container-id-4 div.sk-parallel-item:only-child::after {width: 0;}#sk-container-id-4 div.sk-dashed-wrapped {border: 1px dashed gray;margin: 0 0.4em 0.5em 0.4em;box-sizing: border-box;padding-bottom: 0.4em;background-color: white;}#sk-container-id-4 div.sk-label label {font-family: monospace;font-weight: bold;display: inline-block;line-height: 1.2em;}#sk-container-id-4 div.sk-label-container {text-align: center;}#sk-container-id-4 div.sk-container {/* jupyter's `normalize.less` sets `[hidden] { display: none; }` but bootstrap.min.css set `[hidden] { display: none !important; }` so we also need the `!important` here to be able to override the default hidden behavior on the sphinx rendered scikit-learn.org. See: https://github.com/scikit-learn/scikit-learn/issues/21755 */display: inline-block !important;position: relative;}#sk-container-id-4 div.sk-text-repr-fallback {display: none;}</style><div id=\"sk-container-id-4\" class=\"sk-top-container\"><div class=\"sk-text-repr-fallback\"><pre>LogisticRegression()</pre><b>In a Jupyter environment, please rerun this cell to show the HTML representation or trust the notebook. <br />On GitHub, the HTML representation is unable to render, please try loading this page with nbviewer.org.</b></div><div class=\"sk-container\" hidden><div class=\"sk-item\"><div class=\"sk-estimator sk-toggleable\"><input class=\"sk-toggleable__control sk-hidden--visually\" id=\"sk-estimator-id-4\" type=\"checkbox\" checked><label for=\"sk-estimator-id-4\" class=\"sk-toggleable__label sk-toggleable__label-arrow\">LogisticRegression</label><div class=\"sk-toggleable__content\"><pre>LogisticRegression()</pre></div></div></div></div></div>"
      ],
      "text/plain": [
       "LogisticRegression()"
      ]
     },
     "execution_count": 53,
     "metadata": {},
     "output_type": "execute_result"
    }
   ],
   "source": [
    "logreg_clf = LogisticRegression()\n",
    "logreg_clf.fit(X_train, y_train)"
   ]
  },
  {
   "cell_type": "code",
   "execution_count": 54,
   "id": "f4cd5263-7e77-4980-8c0b-b39c07435ade",
   "metadata": {},
   "outputs": [
    {
     "name": "stdout",
     "output_type": "stream",
     "text": [
      "0.9986263736263736\n"
     ]
    }
   ],
   "source": [
    "from sklearn.metrics import accuracy_score\n",
    "prediction = logreg_clf.predict(X_train)\n",
    "print(accuracy_score(prediction, y_train))"
   ]
  },
  {
   "cell_type": "code",
   "execution_count": 33,
   "id": "998ce568-2589-4924-a480-e2fe6ac84725",
   "metadata": {},
   "outputs": [],
   "source": [
    "df1 = pd.read_csv(\"/data/prepared_stock_indicator.csv\")"
   ]
  },
  {
   "cell_type": "code",
   "execution_count": 57,
   "id": "2a690f92-1ba1-4e58-8fba-fcd7b41aaedf",
   "metadata": {},
   "outputs": [
    {
     "data": {
      "text/plain": [
       "array([False, False, False, ..., False, False, False])"
      ]
     },
     "execution_count": 57,
     "metadata": {},
     "output_type": "execute_result"
    }
   ],
   "source": [
    "prediction"
   ]
  },
  {
   "cell_type": "code",
   "execution_count": 61,
   "id": "29d20b69-63b1-47d3-b14e-bfe439564937",
   "metadata": {},
   "outputs": [],
   "source": [
    "def unique(list1):\n",
    "\n",
    "    # initialize a null list\n",
    "    unique_list = []\n",
    " \n",
    "    # traverse for all elements\n",
    "    for x in list1:\n",
    "        # check if exists in unique_list or not\n",
    "        if x not in unique_list:\n",
    "            unique_list.append(x)\n",
    "    # print list\n",
    "    for x in unique_list:\n",
    "        print(x)"
   ]
  },
  {
   "cell_type": "code",
   "execution_count": 67,
   "id": "b9e22e7b-4d86-400c-9514-7baa9a2dbb46",
   "metadata": {},
   "outputs": [
    {
     "data": {
      "text/plain": [
       "Good_stock\n",
       "False    2726\n",
       "True        4\n",
       "Name: Good_stock, dtype: int64"
      ]
     },
     "execution_count": 67,
     "metadata": {},
     "output_type": "execute_result"
    }
   ],
   "source": [
    "df_new.groupby(['Good_stock'])['Good_stock'].count()"
   ]
  },
  {
   "cell_type": "code",
   "execution_count": null,
   "id": "a688976c-60ef-4bb2-b8bb-000fcba9fe17",
   "metadata": {},
   "outputs": [],
   "source": []
  }
 ],
 "metadata": {
  "kernelspec": {
   "display_name": "Python 3",
   "language": "python",
   "name": "python3"
  },
  "language_info": {
   "codemirror_mode": {
    "name": "ipython",
    "version": 3
   },
   "file_extension": ".py",
   "mimetype": "text/x-python",
   "name": "python",
   "nbconvert_exporter": "python",
   "pygments_lexer": "ipython3",
   "version": "3.9.16"
  }
 },
 "nbformat": 4,
 "nbformat_minor": 5
}
