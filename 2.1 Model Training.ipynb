{
 "cells": [
  {
   "cell_type": "code",
   "execution_count": 1,
   "id": "936cd504-c08e-4d1a-9b60-0f4bac40d0ab",
   "metadata": {},
   "outputs": [],
   "source": [
    "import pandas as pd"
   ]
  },
  {
   "cell_type": "code",
   "execution_count": 2,
   "id": "51f1742b-4d4b-4a5d-adbe-67e4fd39223d",
   "metadata": {},
   "outputs": [],
   "source": [
    "df = pd.read_csv(\"/data/prepared_stock_indicator.csv\")"
   ]
  },
  {
   "cell_type": "code",
   "execution_count": 4,
   "id": "cd393877-8175-4dee-9618-dd6f556cb1b5",
   "metadata": {},
   "outputs": [],
   "source": [
    "cols = ['company_symbol', 'price_change', 'revenue_change', 'Good_stock']"
   ]
  },
  {
   "cell_type": "code",
   "execution_count": 5,
   "id": "12f8161b-e255-49ce-8195-8eff98c4abb5",
   "metadata": {},
   "outputs": [],
   "source": [
    "df = df[cols]"
   ]
  },
  {
   "cell_type": "code",
   "execution_count": 6,
   "id": "cda4ab29-ed33-4788-8ae6-d35c47b7c434",
   "metadata": {},
   "outputs": [
    {
     "data": {
      "text/html": [
       "<div>\n",
       "<style scoped>\n",
       "    .dataframe tbody tr th:only-of-type {\n",
       "        vertical-align: middle;\n",
       "    }\n",
       "\n",
       "    .dataframe tbody tr th {\n",
       "        vertical-align: top;\n",
       "    }\n",
       "\n",
       "    .dataframe thead th {\n",
       "        text-align: right;\n",
       "    }\n",
       "</style>\n",
       "<table border=\"1\" class=\"dataframe\">\n",
       "  <thead>\n",
       "    <tr style=\"text-align: right;\">\n",
       "      <th></th>\n",
       "      <th>company_symbol</th>\n",
       "      <th>price_change</th>\n",
       "      <th>revenue_change</th>\n",
       "      <th>Good_stock</th>\n",
       "    </tr>\n",
       "  </thead>\n",
       "  <tbody>\n",
       "    <tr>\n",
       "      <th>0</th>\n",
       "      <td>20MICRONS.NS</td>\n",
       "      <td>NaN</td>\n",
       "      <td>NaN</td>\n",
       "      <td>False</td>\n",
       "    </tr>\n",
       "    <tr>\n",
       "      <th>1</th>\n",
       "      <td>20MICRONS.NS</td>\n",
       "      <td>1.379061</td>\n",
       "      <td>1.010038</td>\n",
       "      <td>False</td>\n",
       "    </tr>\n",
       "    <tr>\n",
       "      <th>2</th>\n",
       "      <td>20MICRONS.NS</td>\n",
       "      <td>NaN</td>\n",
       "      <td>0.823923</td>\n",
       "      <td>False</td>\n",
       "    </tr>\n",
       "    <tr>\n",
       "      <th>3</th>\n",
       "      <td>20MICRONS.NS</td>\n",
       "      <td>NaN</td>\n",
       "      <td>1.120027</td>\n",
       "      <td>False</td>\n",
       "    </tr>\n",
       "    <tr>\n",
       "      <th>4</th>\n",
       "      <td>21STCENMGM.NS</td>\n",
       "      <td>NaN</td>\n",
       "      <td>NaN</td>\n",
       "      <td>False</td>\n",
       "    </tr>\n",
       "    <tr>\n",
       "      <th>...</th>\n",
       "      <td>...</td>\n",
       "      <td>...</td>\n",
       "      <td>...</td>\n",
       "      <td>...</td>\n",
       "    </tr>\n",
       "    <tr>\n",
       "      <th>7310</th>\n",
       "      <td>ZUARI.NS</td>\n",
       "      <td>NaN</td>\n",
       "      <td>NaN</td>\n",
       "      <td>False</td>\n",
       "    </tr>\n",
       "    <tr>\n",
       "      <th>7311</th>\n",
       "      <td>ZUARI.NS</td>\n",
       "      <td>1.164767</td>\n",
       "      <td>0.387076</td>\n",
       "      <td>False</td>\n",
       "    </tr>\n",
       "    <tr>\n",
       "      <th>7312</th>\n",
       "      <td>ZUARI.NS</td>\n",
       "      <td>NaN</td>\n",
       "      <td>2.823193</td>\n",
       "      <td>False</td>\n",
       "    </tr>\n",
       "    <tr>\n",
       "      <th>7313</th>\n",
       "      <td>ZUARI.NS</td>\n",
       "      <td>NaN</td>\n",
       "      <td>0.945444</td>\n",
       "      <td>False</td>\n",
       "    </tr>\n",
       "    <tr>\n",
       "      <th>7314</th>\n",
       "      <td>ZUARI.NS</td>\n",
       "      <td>1.222313</td>\n",
       "      <td>0.900270</td>\n",
       "      <td>False</td>\n",
       "    </tr>\n",
       "  </tbody>\n",
       "</table>\n",
       "<p>7315 rows × 4 columns</p>\n",
       "</div>"
      ],
      "text/plain": [
       "     company_symbol  price_change  revenue_change  Good_stock\n",
       "0      20MICRONS.NS           NaN             NaN       False\n",
       "1      20MICRONS.NS      1.379061        1.010038       False\n",
       "2      20MICRONS.NS           NaN        0.823923       False\n",
       "3      20MICRONS.NS           NaN        1.120027       False\n",
       "4     21STCENMGM.NS           NaN             NaN       False\n",
       "...             ...           ...             ...         ...\n",
       "7310       ZUARI.NS           NaN             NaN       False\n",
       "7311       ZUARI.NS      1.164767        0.387076       False\n",
       "7312       ZUARI.NS           NaN        2.823193       False\n",
       "7313       ZUARI.NS           NaN        0.945444       False\n",
       "7314       ZUARI.NS      1.222313        0.900270       False\n",
       "\n",
       "[7315 rows x 4 columns]"
      ]
     },
     "execution_count": 6,
     "metadata": {},
     "output_type": "execute_result"
    }
   ],
   "source": [
    "df"
   ]
  },
  {
   "cell_type": "code",
   "execution_count": null,
   "id": "e2aa46dd-437d-4e58-952c-0c3f73ccf5ab",
   "metadata": {},
   "outputs": [],
   "source": []
  }
 ],
 "metadata": {
  "kernelspec": {
   "display_name": "Python 3",
   "language": "python",
   "name": "python3"
  },
  "language_info": {
   "codemirror_mode": {
    "name": "ipython",
    "version": 3
   },
   "file_extension": ".py",
   "mimetype": "text/x-python",
   "name": "python",
   "nbconvert_exporter": "python",
   "pygments_lexer": "ipython3",
   "version": "3.9.16"
  }
 },
 "nbformat": 4,
 "nbformat_minor": 5
}
