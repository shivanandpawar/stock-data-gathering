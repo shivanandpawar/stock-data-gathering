{
 "cells": [
  {
   "cell_type": "code",
   "execution_count": 12,
   "id": "4b7dec53",
   "metadata": {},
   "outputs": [
    {
     "name": "stdout",
     "output_type": "stream",
     "text": [
      "Collecting yfinance\n",
      "\u001b[?25l  Downloading https://files.pythonhosted.org/packages/e9/43/93ea65227c938a0a4a8925d7f054b050ea743044b887170da9eca210635a/yfinance-0.2.28-py2.py3-none-any.whl (65kB)\n",
      "\u001b[K     |████████████████████████████████| 71kB 4.3MB/s  eta 0:00:01\n",
      "\u001b[?25hCollecting html5lib>=1.1\n",
      "\u001b[?25l  Downloading https://files.pythonhosted.org/packages/6c/dd/a834df6482147d48e225a49515aabc28974ad5a4ca3215c18a882565b028/html5lib-1.1-py2.py3-none-any.whl (112kB)\n",
      "\u001b[K     |████████████████████████████████| 112kB 23.3MB/s eta 0:00:01\n",
      "\u001b[?25hCollecting appdirs>=1.4.4\n",
      "  Downloading https://files.pythonhosted.org/packages/3b/00/2344469e2084fb287c2e0b57b72910309874c3245463acd6cf5e3db69324/appdirs-1.4.4-py2.py3-none-any.whl\n",
      "Collecting frozendict>=2.3.4\n",
      "\u001b[?25l  Downloading https://files.pythonhosted.org/packages/d5/6f/251ecf4d20506c601e7a2f0dc98473c3f4fa3938d0c2458d2075e2bed3d2/frozendict-2.3.8-cp38-cp38-manylinux_2_17_x86_64.manylinux2014_x86_64.whl (113kB)\n",
      "\u001b[K     |████████████████████████████████| 122kB 98.2MB/s eta 0:00:01\n",
      "\u001b[?25hCollecting pytz>=2022.5\n",
      "\u001b[?25l  Downloading https://files.pythonhosted.org/packages/7f/99/ad6bd37e748257dd70d6f85d916cafe79c0b0f5e2e95b11f7fbc82bf3110/pytz-2023.3-py2.py3-none-any.whl (502kB)\n",
      "\u001b[K     |████████████████████████████████| 512kB 101.7MB/s eta 0:00:01\n",
      "\u001b[?25hCollecting beautifulsoup4>=4.11.1\n",
      "\u001b[?25l  Downloading https://files.pythonhosted.org/packages/57/f4/a69c20ee4f660081a7dedb1ac57f29be9378e04edfcb90c526b923d4bebc/beautifulsoup4-4.12.2-py3-none-any.whl (142kB)\n",
      "\u001b[K     |████████████████████████████████| 143kB 107.5MB/s eta 0:00:01\n",
      "\u001b[?25hCollecting pandas>=1.3.0\n",
      "\u001b[?25l  Downloading https://files.pythonhosted.org/packages/f8/7f/5b047effafbdd34e52c9e2d7e44f729a0655efafb22198c45cf692cdc157/pandas-2.0.3-cp38-cp38-manylinux_2_17_x86_64.manylinux2014_x86_64.whl (12.4MB)\n",
      "\u001b[K     |████████████████████████████████| 12.4MB 96.3MB/s eta 0:00:01\n",
      "\u001b[?25hCollecting numpy>=1.16.5\n",
      "\u001b[?25l  Downloading https://files.pythonhosted.org/packages/98/5d/5738903efe0ecb73e51eb44feafba32bdba2081263d40c5043568ff60faf/numpy-1.24.4-cp38-cp38-manylinux_2_17_x86_64.manylinux2014_x86_64.whl (17.3MB)\n",
      "\u001b[K     |████████████████████████████████| 17.3MB 91.9MB/s eta 0:00:01\n",
      "\u001b[?25hCollecting multitasking>=0.0.7\n",
      "  Downloading https://files.pythonhosted.org/packages/3e/8a/bb3160e76e844db9e69a413f055818969c8acade64e1a9ac5ce9dfdcf6c1/multitasking-0.0.11-py3-none-any.whl\n",
      "Collecting lxml>=4.9.1\n",
      "\u001b[?25l  Downloading https://files.pythonhosted.org/packages/35/0b/b317a62e8597ca9f3a54f8094f9911a17fe68a98f1d7df67e2a70be4f2ac/lxml-4.9.3-cp38-cp38-manylinux_2_17_x86_64.manylinux2014_x86_64.manylinux_2_24_x86_64.whl (7.1MB)\n",
      "\u001b[K     |████████████████████████████████| 7.1MB 91.9MB/s eta 0:00:01\n",
      "\u001b[?25hCollecting requests>=2.31\n",
      "  Using cached https://files.pythonhosted.org/packages/70/8e/0e2d847013cb52cd35b38c009bb167a1a26b2ce6cd6965bf26b47bc0bf44/requests-2.31.0-py3-none-any.whl\n",
      "Collecting webencodings\n",
      "  Downloading https://files.pythonhosted.org/packages/f4/24/2a3e3df732393fed8b3ebf2ec078f05546de641fe1b667ee316ec1dcf3b7/webencodings-0.5.1-py2.py3-none-any.whl\n",
      "Collecting six>=1.9\n",
      "  Downloading https://files.pythonhosted.org/packages/d9/5a/e7c31adbe875f2abbb91bd84cf2dc52d792b5a01506781dbcf25c91daf11/six-1.16.0-py2.py3-none-any.whl\n",
      "Collecting soupsieve>1.2\n",
      "  Downloading https://files.pythonhosted.org/packages/49/37/673d6490efc51ec46d198c75903d99de59baffdd47aea3d071b80a9e4e89/soupsieve-2.4.1-py3-none-any.whl\n",
      "Collecting python-dateutil>=2.8.2\n",
      "\u001b[?25l  Downloading https://files.pythonhosted.org/packages/36/7a/87837f39d0296e723bb9b62bbb257d0355c7f6128853c78955f57342a56d/python_dateutil-2.8.2-py2.py3-none-any.whl (247kB)\n",
      "\u001b[K     |████████████████████████████████| 256kB 102.9MB/s eta 0:00:01\n",
      "\u001b[?25hCollecting tzdata>=2022.1\n",
      "\u001b[?25l  Downloading https://files.pythonhosted.org/packages/d5/fb/a79efcab32b8a1f1ddca7f35109a50e4a80d42ac1c9187ab46522b2407d7/tzdata-2023.3-py2.py3-none-any.whl (341kB)\n",
      "\u001b[K     |████████████████████████████████| 348kB 111.3MB/s eta 0:00:01\n",
      "\u001b[?25hCollecting certifi>=2017.4.17\n",
      "  Using cached https://files.pythonhosted.org/packages/4c/dd/2234eab22353ffc7d94e8d13177aaa050113286e93e7b40eae01fbf7c3d9/certifi-2023.7.22-py3-none-any.whl\n",
      "Collecting charset-normalizer<4,>=2\n",
      "  Using cached https://files.pythonhosted.org/packages/cb/e7/5e43745003bf1f90668c7be23fc5952b3a2b9c2558f16749411c18039b36/charset_normalizer-3.2.0-cp38-cp38-manylinux_2_17_x86_64.manylinux2014_x86_64.whl\n",
      "Collecting idna<4,>=2.5\n",
      "  Using cached https://files.pythonhosted.org/packages/fc/34/3030de6f1370931b9dbb4dad48f6ab1015ab1d32447850b9fc94e60097be/idna-3.4-py3-none-any.whl\n",
      "Collecting urllib3<3,>=1.21.1\n",
      "  Using cached https://files.pythonhosted.org/packages/9b/81/62fd61001fa4b9d0df6e31d47ff49cfa9de4af03adecf339c7bc30656b37/urllib3-2.0.4-py3-none-any.whl\n",
      "\u001b[31mERROR: jupyterlab 3.2.4 has requirement jupyter-server~=1.4, but you'll have jupyter-server 2.0.0a1 which is incompatible.\u001b[0m\n",
      "\u001b[31mERROR: jupyterlab-server 2.22.1 has requirement jsonschema>=4.17.3, but you'll have jsonschema 3.2.0 which is incompatible.\u001b[0m\n",
      "Installing collected packages: webencodings, six, html5lib, appdirs, frozendict, pytz, soupsieve, beautifulsoup4, python-dateutil, tzdata, numpy, pandas, multitasking, lxml, certifi, charset-normalizer, idna, urllib3, requests, yfinance\n",
      "Successfully installed appdirs-1.4.4 beautifulsoup4-4.12.2 certifi-2023.7.22 charset-normalizer-3.2.0 frozendict-2.3.8 html5lib-1.1 idna-3.4 lxml-4.9.3 multitasking-0.0.11 numpy-1.24.4 pandas-2.0.3 python-dateutil-2.8.2 pytz-2023.3 requests-2.31.0 six-1.16.0 soupsieve-2.4.1 tzdata-2023.3 urllib3-2.0.4 webencodings-0.5.1 yfinance-0.2.28\n",
      "\u001b[33mWARNING: Target directory /tmp/pip_packages/idna-3.4.dist-info already exists. Specify --upgrade to force replacement.\u001b[0m\n",
      "\u001b[33mWARNING: Target directory /tmp/pip_packages/urllib3-2.0.4.dist-info already exists. Specify --upgrade to force replacement.\u001b[0m\n",
      "\u001b[33mWARNING: Target directory /tmp/pip_packages/certifi already exists. Specify --upgrade to force replacement.\u001b[0m\n",
      "\u001b[33mWARNING: Target directory /tmp/pip_packages/idna already exists. Specify --upgrade to force replacement.\u001b[0m\n",
      "\u001b[33mWARNING: Target directory /tmp/pip_packages/requests-2.31.0.dist-info already exists. Specify --upgrade to force replacement.\u001b[0m\n",
      "\u001b[33mWARNING: Target directory /tmp/pip_packages/certifi-2023.7.22.dist-info already exists. Specify --upgrade to force replacement.\u001b[0m\n",
      "\u001b[33mWARNING: Target directory /tmp/pip_packages/charset_normalizer already exists. Specify --upgrade to force replacement.\u001b[0m\n",
      "\u001b[33mWARNING: Target directory /tmp/pip_packages/charset_normalizer-3.2.0.dist-info already exists. Specify --upgrade to force replacement.\u001b[0m\n",
      "\u001b[33mWARNING: Target directory /tmp/pip_packages/urllib3 already exists. Specify --upgrade to force replacement.\u001b[0m\n",
      "\u001b[33mWARNING: Target directory /tmp/pip_packages/requests already exists. Specify --upgrade to force replacement.\u001b[0m\n",
      "\u001b[33mWARNING: Target directory /tmp/pip_packages/bin already exists. Specify --upgrade to force replacement.\u001b[0m\n"
     ]
    }
   ],
   "source": [
    "!pip install yfinance"
   ]
  },
  {
   "cell_type": "code",
   "execution_count": 10,
   "id": "30b86174",
   "metadata": {},
   "outputs": [],
   "source": [
    "import finnhub\n",
    "finnhub_client = finnhub.Client(api_key=\"c5k5j3qad3ie96ef67kg\")\n",
    "\n",
    "fin = finnhub_client.financials_reported(symbol='FSDK', freq='quarterly')"
   ]
  },
  {
   "cell_type": "code",
   "execution_count": 11,
   "id": "79a051e6",
   "metadata": {},
   "outputs": [
    {
     "data": {
      "text/plain": [
       "[]"
      ]
     },
     "execution_count": 11,
     "metadata": {},
     "output_type": "execute_result"
    }
   ],
   "source": [
    "fin['data']"
   ]
  },
  {
   "cell_type": "code",
   "execution_count": 9,
   "id": "fbcf5742",
   "metadata": {},
   "outputs": [
    {
     "name": "stdout",
     "output_type": "stream",
     "text": [
      "{'count': 22, 'result': [{'description': 'FIRST CITIZENS NATL BANK', 'displaySymbol': 'FSDK', 'symbol': 'FSDK', 'type': 'Common Stock'}, {'description': 'CHINA CONSTRUCTION BANK-H', 'displaySymbol': 'CICHF', 'symbol': 'CICHF', 'type': 'Common Stock'}, {'description': 'China Construction Bank', 'displaySymbol': 'A2RYJK.MU', 'symbol': 'A2RYJK.MU', 'type': ''}, {'description': 'Crdit Agricole next bank', 'displaySymbol': 'A3KVS8.DU', 'symbol': 'A3KVS8.DU', 'type': ''}, {'description': 'Crdit Agricole next bank', 'displaySymbol': 'A3K10P.DU', 'symbol': 'A3K10P.DU', 'type': ''}, {'description': 'CIMB THAI BANK PCL', 'displaySymbol': 'CIMBT.BK', 'symbol': 'CIMBT.BK', 'type': 'Common Stock'}, {'description': 'CITY UNION BANK LTD', 'displaySymbol': '532210.BO', 'symbol': '532210.BO', 'type': 'Common Stock'}, {'description': 'CITY UNION BANK LTD', 'displaySymbol': 'CUB.NS', 'symbol': 'CUB.NS', 'type': 'Common Stock'}, {'description': 'Dusseldorf City Savings Bank', 'displaySymbol': 'A1PG2B.DU', 'symbol': 'A1PG2B.DU', 'type': ''}, {'description': 'CLIENTIS BANK IM THAL AG', 'displaySymbol': 'CBITB.SW', 'symbol': 'CBITB.SW', 'type': 'Common Stock'}, {'description': 'Cologne District Savings Bank ', 'displaySymbol': 'A1TM49.DU', 'symbol': 'A1TM49.DU', 'type': ''}, {'description': 'CHINA CONSTRUCTION BANK-H', 'displaySymbol': 'C6T.HM', 'symbol': 'C6T.HM', 'type': 'Common Stock'}, {'description': 'CHINA CONSTRUCTION BANK-H', 'displaySymbol': '939.HK', 'symbol': '939.HK', 'type': 'Common Stock'}, {'description': 'CHINA CONSTRUCTION BANK-H', 'displaySymbol': 'C6T.DU', 'symbol': 'C6T.DU', 'type': 'Common Stock'}, {'description': 'CHINA CONSTRUCTION BANK-H', 'displaySymbol': 'C6T.MU', 'symbol': 'C6T.MU', 'type': 'Common Stock'}, {'description': 'CHINA CONSTRUCTION BANK-H', 'displaySymbol': 'C6T.HA', 'symbol': 'C6T.HA', 'type': 'Common Stock'}, {'description': 'CHINA CONSTRUCTION BANK-A', 'displaySymbol': '601939.SS', 'symbol': '601939.SS', 'type': 'Common Stock'}, {'description': 'CHINA CONSTRUCTION BANK-H', 'displaySymbol': 'C6T.SG', 'symbol': 'C6T.SG', 'type': 'Common Stock'}, {'description': 'CHINA CONSTRUCTION BANK-H', 'displaySymbol': 'C6T.BE', 'symbol': 'C6T.BE', 'type': 'Common Stock'}, {'description': 'CHINA CONSTRUCTION BANK-H', 'displaySymbol': 'C6T.F', 'symbol': 'C6T.F', 'type': 'Common Stock'}, {'description': 'CHINA CONSTRUCTION BANK-H', 'displaySymbol': 'CNCB.VI', 'symbol': 'CNCB.VI', 'type': 'Common Stock'}, {'description': 'CLIENTIS BANK OBERUZWIL AG', 'displaySymbol': 'EAO.SW', 'symbol': 'EAO.SW', 'type': 'Common Stock'}]}\n"
     ]
    }
   ],
   "source": [
    "print(finnhub_client.symbol_lookup('citi bank'))"
   ]
  },
  {
   "cell_type": "code",
   "execution_count": 10,
   "id": "902b6027",
   "metadata": {},
   "outputs": [
    {
     "name": "stdout",
     "output_type": "stream",
     "text": [
      "478951 /data/complete_stock.csv\n"
     ]
    }
   ],
   "source": [
    "! wc -l /data/complete_stock.csv"
   ]
  },
  {
   "cell_type": "code",
   "execution_count": null,
   "id": "73c47493",
   "metadata": {},
   "outputs": [],
   "source": []
  }
 ],
 "metadata": {
  "kernelspec": {
   "display_name": "Python 3",
   "language": "python",
   "name": "python3"
  },
  "language_info": {
   "codemirror_mode": {
    "name": "ipython",
    "version": 3
   },
   "file_extension": ".py",
   "mimetype": "text/x-python",
   "name": "python",
   "nbconvert_exporter": "python",
   "pygments_lexer": "ipython3",
   "version": "3.8.12"
  }
 },
 "nbformat": 4,
 "nbformat_minor": 5
}
