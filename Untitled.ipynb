{
 "cells": [
  {
   "cell_type": "code",
   "execution_count": 1,
   "id": "4b7dec53",
   "metadata": {},
   "outputs": [
    {
     "name": "stdout",
     "output_type": "stream",
     "text": [
      "train_1.csv\n"
     ]
    }
   ],
   "source": [
    "!ls /data/"
   ]
  },
  {
   "cell_type": "code",
   "execution_count": 3,
   "id": "30b86174",
   "metadata": {},
   "outputs": [],
   "source": [
    "import pandas as pd\n",
    "df = pd.read_csv(\"/data/combined_stock_data.csv\")"
   ]
  },
  {
   "cell_type": "code",
   "execution_count": 11,
   "id": "79a051e6",
   "metadata": {},
   "outputs": [],
   "source": [
    "for i in range(0,10):\n",
    "    df.to_csv(\"/data/complete_stock.csv\",mode='a', header=False)"
   ]
  },
  {
   "cell_type": "code",
   "execution_count": 6,
   "id": "fbcf5742",
   "metadata": {},
   "outputs": [
    {
     "data": {
      "text/plain": [
       "Unnamed: 0     239475\n",
       "SYMBOL         239475\n",
       "SERIES         238832\n",
       "OPEN           239475\n",
       "HIGH           239475\n",
       "LOW            239475\n",
       "CLOSE          239475\n",
       "LAST           239475\n",
       "PREVCLOSE      239475\n",
       "TOTTRDQTY      239475\n",
       "TOTTRDVAL      239475\n",
       "TIMESTAMP      239475\n",
       "TOTALTRADES    239475\n",
       "ISIN           239475\n",
       "Unnamed: 13         0\n",
       "dtype: int64"
      ]
     },
     "execution_count": 6,
     "metadata": {},
     "output_type": "execute_result"
    }
   ],
   "source": [
    "df.count()"
   ]
  },
  {
   "cell_type": "code",
   "execution_count": 10,
   "id": "902b6027",
   "metadata": {},
   "outputs": [
    {
     "name": "stdout",
     "output_type": "stream",
     "text": [
      "478951 /data/complete_stock.csv\n"
     ]
    }
   ],
   "source": [
    "! wc -l /data/complete_stock.csv"
   ]
  },
  {
   "cell_type": "code",
   "execution_count": null,
   "id": "73c47493",
   "metadata": {},
   "outputs": [],
   "source": []
  }
 ],
 "metadata": {
  "kernelspec": {
   "display_name": "Python 3",
   "language": "python",
   "name": "python3"
  },
  "language_info": {
   "codemirror_mode": {
    "name": "ipython",
    "version": 3
   },
   "file_extension": ".py",
   "mimetype": "text/x-python",
   "name": "python",
   "nbconvert_exporter": "python",
   "pygments_lexer": "ipython3",
   "version": "3.6.15"
  }
 },
 "nbformat": 4,
 "nbformat_minor": 5
}
