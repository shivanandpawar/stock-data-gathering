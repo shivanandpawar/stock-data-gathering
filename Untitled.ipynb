{
 "cells": [
  {
   "cell_type": "code",
   "execution_count": 4,
   "id": "4b7dec53",
   "metadata": {},
   "outputs": [
    {
     "name": "stdout",
     "output_type": "stream",
     "text": [
      "Collecting finnhub-python\n",
      "  Downloading https://files.pythonhosted.org/packages/dc/0b/bb8954a887579719b3594466e7de22b3af598355f3ee2be39ef9898b185c/finnhub_python-2.4.18-py3-none-any.whl\n",
      "Collecting requests>=2.22.0\n",
      "\u001b[?25l  Downloading https://files.pythonhosted.org/packages/70/8e/0e2d847013cb52cd35b38c009bb167a1a26b2ce6cd6965bf26b47bc0bf44/requests-2.31.0-py3-none-any.whl (62kB)\n",
      "\u001b[K     |████████████████████████████████| 71kB 4.3MB/s  eta 0:00:01\n",
      "\u001b[?25hCollecting charset-normalizer<4,>=2\n",
      "\u001b[?25l  Downloading https://files.pythonhosted.org/packages/cb/e7/5e43745003bf1f90668c7be23fc5952b3a2b9c2558f16749411c18039b36/charset_normalizer-3.2.0-cp38-cp38-manylinux_2_17_x86_64.manylinux2014_x86_64.whl (199kB)\n",
      "\u001b[K     |████████████████████████████████| 204kB 24.6MB/s eta 0:00:01\n",
      "\u001b[?25hCollecting urllib3<3,>=1.21.1\n",
      "\u001b[?25l  Downloading https://files.pythonhosted.org/packages/9b/81/62fd61001fa4b9d0df6e31d47ff49cfa9de4af03adecf339c7bc30656b37/urllib3-2.0.4-py3-none-any.whl (123kB)\n",
      "\u001b[K     |████████████████████████████████| 133kB 110.4MB/s eta 0:00:01\n",
      "\u001b[?25hCollecting certifi>=2017.4.17\n",
      "\u001b[?25l  Downloading https://files.pythonhosted.org/packages/4c/dd/2234eab22353ffc7d94e8d13177aaa050113286e93e7b40eae01fbf7c3d9/certifi-2023.7.22-py3-none-any.whl (158kB)\n",
      "\u001b[K     |████████████████████████████████| 163kB 95.8MB/s eta 0:00:01\n",
      "\u001b[?25hCollecting idna<4,>=2.5\n",
      "\u001b[?25l  Downloading https://files.pythonhosted.org/packages/fc/34/3030de6f1370931b9dbb4dad48f6ab1015ab1d32447850b9fc94e60097be/idna-3.4-py3-none-any.whl (61kB)\n",
      "\u001b[K     |████████████████████████████████| 71kB 6.1MB/s  eta 0:00:01\n",
      "\u001b[31mERROR: jupyterlab-server 2.22.1 has requirement jsonschema>=4.17.3, but you'll have jsonschema 3.2.0 which is incompatible.\u001b[0m\n",
      "\u001b[?25hInstalling collected packages: charset-normalizer, urllib3, certifi, idna, requests, finnhub-python\n",
      "Successfully installed certifi-2023.7.22 charset-normalizer-3.2.0 finnhub-python-2.4.18 idna-3.4 requests-2.31.0 urllib3-2.0.4\n"
     ]
    }
   ],
   "source": [
    "!pip install finnhub-python"
   ]
  },
  {
   "cell_type": "code",
   "execution_count": 10,
   "id": "30b86174",
   "metadata": {},
   "outputs": [],
   "source": [
    "import finnhub\n",
    "finnhub_client = finnhub.Client(api_key=\"c5k5j3qad3ie96ef67kg\")\n",
    "\n",
    "fin = finnhub_client.financials_reported(symbol='FSDK', freq='quarterly')"
   ]
  },
  {
   "cell_type": "code",
   "execution_count": 11,
   "id": "79a051e6",
   "metadata": {},
   "outputs": [
    {
     "data": {
      "text/plain": [
       "[]"
      ]
     },
     "execution_count": 11,
     "metadata": {},
     "output_type": "execute_result"
    }
   ],
   "source": [
    "fin['data']"
   ]
  },
  {
   "cell_type": "code",
   "execution_count": 9,
   "id": "fbcf5742",
   "metadata": {},
   "outputs": [
    {
     "name": "stdout",
     "output_type": "stream",
     "text": [
      "{'count': 22, 'result': [{'description': 'FIRST CITIZENS NATL BANK', 'displaySymbol': 'FSDK', 'symbol': 'FSDK', 'type': 'Common Stock'}, {'description': 'CHINA CONSTRUCTION BANK-H', 'displaySymbol': 'CICHF', 'symbol': 'CICHF', 'type': 'Common Stock'}, {'description': 'China Construction Bank', 'displaySymbol': 'A2RYJK.MU', 'symbol': 'A2RYJK.MU', 'type': ''}, {'description': 'Crdit Agricole next bank', 'displaySymbol': 'A3KVS8.DU', 'symbol': 'A3KVS8.DU', 'type': ''}, {'description': 'Crdit Agricole next bank', 'displaySymbol': 'A3K10P.DU', 'symbol': 'A3K10P.DU', 'type': ''}, {'description': 'CIMB THAI BANK PCL', 'displaySymbol': 'CIMBT.BK', 'symbol': 'CIMBT.BK', 'type': 'Common Stock'}, {'description': 'CITY UNION BANK LTD', 'displaySymbol': '532210.BO', 'symbol': '532210.BO', 'type': 'Common Stock'}, {'description': 'CITY UNION BANK LTD', 'displaySymbol': 'CUB.NS', 'symbol': 'CUB.NS', 'type': 'Common Stock'}, {'description': 'Dusseldorf City Savings Bank', 'displaySymbol': 'A1PG2B.DU', 'symbol': 'A1PG2B.DU', 'type': ''}, {'description': 'CLIENTIS BANK IM THAL AG', 'displaySymbol': 'CBITB.SW', 'symbol': 'CBITB.SW', 'type': 'Common Stock'}, {'description': 'Cologne District Savings Bank ', 'displaySymbol': 'A1TM49.DU', 'symbol': 'A1TM49.DU', 'type': ''}, {'description': 'CHINA CONSTRUCTION BANK-H', 'displaySymbol': 'C6T.HM', 'symbol': 'C6T.HM', 'type': 'Common Stock'}, {'description': 'CHINA CONSTRUCTION BANK-H', 'displaySymbol': '939.HK', 'symbol': '939.HK', 'type': 'Common Stock'}, {'description': 'CHINA CONSTRUCTION BANK-H', 'displaySymbol': 'C6T.DU', 'symbol': 'C6T.DU', 'type': 'Common Stock'}, {'description': 'CHINA CONSTRUCTION BANK-H', 'displaySymbol': 'C6T.MU', 'symbol': 'C6T.MU', 'type': 'Common Stock'}, {'description': 'CHINA CONSTRUCTION BANK-H', 'displaySymbol': 'C6T.HA', 'symbol': 'C6T.HA', 'type': 'Common Stock'}, {'description': 'CHINA CONSTRUCTION BANK-A', 'displaySymbol': '601939.SS', 'symbol': '601939.SS', 'type': 'Common Stock'}, {'description': 'CHINA CONSTRUCTION BANK-H', 'displaySymbol': 'C6T.SG', 'symbol': 'C6T.SG', 'type': 'Common Stock'}, {'description': 'CHINA CONSTRUCTION BANK-H', 'displaySymbol': 'C6T.BE', 'symbol': 'C6T.BE', 'type': 'Common Stock'}, {'description': 'CHINA CONSTRUCTION BANK-H', 'displaySymbol': 'C6T.F', 'symbol': 'C6T.F', 'type': 'Common Stock'}, {'description': 'CHINA CONSTRUCTION BANK-H', 'displaySymbol': 'CNCB.VI', 'symbol': 'CNCB.VI', 'type': 'Common Stock'}, {'description': 'CLIENTIS BANK OBERUZWIL AG', 'displaySymbol': 'EAO.SW', 'symbol': 'EAO.SW', 'type': 'Common Stock'}]}\n"
     ]
    }
   ],
   "source": [
    "print(finnhub_client.symbol_lookup('citi bank'))"
   ]
  },
  {
   "cell_type": "code",
   "execution_count": 10,
   "id": "902b6027",
   "metadata": {},
   "outputs": [
    {
     "name": "stdout",
     "output_type": "stream",
     "text": [
      "478951 /data/complete_stock.csv\n"
     ]
    }
   ],
   "source": [
    "! wc -l /data/complete_stock.csv"
   ]
  },
  {
   "cell_type": "code",
   "execution_count": null,
   "id": "73c47493",
   "metadata": {},
   "outputs": [],
   "source": []
  }
 ],
 "metadata": {
  "kernelspec": {
   "display_name": "Python 3",
   "language": "python",
   "name": "python3"
  },
  "language_info": {
   "codemirror_mode": {
    "name": "ipython",
    "version": 3
   },
   "file_extension": ".py",
   "mimetype": "text/x-python",
   "name": "python",
   "nbconvert_exporter": "python",
   "pygments_lexer": "ipython3",
   "version": "3.8.12"
  }
 },
 "nbformat": 4,
 "nbformat_minor": 5
}
